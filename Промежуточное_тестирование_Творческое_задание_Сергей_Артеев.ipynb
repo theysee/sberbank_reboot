{
  "nbformat": 4,
  "nbformat_minor": 0,
  "metadata": {
    "anaconda-cloud": {},
    "kernelspec": {
      "display_name": "Python [conda root]",
      "language": "python",
      "name": "conda-root-py"
    },
    "language_info": {
      "codemirror_mode": {
        "name": "ipython",
        "version": 2
      },
      "file_extension": ".py",
      "mimetype": "text/x-python",
      "name": "python",
      "nbconvert_exporter": "python",
      "pygments_lexer": "ipython2",
      "version": "2.7.12"
    },
    "colab": {
      "name": "Промежуточное тестирование. Творческое задание. Имя Фамилия.ipynb",
      "provenance": [],
      "collapsed_sections": [],
      "include_colab_link": true
    }
  },
  "cells": [
    {
      "cell_type": "markdown",
      "metadata": {
        "id": "view-in-github",
        "colab_type": "text"
      },
      "source": [
        "<a href=\"https://colab.research.google.com/github/theysee/sberbank_reboot/blob/master/%D0%9F%D1%80%D0%BE%D0%BC%D0%B5%D0%B6%D1%83%D1%82%D0%BE%D1%87%D0%BD%D0%BE%D0%B5_%D1%82%D0%B5%D1%81%D1%82%D0%B8%D1%80%D0%BE%D0%B2%D0%B0%D0%BD%D0%B8%D0%B5_%D0%A2%D0%B2%D0%BE%D1%80%D1%87%D0%B5%D1%81%D0%BA%D0%BE%D0%B5_%D0%B7%D0%B0%D0%B4%D0%B0%D0%BD%D0%B8%D0%B5_%D0%A1%D0%B5%D1%80%D0%B3%D0%B5%D0%B9_%D0%90%D1%80%D1%82%D0%B5%D0%B5%D0%B2.ipynb\" target=\"_parent\"><img src=\"https://colab.research.google.com/assets/colab-badge.svg\" alt=\"Open In Colab\"/></a>"
      ]
    },
    {
      "cell_type": "markdown",
      "metadata": {
        "id": "R08RnQnNbcGj",
        "colab_type": "text"
      },
      "source": [
        "# Творческое задание\n",
        "## Розничные покупки онлайн\n",
        "**Сюжет: Промышленный шпионаж**\n",
        "\n",
        "К вам в руки попал дамп базы продаж одного из крупных онлайн ретейлеров. Этот ретейлер является вашим конкурентом, и вы начали исследовать полученные данные.\n",
        "\n",
        "**Требования**\n",
        "\n",
        "0.   Скопируйте исходный ноутбук себе. В своём ноутбуке делаете задание\n",
        "1.   Гуглить разрешается\n",
        "2.   Убирайте ненужные вам клетки с кодом, и постарайтесь не отходить от логической структуры этого ноутбука\n",
        "3.   Оформляйте графики так, чтобы они были читаемыми. Оформляйте легенду, заголовки, подписывайте оси в соответствующем масштабе и единицах измерения\n",
        "4.   **Ваш ноутбук должен запускаться, и выполняться без ошибок сверху вниз. Иначе творческая работа оценивается в 0 баллов.**\n",
        "5.   После того как вы сделали работу, нужно вызвать ctrl+s (сохранить ноутбук),\n",
        "затем File->Download as .ipynb. Полученный файл нужно залить в форму опросника в соответствующей секции. В названии ноутбука не забудьте указать **имя и фамилию** в соответствующем месте\n",
        "\n",
        "\n",
        ". "
      ]
    },
    {
      "cell_type": "markdown",
      "metadata": {
        "id": "_dvkPvy4DnaU",
        "colab_type": "text"
      },
      "source": [
        "Всего баллов 48."
      ]
    },
    {
      "cell_type": "markdown",
      "metadata": {
        "id": "f2lfcw4cbcGm",
        "colab_type": "text"
      },
      "source": [
        "### Шаг 1. Импортируйте нужные библиотеки. (1 балл)"
      ]
    },
    {
      "cell_type": "code",
      "metadata": {
        "id": "7_Ac1acSbcGn",
        "colab_type": "code",
        "colab": {}
      },
      "source": [
        "import numpy as np\n",
        "import pandas as pd\n",
        "import matplotlib as mpl\n",
        "import matplotlib.pyplot as plt\n",
        "import seaborn as sns\n",
        "import plotly.express as px\n",
        "import plotly.offline"
      ],
      "execution_count": 0,
      "outputs": []
    },
    {
      "cell_type": "markdown",
      "metadata": {
        "id": "5l7LHJYwbcGt",
        "colab_type": "text"
      },
      "source": [
        "### Шаг 2. Загрузите данные в переменную online_rt (1 балл)\n",
        "Замечание: если вы получаете ошибку декодирования, то передайте аргумент encoding='latin1' в pd.read_csv().\n",
        "\n",
        "Файл расположен по адресу 'http://89.223.95.235/file/Online_Retail.csv'\n",
        "его можно сразу передавать в функцию pd.read_csv"
      ]
    },
    {
      "cell_type": "code",
      "metadata": {
        "id": "_91LnTBMbcGu",
        "colab_type": "code",
        "colab": {}
      },
      "source": [
        "online_rt = pd.read_csv('http://89.223.95.235/file/Online_Retail.csv', encoding='latin1')"
      ],
      "execution_count": 0,
      "outputs": []
    },
    {
      "cell_type": "markdown",
      "metadata": {
        "id": "i4y_BET-rg72",
        "colab_type": "text"
      },
      "source": [
        "### Шаг 3. Удалите из выборки некорректные данные (2 балла)\n",
        "Похоже, что у вашего конкурента не самая консистентная база данных, удалите некорректные строки из датафрейма"
      ]
    },
    {
      "cell_type": "code",
      "metadata": {
        "id": "9IXrtlt5bcG5",
        "colab_type": "code",
        "outputId": "a6c26b76-861f-4aba-d158-169ac144eafc",
        "colab": {
          "base_uri": "https://localhost:8080/",
          "height": 204
        }
      },
      "source": [
        "# Посмотрим, что за данные мы вообще получили.\n",
        "online_rt.head()"
      ],
      "execution_count": 72,
      "outputs": [
        {
          "output_type": "execute_result",
          "data": {
            "text/html": [
              "<div>\n",
              "<style scoped>\n",
              "    .dataframe tbody tr th:only-of-type {\n",
              "        vertical-align: middle;\n",
              "    }\n",
              "\n",
              "    .dataframe tbody tr th {\n",
              "        vertical-align: top;\n",
              "    }\n",
              "\n",
              "    .dataframe thead th {\n",
              "        text-align: right;\n",
              "    }\n",
              "</style>\n",
              "<table border=\"1\" class=\"dataframe\">\n",
              "  <thead>\n",
              "    <tr style=\"text-align: right;\">\n",
              "      <th></th>\n",
              "      <th>InvoiceNo</th>\n",
              "      <th>StockCode</th>\n",
              "      <th>Description</th>\n",
              "      <th>Quantity</th>\n",
              "      <th>InvoiceDate</th>\n",
              "      <th>UnitPrice</th>\n",
              "      <th>CustomerID</th>\n",
              "      <th>Country</th>\n",
              "    </tr>\n",
              "  </thead>\n",
              "  <tbody>\n",
              "    <tr>\n",
              "      <th>0</th>\n",
              "      <td>536365</td>\n",
              "      <td>85123A</td>\n",
              "      <td>WHITE HANGING HEART T-LIGHT HOLDER</td>\n",
              "      <td>6</td>\n",
              "      <td>12/1/10 8:26</td>\n",
              "      <td>2.55</td>\n",
              "      <td>17850.0</td>\n",
              "      <td>United Kingdom</td>\n",
              "    </tr>\n",
              "    <tr>\n",
              "      <th>1</th>\n",
              "      <td>536365</td>\n",
              "      <td>71053</td>\n",
              "      <td>WHITE METAL LANTERN</td>\n",
              "      <td>6</td>\n",
              "      <td>12/1/10 8:26</td>\n",
              "      <td>3.39</td>\n",
              "      <td>17850.0</td>\n",
              "      <td>United Kingdom</td>\n",
              "    </tr>\n",
              "    <tr>\n",
              "      <th>2</th>\n",
              "      <td>536365</td>\n",
              "      <td>84406B</td>\n",
              "      <td>CREAM CUPID HEARTS COAT HANGER</td>\n",
              "      <td>8</td>\n",
              "      <td>12/1/10 8:26</td>\n",
              "      <td>2.75</td>\n",
              "      <td>17850.0</td>\n",
              "      <td>United Kingdom</td>\n",
              "    </tr>\n",
              "    <tr>\n",
              "      <th>3</th>\n",
              "      <td>536365</td>\n",
              "      <td>84029G</td>\n",
              "      <td>KNITTED UNION FLAG HOT WATER BOTTLE</td>\n",
              "      <td>6</td>\n",
              "      <td>12/1/10 8:26</td>\n",
              "      <td>3.39</td>\n",
              "      <td>17850.0</td>\n",
              "      <td>United Kingdom</td>\n",
              "    </tr>\n",
              "    <tr>\n",
              "      <th>4</th>\n",
              "      <td>536365</td>\n",
              "      <td>84029E</td>\n",
              "      <td>RED WOOLLY HOTTIE WHITE HEART.</td>\n",
              "      <td>6</td>\n",
              "      <td>12/1/10 8:26</td>\n",
              "      <td>3.39</td>\n",
              "      <td>17850.0</td>\n",
              "      <td>United Kingdom</td>\n",
              "    </tr>\n",
              "  </tbody>\n",
              "</table>\n",
              "</div>"
            ],
            "text/plain": [
              "  InvoiceNo StockCode  ... CustomerID         Country\n",
              "0    536365    85123A  ...    17850.0  United Kingdom\n",
              "1    536365     71053  ...    17850.0  United Kingdom\n",
              "2    536365    84406B  ...    17850.0  United Kingdom\n",
              "3    536365    84029G  ...    17850.0  United Kingdom\n",
              "4    536365    84029E  ...    17850.0  United Kingdom\n",
              "\n",
              "[5 rows x 8 columns]"
            ]
          },
          "metadata": {
            "tags": []
          },
          "execution_count": 72
        }
      ]
    },
    {
      "cell_type": "code",
      "metadata": {
        "id": "UbwETUBr642r",
        "colab_type": "code",
        "outputId": "7f6ab6cf-f113-4344-b26e-fb1612e2f303",
        "colab": {
          "base_uri": "https://localhost:8080/",
          "height": 238
        }
      },
      "source": [
        "# Посмотрим инфо о датасете.\n",
        "online_rt.info()\n",
        "# Видим значения NAN, поля с этими данными считаю некорректными."
      ],
      "execution_count": 73,
      "outputs": [
        {
          "output_type": "stream",
          "text": [
            "<class 'pandas.core.frame.DataFrame'>\n",
            "RangeIndex: 541909 entries, 0 to 541908\n",
            "Data columns (total 8 columns):\n",
            "InvoiceNo      541909 non-null object\n",
            "StockCode      541909 non-null object\n",
            "Description    540455 non-null object\n",
            "Quantity       541909 non-null int64\n",
            "InvoiceDate    541909 non-null object\n",
            "UnitPrice      541909 non-null float64\n",
            "CustomerID     406829 non-null float64\n",
            "Country        541909 non-null object\n",
            "dtypes: float64(2), int64(1), object(5)\n",
            "memory usage: 33.1+ MB\n"
          ],
          "name": "stdout"
        }
      ]
    },
    {
      "cell_type": "code",
      "metadata": {
        "id": "MnxI4A6W6YUT",
        "colab_type": "code",
        "outputId": "041822a5-3ca8-42a2-dfb1-47f553a4c6e3",
        "colab": {
          "base_uri": "https://localhost:8080/",
          "height": 238
        }
      },
      "source": [
        "# Удаляем некорректные поля.\n",
        "data = online_rt.dropna()\n",
        "data.info()"
      ],
      "execution_count": 74,
      "outputs": [
        {
          "output_type": "stream",
          "text": [
            "<class 'pandas.core.frame.DataFrame'>\n",
            "Int64Index: 406829 entries, 0 to 541908\n",
            "Data columns (total 8 columns):\n",
            "InvoiceNo      406829 non-null object\n",
            "StockCode      406829 non-null object\n",
            "Description    406829 non-null object\n",
            "Quantity       406829 non-null int64\n",
            "InvoiceDate    406829 non-null object\n",
            "UnitPrice      406829 non-null float64\n",
            "CustomerID     406829 non-null float64\n",
            "Country        406829 non-null object\n",
            "dtypes: float64(2), int64(1), object(5)\n",
            "memory usage: 27.9+ MB\n"
          ],
          "name": "stdout"
        }
      ]
    },
    {
      "cell_type": "code",
      "metadata": {
        "id": "RWaxjBg4p4y9",
        "colab_type": "code",
        "colab": {
          "base_uri": "https://localhost:8080/",
          "height": 255
        },
        "outputId": "814b3130-5db7-4c21-c270-30caadd38f5e"
      },
      "source": [
        "# В дальнейшем, при построении графиков, мы заметим, что поле Quantity содержит отрицательные значения.\n",
        "# Поэтому, будет логично разделить данные на 2 датасета - продажи и возвраты.\n",
        "\n",
        "data_sales = data[data['Quantity'] >= 0 ]\n",
        "data_sales.info()"
      ],
      "execution_count": 100,
      "outputs": [
        {
          "output_type": "stream",
          "text": [
            "<class 'pandas.core.frame.DataFrame'>\n",
            "Int64Index: 397924 entries, 0 to 541908\n",
            "Data columns (total 9 columns):\n",
            "InvoiceNo      397924 non-null object\n",
            "StockCode      397924 non-null object\n",
            "Description    397924 non-null object\n",
            "Quantity       397924 non-null int64\n",
            "InvoiceDate    397924 non-null object\n",
            "UnitPrice      397924 non-null float64\n",
            "CustomerID     397924 non-null float64\n",
            "Country        397924 non-null object\n",
            "Revenue        397924 non-null float64\n",
            "dtypes: float64(3), int64(1), object(5)\n",
            "memory usage: 30.4+ MB\n"
          ],
          "name": "stdout"
        }
      ]
    },
    {
      "cell_type": "code",
      "metadata": {
        "id": "zupy-6oRxp22",
        "colab_type": "code",
        "colab": {
          "base_uri": "https://localhost:8080/",
          "height": 255
        },
        "outputId": "4bc503d2-fa12-4db9-c28e-a0bd2edc5ad5"
      },
      "source": [
        "data_return = data[data['Quantity'] < 0]\n",
        "data_return.info()"
      ],
      "execution_count": 101,
      "outputs": [
        {
          "output_type": "stream",
          "text": [
            "<class 'pandas.core.frame.DataFrame'>\n",
            "Int64Index: 8905 entries, 141 to 541717\n",
            "Data columns (total 9 columns):\n",
            "InvoiceNo      8905 non-null object\n",
            "StockCode      8905 non-null object\n",
            "Description    8905 non-null object\n",
            "Quantity       8905 non-null int64\n",
            "InvoiceDate    8905 non-null object\n",
            "UnitPrice      8905 non-null float64\n",
            "CustomerID     8905 non-null float64\n",
            "Country        8905 non-null object\n",
            "Revenue        8905 non-null float64\n",
            "dtypes: float64(3), int64(1), object(5)\n",
            "memory usage: 695.7+ KB\n"
          ],
          "name": "stdout"
        }
      ]
    },
    {
      "cell_type": "markdown",
      "metadata": {
        "id": "pEslE0iKbcGz",
        "colab_type": "text"
      },
      "source": [
        "### Шаг 4.1. Отобразите столбчатую диаграмму с 10-ю странами в которых произошло наибольшее количество продаж в терминах количества (Quantity) (5 баллов)"
      ]
    },
    {
      "cell_type": "code",
      "metadata": {
        "id": "6bJQ7L22QI72",
        "colab_type": "code",
        "outputId": "b012c244-6b5a-4b80-f6bd-96789b44e490",
        "colab": {
          "base_uri": "https://localhost:8080/",
          "height": 390
        }
      },
      "source": [
        "# Найдём этот десяток стран и запишем в новый DF. Сначала смотрим продажи.\n",
        "sales_quantity = data_sales.groupby(['Country'])['Quantity'].agg(['sum']).sort_values(by='sum', ascending=False).head(10)\n",
        "sales_quantity\n",
        "# Видим, что одна страна выбивается из общей массы."
      ],
      "execution_count": 76,
      "outputs": [
        {
          "output_type": "execute_result",
          "data": {
            "text/html": [
              "<div>\n",
              "<style scoped>\n",
              "    .dataframe tbody tr th:only-of-type {\n",
              "        vertical-align: middle;\n",
              "    }\n",
              "\n",
              "    .dataframe tbody tr th {\n",
              "        vertical-align: top;\n",
              "    }\n",
              "\n",
              "    .dataframe thead th {\n",
              "        text-align: right;\n",
              "    }\n",
              "</style>\n",
              "<table border=\"1\" class=\"dataframe\">\n",
              "  <thead>\n",
              "    <tr style=\"text-align: right;\">\n",
              "      <th></th>\n",
              "      <th>sum</th>\n",
              "    </tr>\n",
              "    <tr>\n",
              "      <th>Country</th>\n",
              "      <th></th>\n",
              "    </tr>\n",
              "  </thead>\n",
              "  <tbody>\n",
              "    <tr>\n",
              "      <th>United Kingdom</th>\n",
              "      <td>4269472</td>\n",
              "    </tr>\n",
              "    <tr>\n",
              "      <th>Netherlands</th>\n",
              "      <td>200937</td>\n",
              "    </tr>\n",
              "    <tr>\n",
              "      <th>EIRE</th>\n",
              "      <td>140525</td>\n",
              "    </tr>\n",
              "    <tr>\n",
              "      <th>Germany</th>\n",
              "      <td>119263</td>\n",
              "    </tr>\n",
              "    <tr>\n",
              "      <th>France</th>\n",
              "      <td>111472</td>\n",
              "    </tr>\n",
              "    <tr>\n",
              "      <th>Australia</th>\n",
              "      <td>84209</td>\n",
              "    </tr>\n",
              "    <tr>\n",
              "      <th>Sweden</th>\n",
              "      <td>36083</td>\n",
              "    </tr>\n",
              "    <tr>\n",
              "      <th>Switzerland</th>\n",
              "      <td>30083</td>\n",
              "    </tr>\n",
              "    <tr>\n",
              "      <th>Spain</th>\n",
              "      <td>27951</td>\n",
              "    </tr>\n",
              "    <tr>\n",
              "      <th>Japan</th>\n",
              "      <td>26016</td>\n",
              "    </tr>\n",
              "  </tbody>\n",
              "</table>\n",
              "</div>"
            ],
            "text/plain": [
              "                    sum\n",
              "Country                \n",
              "United Kingdom  4269472\n",
              "Netherlands      200937\n",
              "EIRE             140525\n",
              "Germany          119263\n",
              "France           111472\n",
              "Australia         84209\n",
              "Sweden            36083\n",
              "Switzerland       30083\n",
              "Spain             27951\n",
              "Japan             26016"
            ]
          },
          "metadata": {
            "tags": []
          },
          "execution_count": 76
        }
      ]
    },
    {
      "cell_type": "code",
      "metadata": {
        "id": "6h9ZRmUJRhf4",
        "colab_type": "code",
        "outputId": "7d2da6e9-9405-46f9-9cdf-2ae4aab212ef",
        "colab": {
          "base_uri": "https://localhost:8080/",
          "height": 654
        }
      },
      "source": [
        "# Продажи \n",
        "sales_quantity.reset_index(inplace=True)\n",
        "fig, ax = plt.subplots(figsize=(16,10), facecolor='white', dpi= 80)\n",
        "ax.vlines(x=sales_quantity['Country'], ymin=0, ymax=sales_quantity['sum'], color='firebrick', alpha=0.7, linewidth=20)\n",
        "plt.show()"
      ],
      "execution_count": 77,
      "outputs": [
        {
          "output_type": "display_data",
          "data": {
            "image/png": "[encoded data removed]",
            "text/plain": [
              "<Figure size 1280x800 with 1 Axes>"
            ]
          },
          "metadata": {
            "tags": []
          }
        }
      ]
    },
    {
      "cell_type": "code",
      "metadata": {
        "id": "S_kjbNwpsP7K",
        "colab_type": "code",
        "colab": {
          "base_uri": "https://localhost:8080/",
          "height": 390
        },
        "outputId": "f8c91569-f7e6-4f92-9443-3fa08dcec27e"
      },
      "source": [
        "# Проведём анализ возвратов.\n",
        "\n",
        "return_quantity = data_return.groupby(['Country'])['Quantity'].agg(['sum']).sort_values(by='sum', ascending=True).head(10)\n",
        "return_quantity\n",
        "\n",
        "# Логично, что там где больше продаж, там и больше возвратов."
      ],
      "execution_count": 78,
      "outputs": [
        {
          "output_type": "execute_result",
          "data": {
            "text/html": [
              "<div>\n",
              "<style scoped>\n",
              "    .dataframe tbody tr th:only-of-type {\n",
              "        vertical-align: middle;\n",
              "    }\n",
              "\n",
              "    .dataframe tbody tr th {\n",
              "        vertical-align: top;\n",
              "    }\n",
              "\n",
              "    .dataframe thead th {\n",
              "        text-align: right;\n",
              "    }\n",
              "</style>\n",
              "<table border=\"1\" class=\"dataframe\">\n",
              "  <thead>\n",
              "    <tr style=\"text-align: right;\">\n",
              "      <th></th>\n",
              "      <th>sum</th>\n",
              "    </tr>\n",
              "    <tr>\n",
              "      <th>Country</th>\n",
              "      <th></th>\n",
              "    </tr>\n",
              "  </thead>\n",
              "  <tbody>\n",
              "    <tr>\n",
              "      <th>United Kingdom</th>\n",
              "      <td>-260939</td>\n",
              "    </tr>\n",
              "    <tr>\n",
              "      <th>EIRE</th>\n",
              "      <td>-4196</td>\n",
              "    </tr>\n",
              "    <tr>\n",
              "      <th>Germany</th>\n",
              "      <td>-1815</td>\n",
              "    </tr>\n",
              "    <tr>\n",
              "      <th>France</th>\n",
              "      <td>-1624</td>\n",
              "    </tr>\n",
              "    <tr>\n",
              "      <th>USA</th>\n",
              "      <td>-1424</td>\n",
              "    </tr>\n",
              "    <tr>\n",
              "      <th>Spain</th>\n",
              "      <td>-1127</td>\n",
              "    </tr>\n",
              "    <tr>\n",
              "      <th>Netherlands</th>\n",
              "      <td>-809</td>\n",
              "    </tr>\n",
              "    <tr>\n",
              "      <th>Japan</th>\n",
              "      <td>-798</td>\n",
              "    </tr>\n",
              "    <tr>\n",
              "      <th>Australia</th>\n",
              "      <td>-556</td>\n",
              "    </tr>\n",
              "    <tr>\n",
              "      <th>Sweden</th>\n",
              "      <td>-446</td>\n",
              "    </tr>\n",
              "  </tbody>\n",
              "</table>\n",
              "</div>"
            ],
            "text/plain": [
              "                   sum\n",
              "Country               \n",
              "United Kingdom -260939\n",
              "EIRE             -4196\n",
              "Germany          -1815\n",
              "France           -1624\n",
              "USA              -1424\n",
              "Spain            -1127\n",
              "Netherlands       -809\n",
              "Japan             -798\n",
              "Australia         -556\n",
              "Sweden            -446"
            ]
          },
          "metadata": {
            "tags": []
          },
          "execution_count": 78
        }
      ]
    },
    {
      "cell_type": "code",
      "metadata": {
        "id": "S_ybPzYKsn1V",
        "colab_type": "code",
        "colab": {
          "base_uri": "https://localhost:8080/",
          "height": 654
        },
        "outputId": "3195cf7c-a99e-403f-e201-76c43c7486d1"
      },
      "source": [
        "# Возвраты\n",
        "return_quantity.reset_index(inplace=True)\n",
        "fig, ax = plt.subplots(figsize=(16,10), facecolor='white', dpi= 80)\n",
        "ax.vlines(x=return_quantity['Country'], ymin=0, ymax=return_quantity['sum'], color='firebrick', alpha=0.7, linewidth=20)\n",
        "plt.show()"
      ],
      "execution_count": 90,
      "outputs": [
        {
          "output_type": "display_data",
          "data": {
            "image/png": "[encoded data removed]",
            "text/plain": [
              "<Figure size 1280x800 with 1 Axes>"
            ]
          },
          "metadata": {
            "tags": []
          }
        }
      ]
    },
    {
      "cell_type": "code",
      "metadata": {
        "id": "_GqW_Vqpt0-N",
        "colab_type": "code",
        "colab": {
          "base_uri": "https://localhost:8080/",
          "height": 204
        },
        "outputId": "8c31cb60-0587-4ea1-d2ad-4b1fdfad1a28"
      },
      "source": [
        "# Ради интереса найдём процент возвратов к продаже.\n",
        "(-1 * return_quantity['sum']/sales_quantity['sum'])*100"
      ],
      "execution_count": 80,
      "outputs": [
        {
          "output_type": "execute_result",
          "data": {
            "text/plain": [
              "0    6.111739\n",
              "1    2.088217\n",
              "2    1.291585\n",
              "3    1.361696\n",
              "4    1.277451\n",
              "5    1.338337\n",
              "6    2.242053\n",
              "7    2.652661\n",
              "8    1.989195\n",
              "9    1.714330\n",
              "Name: sum, dtype: float64"
            ]
          },
          "metadata": {
            "tags": []
          },
          "execution_count": 80
        }
      ]
    },
    {
      "cell_type": "markdown",
      "metadata": {
        "id": "ssIAqqbE_ABq",
        "colab_type": "text"
      },
      "source": [
        "### Шаг 4.2. Отобразите такую же диаграмму, но без Великобритании (1 балл)"
      ]
    },
    {
      "cell_type": "code",
      "metadata": {
        "id": "UtUW_teo_K5-",
        "colab_type": "code",
        "outputId": "22dccfa9-ac89-43e6-856c-9a392671042b",
        "colab": {
          "base_uri": "https://localhost:8080/",
          "height": 654
        }
      },
      "source": [
        "# Sales\n",
        "data_wuk_s = sales_quantity[sales_quantity['Country'] != 'United Kingdom']\n",
        "fig, ax = plt.subplots(figsize=(16,10), facecolor='white', dpi= 80)\n",
        "ax.vlines(x=data_wuk_s['Country'], ymin=0, ymax=data_wuk_s['sum'], color='firebrick', alpha=0.7, linewidth=20)\n",
        "plt.show()"
      ],
      "execution_count": 93,
      "outputs": [
        {
          "output_type": "display_data",
          "data": {
            "image/png": "[encoded data removed]",
            "text/plain": [
              "<Figure size 1280x800 with 1 Axes>"
            ]
          },
          "metadata": {
            "tags": []
          }
        }
      ]
    },
    {
      "cell_type": "code",
      "metadata": {
        "id": "wRv_tjjfvGxv",
        "colab_type": "code",
        "colab": {
          "base_uri": "https://localhost:8080/",
          "height": 654
        },
        "outputId": "ead25911-87fe-4804-826d-89257885f440"
      },
      "source": [
        "# Возвраты\n",
        "\n",
        "data_wuk_r = return_quantity[sales_quantity['Country'] != 'United Kingdom']\n",
        "fig, ax = plt.subplots(figsize=(16,10), facecolor='white', dpi= 80)\n",
        "ax.vlines(x=data_wuk_r['Country'], ymin=0, ymax=data_wuk_r['sum'], color='firebrick', alpha=0.7, linewidth=20)\n",
        "plt.show()"
      ],
      "execution_count": 94,
      "outputs": [
        {
          "output_type": "display_data",
          "data": {
            "image/png": "[encoded data removed]",
            "text/plain": [
              "<Figure size 1280x800 with 1 Axes>"
            ]
          },
          "metadata": {
            "tags": []
          }
        }
      ]
    },
    {
      "cell_type": "markdown",
      "metadata": {
        "id": "M4YdXruur3KJ",
        "colab_type": "text"
      },
      "source": [
        "### Шаг 5. Создаёте колонку выручки с каждой продажи (2 балла)"
      ]
    },
    {
      "cell_type": "code",
      "metadata": {
        "id": "Q1yZgOR3r90x",
        "colab_type": "code",
        "colab": {}
      },
      "source": [
        "# Выручка для продаж. И суммы для возвратов.\n",
        "\n",
        "data_sales['Revenue'] = (data_sales['Quantity'] * data_sales['UnitPrice'])\n",
        "data_return['Revenue'] = (data_return['Quantity'] * data_return['UnitPrice'])"
      ],
      "execution_count": 0,
      "outputs": []
    },
    {
      "cell_type": "markdown",
      "metadata": {
        "id": "5P-d1hpNqbHi",
        "colab_type": "text"
      },
      "source": [
        "### Шаг 6.1. Отобразите график отображающий зависимость выручки от стоимости за единицу (для всего набора данных). (10 баллов)\n",
        "График должен быть читаемым. Предлагается разбить UnitPrice на интервалы, в этом могут помочь функции np.arange() и pd.cut()."
      ]
    },
    {
      "cell_type": "code",
      "metadata": {
        "id": "bLDda2Yxr1AX",
        "colab_type": "code",
        "colab": {}
      },
      "source": [
        "# Import Data\n",
        "\n",
        "\n",
        "# Draw Stripplot\n",
        "fig, ax = plt.subplots(figsize=(16,10), dpi= 80)    \n",
        "sns.stripplot(data_sales.UnitPrice, data_sales.Revenue, jitter=0.25, size=8, ax=ax, linewidth=.5)\n",
        "\n",
        "# Decorations\n",
        "plt.title('Use jittered plots to avoid overlapping of points', fontsize=22)\n",
        "plt.show()"
      ],
      "execution_count": 0,
      "outputs": []
    },
    {
      "cell_type": "code",
      "metadata": {
        "id": "XGv7VuyNlQax",
        "colab_type": "code",
        "colab": {}
      },
      "source": [
        ""
      ],
      "execution_count": 0,
      "outputs": []
    },
    {
      "cell_type": "markdown",
      "metadata": {
        "id": "1Eg3clBGtK7z",
        "colab_type": "text"
      },
      "source": [
        "### Шаг 6.2 Какой вывод можно сделать из этого графика? (1 балл)"
      ]
    },
    {
      "cell_type": "markdown",
      "metadata": {
        "id": "wSPxpTPntPdf",
        "colab_type": "text"
      },
      "source": [
        "*Ваш комментарий:*"
      ]
    },
    {
      "cell_type": "markdown",
      "metadata": {
        "id": "jNA08UUftghN",
        "colab_type": "text"
      },
      "source": [
        "### Шаг 7.1. Создайте колонки day и month целочисленного типа. (5 баллов)\n",
        "Подсказка: для начала определите в каком формате содержится InvoiceDate"
      ]
    },
    {
      "cell_type": "code",
      "metadata": {
        "id": "Gf6zRaKzt3uN",
        "colab_type": "code",
        "colab": {}
      },
      "source": [
        "# ваш код тут"
      ],
      "execution_count": 0,
      "outputs": []
    },
    {
      "cell_type": "markdown",
      "metadata": {
        "id": "1V71Nu0qzihR",
        "colab_type": "text"
      },
      "source": [
        "### Шаг 7.2. Отобразите помесячную выручку для всех стран за 2011 год (по отдельности) в виде stacked barplot (10 баллов)"
      ]
    },
    {
      "cell_type": "code",
      "metadata": {
        "id": "X5qsBMUOwEa6",
        "colab_type": "code",
        "colab": {}
      },
      "source": [
        "# ваш код тут"
      ],
      "execution_count": 0,
      "outputs": []
    },
    {
      "cell_type": "markdown",
      "metadata": {
        "id": "hPyXZHMm_-6M",
        "colab_type": "text"
      },
      "source": [
        "### Шаг 7.3. Отобразите такой же график, но без Великобритании (1 балл)"
      ]
    },
    {
      "cell_type": "code",
      "metadata": {
        "id": "_LOKqJDHAKhK",
        "colab_type": "code",
        "colab": {}
      },
      "source": [
        "# ваш код тут"
      ],
      "execution_count": 0,
      "outputs": []
    },
    {
      "cell_type": "markdown",
      "metadata": {
        "id": "MS0ijcrnzvlx",
        "colab_type": "text"
      },
      "source": [
        "### Шаг 7.4. Какой вывод можно сделать из этих графиков? (1 балл)"
      ]
    },
    {
      "cell_type": "markdown",
      "metadata": {
        "id": "dDK2xZfn3Lxk",
        "colab_type": "text"
      },
      "source": [
        "*Ваш комментарий:*"
      ]
    },
    {
      "cell_type": "markdown",
      "metadata": {
        "id": "dwHhKNmhz49L",
        "colab_type": "text"
      },
      "source": [
        "### Шаг 8.1. Отобразите для Нидерландов график дневной выручки в Ноябре 2011. (5 баллов)"
      ]
    },
    {
      "cell_type": "code",
      "metadata": {
        "id": "OdqcJNPD0rEv",
        "colab_type": "code",
        "colab": {}
      },
      "source": [
        "# ваш код тут"
      ],
      "execution_count": 0,
      "outputs": []
    },
    {
      "cell_type": "markdown",
      "metadata": {
        "id": "zuslolfe3BWQ",
        "colab_type": "text"
      },
      "source": [
        "### Шаг 8.2. В какой день выручка максимальная? (2 балла)"
      ]
    },
    {
      "cell_type": "code",
      "metadata": {
        "id": "pQJue5zY1Y34",
        "colab_type": "code",
        "colab": {}
      },
      "source": [
        "# ваш код тут"
      ],
      "execution_count": 0,
      "outputs": []
    }
  ]
}