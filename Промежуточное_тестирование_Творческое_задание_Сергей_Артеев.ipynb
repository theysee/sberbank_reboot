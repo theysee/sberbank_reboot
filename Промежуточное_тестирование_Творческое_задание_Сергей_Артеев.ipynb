{
  "nbformat": 4,
  "nbformat_minor": 0,
  "metadata": {
    "anaconda-cloud": {},
    "kernelspec": {
      "display_name": "Python [conda root]",
      "language": "python",
      "name": "conda-root-py"
    },
    "language_info": {
      "codemirror_mode": {
        "name": "ipython",
        "version": 2
      },
      "file_extension": ".py",
      "mimetype": "text/x-python",
      "name": "python",
      "nbconvert_exporter": "python",
      "pygments_lexer": "ipython2",
      "version": "2.7.12"
    },
    "colab": {
      "name": "Промежуточное тестирование. Творческое задание. Имя Фамилия.ipynb",
      "provenance": [],
      "collapsed_sections": [],
      "include_colab_link": true
    }
  },
  "cells": [
    {
      "cell_type": "markdown",
      "metadata": {
        "id": "view-in-github",
        "colab_type": "text"
      },
      "source": [
        "<a href=\"https://colab.research.google.com/github/theysee/sberbank_reboot/blob/master/%D0%9F%D1%80%D0%BE%D0%BC%D0%B5%D0%B6%D1%83%D1%82%D0%BE%D1%87%D0%BD%D0%BE%D0%B5_%D1%82%D0%B5%D1%81%D1%82%D0%B8%D1%80%D0%BE%D0%B2%D0%B0%D0%BD%D0%B8%D0%B5_%D0%A2%D0%B2%D0%BE%D1%80%D1%87%D0%B5%D1%81%D0%BA%D0%BE%D0%B5_%D0%B7%D0%B0%D0%B4%D0%B0%D0%BD%D0%B8%D0%B5_%D0%A1%D0%B5%D1%80%D0%B3%D0%B5%D0%B9_%D0%90%D1%80%D1%82%D0%B5%D0%B5%D0%B2.ipynb\" target=\"_parent\"><img src=\"https://colab.research.google.com/assets/colab-badge.svg\" alt=\"Open In Colab\"/></a>"
      ]
    },
    {
      "cell_type": "markdown",
      "metadata": {
        "id": "R08RnQnNbcGj",
        "colab_type": "text"
      },
      "source": [
        "# Творческое задание\n",
        "## Розничные покупки онлайн\n",
        "**Сюжет: Промышленный шпионаж**\n",
        "\n",
        "К вам в руки попал дамп базы продаж одного из крупных онлайн ретейлеров. Этот ретейлер является вашим конкурентом, и вы начали исследовать полученные данные.\n",
        "\n",
        "**Требования**\n",
        "\n",
        "0.   Скопируйте исходный ноутбук себе. В своём ноутбуке делаете задание\n",
        "1.   Гуглить разрешается\n",
        "2.   Убирайте ненужные вам клетки с кодом, и постарайтесь не отходить от логической структуры этого ноутбука\n",
        "3.   Оформляйте графики так, чтобы они были читаемыми. Оформляйте легенду, заголовки, подписывайте оси в соответствующем масштабе и единицах измерения\n",
        "4.   **Ваш ноутбук должен запускаться, и выполняться без ошибок сверху вниз. Иначе творческая работа оценивается в 0 баллов.**\n",
        "5.   После того как вы сделали работу, нужно вызвать ctrl+s (сохранить ноутбук),\n",
        "затем File->Download as .ipynb. Полученный файл нужно залить в форму опросника в соответствующей секции. В названии ноутбука не забудьте указать **имя и фамилию** в соответствующем месте\n",
        "\n",
        "\n",
        ". "
      ]
    },
    {
      "cell_type": "markdown",
      "metadata": {
        "id": "_dvkPvy4DnaU",
        "colab_type": "text"
      },
      "source": [
        "Всего баллов 48."
      ]
    },
    {
      "cell_type": "markdown",
      "metadata": {
        "id": "f2lfcw4cbcGm",
        "colab_type": "text"
      },
      "source": [
        "### Шаг 1. Импортируйте нужные библиотеки. (1 балл)"
      ]
    },
    {
      "cell_type": "code",
      "metadata": {
        "id": "7_Ac1acSbcGn",
        "colab_type": "code",
        "colab": {}
      },
      "source": [
        "# ваш код тут"
      ],
      "execution_count": 0,
      "outputs": []
    },
    {
      "cell_type": "markdown",
      "metadata": {
        "id": "5l7LHJYwbcGt",
        "colab_type": "text"
      },
      "source": [
        "### Шаг 2. Загрузите данные в переменную online_rt (1 балл)\n",
        "Замечание: если вы получаете ошибку декодирования, то передайте аргумент encoding='latin1' в pd.read_csv().\n",
        "\n",
        "Файл расположен по адресу 'http://89.223.95.235/file/Online_Retail.csv'\n",
        "его можно сразу передавать в функцию pd.read_csv"
      ]
    },
    {
      "cell_type": "code",
      "metadata": {
        "id": "_91LnTBMbcGu",
        "colab_type": "code",
        "colab": {}
      },
      "source": [
        "# ваш код тут"
      ],
      "execution_count": 0,
      "outputs": []
    },
    {
      "cell_type": "markdown",
      "metadata": {
        "id": "i4y_BET-rg72",
        "colab_type": "text"
      },
      "source": [
        "### Шаг 3. Удалите из выборки некорректные данные (2 балла)\n",
        "Похоже, что у вашего конкурента не самая консистентная база данных, удалите некорректные строки из датафрейма"
      ]
    },
    {
      "cell_type": "code",
      "metadata": {
        "id": "9IXrtlt5bcG5",
        "colab_type": "code",
        "colab": {}
      },
      "source": [
        "# ваш код тут"
      ],
      "execution_count": 0,
      "outputs": []
    },
    {
      "cell_type": "markdown",
      "metadata": {
        "id": "pEslE0iKbcGz",
        "colab_type": "text"
      },
      "source": [
        "### Шаг 4.1. Отобразите столбчатую диаграмму с 10-ю странами в которых произошло наибольшее количество продаж в терминах количества (Quantity) (5 баллов)"
      ]
    },
    {
      "cell_type": "code",
      "metadata": {
        "id": "128b1FVZbcG0",
        "colab_type": "code",
        "colab": {}
      },
      "source": [
        "# ваш код тут"
      ],
      "execution_count": 0,
      "outputs": []
    },
    {
      "cell_type": "markdown",
      "metadata": {
        "id": "ssIAqqbE_ABq",
        "colab_type": "text"
      },
      "source": [
        "### Шаг 4.2. Отобразите такую же диаграмму, но без Великобритании (1 балл)"
      ]
    },
    {
      "cell_type": "code",
      "metadata": {
        "id": "UtUW_teo_K5-",
        "colab_type": "code",
        "colab": {}
      },
      "source": [
        "# ваш код тут"
      ],
      "execution_count": 0,
      "outputs": []
    },
    {
      "cell_type": "markdown",
      "metadata": {
        "id": "M4YdXruur3KJ",
        "colab_type": "text"
      },
      "source": [
        "### Шаг 5. Создаёте колонку выручки с каждой продажи (2 балла)"
      ]
    },
    {
      "cell_type": "code",
      "metadata": {
        "id": "Q1yZgOR3r90x",
        "colab_type": "code",
        "colab": {}
      },
      "source": [
        "# ваш код тут"
      ],
      "execution_count": 0,
      "outputs": []
    },
    {
      "cell_type": "markdown",
      "metadata": {
        "id": "5P-d1hpNqbHi",
        "colab_type": "text"
      },
      "source": [
        "### Шаг 6.1. Отобразите график отображающий зависимость выручки от стоимости за единицу (для всего набора данных). (10 баллов)\n",
        "График должен быть читаемым. Предлагается разбить UnitPrice на интервалы, в этом могут помочь функции np.arange() и pd.cut()."
      ]
    },
    {
      "cell_type": "code",
      "metadata": {
        "id": "bLDda2Yxr1AX",
        "colab_type": "code",
        "colab": {}
      },
      "source": [
        "# ваш код тут"
      ],
      "execution_count": 0,
      "outputs": []
    },
    {
      "cell_type": "markdown",
      "metadata": {
        "id": "1Eg3clBGtK7z",
        "colab_type": "text"
      },
      "source": [
        "### Шаг 6.2 Какой вывод можно сделать из этого графика? (1 балл)"
      ]
    },
    {
      "cell_type": "markdown",
      "metadata": {
        "id": "wSPxpTPntPdf",
        "colab_type": "text"
      },
      "source": [
        "*Ваш комментарий:*"
      ]
    },
    {
      "cell_type": "markdown",
      "metadata": {
        "id": "jNA08UUftghN",
        "colab_type": "text"
      },
      "source": [
        "### Шаг 7.1. Создайте колонки day и month целочисленного типа. (5 баллов)\n",
        "Подсказка: для начала определите в каком формате содержится InvoiceDate"
      ]
    },
    {
      "cell_type": "code",
      "metadata": {
        "id": "Gf6zRaKzt3uN",
        "colab_type": "code",
        "colab": {}
      },
      "source": [
        "# ваш код тут"
      ],
      "execution_count": 0,
      "outputs": []
    },
    {
      "cell_type": "markdown",
      "metadata": {
        "id": "1V71Nu0qzihR",
        "colab_type": "text"
      },
      "source": [
        "### Шаг 7.2. Отобразите помесячную выручку для всех стран за 2011 год (по отдельности) в виде stacked barplot (10 баллов)"
      ]
    },
    {
      "cell_type": "code",
      "metadata": {
        "id": "X5qsBMUOwEa6",
        "colab_type": "code",
        "colab": {}
      },
      "source": [
        "# ваш код тут"
      ],
      "execution_count": 0,
      "outputs": []
    },
    {
      "cell_type": "markdown",
      "metadata": {
        "id": "hPyXZHMm_-6M",
        "colab_type": "text"
      },
      "source": [
        "### Шаг 7.3. Отобразите такой же график, но без Великобритании (1 балл)"
      ]
    },
    {
      "cell_type": "code",
      "metadata": {
        "id": "_LOKqJDHAKhK",
        "colab_type": "code",
        "colab": {}
      },
      "source": [
        "# ваш код тут"
      ],
      "execution_count": 0,
      "outputs": []
    },
    {
      "cell_type": "markdown",
      "metadata": {
        "id": "MS0ijcrnzvlx",
        "colab_type": "text"
      },
      "source": [
        "### Шаг 7.4. Какой вывод можно сделать из этих графиков? (1 балл)"
      ]
    },
    {
      "cell_type": "markdown",
      "metadata": {
        "id": "dDK2xZfn3Lxk",
        "colab_type": "text"
      },
      "source": [
        "*Ваш комментарий:*"
      ]
    },
    {
      "cell_type": "markdown",
      "metadata": {
        "id": "dwHhKNmhz49L",
        "colab_type": "text"
      },
      "source": [
        "### Шаг 8.1. Отобразите для Нидерландов график дневной выручки в Ноябре 2011. (5 баллов)"
      ]
    },
    {
      "cell_type": "code",
      "metadata": {
        "id": "OdqcJNPD0rEv",
        "colab_type": "code",
        "colab": {}
      },
      "source": [
        "# ваш код тут"
      ],
      "execution_count": 0,
      "outputs": []
    },
    {
      "cell_type": "markdown",
      "metadata": {
        "id": "zuslolfe3BWQ",
        "colab_type": "text"
      },
      "source": [
        "### Шаг 8.2. В какой день выручка максимальная? (2 балла)"
      ]
    },
    {
      "cell_type": "code",
      "metadata": {
        "id": "pQJue5zY1Y34",
        "colab_type": "code",
        "colab": {}
      },
      "source": [
        "# ваш код тут"
      ],
      "execution_count": 0,
      "outputs": []
    }
  ]
}