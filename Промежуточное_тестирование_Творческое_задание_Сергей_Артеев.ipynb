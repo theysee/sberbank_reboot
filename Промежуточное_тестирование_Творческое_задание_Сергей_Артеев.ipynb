{
  "nbformat": 4,
  "nbformat_minor": 0,
  "metadata": {
    "anaconda-cloud": {},
    "kernelspec": {
      "display_name": "Python [conda root]",
      "language": "python",
      "name": "conda-root-py"
    },
    "language_info": {
      "codemirror_mode": {
        "name": "ipython",
        "version": 2
      },
      "file_extension": ".py",
      "mimetype": "text/x-python",
      "name": "python",
      "nbconvert_exporter": "python",
      "pygments_lexer": "ipython2",
      "version": "2.7.12"
    },
    "colab": {
      "name": "Промежуточное тестирование. Творческое задание. Имя Фамилия.ipynb",
      "provenance": [],
      "collapsed_sections": [],
      "include_colab_link": true
    }
  },
  "cells": [
    {
      "cell_type": "markdown",
      "metadata": {
        "id": "view-in-github",
        "colab_type": "text"
      },
      "source": [
        "<a href=\"https://colab.research.google.com/github/theysee/sberbank_reboot/blob/master/%D0%9F%D1%80%D0%BE%D0%BC%D0%B5%D0%B6%D1%83%D1%82%D0%BE%D1%87%D0%BD%D0%BE%D0%B5_%D1%82%D0%B5%D1%81%D1%82%D0%B8%D1%80%D0%BE%D0%B2%D0%B0%D0%BD%D0%B8%D0%B5_%D0%A2%D0%B2%D0%BE%D1%80%D1%87%D0%B5%D1%81%D0%BA%D0%BE%D0%B5_%D0%B7%D0%B0%D0%B4%D0%B0%D0%BD%D0%B8%D0%B5_%D0%A1%D0%B5%D1%80%D0%B3%D0%B5%D0%B9_%D0%90%D1%80%D1%82%D0%B5%D0%B5%D0%B2.ipynb\" target=\"_parent\"><img src=\"https://colab.research.google.com/assets/colab-badge.svg\" alt=\"Open In Colab\"/></a>"
      ]
    },
    {
      "cell_type": "markdown",
      "metadata": {
        "id": "R08RnQnNbcGj",
        "colab_type": "text"
      },
      "source": [
        "# Творческое задание\n",
        "## Розничные покупки онлайн\n",
        "**Сюжет: Промышленный шпионаж**\n",
        "\n",
        "К вам в руки попал дамп базы продаж одного из крупных онлайн ретейлеров. Этот ретейлер является вашим конкурентом, и вы начали исследовать полученные данные.\n",
        "\n",
        "**Требования**\n",
        "\n",
        "0.   Скопируйте исходный ноутбук себе. В своём ноутбуке делаете задание\n",
        "1.   Гуглить разрешается\n",
        "2.   Убирайте ненужные вам клетки с кодом, и постарайтесь не отходить от логической структуры этого ноутбука\n",
        "3.   Оформляйте графики так, чтобы они были читаемыми. Оформляйте легенду, заголовки, подписывайте оси в соответствующем масштабе и единицах измерения\n",
        "4.   **Ваш ноутбук должен запускаться, и выполняться без ошибок сверху вниз. Иначе творческая работа оценивается в 0 баллов.**\n",
        "5.   После того как вы сделали работу, нужно вызвать ctrl+s (сохранить ноутбук),\n",
        "затем File->Download as .ipynb. Полученный файл нужно залить в форму опросника в соответствующей секции. В названии ноутбука не забудьте указать **имя и фамилию** в соответствующем месте\n",
        "\n",
        "\n",
        ". "
      ]
    },
    {
      "cell_type": "markdown",
      "metadata": {
        "id": "_dvkPvy4DnaU",
        "colab_type": "text"
      },
      "source": [
        "Всего баллов 48."
      ]
    },
    {
      "cell_type": "markdown",
      "metadata": {
        "id": "f2lfcw4cbcGm",
        "colab_type": "text"
      },
      "source": [
        "### Шаг 1. Импортируйте нужные библиотеки. (1 балл)"
      ]
    },
    {
      "cell_type": "code",
      "metadata": {
        "id": "7_Ac1acSbcGn",
        "colab_type": "code",
        "colab": {}
      },
      "source": [
        "import numpy as np\n",
        "import pandas as pd\n",
        "import matplotlib as mpl\n",
        "import matplotlib.pyplot as plt\n",
        "import seaborn as sns"
      ],
      "execution_count": 0,
      "outputs": []
    },
    {
      "cell_type": "markdown",
      "metadata": {
        "id": "5l7LHJYwbcGt",
        "colab_type": "text"
      },
      "source": [
        "### Шаг 2. Загрузите данные в переменную online_rt (1 балл)\n",
        "Замечание: если вы получаете ошибку декодирования, то передайте аргумент encoding='latin1' в pd.read_csv().\n",
        "\n",
        "Файл расположен по адресу 'http://89.223.95.235/file/Online_Retail.csv'\n",
        "его можно сразу передавать в функцию pd.read_csv"
      ]
    },
    {
      "cell_type": "code",
      "metadata": {
        "id": "_91LnTBMbcGu",
        "colab_type": "code",
        "colab": {}
      },
      "source": [
        "online_rt = pd.read_csv('http://89.223.95.235/file/Online_Retail.csv', encoding='latin1')"
      ],
      "execution_count": 0,
      "outputs": []
    },
    {
      "cell_type": "markdown",
      "metadata": {
        "id": "i4y_BET-rg72",
        "colab_type": "text"
      },
      "source": [
        "### Шаг 3. Удалите из выборки некорректные данные (2 балла)\n",
        "Похоже, что у вашего конкурента не самая консистентная база данных, удалите некорректные строки из датафрейма"
      ]
    },
    {
      "cell_type": "code",
      "metadata": {
        "id": "9IXrtlt5bcG5",
        "colab_type": "code",
        "outputId": "a3931b5b-b407-44ca-f599-c6f7334af9a0",
        "colab": {
          "base_uri": "https://localhost:8080/",
          "height": 204
        }
      },
      "source": [
        "# Посмотрим, что за данные мы вообще получили.\n",
        "online_rt.head()"
      ],
      "execution_count": 4,
      "outputs": [
        {
          "output_type": "execute_result",
          "data": {
            "text/html": [
              "<div>\n",
              "<style scoped>\n",
              "    .dataframe tbody tr th:only-of-type {\n",
              "        vertical-align: middle;\n",
              "    }\n",
              "\n",
              "    .dataframe tbody tr th {\n",
              "        vertical-align: top;\n",
              "    }\n",
              "\n",
              "    .dataframe thead th {\n",
              "        text-align: right;\n",
              "    }\n",
              "</style>\n",
              "<table border=\"1\" class=\"dataframe\">\n",
              "  <thead>\n",
              "    <tr style=\"text-align: right;\">\n",
              "      <th></th>\n",
              "      <th>InvoiceNo</th>\n",
              "      <th>StockCode</th>\n",
              "      <th>Description</th>\n",
              "      <th>Quantity</th>\n",
              "      <th>InvoiceDate</th>\n",
              "      <th>UnitPrice</th>\n",
              "      <th>CustomerID</th>\n",
              "      <th>Country</th>\n",
              "    </tr>\n",
              "  </thead>\n",
              "  <tbody>\n",
              "    <tr>\n",
              "      <th>0</th>\n",
              "      <td>536365</td>\n",
              "      <td>85123A</td>\n",
              "      <td>WHITE HANGING HEART T-LIGHT HOLDER</td>\n",
              "      <td>6</td>\n",
              "      <td>12/1/10 8:26</td>\n",
              "      <td>2.55</td>\n",
              "      <td>17850.0</td>\n",
              "      <td>United Kingdom</td>\n",
              "    </tr>\n",
              "    <tr>\n",
              "      <th>1</th>\n",
              "      <td>536365</td>\n",
              "      <td>71053</td>\n",
              "      <td>WHITE METAL LANTERN</td>\n",
              "      <td>6</td>\n",
              "      <td>12/1/10 8:26</td>\n",
              "      <td>3.39</td>\n",
              "      <td>17850.0</td>\n",
              "      <td>United Kingdom</td>\n",
              "    </tr>\n",
              "    <tr>\n",
              "      <th>2</th>\n",
              "      <td>536365</td>\n",
              "      <td>84406B</td>\n",
              "      <td>CREAM CUPID HEARTS COAT HANGER</td>\n",
              "      <td>8</td>\n",
              "      <td>12/1/10 8:26</td>\n",
              "      <td>2.75</td>\n",
              "      <td>17850.0</td>\n",
              "      <td>United Kingdom</td>\n",
              "    </tr>\n",
              "    <tr>\n",
              "      <th>3</th>\n",
              "      <td>536365</td>\n",
              "      <td>84029G</td>\n",
              "      <td>KNITTED UNION FLAG HOT WATER BOTTLE</td>\n",
              "      <td>6</td>\n",
              "      <td>12/1/10 8:26</td>\n",
              "      <td>3.39</td>\n",
              "      <td>17850.0</td>\n",
              "      <td>United Kingdom</td>\n",
              "    </tr>\n",
              "    <tr>\n",
              "      <th>4</th>\n",
              "      <td>536365</td>\n",
              "      <td>84029E</td>\n",
              "      <td>RED WOOLLY HOTTIE WHITE HEART.</td>\n",
              "      <td>6</td>\n",
              "      <td>12/1/10 8:26</td>\n",
              "      <td>3.39</td>\n",
              "      <td>17850.0</td>\n",
              "      <td>United Kingdom</td>\n",
              "    </tr>\n",
              "  </tbody>\n",
              "</table>\n",
              "</div>"
            ],
            "text/plain": [
              "  InvoiceNo StockCode  ... CustomerID         Country\n",
              "0    536365    85123A  ...    17850.0  United Kingdom\n",
              "1    536365     71053  ...    17850.0  United Kingdom\n",
              "2    536365    84406B  ...    17850.0  United Kingdom\n",
              "3    536365    84029G  ...    17850.0  United Kingdom\n",
              "4    536365    84029E  ...    17850.0  United Kingdom\n",
              "\n",
              "[5 rows x 8 columns]"
            ]
          },
          "metadata": {
            "tags": []
          },
          "execution_count": 4
        }
      ]
    },
    {
      "cell_type": "code",
      "metadata": {
        "id": "UbwETUBr642r",
        "colab_type": "code",
        "colab": {
          "base_uri": "https://localhost:8080/",
          "height": 238
        },
        "outputId": "b3d310fd-d720-4b8f-e134-e1a39b347cdd"
      },
      "source": [
        "# Посмотрим инфо о датасете.\n",
        "online_rt.info()\n",
        "# Видим значения NAN, поля с этими данными считаю некорректными."
      ],
      "execution_count": 14,
      "outputs": [
        {
          "output_type": "stream",
          "text": [
            "<class 'pandas.core.frame.DataFrame'>\n",
            "RangeIndex: 541909 entries, 0 to 541908\n",
            "Data columns (total 8 columns):\n",
            "InvoiceNo      541909 non-null object\n",
            "StockCode      541909 non-null object\n",
            "Description    540455 non-null object\n",
            "Quantity       541909 non-null int64\n",
            "InvoiceDate    541909 non-null object\n",
            "UnitPrice      541909 non-null float64\n",
            "CustomerID     406829 non-null float64\n",
            "Country        541909 non-null object\n",
            "dtypes: float64(2), int64(1), object(5)\n",
            "memory usage: 33.1+ MB\n"
          ],
          "name": "stdout"
        }
      ]
    },
    {
      "cell_type": "code",
      "metadata": {
        "id": "MnxI4A6W6YUT",
        "colab_type": "code",
        "colab": {
          "base_uri": "https://localhost:8080/",
          "height": 238
        },
        "outputId": "8581230e-3a2c-4226-cf7c-7e8061720760"
      },
      "source": [
        "# Удаляем некорректные поля.\n",
        "data = online_rt.dropna()\n",
        "data.info()"
      ],
      "execution_count": 16,
      "outputs": [
        {
          "output_type": "stream",
          "text": [
            "<class 'pandas.core.frame.DataFrame'>\n",
            "Int64Index: 406829 entries, 0 to 541908\n",
            "Data columns (total 8 columns):\n",
            "InvoiceNo      406829 non-null object\n",
            "StockCode      406829 non-null object\n",
            "Description    406829 non-null object\n",
            "Quantity       406829 non-null int64\n",
            "InvoiceDate    406829 non-null object\n",
            "UnitPrice      406829 non-null float64\n",
            "CustomerID     406829 non-null float64\n",
            "Country        406829 non-null object\n",
            "dtypes: float64(2), int64(1), object(5)\n",
            "memory usage: 27.9+ MB\n"
          ],
          "name": "stdout"
        }
      ]
    },
    {
      "cell_type": "markdown",
      "metadata": {
        "id": "pEslE0iKbcGz",
        "colab_type": "text"
      },
      "source": [
        "### Шаг 4.1. Отобразите столбчатую диаграмму с 10-ю странами в которых произошло наибольшее количество продаж в терминах количества (Quantity) (5 баллов)"
      ]
    },
    {
      "cell_type": "code",
      "metadata": {
        "id": "128b1FVZbcG0",
        "colab_type": "code",
        "colab": {
          "base_uri": "https://localhost:8080/",
          "height": 680
        },
        "outputId": "56c03277-a189-474b-8e05-6d99717adf26"
      },
      "source": [
        "data.groupby('Country')['Quantity'].sum()"
      ],
      "execution_count": 21,
      "outputs": [
        {
          "output_type": "execute_result",
          "data": {
            "text/plain": [
              "Country\n",
              "Australia                 83653\n",
              "Austria                    4827\n",
              "Bahrain                     260\n",
              "Belgium                   23152\n",
              "Brazil                      356\n",
              "Canada                     2763\n",
              "Channel Islands            9479\n",
              "Cyprus                     6317\n",
              "Czech Republic              592\n",
              "Denmark                    8188\n",
              "EIRE                     136329\n",
              "European Community          497\n",
              "Finland                   10666\n",
              "France                   109848\n",
              "Germany                  117448\n",
              "Greece                     1556\n",
              "Iceland                    2458\n",
              "Israel                     3990\n",
              "Italy                      7999\n",
              "Japan                     25218\n",
              "Lebanon                     386\n",
              "Lithuania                   652\n",
              "Malta                       944\n",
              "Netherlands              200128\n",
              "Norway                    19247\n",
              "Poland                     3653\n",
              "Portugal                  16044\n",
              "RSA                         352\n",
              "Saudi Arabia                 75\n",
              "Singapore                  5234\n",
              "Spain                     26824\n",
              "Sweden                    35637\n",
              "Switzerland               29778\n",
              "USA                        1034\n",
              "United Arab Emirates        982\n",
              "United Kingdom          4008533\n",
              "Unspecified                1789\n",
              "Name: Quantity, dtype: int64"
            ]
          },
          "metadata": {
            "tags": []
          },
          "execution_count": 21
        }
      ]
    },
    {
      "cell_type": "markdown",
      "metadata": {
        "id": "ssIAqqbE_ABq",
        "colab_type": "text"
      },
      "source": [
        "### Шаг 4.2. Отобразите такую же диаграмму, но без Великобритании (1 балл)"
      ]
    },
    {
      "cell_type": "code",
      "metadata": {
        "id": "UtUW_teo_K5-",
        "colab_type": "code",
        "colab": {}
      },
      "source": [
        "# ваш код тут"
      ],
      "execution_count": 0,
      "outputs": []
    },
    {
      "cell_type": "markdown",
      "metadata": {
        "id": "M4YdXruur3KJ",
        "colab_type": "text"
      },
      "source": [
        "### Шаг 5. Создаёте колонку выручки с каждой продажи (2 балла)"
      ]
    },
    {
      "cell_type": "code",
      "metadata": {
        "id": "Q1yZgOR3r90x",
        "colab_type": "code",
        "colab": {}
      },
      "source": [
        "# ваш код тут"
      ],
      "execution_count": 0,
      "outputs": []
    },
    {
      "cell_type": "markdown",
      "metadata": {
        "id": "5P-d1hpNqbHi",
        "colab_type": "text"
      },
      "source": [
        "### Шаг 6.1. Отобразите график отображающий зависимость выручки от стоимости за единицу (для всего набора данных). (10 баллов)\n",
        "График должен быть читаемым. Предлагается разбить UnitPrice на интервалы, в этом могут помочь функции np.arange() и pd.cut()."
      ]
    },
    {
      "cell_type": "code",
      "metadata": {
        "id": "bLDda2Yxr1AX",
        "colab_type": "code",
        "colab": {}
      },
      "source": [
        "# ваш код тут"
      ],
      "execution_count": 0,
      "outputs": []
    },
    {
      "cell_type": "markdown",
      "metadata": {
        "id": "1Eg3clBGtK7z",
        "colab_type": "text"
      },
      "source": [
        "### Шаг 6.2 Какой вывод можно сделать из этого графика? (1 балл)"
      ]
    },
    {
      "cell_type": "markdown",
      "metadata": {
        "id": "wSPxpTPntPdf",
        "colab_type": "text"
      },
      "source": [
        "*Ваш комментарий:*"
      ]
    },
    {
      "cell_type": "markdown",
      "metadata": {
        "id": "jNA08UUftghN",
        "colab_type": "text"
      },
      "source": [
        "### Шаг 7.1. Создайте колонки day и month целочисленного типа. (5 баллов)\n",
        "Подсказка: для начала определите в каком формате содержится InvoiceDate"
      ]
    },
    {
      "cell_type": "code",
      "metadata": {
        "id": "Gf6zRaKzt3uN",
        "colab_type": "code",
        "colab": {}
      },
      "source": [
        "# ваш код тут"
      ],
      "execution_count": 0,
      "outputs": []
    },
    {
      "cell_type": "markdown",
      "metadata": {
        "id": "1V71Nu0qzihR",
        "colab_type": "text"
      },
      "source": [
        "### Шаг 7.2. Отобразите помесячную выручку для всех стран за 2011 год (по отдельности) в виде stacked barplot (10 баллов)"
      ]
    },
    {
      "cell_type": "code",
      "metadata": {
        "id": "X5qsBMUOwEa6",
        "colab_type": "code",
        "colab": {}
      },
      "source": [
        "# ваш код тут"
      ],
      "execution_count": 0,
      "outputs": []
    },
    {
      "cell_type": "markdown",
      "metadata": {
        "id": "hPyXZHMm_-6M",
        "colab_type": "text"
      },
      "source": [
        "### Шаг 7.3. Отобразите такой же график, но без Великобритании (1 балл)"
      ]
    },
    {
      "cell_type": "code",
      "metadata": {
        "id": "_LOKqJDHAKhK",
        "colab_type": "code",
        "colab": {}
      },
      "source": [
        "# ваш код тут"
      ],
      "execution_count": 0,
      "outputs": []
    },
    {
      "cell_type": "markdown",
      "metadata": {
        "id": "MS0ijcrnzvlx",
        "colab_type": "text"
      },
      "source": [
        "### Шаг 7.4. Какой вывод можно сделать из этих графиков? (1 балл)"
      ]
    },
    {
      "cell_type": "markdown",
      "metadata": {
        "id": "dDK2xZfn3Lxk",
        "colab_type": "text"
      },
      "source": [
        "*Ваш комментарий:*"
      ]
    },
    {
      "cell_type": "markdown",
      "metadata": {
        "id": "dwHhKNmhz49L",
        "colab_type": "text"
      },
      "source": [
        "### Шаг 8.1. Отобразите для Нидерландов график дневной выручки в Ноябре 2011. (5 баллов)"
      ]
    },
    {
      "cell_type": "code",
      "metadata": {
        "id": "OdqcJNPD0rEv",
        "colab_type": "code",
        "colab": {}
      },
      "source": [
        "# ваш код тут"
      ],
      "execution_count": 0,
      "outputs": []
    },
    {
      "cell_type": "markdown",
      "metadata": {
        "id": "zuslolfe3BWQ",
        "colab_type": "text"
      },
      "source": [
        "### Шаг 8.2. В какой день выручка максимальная? (2 балла)"
      ]
    },
    {
      "cell_type": "code",
      "metadata": {
        "id": "pQJue5zY1Y34",
        "colab_type": "code",
        "colab": {}
      },
      "source": [
        "# ваш код тут"
      ],
      "execution_count": 0,
      "outputs": []
    }
  ]
}