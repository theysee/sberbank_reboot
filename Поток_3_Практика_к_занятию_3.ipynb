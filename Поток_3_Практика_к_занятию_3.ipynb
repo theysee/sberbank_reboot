{
  "nbformat": 4,
  "nbformat_minor": 0,
  "metadata": {
    "colab": {
      "name": "Поток 3. Практика к занятию 3.ipynb",
      "provenance": [],
      "collapsed_sections": [],
      "include_colab_link": true
    },
    "kernelspec": {
      "name": "python3",
      "display_name": "Python 3"
    }
  },
  "cells": [
    {
      "cell_type": "markdown",
      "metadata": {
        "id": "view-in-github",
        "colab_type": "text"
      },
      "source": [
        "<a href=\"https://colab.research.google.com/github/theysee/sberbank_reboot/blob/master/%D0%9F%D0%BE%D1%82%D0%BE%D0%BA_3_%D0%9F%D1%80%D0%B0%D0%BA%D1%82%D0%B8%D0%BA%D0%B0_%D0%BA_%D0%B7%D0%B0%D0%BD%D1%8F%D1%82%D0%B8%D1%8E_3.ipynb\" target=\"_parent\"><img src=\"https://colab.research.google.com/assets/colab-badge.svg\" alt=\"Open In Colab\"/></a>"
      ]
    },
    {
      "cell_type": "markdown",
      "metadata": {
        "id": "C0beUqv8zsJU",
        "colab_type": "text"
      },
      "source": [
        "# Практика"
      ]
    },
    {
      "cell_type": "markdown",
      "metadata": {
        "id": "Dv2HhX9y3oXC",
        "colab_type": "text"
      },
      "source": [
        "*   [Презентация](https://docs.google.com/presentation/d/1LHlFfVfL9AyguTgLeSbWdf7lFCcFsp18a--TtiyC7CU/edit?usp=sharing)\n",
        "*   [master notebook](https://colab.research.google.com/drive/1_oE4cMPApBluMQqzFf-DzLbMb0AO0B-U)\n",
        "\n"
      ]
    },
    {
      "cell_type": "markdown",
      "metadata": {
        "id": "RfX_wccFz4kh",
        "colab_type": "text"
      },
      "source": [
        "## Заканчиваем про ООП"
      ]
    },
    {
      "cell_type": "markdown",
      "metadata": {
        "id": "gNeN8MNB0Zwd",
        "colab_type": "text"
      },
      "source": [
        "### Задание 1"
      ]
    },
    {
      "cell_type": "markdown",
      "metadata": {
        "id": "HvhURzGd0sOt",
        "colab_type": "text"
      },
      "source": [
        "Снова вспомним про наших питомцев. На этот раз, когда вы уже знаете что такое наследование, определите класс Pet (питомец). В нём определить те методы и свойства, которые будут общими как для кошек, так и для собак. Например, свойство is_hungry будет общим, но не только оно.\n",
        "Затем, отнаследоваться от этого базового класса Pet, и определить классы Dog и Cat, не забыв поменять то, что у кошек и собак неодинаково. Синтаксис следующий:\n",
        "\n",
        "class Dog(Pet):\n",
        "    # код здесь\n",
        "\n",
        "class Cat(Pet):\n",
        "    # код здесь\n",
        "\n",
        "Далее обратите внимание на то кол-во кода, которое пришлось бы писать без наследования, и с ним.\n"
      ]
    },
    {
      "cell_type": "code",
      "metadata": {
        "id": "Tn13PJwyQvl9",
        "colab_type": "code",
        "outputId": "83de7abd-9d38-4bf0-b24a-bc2a7768767b",
        "colab": {
          "base_uri": "https://localhost:8080/",
          "height": 221
        }
      },
      "source": [
        "class Pet:\n",
        "  def __init__(self, name, age, color, hungary=True, sleep=False):\n",
        "    self.name = name\n",
        "    self.age = age\n",
        "    self.color = color\n",
        "    self.hungary = hungary\n",
        "    self.sleep = sleep\n",
        "  \n",
        "  def pet_feed(self):\n",
        "    self.hungary = False\n",
        "    print(f'Состояние голода у {self.name} {self.hungary}')\n",
        "  \n",
        "  def pet_go_sleep(self):\n",
        "    self.sleep = True\n",
        "    print(f'Состояние сна у {self.name} {self.sleep}')\n",
        "\n",
        "class Dog(Pet):\n",
        "  def __init__(self, name, age, color, hungary=True, sleep=False):\n",
        "    self.name = name\n",
        "    self.age = age\n",
        "    self.color = color\n",
        "    self.hungary = hungary\n",
        "    self.sleep = sleep\n",
        "\n",
        "  def pet_alert(self):\n",
        "    print(f'Собака {self.name} говорит - woooo')\n",
        "\n",
        "class Cat(Pet):\n",
        "  def __init__(self, name, age, color, hungary=True, sleep=False):\n",
        "    self.name = name\n",
        "    self.age = age\n",
        "    self.color = color\n",
        "    self.hungary = hungary\n",
        "    self.sleep = sleep\n",
        "\n",
        "  def pet_alert(self):\n",
        "    print(f'Кошка {self.name} говорит - miay')\n",
        "\n",
        "dog1 = Dog('Mark', 13, 'Grey')\n",
        "dog2 = Dog('Charly', 10, 'White')\n",
        "\n",
        "cat1 = Cat('Betty', 5, 'Black')\n",
        "cat2 = Cat('Rick', 4, 'Red')\n",
        "\n",
        "dog1.pet_feed()\n",
        "dog1.pet_go_sleep()\n",
        "dog1.pet_alert()\n",
        "\n",
        "dog2.pet_feed()\n",
        "dog2.pet_go_sleep()\n",
        "dog2.pet_alert()\n",
        "\n",
        "cat1.pet_feed()\n",
        "cat1.pet_go_sleep()\n",
        "cat1.pet_alert()\n",
        "\n",
        "cat2.pet_feed()\n",
        "cat2.pet_go_sleep()\n",
        "cat2.pet_alert()"
      ],
      "execution_count": 2,
      "outputs": [
        {
          "output_type": "stream",
          "text": [
            "Состояние голода у Mark False\n",
            "Состояние сна у Mark True\n",
            "Собака Mark говорит - woooo\n",
            "Состояние голода у Charly False\n",
            "Состояние сна у Charly True\n",
            "Собака Charly говорит - woooo\n",
            "Состояние голода у Betty False\n",
            "Состояние сна у Betty True\n",
            "Кошка Betty говорит - miay\n",
            "Состояние голода у Rick False\n",
            "Состояние сна у Rick True\n",
            "Кошка Rick говорит - miay\n"
          ],
          "name": "stdout"
        }
      ]
    },
    {
      "cell_type": "markdown",
      "metadata": {
        "id": "Ldkzezr8QrMf",
        "colab_type": "text"
      },
      "source": [
        "### Задание 2\n",
        "\n",
        "Создайте массив из 100 элементов (от 1 до 100), переформатируйте в формат (10 * 10), сделайте слайсинг с шагом 2 по каждой оси."
      ]
    },
    {
      "cell_type": "code",
      "metadata": {
        "id": "XcW450JFQpCu",
        "colab_type": "code",
        "outputId": "607293b9-7beb-4682-9859-470baed07e39",
        "colab": {
          "base_uri": "https://localhost:8080/",
          "height": 102
        }
      },
      "source": [
        "import numpy as np\n",
        "a = np.arange(1, 101).reshape(10,10)\n",
        "a[::2,::2]"
      ],
      "execution_count": 3,
      "outputs": [
        {
          "output_type": "execute_result",
          "data": {
            "text/plain": [
              "array([[ 1,  3,  5,  7,  9],\n",
              "       [21, 23, 25, 27, 29],\n",
              "       [41, 43, 45, 47, 49],\n",
              "       [61, 63, 65, 67, 69],\n",
              "       [81, 83, 85, 87, 89]])"
            ]
          },
          "metadata": {
            "tags": []
          },
          "execution_count": 3
        }
      ]
    },
    {
      "cell_type": "markdown",
      "metadata": {
        "id": "_WqfENtVQ07p",
        "colab_type": "text"
      },
      "source": [
        "### Задание 3\n",
        "\n",
        "Задан массив array, найти индекс первого элемента отсортированного s, где значения больше 5"
      ]
    },
    {
      "cell_type": "code",
      "metadata": {
        "id": "PF2ZeQoQQ60S",
        "colab_type": "code",
        "outputId": "ae50ec36-11e2-4919-d53a-f466b466bfcd",
        "colab": {
          "base_uri": "https://localhost:8080/",
          "height": 119
        }
      },
      "source": [
        "import pandas as pd\n",
        "r = np.random.RandomState(1)\n",
        "s = pd.Series(r.uniform(0, 10, 100))\n",
        "s.head(5)"
      ],
      "execution_count": 4,
      "outputs": [
        {
          "output_type": "execute_result",
          "data": {
            "text/plain": [
              "0    4.170220\n",
              "1    7.203245\n",
              "2    0.001144\n",
              "3    3.023326\n",
              "4    1.467559\n",
              "dtype: float64"
            ]
          },
          "metadata": {
            "tags": []
          },
          "execution_count": 4
        }
      ]
    },
    {
      "cell_type": "code",
      "metadata": {
        "id": "EBZr5E1ikzxh",
        "colab_type": "code",
        "outputId": "c5d4e1d6-f30e-41f4-a21c-3984ec91cb1d",
        "colab": {
          "base_uri": "https://localhost:8080/",
          "height": 119
        }
      },
      "source": [
        "idx = s[s > 5].sort_values()\n",
        "idx.head(5)"
      ],
      "execution_count": 5,
      "outputs": [
        {
          "output_type": "execute_result",
          "data": {
            "text/plain": [
              "67    5.148891\n",
              "33    5.331653\n",
              "65    5.358964\n",
              "9     5.388167\n",
              "17    5.586898\n",
              "dtype: float64"
            ]
          },
          "metadata": {
            "tags": []
          },
          "execution_count": 5
        }
      ]
    },
    {
      "cell_type": "code",
      "metadata": {
        "id": "GPMSvBB6vui4",
        "colab_type": "code",
        "outputId": "9f04ffa5-5b98-4e09-b6e8-c704469593c1",
        "colab": {
          "base_uri": "https://localhost:8080/",
          "height": 34
        }
      },
      "source": [
        "idx.index[0]"
      ],
      "execution_count": 6,
      "outputs": [
        {
          "output_type": "execute_result",
          "data": {
            "text/plain": [
              "67"
            ]
          },
          "metadata": {
            "tags": []
          },
          "execution_count": 6
        }
      ]
    },
    {
      "cell_type": "markdown",
      "metadata": {
        "id": "R8EkkuA0Q8zo",
        "colab_type": "text"
      },
      "source": [
        "### Задание 4\n",
        "\n",
        "Вывести имена всех выживших детей и их количество (у детей возраст < 18)"
      ]
    },
    {
      "cell_type": "code",
      "metadata": {
        "id": "G5ISYp3OQ775",
        "colab_type": "code",
        "outputId": "0c16c5cd-1bc1-45c2-afc4-b9866425893a",
        "colab": {
          "base_uri": "https://localhost:8080/",
          "height": 306
        }
      },
      "source": [
        "!wget https://web.stanford.edu/class/archive/cs/cs109/cs109.1166/stuff/titanic.csv ."
      ],
      "execution_count": 7,
      "outputs": [
        {
          "output_type": "stream",
          "text": [
            "--2019-12-18 05:01:31--  https://web.stanford.edu/class/archive/cs/cs109/cs109.1166/stuff/titanic.csv\n",
            "Resolving web.stanford.edu (web.stanford.edu)... 171.67.215.200\n",
            "Connecting to web.stanford.edu (web.stanford.edu)|171.67.215.200|:443... connected.\n",
            "HTTP request sent, awaiting response... 200 OK\n",
            "Length: 44225 (43K) [text/csv]\n",
            "Saving to: ‘titanic.csv’\n",
            "\n",
            "\rtitanic.csv           0%[                    ]       0  --.-KB/s               \rtitanic.csv         100%[===================>]  43.19K  --.-KB/s    in 0.07s   \n",
            "\n",
            "2019-12-18 05:01:31 (619 KB/s) - ‘titanic.csv’ saved [44225/44225]\n",
            "\n",
            "--2019-12-18 05:01:31--  http://./\n",
            "Resolving . (.)... failed: No address associated with hostname.\n",
            "wget: unable to resolve host address ‘.’\n",
            "FINISHED --2019-12-18 05:01:31--\n",
            "Total wall clock time: 0.5s\n",
            "Downloaded: 1 files, 43K in 0.07s (619 KB/s)\n"
          ],
          "name": "stdout"
        }
      ]
    },
    {
      "cell_type": "code",
      "metadata": {
        "id": "FeKVIIVORI9D",
        "colab_type": "code",
        "outputId": "4e23036e-5926-4be1-839b-ab96919af939",
        "colab": {
          "base_uri": "https://localhost:8080/",
          "height": 514
        }
      },
      "source": [
        "data = pd.read_csv('titanic.csv', sep=',', header='infer')\n",
        "data.head(15)"
      ],
      "execution_count": 8,
      "outputs": [
        {
          "output_type": "execute_result",
          "data": {
            "text/html": [
              "<div>\n",
              "<style scoped>\n",
              "    .dataframe tbody tr th:only-of-type {\n",
              "        vertical-align: middle;\n",
              "    }\n",
              "\n",
              "    .dataframe tbody tr th {\n",
              "        vertical-align: top;\n",
              "    }\n",
              "\n",
              "    .dataframe thead th {\n",
              "        text-align: right;\n",
              "    }\n",
              "</style>\n",
              "<table border=\"1\" class=\"dataframe\">\n",
              "  <thead>\n",
              "    <tr style=\"text-align: right;\">\n",
              "      <th></th>\n",
              "      <th>Survived</th>\n",
              "      <th>Pclass</th>\n",
              "      <th>Name</th>\n",
              "      <th>Sex</th>\n",
              "      <th>Age</th>\n",
              "      <th>Siblings/Spouses Aboard</th>\n",
              "      <th>Parents/Children Aboard</th>\n",
              "      <th>Fare</th>\n",
              "    </tr>\n",
              "  </thead>\n",
              "  <tbody>\n",
              "    <tr>\n",
              "      <th>0</th>\n",
              "      <td>0</td>\n",
              "      <td>3</td>\n",
              "      <td>Mr. Owen Harris Braund</td>\n",
              "      <td>male</td>\n",
              "      <td>22.0</td>\n",
              "      <td>1</td>\n",
              "      <td>0</td>\n",
              "      <td>7.2500</td>\n",
              "    </tr>\n",
              "    <tr>\n",
              "      <th>1</th>\n",
              "      <td>1</td>\n",
              "      <td>1</td>\n",
              "      <td>Mrs. John Bradley (Florence Briggs Thayer) Cum...</td>\n",
              "      <td>female</td>\n",
              "      <td>38.0</td>\n",
              "      <td>1</td>\n",
              "      <td>0</td>\n",
              "      <td>71.2833</td>\n",
              "    </tr>\n",
              "    <tr>\n",
              "      <th>2</th>\n",
              "      <td>1</td>\n",
              "      <td>3</td>\n",
              "      <td>Miss. Laina Heikkinen</td>\n",
              "      <td>female</td>\n",
              "      <td>26.0</td>\n",
              "      <td>0</td>\n",
              "      <td>0</td>\n",
              "      <td>7.9250</td>\n",
              "    </tr>\n",
              "    <tr>\n",
              "      <th>3</th>\n",
              "      <td>1</td>\n",
              "      <td>1</td>\n",
              "      <td>Mrs. Jacques Heath (Lily May Peel) Futrelle</td>\n",
              "      <td>female</td>\n",
              "      <td>35.0</td>\n",
              "      <td>1</td>\n",
              "      <td>0</td>\n",
              "      <td>53.1000</td>\n",
              "    </tr>\n",
              "    <tr>\n",
              "      <th>4</th>\n",
              "      <td>0</td>\n",
              "      <td>3</td>\n",
              "      <td>Mr. William Henry Allen</td>\n",
              "      <td>male</td>\n",
              "      <td>35.0</td>\n",
              "      <td>0</td>\n",
              "      <td>0</td>\n",
              "      <td>8.0500</td>\n",
              "    </tr>\n",
              "    <tr>\n",
              "      <th>5</th>\n",
              "      <td>0</td>\n",
              "      <td>3</td>\n",
              "      <td>Mr. James Moran</td>\n",
              "      <td>male</td>\n",
              "      <td>27.0</td>\n",
              "      <td>0</td>\n",
              "      <td>0</td>\n",
              "      <td>8.4583</td>\n",
              "    </tr>\n",
              "    <tr>\n",
              "      <th>6</th>\n",
              "      <td>0</td>\n",
              "      <td>1</td>\n",
              "      <td>Mr. Timothy J McCarthy</td>\n",
              "      <td>male</td>\n",
              "      <td>54.0</td>\n",
              "      <td>0</td>\n",
              "      <td>0</td>\n",
              "      <td>51.8625</td>\n",
              "    </tr>\n",
              "    <tr>\n",
              "      <th>7</th>\n",
              "      <td>0</td>\n",
              "      <td>3</td>\n",
              "      <td>Master. Gosta Leonard Palsson</td>\n",
              "      <td>male</td>\n",
              "      <td>2.0</td>\n",
              "      <td>3</td>\n",
              "      <td>1</td>\n",
              "      <td>21.0750</td>\n",
              "    </tr>\n",
              "    <tr>\n",
              "      <th>8</th>\n",
              "      <td>1</td>\n",
              "      <td>3</td>\n",
              "      <td>Mrs. Oscar W (Elisabeth Vilhelmina Berg) Johnson</td>\n",
              "      <td>female</td>\n",
              "      <td>27.0</td>\n",
              "      <td>0</td>\n",
              "      <td>2</td>\n",
              "      <td>11.1333</td>\n",
              "    </tr>\n",
              "    <tr>\n",
              "      <th>9</th>\n",
              "      <td>1</td>\n",
              "      <td>2</td>\n",
              "      <td>Mrs. Nicholas (Adele Achem) Nasser</td>\n",
              "      <td>female</td>\n",
              "      <td>14.0</td>\n",
              "      <td>1</td>\n",
              "      <td>0</td>\n",
              "      <td>30.0708</td>\n",
              "    </tr>\n",
              "    <tr>\n",
              "      <th>10</th>\n",
              "      <td>1</td>\n",
              "      <td>3</td>\n",
              "      <td>Miss. Marguerite Rut Sandstrom</td>\n",
              "      <td>female</td>\n",
              "      <td>4.0</td>\n",
              "      <td>1</td>\n",
              "      <td>1</td>\n",
              "      <td>16.7000</td>\n",
              "    </tr>\n",
              "    <tr>\n",
              "      <th>11</th>\n",
              "      <td>1</td>\n",
              "      <td>1</td>\n",
              "      <td>Miss. Elizabeth Bonnell</td>\n",
              "      <td>female</td>\n",
              "      <td>58.0</td>\n",
              "      <td>0</td>\n",
              "      <td>0</td>\n",
              "      <td>26.5500</td>\n",
              "    </tr>\n",
              "    <tr>\n",
              "      <th>12</th>\n",
              "      <td>0</td>\n",
              "      <td>3</td>\n",
              "      <td>Mr. William Henry Saundercock</td>\n",
              "      <td>male</td>\n",
              "      <td>20.0</td>\n",
              "      <td>0</td>\n",
              "      <td>0</td>\n",
              "      <td>8.0500</td>\n",
              "    </tr>\n",
              "    <tr>\n",
              "      <th>13</th>\n",
              "      <td>0</td>\n",
              "      <td>3</td>\n",
              "      <td>Mr. Anders Johan Andersson</td>\n",
              "      <td>male</td>\n",
              "      <td>39.0</td>\n",
              "      <td>1</td>\n",
              "      <td>5</td>\n",
              "      <td>31.2750</td>\n",
              "    </tr>\n",
              "    <tr>\n",
              "      <th>14</th>\n",
              "      <td>0</td>\n",
              "      <td>3</td>\n",
              "      <td>Miss. Hulda Amanda Adolfina Vestrom</td>\n",
              "      <td>female</td>\n",
              "      <td>14.0</td>\n",
              "      <td>0</td>\n",
              "      <td>0</td>\n",
              "      <td>7.8542</td>\n",
              "    </tr>\n",
              "  </tbody>\n",
              "</table>\n",
              "</div>"
            ],
            "text/plain": [
              "    Survived  Pclass  ... Parents/Children Aboard     Fare\n",
              "0          0       3  ...                       0   7.2500\n",
              "1          1       1  ...                       0  71.2833\n",
              "2          1       3  ...                       0   7.9250\n",
              "3          1       1  ...                       0  53.1000\n",
              "4          0       3  ...                       0   8.0500\n",
              "5          0       3  ...                       0   8.4583\n",
              "6          0       1  ...                       0  51.8625\n",
              "7          0       3  ...                       1  21.0750\n",
              "8          1       3  ...                       2  11.1333\n",
              "9          1       2  ...                       0  30.0708\n",
              "10         1       3  ...                       1  16.7000\n",
              "11         1       1  ...                       0  26.5500\n",
              "12         0       3  ...                       0   8.0500\n",
              "13         0       3  ...                       5  31.2750\n",
              "14         0       3  ...                       0   7.8542\n",
              "\n",
              "[15 rows x 8 columns]"
            ]
          },
          "metadata": {
            "tags": []
          },
          "execution_count": 8
        }
      ]
    },
    {
      "cell_type": "code",
      "metadata": {
        "id": "zK5-HgABRKit",
        "colab_type": "code",
        "outputId": "89a7f055-38c7-4d09-a717-0fa074996a8f",
        "colab": {
          "base_uri": "https://localhost:8080/",
          "height": 221
        }
      },
      "source": [
        "# выведите имена всех выживших детей\n",
        "child_survived = data['Name'].loc[(data['Survived'] == 1) & (data['Age'] < 18)]\n",
        "child_survived"
      ],
      "execution_count": 9,
      "outputs": [
        {
          "output_type": "execute_result",
          "data": {
            "text/plain": [
              "9           Mrs. Nicholas (Adele Achem) Nasser\n",
              "10              Miss. Marguerite Rut Sandstrom\n",
              "22                          Miss. Anna McGowan\n",
              "39                  Miss. Jamila Nicola-Yarred\n",
              "42     Miss. Simonne Marie Anne Andree Laroche\n",
              "                        ...                   \n",
              "826     Mrs. Antoni (Selini Alexander) Yasbeck\n",
              "827             Master. George Sibley Richards\n",
              "849                   Miss. Mary Conover Lines\n",
              "865             Master. Harold Theodor Johnson\n",
              "871                   Miss. Adele Kiamie Najib\n",
              "Name: Name, Length: 65, dtype: object"
            ]
          },
          "metadata": {
            "tags": []
          },
          "execution_count": 9
        }
      ]
    },
    {
      "cell_type": "code",
      "metadata": {
        "id": "NicEleJyRMqV",
        "colab_type": "code",
        "outputId": "ee08355f-2623-447e-9fb5-a674ec52b138",
        "colab": {
          "base_uri": "https://localhost:8080/",
          "height": 34
        }
      },
      "source": [
        "# выведите количество выживших детей\n",
        "child_survived.count()"
      ],
      "execution_count": 10,
      "outputs": [
        {
          "output_type": "execute_result",
          "data": {
            "text/plain": [
              "65"
            ]
          },
          "metadata": {
            "tags": []
          },
          "execution_count": 10
        }
      ]
    },
    {
      "cell_type": "markdown",
      "metadata": {
        "id": "dZ6vfNAjRRpA",
        "colab_type": "text"
      },
      "source": [
        "### Задание 5\n",
        "\n",
        "Написать функцию, которая по заданной длине последовательности находит среднее арифметическое ее членов.\n",
        "\n",
        "Реализуйте задачу с и без помощи numpy, сравните время выполнения"
      ]
    },
    {
      "cell_type": "code",
      "metadata": {
        "id": "GY10mB5WRZHj",
        "colab_type": "code",
        "outputId": "cfea3ed3-c89c-4de5-fe69-0946c0701ab8",
        "colab": {
          "base_uri": "https://localhost:8080/",
          "height": 51
        }
      },
      "source": [
        "# решение с использованием numpy\n",
        "# для оценки времени исполнения блока\n",
        "%%time\n",
        "# зададим длину нашей последовательности\n",
        "dlina_posl = 100_000_000\n",
        "\n",
        "a = np.arange(dlina_posl).mean()\n",
        "a"
      ],
      "execution_count": 11,
      "outputs": [
        {
          "output_type": "stream",
          "text": [
            "CPU times: user 266 ms, sys: 304 ms, total: 570 ms\n",
            "Wall time: 573 ms\n"
          ],
          "name": "stdout"
        }
      ]
    },
    {
      "cell_type": "code",
      "metadata": {
        "id": "a443CbeGRbjO",
        "colab_type": "code",
        "outputId": "49a888f5-d7d1-4a0a-f7f8-b3a6651a867a",
        "colab": {
          "base_uri": "https://localhost:8080/",
          "height": 51
        }
      },
      "source": [
        "# решение без использования numpy\n",
        "# для оценки времени исполнения блока\n",
        "%%time\n",
        "\n",
        "tmp = 0\n",
        "for i in range(dlina_posl):\n",
        "  tmp = tmp + i\n",
        "\n",
        "p_mean = tmp/len(range(dlina_posl))\n",
        "p_mean"
      ],
      "execution_count": 12,
      "outputs": [
        {
          "output_type": "stream",
          "text": [
            "CPU times: user 12.2 s, sys: 1.85 ms, total: 12.2 s\n",
            "Wall time: 12.2 s\n"
          ],
          "name": "stdout"
        }
      ]
    },
    {
      "cell_type": "markdown",
      "metadata": {
        "id": "maTGV5AEReix",
        "colab_type": "text"
      },
      "source": [
        "### Задание 6\n",
        "\n",
        "Пусть мы имеем 2 массива (заданы ниже в коде). Требуется создать массив, который получает результат поэлементно True, если четные элементы 1го массива больше 2го и True, если нечетные элементы 2го больше элементов первого. В противном случае возвращать False.\n",
        "\n",
        "Реализовать задачу с и помощью numpy\n",
        "\n",
        "Пример массивов и результата:\n",
        "\n",
        "a = [7, 3, 5, 9, 2, 5, 4, 8, 9, 0]\n",
        "\n",
        "b = [2, 8, 6, 7, 1, 3, 2, 9, 5, 1]\n",
        "\n",
        "res = [False, False, True, True, False, True, False, False, False, False]"
      ]
    },
    {
      "cell_type": "code",
      "metadata": {
        "id": "UBhaGtEiRkJa",
        "colab_type": "code",
        "colab": {
          "base_uri": "https://localhost:8080/",
          "height": 51
        },
        "outputId": "25031c84-b071-4d8a-b3e5-128406f3f308"
      },
      "source": [
        "# первый массив из примера\n",
        "a = np.array([7, 3, 5, 9, 2, 5, 4, 8, 9, 0])\n",
        "# второй массив из примера\n",
        "b = np.array([2, 8, 6, 7, 1, 3, 2, 9, 5, 1])\n",
        "\n",
        "res = np.where(((a%2 == 0) & (a > b)) | ((b%2 != 0) & (a < b)), True, False)\n",
        "res"
      ],
      "execution_count": 42,
      "outputs": [
        {
          "output_type": "execute_result",
          "data": {
            "text/plain": [
              "array([False, False, False, False,  True, False,  True,  True, False,\n",
              "        True])"
            ]
          },
          "metadata": {
            "tags": []
          },
          "execution_count": 42
        }
      ]
    },
    {
      "cell_type": "markdown",
      "metadata": {
        "id": "_6EkuChvRnVo",
        "colab_type": "text"
      },
      "source": [
        "### Задание 7\n",
        "\n",
        "Предположим, что мы наблюдаем за некоторым признаком нашего датасета, но в данных есть пропуски. Ваша задача реализовать алгоритм заполнения пропущенных значений последним известным с помощью средств python и pandas. (подсказка: вам может помочь функция np.isnan(), которая возвращает True, если число - nan. Для реализации с пандас стоит посмотреть на метод .fillna).\n",
        "\n",
        "Изначальный код с инициализацией такого датасета предоставлен."
      ]
    },
    {
      "cell_type": "code",
      "metadata": {
        "id": "L_OFZJ2tRuKf",
        "colab_type": "code",
        "outputId": "d5b8cbd9-ae62-4da0-ee9d-899cd18401a7",
        "colab": {
          "base_uri": "https://localhost:8080/",
          "height": 282
        }
      },
      "source": [
        "# импортируем библиотеку для создания шума\n",
        "import random\n",
        "# библиотека для визуализации\n",
        "import matplotlib.pyplot as plt\n",
        "\n",
        "# создадим наши данные и добавим к каждой точке синусоиды случайный шум\n",
        "a = np.linspace(0, 25, 100)\n",
        "a = np.sin(a) + [random.gauss(0, 0.2) for i in range(len(a))]\n",
        "\n",
        "# создадим 10 случайных пропусков\n",
        "for i in range(10):\n",
        "    a[random.randint(0, len(a) - 1)] = None\n",
        "# создадим датафрейм\n",
        "df = pd.DataFrame({'target':a})\n",
        "\n",
        "df.interpolate(inplace=True)\n",
        "#df.fillna(value=df.mean(),inplace=True)\n",
        "# отобразим, в конечном результате не должно быть пропусков\n",
        "plt.plot(df.target.values)"
      ],
      "execution_count": 86,
      "outputs": [
        {
          "output_type": "execute_result",
          "data": {
            "text/plain": [
              "[<matplotlib.lines.Line2D at 0x7f4086e14668>]"
            ]
          },
          "metadata": {
            "tags": []
          },
          "execution_count": 86
        },
        {
          "output_type": "display_data",
          "data": {
            "image/png": "[encoded data removed]",
            "text/plain": [
              "<Figure size 432x288 with 1 Axes>"
            ]
          },
          "metadata": {
            "tags": []
          }
        }
      ]
    },
    {
      "cell_type": "markdown",
      "metadata": {
        "id": "7XJiCOBnRws5",
        "colab_type": "text"
      },
      "source": [
        "### Задание 8\n",
        "\n",
        "Имеется небольшой игрушечный датафрейм, в котором необходимо провести несколько типов фильтраций (ответы ищите в решениях) и отобразить результат:\n",
        "\n",
        "* всех, кто старше 40\n",
        "* всех, кто имеет доход выше среднего по датасету\n",
        "* всех, кто имеет доход выше среднего по датасету, но надежность ниже среднего по датасету\n",
        "\n",
        "создать новые столбцы:\n",
        "\n",
        "* важность клиента = доход * надежность\n",
        "* возможная долгосрочность клиента = важность клиента * (средний возраст по датасету - возраст клиента)\n",
        "\n",
        "`подсказка: двойные условия записываются так: (условие 1) & (условие 2)`\n",
        "\n",
        "\n",
        "** примечание: столбцы не имеют отношения к реальным формулам или моделям, они необходимы только для наглядности"
      ]
    },
    {
      "cell_type": "code",
      "metadata": {
        "id": "OpPEGmiJR9Nw",
        "colab_type": "code",
        "colab": {}
      },
      "source": [
        "# создадим тестовый датасет\n",
        "df = pd.DataFrame({\n",
        "    'имя': ['Петя', 'Вася', 'Аня', 'Света'],\n",
        "    'возраст': [45, 26, 41 , 21],\n",
        "    'доход': [100000, 80000, 150000, 60000],\n",
        "    'надежность клиента (0..1)': [0.65, 0.74, 0.87, 0.68],\n",
        "    'пол': ['муж', 'муж', 'жен', 'жен']},\n",
        "    index=[0, 1, 2, 3])\n",
        "\n",
        "# ваш код тут\n",
        "\n",
        "# отобразим датасет\n",
        "df"
      ],
      "execution_count": 0,
      "outputs": []
    },
    {
      "cell_type": "markdown",
      "metadata": {
        "id": "bn7XCn7v3dcJ",
        "colab_type": "text"
      },
      "source": [
        "## Data analyst starter pack"
      ]
    },
    {
      "cell_type": "markdown",
      "metadata": {
        "id": "X916Wr_7XGSr",
        "colab_type": "text"
      },
      "source": [
        "Данные \n",
        "https://archive.ics.uci.edu/ml/datasets/bank+marketing\n",
        "\n",
        "Данные получены в результате маркетинговой кампании одного Португальского банка. Маркетинговая кампания базировалась на телефонных звонках. Достаточно часто требовалось более одного контакта с клиентом, чтобы понять будет он пользоваться продуктом (депозитом) (да 'yes' или нет ('no')). \n",
        "\n",
        "В архиве 4 набора данных:\n",
        "\n",
        "\n",
        "1.   bank-additional-full.csv со всеми примерами (41188) и 20ю колонками, отсортированные по дате.\n",
        "2.   bank-additional.csv с 10% примеров (4119), случайно выбранных из файла 1. 20 колонок.\n",
        "3.   bank-full.csv с 10% все примеры и 17 колонок, сортированы по дате.\n",
        "4.   bank.csv с 10% примеров и 17 колонками, случайно выбраны из файла 3.\n",
        "\n",
        "\n",
        "Задача классификации: предсказать y ('yes', 'no')."
      ]
    },
    {
      "cell_type": "markdown",
      "metadata": {
        "id": "1MknYMRIqnlg",
        "colab_type": "text"
      },
      "source": [
        "#### Описание колонок:\n",
        "1.   age (целочисленный признак) возраст\n",
        "2.   job : тип занятости (категориальный признак: 'admin.','blue-collar','entrepreneur','housemaid','management','retired','self-employed','services','student','technician','unemployed','unknown')\n",
        "3.   marital : семейное положение (категориальный признак: 'divorced','married','single','unknown'; прим.: 'divorced' значит разведён или вдова)\n",
        "4.   education - образование (категориальный признак: 'basic.4y','basic.6y','basic.9y','high.school','illiterate','professional.course','university.degree','unknown')\n",
        "5.   default: имеет кредит по умолчанию? (категориальный признак: 'no','yes','unknown')\n",
        "6.   housing: имеет желищный кредит? (категориальный признак: 'no','yes','unknown')\n",
        "7.   loan: имеет персональный кредит? (категориальный признак: 'no','yes','unknown')\n",
        "##### следующие признаки относятся к последнему контакту с человеком:\n",
        "8.   contact: по какому телефону контакт (категориальный признак: 'cellular','telephone') \n",
        "9.   month: в каком месяце звонили последний раз в этом году (категориальный признак: 'jan', 'feb', 'mar', ..., 'nov', 'dec')\n",
        "10.  day_of_week: день последнего контакта (категориальный признак: 'mon','tue','wed','thu','fri')\n",
        "11.  duration: продолжительность звонка в секундах (целочисленный признак). Не очень честный признак для предиктивной модели, но пока оставим его\n",
        "##### другие признаки:\n",
        "12.  campaign: число звонков, включая последний для данной кампании и клиента (целочисленный признак)\n",
        "13.  pdays: количество дней прошедшее со времени последнего контакта с клиентом (целочисленный признак. 999 значит, что с клиентом до этого не общались)\n",
        "14.  previous: кол-во контактов с клиентом до этого (целочисленный признак)\n",
        "15.  poutcome: чего добились в прошлый раз (категориальынй признак: 'failure','nonexistent','success')\n",
        "##### соцдем, экономика\n",
        "16.  emp.var.rate: уровень вариации занятости - квартальный показатель (целочисленный признак)\n",
        "17.  cons.price.idx: индекс потребительских цен - месячный показатель (целочисленный признак) \n",
        "18.  cons.conf.idx: индекс доверия потребителей - месячный показатель (целочисленный признак) \n",
        "19.  euribor3m: Euribor 3 месяца - дневной показатель (целочисленный признак)\n",
        "20.  nr.employed: количество работников - квартальный показатель (целочисленный признак)\n",
        "\n",
        "##### Выход:\n",
        "21.  y - купит или нет? (бинарный признак: 'yes','no')\n",
        "\n"
      ]
    },
    {
      "cell_type": "code",
      "metadata": {
        "id": "omu2qShvWzhx",
        "colab_type": "code",
        "colab": {}
      },
      "source": [
        "!wget https://archive.ics.uci.edu/ml/machine-learning-databases/00222/bank-additional.zip .\n",
        "!unzip bank-additional.zip"
      ],
      "execution_count": 0,
      "outputs": []
    },
    {
      "cell_type": "code",
      "metadata": {
        "id": "HCkDaRJC3f-3",
        "colab_type": "code",
        "colab": {}
      },
      "source": [
        "!ls bank-additional"
      ],
      "execution_count": 0,
      "outputs": []
    },
    {
      "cell_type": "code",
      "metadata": {
        "id": "viOhpXAao03X",
        "colab_type": "code",
        "colab": {}
      },
      "source": [
        "!pip3 install numpy\n",
        "!pip3 install pandas\n",
        "!pip3 install matplotlib"
      ],
      "execution_count": 0,
      "outputs": []
    },
    {
      "cell_type": "code",
      "metadata": {
        "id": "16Ab18L8XE0Q",
        "colab_type": "code",
        "colab": {}
      },
      "source": [
        "import pandas as pd\n",
        "data = pd.read_csv('bank-additional/bank-additional-full.csv', sep=';')\n",
        "data.head(5)"
      ],
      "execution_count": 0,
      "outputs": []
    },
    {
      "cell_type": "markdown",
      "metadata": {
        "id": "W4LweQ2nwiwK",
        "colab_type": "text"
      },
      "source": [
        "### Задание 9\n",
        "Посмотрите на данные.\n",
        "\n",
        "\n",
        "1.   Посмотрите различные величины типа средних, максимумов, минимумов\n",
        "2.   Постройте 5 разных графиков - гистограмм. Графики должны быть правильно оформлены: должна быть легенда, название...\n",
        "3.   Постройте sns.pairplot с раскраской по столбцу y\n",
        "4.   Постройте 2 stacked гистограммы в паре с целевым столбцом y\n",
        "5.   Постройте график зависимости средней велчины звонка от возраста\n",
        "6.   Возможно, сформулируйте выводы/инсайты на основе графиков. Какойв наиболее вероятный портрет покупателя?\n",
        "\n"
      ]
    },
    {
      "cell_type": "code",
      "metadata": {
        "id": "pGS93mm1W6Fg",
        "colab_type": "code",
        "colab": {}
      },
      "source": [
        ""
      ],
      "execution_count": 0,
      "outputs": []
    }
  ]
}