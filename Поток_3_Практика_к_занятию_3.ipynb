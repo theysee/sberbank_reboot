{
  "nbformat": 4,
  "nbformat_minor": 0,
  "metadata": {
    "colab": {
      "name": "Поток 3. Практика к занятию 3.ipynb",
      "provenance": [],
      "collapsed_sections": [],
      "include_colab_link": true
    },
    "kernelspec": {
      "name": "python3",
      "display_name": "Python 3"
    }
  },
  "cells": [
    {
      "cell_type": "markdown",
      "metadata": {
        "id": "view-in-github",
        "colab_type": "text"
      },
      "source": [
        "<a href=\"https://colab.research.google.com/github/theysee/sberbank_reboot/blob/master/%D0%9F%D0%BE%D1%82%D0%BE%D0%BA_3_%D0%9F%D1%80%D0%B0%D0%BA%D1%82%D0%B8%D0%BA%D0%B0_%D0%BA_%D0%B7%D0%B0%D0%BD%D1%8F%D1%82%D0%B8%D1%8E_3.ipynb\" target=\"_parent\"><img src=\"https://colab.research.google.com/assets/colab-badge.svg\" alt=\"Open In Colab\"/></a>"
      ]
    },
    {
      "cell_type": "markdown",
      "metadata": {
        "id": "C0beUqv8zsJU",
        "colab_type": "text"
      },
      "source": [
        "# Практика"
      ]
    },
    {
      "cell_type": "markdown",
      "metadata": {
        "id": "Dv2HhX9y3oXC",
        "colab_type": "text"
      },
      "source": [
        "*   [Презентация](https://docs.google.com/presentation/d/1LHlFfVfL9AyguTgLeSbWdf7lFCcFsp18a--TtiyC7CU/edit?usp=sharing)\n",
        "*   [master notebook](https://colab.research.google.com/drive/1_oE4cMPApBluMQqzFf-DzLbMb0AO0B-U)\n",
        "\n"
      ]
    },
    {
      "cell_type": "markdown",
      "metadata": {
        "id": "RfX_wccFz4kh",
        "colab_type": "text"
      },
      "source": [
        "## Заканчиваем про ООП"
      ]
    },
    {
      "cell_type": "markdown",
      "metadata": {
        "id": "gNeN8MNB0Zwd",
        "colab_type": "text"
      },
      "source": [
        "### Задание 1"
      ]
    },
    {
      "cell_type": "markdown",
      "metadata": {
        "id": "HvhURzGd0sOt",
        "colab_type": "text"
      },
      "source": [
        "Снова вспомним про наших питомцев. На этот раз, когда вы уже знаете что такое наследование, определите класс Pet (питомец). В нём определить те методы и свойства, которые будут общими как для кошек, так и для собак. Например, свойство is_hungry будет общим, но не только оно.\n",
        "Затем, отнаследоваться от этого базового класса Pet, и определить классы Dog и Cat, не забыв поменять то, что у кошек и собак неодинаково. Синтаксис следующий:\n",
        "\n",
        "class Dog(Pet):\n",
        "    # код здесь\n",
        "\n",
        "class Cat(Pet):\n",
        "    # код здесь\n",
        "\n",
        "Далее обратите внимание на то кол-во кода, которое пришлось бы писать без наследования, и с ним.\n"
      ]
    },
    {
      "cell_type": "code",
      "metadata": {
        "id": "Tn13PJwyQvl9",
        "colab_type": "code",
        "outputId": "9f815916-b759-48e6-9925-e55b01acee75",
        "colab": {
          "base_uri": "https://localhost:8080/",
          "height": 221
        }
      },
      "source": [
        "class Pet:\n",
        "  def __init__(self, name, age, color, hungary=True, sleep=False):\n",
        "    self.name = name\n",
        "    self.age = age\n",
        "    self.color = color\n",
        "    self.hungary = hungary\n",
        "    self.sleep = sleep\n",
        "  \n",
        "  def pet_feed(self):\n",
        "    self.hungary = False\n",
        "    print(f'Состояние голода у {self.name} {self.hungary}')\n",
        "  \n",
        "  def pet_go_sleep(self):\n",
        "    self.sleep = True\n",
        "    print(f'Состояние сна у {self.name} {self.sleep}')\n",
        "\n",
        "class Dog(Pet):\n",
        "  def __init__(self, name, age, color, hungary=True, sleep=False):\n",
        "    self.name = name\n",
        "    self.age = age\n",
        "    self.color = color\n",
        "    self.hungary = hungary\n",
        "    self.sleep = sleep\n",
        "\n",
        "  def pet_alert(self):\n",
        "    print(f'Собака {self.name} говорит - woooo')\n",
        "\n",
        "class Cat(Pet):\n",
        "  def __init__(self, name, age, color, hungary=True, sleep=False):\n",
        "    self.name = name\n",
        "    self.age = age\n",
        "    self.color = color\n",
        "    self.hungary = hungary\n",
        "    self.sleep = sleep\n",
        "\n",
        "  def pet_alert(self):\n",
        "    print(f'Кошка {self.name} говорит - miay')\n",
        "\n",
        "dog1 = Dog('Mark', 13, 'Grey')\n",
        "dog2 = Dog('Charly', 10, 'White')\n",
        "\n",
        "cat1 = Cat('Betty', 5, 'Black')\n",
        "cat2 = Cat('Rick', 4, 'Red')\n",
        "\n",
        "dog1.pet_feed()\n",
        "dog1.pet_go_sleep()\n",
        "dog1.pet_alert()\n",
        "\n",
        "dog2.pet_feed()\n",
        "dog2.pet_go_sleep()\n",
        "dog2.pet_alert()\n",
        "\n",
        "cat1.pet_feed()\n",
        "cat1.pet_go_sleep()\n",
        "cat1.pet_alert()\n",
        "\n",
        "cat2.pet_feed()\n",
        "cat2.pet_go_sleep()\n",
        "cat2.pet_alert()"
      ],
      "execution_count": 0,
      "outputs": [
        {
          "output_type": "stream",
          "text": [
            "Состояние голода у Mark False\n",
            "Состояние сна у Mark True\n",
            "Собака Mark говорит - woooo\n",
            "Состояние голода у Charly False\n",
            "Состояние сна у Charly True\n",
            "Собака Charly говорит - woooo\n",
            "Состояние голода у Betty False\n",
            "Состояние сна у Betty True\n",
            "Кошка Betty говорит - miay\n",
            "Состояние голода у Rick False\n",
            "Состояние сна у Rick True\n",
            "Кошка Rick говорит - miay\n"
          ],
          "name": "stdout"
        }
      ]
    },
    {
      "cell_type": "markdown",
      "metadata": {
        "id": "Ldkzezr8QrMf",
        "colab_type": "text"
      },
      "source": [
        "### Задание 2\n",
        "\n",
        "Создайте массив из 100 элементов (от 1 до 100), переформатируйте в формат (10 * 10), сделайте слайсинг с шагом 2 по каждой оси."
      ]
    },
    {
      "cell_type": "code",
      "metadata": {
        "id": "XcW450JFQpCu",
        "colab_type": "code",
        "outputId": "23291fc8-be09-4852-cb10-594363740bd9",
        "colab": {
          "base_uri": "https://localhost:8080/",
          "height": 102
        }
      },
      "source": [
        "import numpy as np\n",
        "a = np.arange(1, 101).reshape(10,10)\n",
        "a[::2,::2]"
      ],
      "execution_count": 88,
      "outputs": [
        {
          "output_type": "execute_result",
          "data": {
            "text/plain": [
              "array([[ 1,  3,  5,  7,  9],\n",
              "       [21, 23, 25, 27, 29],\n",
              "       [41, 43, 45, 47, 49],\n",
              "       [61, 63, 65, 67, 69],\n",
              "       [81, 83, 85, 87, 89]])"
            ]
          },
          "metadata": {
            "tags": []
          },
          "execution_count": 88
        }
      ]
    },
    {
      "cell_type": "markdown",
      "metadata": {
        "id": "_WqfENtVQ07p",
        "colab_type": "text"
      },
      "source": [
        "### Задание 3\n",
        "\n",
        "Задан массив array, найти индекс первого элемента отсортированного s, где значения больше 5"
      ]
    },
    {
      "cell_type": "code",
      "metadata": {
        "id": "PF2ZeQoQQ60S",
        "colab_type": "code",
        "colab": {
          "base_uri": "https://localhost:8080/",
          "height": 119
        },
        "outputId": "4b46007a-143f-4c48-a8b0-d2c20015072e"
      },
      "source": [
        "import pandas as pd\n",
        "r = np.random.RandomState(1)\n",
        "s = pd.Series(r.uniform(0, 10, 100))\n",
        "s.head(5)"
      ],
      "execution_count": 156,
      "outputs": [
        {
          "output_type": "execute_result",
          "data": {
            "text/plain": [
              "0    4.170220\n",
              "1    7.203245\n",
              "2    0.001144\n",
              "3    3.023326\n",
              "4    1.467559\n",
              "dtype: float64"
            ]
          },
          "metadata": {
            "tags": []
          },
          "execution_count": 156
        }
      ]
    },
    {
      "cell_type": "code",
      "metadata": {
        "id": "EBZr5E1ikzxh",
        "colab_type": "code",
        "colab": {
          "base_uri": "https://localhost:8080/",
          "height": 119
        },
        "outputId": "2f06f078-a7eb-412c-cc38-45f3cee1bdcc"
      },
      "source": [
        "idx = s[s > 5].sort_values()\n",
        "idx.head(5)"
      ],
      "execution_count": 157,
      "outputs": [
        {
          "output_type": "execute_result",
          "data": {
            "text/plain": [
              "67    5.148891\n",
              "33    5.331653\n",
              "65    5.358964\n",
              "9     5.388167\n",
              "17    5.586898\n",
              "dtype: float64"
            ]
          },
          "metadata": {
            "tags": []
          },
          "execution_count": 157
        }
      ]
    },
    {
      "cell_type": "code",
      "metadata": {
        "id": "GPMSvBB6vui4",
        "colab_type": "code",
        "colab": {
          "base_uri": "https://localhost:8080/",
          "height": 34
        },
        "outputId": "e642f687-cf6e-48b6-f96b-ffdd6209f430"
      },
      "source": [
        "idx.index[0]"
      ],
      "execution_count": 175,
      "outputs": [
        {
          "output_type": "execute_result",
          "data": {
            "text/plain": [
              "67"
            ]
          },
          "metadata": {
            "tags": []
          },
          "execution_count": 175
        }
      ]
    },
    {
      "cell_type": "markdown",
      "metadata": {
        "id": "R8EkkuA0Q8zo",
        "colab_type": "text"
      },
      "source": [
        "### Задание 4\n",
        "\n",
        "Вывести имена всех выживших детей и их количество (у детей возраст < 18)"
      ]
    },
    {
      "cell_type": "code",
      "metadata": {
        "id": "G5ISYp3OQ775",
        "colab_type": "code",
        "colab": {
          "base_uri": "https://localhost:8080/",
          "height": 306
        },
        "outputId": "4452d795-ffaf-4a10-88d7-81e0bd21119d"
      },
      "source": [
        "!wget https://web.stanford.edu/class/archive/cs/cs109/cs109.1166/stuff/titanic.csv ."
      ],
      "execution_count": 176,
      "outputs": [
        {
          "output_type": "stream",
          "text": [
            "--2019-12-16 12:58:14--  https://web.stanford.edu/class/archive/cs/cs109/cs109.1166/stuff/titanic.csv\n",
            "Resolving web.stanford.edu (web.stanford.edu)... 171.67.215.200\n",
            "Connecting to web.stanford.edu (web.stanford.edu)|171.67.215.200|:443... connected.\n",
            "HTTP request sent, awaiting response... 200 OK\n",
            "Length: 44225 (43K) [text/csv]\n",
            "Saving to: ‘titanic.csv’\n",
            "\n",
            "titanic.csv         100%[===================>]  43.19K  --.-KB/s    in 0.1s    \n",
            "\n",
            "2019-12-16 12:58:15 (301 KB/s) - ‘titanic.csv’ saved [44225/44225]\n",
            "\n",
            "--2019-12-16 12:58:15--  http://./\n",
            "Resolving . (.)... failed: No address associated with hostname.\n",
            "wget: unable to resolve host address ‘.’\n",
            "FINISHED --2019-12-16 12:58:15--\n",
            "Total wall clock time: 0.8s\n",
            "Downloaded: 1 files, 43K in 0.1s (301 KB/s)\n"
          ],
          "name": "stdout"
        }
      ]
    },
    {
      "cell_type": "code",
      "metadata": {
        "id": "FeKVIIVORI9D",
        "colab_type": "code",
        "colab": {
          "base_uri": "https://localhost:8080/",
          "height": 514
        },
        "outputId": "3ed11a7d-6496-4f49-9937-54ab9370e190"
      },
      "source": [
        "data = pd.read_csv('titanic.csv', sep=',', header='infer')\n",
        "data.head(15)"
      ],
      "execution_count": 198,
      "outputs": [
        {
          "output_type": "execute_result",
          "data": {
            "text/html": [
              "<div>\n",
              "<style scoped>\n",
              "    .dataframe tbody tr th:only-of-type {\n",
              "        vertical-align: middle;\n",
              "    }\n",
              "\n",
              "    .dataframe tbody tr th {\n",
              "        vertical-align: top;\n",
              "    }\n",
              "\n",
              "    .dataframe thead th {\n",
              "        text-align: right;\n",
              "    }\n",
              "</style>\n",
              "<table border=\"1\" class=\"dataframe\">\n",
              "  <thead>\n",
              "    <tr style=\"text-align: right;\">\n",
              "      <th></th>\n",
              "      <th>Survived</th>\n",
              "      <th>Pclass</th>\n",
              "      <th>Name</th>\n",
              "      <th>Sex</th>\n",
              "      <th>Age</th>\n",
              "      <th>Siblings/Spouses Aboard</th>\n",
              "      <th>Parents/Children Aboard</th>\n",
              "      <th>Fare</th>\n",
              "    </tr>\n",
              "  </thead>\n",
              "  <tbody>\n",
              "    <tr>\n",
              "      <th>0</th>\n",
              "      <td>0</td>\n",
              "      <td>3</td>\n",
              "      <td>Mr. Owen Harris Braund</td>\n",
              "      <td>male</td>\n",
              "      <td>22.0</td>\n",
              "      <td>1</td>\n",
              "      <td>0</td>\n",
              "      <td>7.2500</td>\n",
              "    </tr>\n",
              "    <tr>\n",
              "      <th>1</th>\n",
              "      <td>1</td>\n",
              "      <td>1</td>\n",
              "      <td>Mrs. John Bradley (Florence Briggs Thayer) Cum...</td>\n",
              "      <td>female</td>\n",
              "      <td>38.0</td>\n",
              "      <td>1</td>\n",
              "      <td>0</td>\n",
              "      <td>71.2833</td>\n",
              "    </tr>\n",
              "    <tr>\n",
              "      <th>2</th>\n",
              "      <td>1</td>\n",
              "      <td>3</td>\n",
              "      <td>Miss. Laina Heikkinen</td>\n",
              "      <td>female</td>\n",
              "      <td>26.0</td>\n",
              "      <td>0</td>\n",
              "      <td>0</td>\n",
              "      <td>7.9250</td>\n",
              "    </tr>\n",
              "    <tr>\n",
              "      <th>3</th>\n",
              "      <td>1</td>\n",
              "      <td>1</td>\n",
              "      <td>Mrs. Jacques Heath (Lily May Peel) Futrelle</td>\n",
              "      <td>female</td>\n",
              "      <td>35.0</td>\n",
              "      <td>1</td>\n",
              "      <td>0</td>\n",
              "      <td>53.1000</td>\n",
              "    </tr>\n",
              "    <tr>\n",
              "      <th>4</th>\n",
              "      <td>0</td>\n",
              "      <td>3</td>\n",
              "      <td>Mr. William Henry Allen</td>\n",
              "      <td>male</td>\n",
              "      <td>35.0</td>\n",
              "      <td>0</td>\n",
              "      <td>0</td>\n",
              "      <td>8.0500</td>\n",
              "    </tr>\n",
              "    <tr>\n",
              "      <th>5</th>\n",
              "      <td>0</td>\n",
              "      <td>3</td>\n",
              "      <td>Mr. James Moran</td>\n",
              "      <td>male</td>\n",
              "      <td>27.0</td>\n",
              "      <td>0</td>\n",
              "      <td>0</td>\n",
              "      <td>8.4583</td>\n",
              "    </tr>\n",
              "    <tr>\n",
              "      <th>6</th>\n",
              "      <td>0</td>\n",
              "      <td>1</td>\n",
              "      <td>Mr. Timothy J McCarthy</td>\n",
              "      <td>male</td>\n",
              "      <td>54.0</td>\n",
              "      <td>0</td>\n",
              "      <td>0</td>\n",
              "      <td>51.8625</td>\n",
              "    </tr>\n",
              "    <tr>\n",
              "      <th>7</th>\n",
              "      <td>0</td>\n",
              "      <td>3</td>\n",
              "      <td>Master. Gosta Leonard Palsson</td>\n",
              "      <td>male</td>\n",
              "      <td>2.0</td>\n",
              "      <td>3</td>\n",
              "      <td>1</td>\n",
              "      <td>21.0750</td>\n",
              "    </tr>\n",
              "    <tr>\n",
              "      <th>8</th>\n",
              "      <td>1</td>\n",
              "      <td>3</td>\n",
              "      <td>Mrs. Oscar W (Elisabeth Vilhelmina Berg) Johnson</td>\n",
              "      <td>female</td>\n",
              "      <td>27.0</td>\n",
              "      <td>0</td>\n",
              "      <td>2</td>\n",
              "      <td>11.1333</td>\n",
              "    </tr>\n",
              "    <tr>\n",
              "      <th>9</th>\n",
              "      <td>1</td>\n",
              "      <td>2</td>\n",
              "      <td>Mrs. Nicholas (Adele Achem) Nasser</td>\n",
              "      <td>female</td>\n",
              "      <td>14.0</td>\n",
              "      <td>1</td>\n",
              "      <td>0</td>\n",
              "      <td>30.0708</td>\n",
              "    </tr>\n",
              "    <tr>\n",
              "      <th>10</th>\n",
              "      <td>1</td>\n",
              "      <td>3</td>\n",
              "      <td>Miss. Marguerite Rut Sandstrom</td>\n",
              "      <td>female</td>\n",
              "      <td>4.0</td>\n",
              "      <td>1</td>\n",
              "      <td>1</td>\n",
              "      <td>16.7000</td>\n",
              "    </tr>\n",
              "    <tr>\n",
              "      <th>11</th>\n",
              "      <td>1</td>\n",
              "      <td>1</td>\n",
              "      <td>Miss. Elizabeth Bonnell</td>\n",
              "      <td>female</td>\n",
              "      <td>58.0</td>\n",
              "      <td>0</td>\n",
              "      <td>0</td>\n",
              "      <td>26.5500</td>\n",
              "    </tr>\n",
              "    <tr>\n",
              "      <th>12</th>\n",
              "      <td>0</td>\n",
              "      <td>3</td>\n",
              "      <td>Mr. William Henry Saundercock</td>\n",
              "      <td>male</td>\n",
              "      <td>20.0</td>\n",
              "      <td>0</td>\n",
              "      <td>0</td>\n",
              "      <td>8.0500</td>\n",
              "    </tr>\n",
              "    <tr>\n",
              "      <th>13</th>\n",
              "      <td>0</td>\n",
              "      <td>3</td>\n",
              "      <td>Mr. Anders Johan Andersson</td>\n",
              "      <td>male</td>\n",
              "      <td>39.0</td>\n",
              "      <td>1</td>\n",
              "      <td>5</td>\n",
              "      <td>31.2750</td>\n",
              "    </tr>\n",
              "    <tr>\n",
              "      <th>14</th>\n",
              "      <td>0</td>\n",
              "      <td>3</td>\n",
              "      <td>Miss. Hulda Amanda Adolfina Vestrom</td>\n",
              "      <td>female</td>\n",
              "      <td>14.0</td>\n",
              "      <td>0</td>\n",
              "      <td>0</td>\n",
              "      <td>7.8542</td>\n",
              "    </tr>\n",
              "  </tbody>\n",
              "</table>\n",
              "</div>"
            ],
            "text/plain": [
              "    Survived  Pclass  ... Parents/Children Aboard     Fare\n",
              "0          0       3  ...                       0   7.2500\n",
              "1          1       1  ...                       0  71.2833\n",
              "2          1       3  ...                       0   7.9250\n",
              "3          1       1  ...                       0  53.1000\n",
              "4          0       3  ...                       0   8.0500\n",
              "5          0       3  ...                       0   8.4583\n",
              "6          0       1  ...                       0  51.8625\n",
              "7          0       3  ...                       1  21.0750\n",
              "8          1       3  ...                       2  11.1333\n",
              "9          1       2  ...                       0  30.0708\n",
              "10         1       3  ...                       1  16.7000\n",
              "11         1       1  ...                       0  26.5500\n",
              "12         0       3  ...                       0   8.0500\n",
              "13         0       3  ...                       5  31.2750\n",
              "14         0       3  ...                       0   7.8542\n",
              "\n",
              "[15 rows x 8 columns]"
            ]
          },
          "metadata": {
            "tags": []
          },
          "execution_count": 198
        }
      ]
    },
    {
      "cell_type": "code",
      "metadata": {
        "id": "zK5-HgABRKit",
        "colab_type": "code",
        "colab": {
          "base_uri": "https://localhost:8080/",
          "height": 221
        },
        "outputId": "97fcf57b-8ee3-424b-a7e0-56be84c14026"
      },
      "source": [
        "# выведите имена всех выживших детей\n",
        "child_survived = data['Name'].loc[(data['Survived'] == 1) & (data['Age'] < 18)]\n",
        "child_survived"
      ],
      "execution_count": 207,
      "outputs": [
        {
          "output_type": "execute_result",
          "data": {
            "text/plain": [
              "9           Mrs. Nicholas (Adele Achem) Nasser\n",
              "10              Miss. Marguerite Rut Sandstrom\n",
              "22                          Miss. Anna McGowan\n",
              "39                  Miss. Jamila Nicola-Yarred\n",
              "42     Miss. Simonne Marie Anne Andree Laroche\n",
              "                        ...                   \n",
              "826     Mrs. Antoni (Selini Alexander) Yasbeck\n",
              "827             Master. George Sibley Richards\n",
              "849                   Miss. Mary Conover Lines\n",
              "865             Master. Harold Theodor Johnson\n",
              "871                   Miss. Adele Kiamie Najib\n",
              "Name: Name, Length: 65, dtype: object"
            ]
          },
          "metadata": {
            "tags": []
          },
          "execution_count": 207
        }
      ]
    },
    {
      "cell_type": "code",
      "metadata": {
        "id": "NicEleJyRMqV",
        "colab_type": "code",
        "colab": {
          "base_uri": "https://localhost:8080/",
          "height": 34
        },
        "outputId": "8fc83502-8272-4ad1-91e4-6d39cd986a05"
      },
      "source": [
        "# выведите количество выживших детей\n",
        "child_survived.count()"
      ],
      "execution_count": 208,
      "outputs": [
        {
          "output_type": "execute_result",
          "data": {
            "text/plain": [
              "65"
            ]
          },
          "metadata": {
            "tags": []
          },
          "execution_count": 208
        }
      ]
    },
    {
      "cell_type": "markdown",
      "metadata": {
        "id": "dZ6vfNAjRRpA",
        "colab_type": "text"
      },
      "source": [
        "### Задание 5\n",
        "\n",
        "Написать функцию, которая по заданной длине последовательности находит среднее арифметическое ее членов.\n",
        "\n",
        "Реализуйте задачу с и без помощи numpy, сравните время выполнения"
      ]
    },
    {
      "cell_type": "code",
      "metadata": {
        "id": "GY10mB5WRZHj",
        "colab_type": "code",
        "colab": {}
      },
      "source": [
        "# решение с использованием numpy\n",
        "# для оценки времени исполнения блока\n",
        "%%time\n",
        "# зададим длину нашей последовательности\n",
        "dlina_posl = 100_000_000\n",
        "\n",
        "# dfi код тут"
      ],
      "execution_count": 0,
      "outputs": []
    },
    {
      "cell_type": "code",
      "metadata": {
        "id": "a443CbeGRbjO",
        "colab_type": "code",
        "colab": {}
      },
      "source": [
        "# решение без использования numpy\n",
        "# для оценки времени исоплнения блока\n",
        "%%time\n",
        "\n",
        "# ваш код тут"
      ],
      "execution_count": 0,
      "outputs": []
    },
    {
      "cell_type": "markdown",
      "metadata": {
        "id": "maTGV5AEReix",
        "colab_type": "text"
      },
      "source": [
        "### Задание 6\n",
        "\n",
        "Пусть мы имеем 2 массива (заданы ниже в коде). Требуется создать массив, который получает результат поэлементно True, если четные элементы 1го массива больше 2го и True, если нечетные элементы 2го больше элементов первого. В противном случае возвращать False.\n",
        "\n",
        "Реализовать задачу с и помощью numpy\n",
        "\n",
        "Пример массивов и результата:\n",
        "\n",
        "a = [7, 3, 5, 9, 2, 5, 4, 8, 9, 0]\n",
        "\n",
        "b = [2, 8, 6, 7, 1, 3, 2, 9, 5, 1]\n",
        "\n",
        "res = [False, False, True, True, False, True, False, False, False, False]"
      ]
    },
    {
      "cell_type": "code",
      "metadata": {
        "id": "UBhaGtEiRkJa",
        "colab_type": "code",
        "colab": {}
      },
      "source": [
        "# первый массив из примера\n",
        "a = np.array([7, 3, 5, 9, 2, 5, 4, 8, 9, 0])\n",
        "# второй массив из примера\n",
        "b = np.array([2, 8, 6, 7, 1, 3, 2, 9, 5, 1])\n",
        "\n",
        "# ваш код тут"
      ],
      "execution_count": 0,
      "outputs": []
    },
    {
      "cell_type": "markdown",
      "metadata": {
        "id": "_6EkuChvRnVo",
        "colab_type": "text"
      },
      "source": [
        "### Задание 7\n",
        "\n",
        "Предположим, что мы наблюдаем за некоторым признаком нашего датасета, но в данных есть пропуски. Ваша задача реализовать алгоритм заполнения пропущенных значений последним известным с помощью средств python и pandas. (подсказка: вам может помочь функция np.isnan(), которая возвращает True, если число - nan. Для реализации с пандас стоит посмотреть на метод .fillna).\n",
        "\n",
        "Изначальный код с инициализацией такого датасета предоставлен."
      ]
    },
    {
      "cell_type": "code",
      "metadata": {
        "id": "L_OFZJ2tRuKf",
        "colab_type": "code",
        "colab": {}
      },
      "source": [
        "# импортируем библиотеку для создания шума\n",
        "import random\n",
        "# библиотека для визуализации\n",
        "import matplotlib.pyplot as plt\n",
        "\n",
        "# создадим наши данные и добавим к каждой точке синусоиды случайный шум\n",
        "a = np.linspace(0, 25, 100)\n",
        "a = np.sin(a) + [random.gauss(0, 0.2) for i in range(len(a))]\n",
        "\n",
        "# создадим 10 случайных пропусков\n",
        "for i in range(10):\n",
        "    a[random.randint(0, len(a) - 1)] = None\n",
        "# создадим датафрейм\n",
        "df = pd.DataFrame({'target':a})\n",
        "\n",
        "# ваш код тут\n",
        "\n",
        "# отобразим, в конечном результате не должно быть пропусков\n",
        "plt.plot(df.target.values)"
      ],
      "execution_count": 0,
      "outputs": []
    },
    {
      "cell_type": "markdown",
      "metadata": {
        "id": "7XJiCOBnRws5",
        "colab_type": "text"
      },
      "source": [
        "### Задание 8\n",
        "\n",
        "Имеется небольшой игрушечный датафрейм, в котором необходимо провести несколько типов фильтраций (ответы ищите в решениях) и отобразить результат:\n",
        "\n",
        "* всех, кто старше 40\n",
        "* всех, кто имеет доход выше среднего по датасету\n",
        "* всех, кто имеет доход выше среднего по датасету, но надежность ниже среднего по датасету\n",
        "\n",
        "создать новые столбцы:\n",
        "\n",
        "* важность клиента = доход * надежность\n",
        "* возможная долгосрочность клиента = важность клиента * (средний возраст по датасету - возраст клиента)\n",
        "\n",
        "`подсказка: двойные условия записываются так: (условие 1) & (условие 2)`\n",
        "\n",
        "\n",
        "** примечание: столбцы не имеют отношения к реальным формулам или моделям, они необходимы только для наглядности"
      ]
    },
    {
      "cell_type": "code",
      "metadata": {
        "id": "OpPEGmiJR9Nw",
        "colab_type": "code",
        "colab": {}
      },
      "source": [
        "# создадим тестовый датасет\n",
        "df = pd.DataFrame({\n",
        "    'имя': ['Петя', 'Вася', 'Аня', 'Света'],\n",
        "    'возраст': [45, 26, 41 , 21],\n",
        "    'доход': [100000, 80000, 150000, 60000],\n",
        "    'надежность клиента (0..1)': [0.65, 0.74, 0.87, 0.68],\n",
        "    'пол': ['муж', 'муж', 'жен', 'жен']},\n",
        "    index=[0, 1, 2, 3])\n",
        "\n",
        "# ваш код тут\n",
        "\n",
        "# отобразим датасет\n",
        "df"
      ],
      "execution_count": 0,
      "outputs": []
    },
    {
      "cell_type": "markdown",
      "metadata": {
        "id": "bn7XCn7v3dcJ",
        "colab_type": "text"
      },
      "source": [
        "## Data analyst starter pack"
      ]
    },
    {
      "cell_type": "markdown",
      "metadata": {
        "id": "X916Wr_7XGSr",
        "colab_type": "text"
      },
      "source": [
        "Данные \n",
        "https://archive.ics.uci.edu/ml/datasets/bank+marketing\n",
        "\n",
        "Данные получены в результате маркетинговой кампании одного Португальского банка. Маркетинговая кампания базировалась на телефонных звонках. Достаточно часто требовалось более одного контакта с клиентом, чтобы понять будет он пользоваться продуктом (депозитом) (да 'yes' или нет ('no')). \n",
        "\n",
        "В архиве 4 набора данных:\n",
        "\n",
        "\n",
        "1.   bank-additional-full.csv со всеми примерами (41188) и 20ю колонками, отсортированные по дате.\n",
        "2.   bank-additional.csv с 10% примеров (4119), случайно выбранных из файла 1. 20 колонок.\n",
        "3.   bank-full.csv с 10% все примеры и 17 колонок, сортированы по дате.\n",
        "4.   bank.csv с 10% примеров и 17 колонками, случайно выбраны из файла 3.\n",
        "\n",
        "\n",
        "Задача классификации: предсказать y ('yes', 'no')."
      ]
    },
    {
      "cell_type": "markdown",
      "metadata": {
        "id": "1MknYMRIqnlg",
        "colab_type": "text"
      },
      "source": [
        "#### Описание колонок:\n",
        "1.   age (целочисленный признак) возраст\n",
        "2.   job : тип занятости (категориальный признак: 'admin.','blue-collar','entrepreneur','housemaid','management','retired','self-employed','services','student','technician','unemployed','unknown')\n",
        "3.   marital : семейное положение (категориальный признак: 'divorced','married','single','unknown'; прим.: 'divorced' значит разведён или вдова)\n",
        "4.   education - образование (категориальный признак: 'basic.4y','basic.6y','basic.9y','high.school','illiterate','professional.course','university.degree','unknown')\n",
        "5.   default: имеет кредит по умолчанию? (категориальный признак: 'no','yes','unknown')\n",
        "6.   housing: имеет желищный кредит? (категориальный признак: 'no','yes','unknown')\n",
        "7.   loan: имеет персональный кредит? (категориальный признак: 'no','yes','unknown')\n",
        "##### следующие признаки относятся к последнему контакту с человеком:\n",
        "8.   contact: по какому телефону контакт (категориальный признак: 'cellular','telephone') \n",
        "9.   month: в каком месяце звонили последний раз в этом году (категориальный признак: 'jan', 'feb', 'mar', ..., 'nov', 'dec')\n",
        "10.  day_of_week: день последнего контакта (категориальный признак: 'mon','tue','wed','thu','fri')\n",
        "11.  duration: продолжительность звонка в секундах (целочисленный признак). Не очень честный признак для предиктивной модели, но пока оставим его\n",
        "##### другие признаки:\n",
        "12.  campaign: число звонков, включая последний для данной кампании и клиента (целочисленный признак)\n",
        "13.  pdays: количество дней прошедшее со времени последнего контакта с клиентом (целочисленный признак. 999 значит, что с клиентом до этого не общались)\n",
        "14.  previous: кол-во контактов с клиентом до этого (целочисленный признак)\n",
        "15.  poutcome: чего добились в прошлый раз (категориальынй признак: 'failure','nonexistent','success')\n",
        "##### соцдем, экономика\n",
        "16.  emp.var.rate: уровень вариации занятости - квартальный показатель (целочисленный признак)\n",
        "17.  cons.price.idx: индекс потребительских цен - месячный показатель (целочисленный признак) \n",
        "18.  cons.conf.idx: индекс доверия потребителей - месячный показатель (целочисленный признак) \n",
        "19.  euribor3m: Euribor 3 месяца - дневной показатель (целочисленный признак)\n",
        "20.  nr.employed: количество работников - квартальный показатель (целочисленный признак)\n",
        "\n",
        "##### Выход:\n",
        "21.  y - купит или нет? (бинарный признак: 'yes','no')\n",
        "\n"
      ]
    },
    {
      "cell_type": "code",
      "metadata": {
        "id": "omu2qShvWzhx",
        "colab_type": "code",
        "outputId": "7d7c7077-fdcc-4316-8a16-6669a2b274d9",
        "colab": {
          "base_uri": "https://localhost:8080/",
          "height": 521
        }
      },
      "source": [
        "!wget https://archive.ics.uci.edu/ml/machine-learning-databases/00222/bank-additional.zip .\n",
        "!unzip bank-additional.zip"
      ],
      "execution_count": 0,
      "outputs": [
        {
          "output_type": "stream",
          "text": [
            "--2019-10-07 15:03:28--  https://archive.ics.uci.edu/ml/machine-learning-databases/00222/bank-additional.zip\n",
            "Resolving archive.ics.uci.edu (archive.ics.uci.edu)... 128.195.10.252\n",
            "Connecting to archive.ics.uci.edu (archive.ics.uci.edu)|128.195.10.252|:443... connected.\n",
            "HTTP request sent, awaiting response... 200 OK\n",
            "Length: 444572 (434K) [application/x-httpd-php]\n",
            "Saving to: ‘bank-additional.zip’\n",
            "\n",
            "\rbank-additional.zip   0%[                    ]       0  --.-KB/s               \rbank-additional.zip  44%[=======>            ] 194.00K   778KB/s               \rbank-additional.zip 100%[===================>] 434.15K  1.36MB/s    in 0.3s    \n",
            "\n",
            "2019-10-07 15:03:28 (1.36 MB/s) - ‘bank-additional.zip’ saved [444572/444572]\n",
            "\n",
            "--2019-10-07 15:03:28--  http://./\n",
            "Resolving . (.)... failed: No address associated with hostname.\n",
            "wget: unable to resolve host address ‘.’\n",
            "FINISHED --2019-10-07 15:03:28--\n",
            "Total wall clock time: 0.6s\n",
            "Downloaded: 1 files, 434K in 0.3s (1.36 MB/s)\n",
            "Archive:  bank-additional.zip\n",
            "   creating: bank-additional/\n",
            "  inflating: bank-additional/.DS_Store  \n",
            "   creating: __MACOSX/\n",
            "   creating: __MACOSX/bank-additional/\n",
            "  inflating: __MACOSX/bank-additional/._.DS_Store  \n",
            "  inflating: bank-additional/.Rhistory  \n",
            "  inflating: bank-additional/bank-additional-full.csv  \n",
            "  inflating: bank-additional/bank-additional-names.txt  \n",
            "  inflating: bank-additional/bank-additional.csv  \n",
            "  inflating: __MACOSX/._bank-additional  \n"
          ],
          "name": "stdout"
        }
      ]
    },
    {
      "cell_type": "code",
      "metadata": {
        "id": "HCkDaRJC3f-3",
        "colab_type": "code",
        "outputId": "542a76a6-e914-4b76-ec0a-7c7557964e42",
        "colab": {
          "base_uri": "https://localhost:8080/",
          "height": 35
        }
      },
      "source": [
        "!ls bank-additional"
      ],
      "execution_count": 0,
      "outputs": [
        {
          "output_type": "stream",
          "text": [
            "bank-additional.csv  bank-additional-full.csv  bank-additional-names.txt\n"
          ],
          "name": "stdout"
        }
      ]
    },
    {
      "cell_type": "code",
      "metadata": {
        "id": "viOhpXAao03X",
        "colab_type": "code",
        "outputId": "74917e9f-2148-42f7-ce60-07e3173538d9",
        "colab": {
          "base_uri": "https://localhost:8080/",
          "height": 255
        }
      },
      "source": [
        "!pip3 install numpy\n",
        "!pip3 install pandas\n",
        "!pip3 install matplotlib"
      ],
      "execution_count": 0,
      "outputs": [
        {
          "output_type": "stream",
          "text": [
            "Requirement already satisfied: numpy in /usr/local/lib/python3.6/dist-packages (1.16.5)\n",
            "Requirement already satisfied: pandas in /usr/local/lib/python3.6/dist-packages (0.24.2)\n",
            "Requirement already satisfied: python-dateutil>=2.5.0 in /usr/local/lib/python3.6/dist-packages (from pandas) (2.5.3)\n",
            "Requirement already satisfied: pytz>=2011k in /usr/local/lib/python3.6/dist-packages (from pandas) (2018.9)\n",
            "Requirement already satisfied: numpy>=1.12.0 in /usr/local/lib/python3.6/dist-packages (from pandas) (1.16.5)\n",
            "Requirement already satisfied: six>=1.5 in /usr/local/lib/python3.6/dist-packages (from python-dateutil>=2.5.0->pandas) (1.12.0)\n",
            "Requirement already satisfied: matplotlib in /usr/local/lib/python3.6/dist-packages (3.0.3)\n",
            "Requirement already satisfied: numpy>=1.10.0 in /usr/local/lib/python3.6/dist-packages (from matplotlib) (1.16.5)\n",
            "Requirement already satisfied: cycler>=0.10 in /usr/local/lib/python3.6/dist-packages (from matplotlib) (0.10.0)\n",
            "Requirement already satisfied: kiwisolver>=1.0.1 in /usr/local/lib/python3.6/dist-packages (from matplotlib) (1.1.0)\n",
            "Requirement already satisfied: pyparsing!=2.0.4,!=2.1.2,!=2.1.6,>=2.0.1 in /usr/local/lib/python3.6/dist-packages (from matplotlib) (2.4.2)\n",
            "Requirement already satisfied: python-dateutil>=2.1 in /usr/local/lib/python3.6/dist-packages (from matplotlib) (2.5.3)\n",
            "Requirement already satisfied: six in /usr/local/lib/python3.6/dist-packages (from cycler>=0.10->matplotlib) (1.12.0)\n",
            "Requirement already satisfied: setuptools in /usr/local/lib/python3.6/dist-packages (from kiwisolver>=1.0.1->matplotlib) (41.2.0)\n"
          ],
          "name": "stdout"
        }
      ]
    },
    {
      "cell_type": "code",
      "metadata": {
        "id": "16Ab18L8XE0Q",
        "colab_type": "code",
        "outputId": "affb0ac8-8646-4bda-a27e-591ff6e93291",
        "colab": {
          "base_uri": "https://localhost:8080/",
          "height": 204
        }
      },
      "source": [
        "import pandas as pd\n",
        "data = pd.read_csv('bank-additional/bank-additional-full.csv', sep=';')\n",
        "data.head(5)"
      ],
      "execution_count": 0,
      "outputs": [
        {
          "output_type": "execute_result",
          "data": {
            "text/html": [
              "<div>\n",
              "<style scoped>\n",
              "    .dataframe tbody tr th:only-of-type {\n",
              "        vertical-align: middle;\n",
              "    }\n",
              "\n",
              "    .dataframe tbody tr th {\n",
              "        vertical-align: top;\n",
              "    }\n",
              "\n",
              "    .dataframe thead th {\n",
              "        text-align: right;\n",
              "    }\n",
              "</style>\n",
              "<table border=\"1\" class=\"dataframe\">\n",
              "  <thead>\n",
              "    <tr style=\"text-align: right;\">\n",
              "      <th></th>\n",
              "      <th>age</th>\n",
              "      <th>job</th>\n",
              "      <th>marital</th>\n",
              "      <th>education</th>\n",
              "      <th>default</th>\n",
              "      <th>housing</th>\n",
              "      <th>loan</th>\n",
              "      <th>contact</th>\n",
              "      <th>month</th>\n",
              "      <th>day_of_week</th>\n",
              "      <th>duration</th>\n",
              "      <th>campaign</th>\n",
              "      <th>pdays</th>\n",
              "      <th>previous</th>\n",
              "      <th>poutcome</th>\n",
              "      <th>emp.var.rate</th>\n",
              "      <th>cons.price.idx</th>\n",
              "      <th>cons.conf.idx</th>\n",
              "      <th>euribor3m</th>\n",
              "      <th>nr.employed</th>\n",
              "      <th>y</th>\n",
              "    </tr>\n",
              "  </thead>\n",
              "  <tbody>\n",
              "    <tr>\n",
              "      <th>0</th>\n",
              "      <td>56</td>\n",
              "      <td>housemaid</td>\n",
              "      <td>married</td>\n",
              "      <td>basic.4y</td>\n",
              "      <td>no</td>\n",
              "      <td>no</td>\n",
              "      <td>no</td>\n",
              "      <td>telephone</td>\n",
              "      <td>may</td>\n",
              "      <td>mon</td>\n",
              "      <td>261</td>\n",
              "      <td>1</td>\n",
              "      <td>999</td>\n",
              "      <td>0</td>\n",
              "      <td>nonexistent</td>\n",
              "      <td>1.1</td>\n",
              "      <td>93.994</td>\n",
              "      <td>-36.4</td>\n",
              "      <td>4.857</td>\n",
              "      <td>5191.0</td>\n",
              "      <td>no</td>\n",
              "    </tr>\n",
              "    <tr>\n",
              "      <th>1</th>\n",
              "      <td>57</td>\n",
              "      <td>services</td>\n",
              "      <td>married</td>\n",
              "      <td>high.school</td>\n",
              "      <td>unknown</td>\n",
              "      <td>no</td>\n",
              "      <td>no</td>\n",
              "      <td>telephone</td>\n",
              "      <td>may</td>\n",
              "      <td>mon</td>\n",
              "      <td>149</td>\n",
              "      <td>1</td>\n",
              "      <td>999</td>\n",
              "      <td>0</td>\n",
              "      <td>nonexistent</td>\n",
              "      <td>1.1</td>\n",
              "      <td>93.994</td>\n",
              "      <td>-36.4</td>\n",
              "      <td>4.857</td>\n",
              "      <td>5191.0</td>\n",
              "      <td>no</td>\n",
              "    </tr>\n",
              "    <tr>\n",
              "      <th>2</th>\n",
              "      <td>37</td>\n",
              "      <td>services</td>\n",
              "      <td>married</td>\n",
              "      <td>high.school</td>\n",
              "      <td>no</td>\n",
              "      <td>yes</td>\n",
              "      <td>no</td>\n",
              "      <td>telephone</td>\n",
              "      <td>may</td>\n",
              "      <td>mon</td>\n",
              "      <td>226</td>\n",
              "      <td>1</td>\n",
              "      <td>999</td>\n",
              "      <td>0</td>\n",
              "      <td>nonexistent</td>\n",
              "      <td>1.1</td>\n",
              "      <td>93.994</td>\n",
              "      <td>-36.4</td>\n",
              "      <td>4.857</td>\n",
              "      <td>5191.0</td>\n",
              "      <td>no</td>\n",
              "    </tr>\n",
              "    <tr>\n",
              "      <th>3</th>\n",
              "      <td>40</td>\n",
              "      <td>admin.</td>\n",
              "      <td>married</td>\n",
              "      <td>basic.6y</td>\n",
              "      <td>no</td>\n",
              "      <td>no</td>\n",
              "      <td>no</td>\n",
              "      <td>telephone</td>\n",
              "      <td>may</td>\n",
              "      <td>mon</td>\n",
              "      <td>151</td>\n",
              "      <td>1</td>\n",
              "      <td>999</td>\n",
              "      <td>0</td>\n",
              "      <td>nonexistent</td>\n",
              "      <td>1.1</td>\n",
              "      <td>93.994</td>\n",
              "      <td>-36.4</td>\n",
              "      <td>4.857</td>\n",
              "      <td>5191.0</td>\n",
              "      <td>no</td>\n",
              "    </tr>\n",
              "    <tr>\n",
              "      <th>4</th>\n",
              "      <td>56</td>\n",
              "      <td>services</td>\n",
              "      <td>married</td>\n",
              "      <td>high.school</td>\n",
              "      <td>no</td>\n",
              "      <td>no</td>\n",
              "      <td>yes</td>\n",
              "      <td>telephone</td>\n",
              "      <td>may</td>\n",
              "      <td>mon</td>\n",
              "      <td>307</td>\n",
              "      <td>1</td>\n",
              "      <td>999</td>\n",
              "      <td>0</td>\n",
              "      <td>nonexistent</td>\n",
              "      <td>1.1</td>\n",
              "      <td>93.994</td>\n",
              "      <td>-36.4</td>\n",
              "      <td>4.857</td>\n",
              "      <td>5191.0</td>\n",
              "      <td>no</td>\n",
              "    </tr>\n",
              "  </tbody>\n",
              "</table>\n",
              "</div>"
            ],
            "text/plain": [
              "   age        job  marital  ... euribor3m nr.employed   y\n",
              "0   56  housemaid  married  ...     4.857      5191.0  no\n",
              "1   57   services  married  ...     4.857      5191.0  no\n",
              "2   37   services  married  ...     4.857      5191.0  no\n",
              "3   40     admin.  married  ...     4.857      5191.0  no\n",
              "4   56   services  married  ...     4.857      5191.0  no\n",
              "\n",
              "[5 rows x 21 columns]"
            ]
          },
          "metadata": {
            "tags": []
          },
          "execution_count": 7
        }
      ]
    },
    {
      "cell_type": "markdown",
      "metadata": {
        "id": "W4LweQ2nwiwK",
        "colab_type": "text"
      },
      "source": [
        "### Задание 9\n",
        "Посмотрите на данные.\n",
        "\n",
        "\n",
        "1.   Посмотрите различные величины типа средних, максимумов, минимумов\n",
        "2.   Постройте 5 разных графиков - гистограмм. Графики должны быть правильно оформлены: должна быть легенда, название...\n",
        "3.   Постройте sns.pairplot с раскраской по столбцу y\n",
        "4.   Постройте 2 stacked гистограммы в паре с целевым столбцом y\n",
        "5.   Постройте график зависимости средней велчины звонка от возраста\n",
        "6.   Возможно, сформулируйте выводы/инсайты на основе графиков. Какойв наиболее вероятный портрет покупателя?\n",
        "\n"
      ]
    },
    {
      "cell_type": "code",
      "metadata": {
        "id": "pGS93mm1W6Fg",
        "colab_type": "code",
        "colab": {}
      },
      "source": [
        ""
      ],
      "execution_count": 0,
      "outputs": []
    }
  ]
}