{
  "nbformat": 4,
  "nbformat_minor": 0,
  "metadata": {
    "colab": {
      "name": "Copy of Поток 3. Практика к занятию 4.ipynb",
      "provenance": [],
      "collapsed_sections": [],
      "include_colab_link": true
    },
    "kernelspec": {
      "name": "python3",
      "display_name": "Python 3"
    }
  },
  "cells": [
    {
      "cell_type": "markdown",
      "metadata": {
        "id": "view-in-github",
        "colab_type": "text"
      },
      "source": [
        "<a href=\"https://colab.research.google.com/github/theysee/sberbank_reboot/blob/master/%D0%9F%D0%BE%D1%82%D0%BE%D0%BA_3_%D0%9F%D1%80%D0%B0%D0%BA%D1%82%D0%B8%D0%BA%D0%B0_%D0%BA_%D0%B7%D0%B0%D0%BD%D1%8F%D1%82%D0%B8%D1%8E_4.ipynb\" target=\"_parent\"><img src=\"https://colab.research.google.com/assets/colab-badge.svg\" alt=\"Open In Colab\"/></a>"
      ]
    },
    {
      "cell_type": "markdown",
      "metadata": {
        "id": "pDrecLU-4QjS",
        "colab_type": "text"
      },
      "source": [
        "# Практика"
      ]
    },
    {
      "cell_type": "markdown",
      "metadata": {
        "id": "QH_ECwwO4Tyq",
        "colab_type": "text"
      },
      "source": [
        "\n",
        "\n",
        "*   [Презентация](https://docs.google.com/presentation/d/1CE5hOVm2PBSDXA9sK7WtikFV8rUZlYwA9hc8vVh_tgY/edit?usp=sharing)\n",
        "*   [master](https://colab.research.google.com/drive/1TeKcA6LIpFABRfBPWEz8VTWtZzRwDIhR)\n",
        "*   [Дамп базы](https://drive.google.com/open?id=1RJx-1kh8az1OSQqnsDjCTWdzJBlDkjcB)\n",
        "\n",
        "![схема базы](http://bdis.umeta.ru/db/db_course/labs/SQLpHTM/king.gif)\n"
      ]
    },
    {
      "cell_type": "code",
      "metadata": {
        "id": "w5oyx4OaOP9s",
        "colab_type": "code",
        "outputId": "373b8775-2701-4f43-a2b3-af6f0c6d77ef",
        "colab": {
          "base_uri": "https://localhost:8080/",
          "height": 122
        }
      },
      "source": [
        "!pip install PyMySQL"
      ],
      "execution_count": 0,
      "outputs": [
        {
          "output_type": "stream",
          "text": [
            "Collecting PyMySQL\n",
            "\u001b[?25l  Downloading https://files.pythonhosted.org/packages/ed/39/15045ae46f2a123019aa968dfcba0396c161c20f855f11dea6796bcaae95/PyMySQL-0.9.3-py2.py3-none-any.whl (47kB)\n",
            "\r\u001b[K     |██████▉                         | 10kB 16.5MB/s eta 0:00:01\r\u001b[K     |█████████████▊                  | 20kB 1.7MB/s eta 0:00:01\r\u001b[K     |████████████████████▋           | 30kB 2.5MB/s eta 0:00:01\r\u001b[K     |███████████████████████████▌    | 40kB 1.6MB/s eta 0:00:01\r\u001b[K     |████████████████████████████████| 51kB 1.6MB/s \n",
            "\u001b[?25hInstalling collected packages: PyMySQL\n",
            "Successfully installed PyMySQL-0.9.3\n"
          ],
          "name": "stdout"
        }
      ]
    },
    {
      "cell_type": "code",
      "metadata": {
        "id": "ovRIyU9flDeD",
        "colab_type": "code",
        "outputId": "f2a073c3-b2cd-4fc3-ff9b-03bd7791ffee",
        "colab": {
          "base_uri": "https://localhost:8080/",
          "height": 102
        }
      },
      "source": [
        "!pip install pandas"
      ],
      "execution_count": 0,
      "outputs": [
        {
          "output_type": "stream",
          "text": [
            "Requirement already satisfied: pandas in /usr/local/lib/python3.6/dist-packages (0.25.3)\n",
            "Requirement already satisfied: python-dateutil>=2.6.1 in /usr/local/lib/python3.6/dist-packages (from pandas) (2.6.1)\n",
            "Requirement already satisfied: numpy>=1.13.3 in /usr/local/lib/python3.6/dist-packages (from pandas) (1.17.4)\n",
            "Requirement already satisfied: pytz>=2017.2 in /usr/local/lib/python3.6/dist-packages (from pandas) (2018.9)\n",
            "Requirement already satisfied: six>=1.5 in /usr/local/lib/python3.6/dist-packages (from python-dateutil>=2.6.1->pandas) (1.12.0)\n"
          ],
          "name": "stdout"
        }
      ]
    },
    {
      "cell_type": "code",
      "metadata": {
        "id": "z4BDycl5ORbd",
        "colab_type": "code",
        "colab": {}
      },
      "source": [
        "import pymysql\n",
        "import pandas as pd\n",
        "# доступны student-ы от 0 до 49\n",
        "\n",
        "DB_HOST = '89.223.95.235'\n",
        "DB_USER = 'student_0'\n",
        "DB_USER_PASSWORD = 'student_0'\n",
        "DB_NAME = 'sample_db'"
      ],
      "execution_count": 0,
      "outputs": []
    },
    {
      "cell_type": "code",
      "metadata": {
        "id": "hWuL4HR64HkJ",
        "colab_type": "code",
        "outputId": "06cb9bfc-901a-44f5-f9cf-6e12d5d82f81",
        "colab": {
          "base_uri": "https://localhost:8080/",
          "height": 1000
        }
      },
      "source": [
        "conn = pymysql.connect(DB_HOST, DB_USER, DB_USER_PASSWORD, DB_NAME)\n",
        "pd.read_sql_query(\"select * from customer\", conn)"
      ],
      "execution_count": 0,
      "outputs": [
        {
          "output_type": "execute_result",
          "data": {
            "text/html": [
              "<div>\n",
              "<style scoped>\n",
              "    .dataframe tbody tr th:only-of-type {\n",
              "        vertical-align: middle;\n",
              "    }\n",
              "\n",
              "    .dataframe tbody tr th {\n",
              "        vertical-align: top;\n",
              "    }\n",
              "\n",
              "    .dataframe thead th {\n",
              "        text-align: right;\n",
              "    }\n",
              "</style>\n",
              "<table border=\"1\" class=\"dataframe\">\n",
              "  <thead>\n",
              "    <tr style=\"text-align: right;\">\n",
              "      <th></th>\n",
              "      <th>customer_id</th>\n",
              "      <th>name</th>\n",
              "      <th>address</th>\n",
              "      <th>city</th>\n",
              "      <th>state</th>\n",
              "      <th>zip_code</th>\n",
              "      <th>area_code</th>\n",
              "      <th>phone_number</th>\n",
              "      <th>salesperson_id</th>\n",
              "      <th>credit_limit</th>\n",
              "      <th>comments</th>\n",
              "    </tr>\n",
              "  </thead>\n",
              "  <tbody>\n",
              "    <tr>\n",
              "      <th>0</th>\n",
              "      <td>100</td>\n",
              "      <td>jocksports</td>\n",
              "      <td>345 viewridge</td>\n",
              "      <td>belmont</td>\n",
              "      <td>ca</td>\n",
              "      <td>96711</td>\n",
              "      <td>415</td>\n",
              "      <td>5986609</td>\n",
              "      <td>7844</td>\n",
              "      <td>5000.0</td>\n",
              "      <td>very friendly people to work with -- sales rep...</td>\n",
              "    </tr>\n",
              "    <tr>\n",
              "      <th>1</th>\n",
              "      <td>101</td>\n",
              "      <td>tkb sport shop</td>\n",
              "      <td>490 boli rd.</td>\n",
              "      <td>redwood city</td>\n",
              "      <td>ca</td>\n",
              "      <td>94061</td>\n",
              "      <td>415</td>\n",
              "      <td>3681223</td>\n",
              "      <td>7521</td>\n",
              "      <td>10000.0</td>\n",
              "      <td>rep called 5/8 about change in order - contact...</td>\n",
              "    </tr>\n",
              "    <tr>\n",
              "      <th>2</th>\n",
              "      <td>102</td>\n",
              "      <td>vollyrite</td>\n",
              "      <td>9722 hamilton</td>\n",
              "      <td>burlingame</td>\n",
              "      <td>ca</td>\n",
              "      <td>95133</td>\n",
              "      <td>415</td>\n",
              "      <td>6443341</td>\n",
              "      <td>7654</td>\n",
              "      <td>7000.0</td>\n",
              "      <td>company doing heavy promotion beginning 10/89....</td>\n",
              "    </tr>\n",
              "    <tr>\n",
              "      <th>3</th>\n",
              "      <td>103</td>\n",
              "      <td>just tennis</td>\n",
              "      <td>hillview mall</td>\n",
              "      <td>burlingame</td>\n",
              "      <td>ca</td>\n",
              "      <td>97544</td>\n",
              "      <td>415</td>\n",
              "      <td>6779312</td>\n",
              "      <td>7521</td>\n",
              "      <td>3000.0</td>\n",
              "      <td>contact rep about new line of tennis rackets.</td>\n",
              "    </tr>\n",
              "    <tr>\n",
              "      <th>4</th>\n",
              "      <td>104</td>\n",
              "      <td>every mountain</td>\n",
              "      <td>574 surry rd.</td>\n",
              "      <td>cupertino</td>\n",
              "      <td>ca</td>\n",
              "      <td>93301</td>\n",
              "      <td>408</td>\n",
              "      <td>9962323</td>\n",
              "      <td>7499</td>\n",
              "      <td>10000.0</td>\n",
              "      <td>customer with high market share (23%) due to a...</td>\n",
              "    </tr>\n",
              "    <tr>\n",
              "      <th>5</th>\n",
              "      <td>105</td>\n",
              "      <td>k + t sports</td>\n",
              "      <td>3476 el paseo</td>\n",
              "      <td>santa clara</td>\n",
              "      <td>ca</td>\n",
              "      <td>91003</td>\n",
              "      <td>408</td>\n",
              "      <td>3769966</td>\n",
              "      <td>7844</td>\n",
              "      <td>5000.0</td>\n",
              "      <td>tends to order large amounts of merchandise at...</td>\n",
              "    </tr>\n",
              "    <tr>\n",
              "      <th>6</th>\n",
              "      <td>106</td>\n",
              "      <td>shape up</td>\n",
              "      <td>908 sequoia</td>\n",
              "      <td>palo alto</td>\n",
              "      <td>ca</td>\n",
              "      <td>94301</td>\n",
              "      <td>415</td>\n",
              "      <td>3649777</td>\n",
              "      <td>7521</td>\n",
              "      <td>6000.0</td>\n",
              "      <td>support intensive. orders small amounts (&lt; 800...</td>\n",
              "    </tr>\n",
              "    <tr>\n",
              "      <th>7</th>\n",
              "      <td>107</td>\n",
              "      <td>womens sports</td>\n",
              "      <td>valco village</td>\n",
              "      <td>sunnyvale</td>\n",
              "      <td>ca</td>\n",
              "      <td>93301</td>\n",
              "      <td>408</td>\n",
              "      <td>9674398</td>\n",
              "      <td>7499</td>\n",
              "      <td>10000.0</td>\n",
              "      <td>first sporting goods store geared exclusively ...</td>\n",
              "    </tr>\n",
              "    <tr>\n",
              "      <th>8</th>\n",
              "      <td>108</td>\n",
              "      <td>north woods health and fitness supply center</td>\n",
              "      <td>98 lone pine way</td>\n",
              "      <td>hibbing</td>\n",
              "      <td>mn</td>\n",
              "      <td>55649</td>\n",
              "      <td>612</td>\n",
              "      <td>5669123</td>\n",
              "      <td>7844</td>\n",
              "      <td>8000.0</td>\n",
              "      <td></td>\n",
              "    </tr>\n",
              "    <tr>\n",
              "      <th>9</th>\n",
              "      <td>201</td>\n",
              "      <td>stadium sports</td>\n",
              "      <td>47 irving pl.</td>\n",
              "      <td>new york</td>\n",
              "      <td>ny</td>\n",
              "      <td>10003</td>\n",
              "      <td>212</td>\n",
              "      <td>5555335</td>\n",
              "      <td>7557</td>\n",
              "      <td>10000.0</td>\n",
              "      <td>large general-purpose sports store with an aff...</td>\n",
              "    </tr>\n",
              "    <tr>\n",
              "      <th>10</th>\n",
              "      <td>202</td>\n",
              "      <td>hoops</td>\n",
              "      <td>2345 adams ave.</td>\n",
              "      <td>leicester</td>\n",
              "      <td>ma</td>\n",
              "      <td>01524</td>\n",
              "      <td>508</td>\n",
              "      <td>5557542</td>\n",
              "      <td>7820</td>\n",
              "      <td>5000.0</td>\n",
              "      <td>specializes in basketball equipment.</td>\n",
              "    </tr>\n",
              "    <tr>\n",
              "      <th>11</th>\n",
              "      <td>203</td>\n",
              "      <td>rebound sports</td>\n",
              "      <td>2 e. 14th st.</td>\n",
              "      <td>new york</td>\n",
              "      <td>ny</td>\n",
              "      <td>10009</td>\n",
              "      <td>212</td>\n",
              "      <td>5555989</td>\n",
              "      <td>7557</td>\n",
              "      <td>10000.0</td>\n",
              "      <td>follow up on the promotion proposal.</td>\n",
              "    </tr>\n",
              "    <tr>\n",
              "      <th>12</th>\n",
              "      <td>204</td>\n",
              "      <td>the power forward</td>\n",
              "      <td>1 knots landing</td>\n",
              "      <td>dallas</td>\n",
              "      <td>tx</td>\n",
              "      <td>75248</td>\n",
              "      <td>214</td>\n",
              "      <td>5550505</td>\n",
              "      <td>7560</td>\n",
              "      <td>12000.0</td>\n",
              "      <td>large floorspace.  prefers maintaining large a...</td>\n",
              "    </tr>\n",
              "    <tr>\n",
              "      <th>13</th>\n",
              "      <td>205</td>\n",
              "      <td>point guard</td>\n",
              "      <td>20 thurston st.</td>\n",
              "      <td>yonkers</td>\n",
              "      <td>ny</td>\n",
              "      <td>10956</td>\n",
              "      <td>914</td>\n",
              "      <td>5554766</td>\n",
              "      <td>7557</td>\n",
              "      <td>3000.0</td>\n",
              "      <td>tremendous potential for an exclusive agreement.</td>\n",
              "    </tr>\n",
              "    <tr>\n",
              "      <th>14</th>\n",
              "      <td>206</td>\n",
              "      <td>the coliseum</td>\n",
              "      <td>5678 wilbur pl.</td>\n",
              "      <td>scarsdale</td>\n",
              "      <td>ny</td>\n",
              "      <td>10583</td>\n",
              "      <td>914</td>\n",
              "      <td>5550217</td>\n",
              "      <td>7557</td>\n",
              "      <td>6000.0</td>\n",
              "      <td>contact rep. about new product lines.</td>\n",
              "    </tr>\n",
              "    <tr>\n",
              "      <th>15</th>\n",
              "      <td>207</td>\n",
              "      <td>fast break</td>\n",
              "      <td>1000 herbert ln.</td>\n",
              "      <td>concord</td>\n",
              "      <td>ma</td>\n",
              "      <td>01742</td>\n",
              "      <td>508</td>\n",
              "      <td>5551298</td>\n",
              "      <td>7820</td>\n",
              "      <td>7000.0</td>\n",
              "      <td>customer requires written price quotes before ...</td>\n",
              "    </tr>\n",
              "    <tr>\n",
              "      <th>16</th>\n",
              "      <td>208</td>\n",
              "      <td>al and bob's sports</td>\n",
              "      <td>260 yorktown ct.</td>\n",
              "      <td>austin</td>\n",
              "      <td>tx</td>\n",
              "      <td>78731</td>\n",
              "      <td>512</td>\n",
              "      <td>5557631</td>\n",
              "      <td>7560</td>\n",
              "      <td>4000.0</td>\n",
              "      <td>very personal purchasing agents -- sharon and ...</td>\n",
              "    </tr>\n",
              "    <tr>\n",
              "      <th>17</th>\n",
              "      <td>211</td>\n",
              "      <td>at bat</td>\n",
              "      <td>234 beachem st.</td>\n",
              "      <td>brookline</td>\n",
              "      <td>ma</td>\n",
              "      <td>02146</td>\n",
              "      <td>617</td>\n",
              "      <td>5557385</td>\n",
              "      <td>7820</td>\n",
              "      <td>8000.0</td>\n",
              "      <td>have an open purchase order for $3000.  ship i...</td>\n",
              "    </tr>\n",
              "    <tr>\n",
              "      <th>18</th>\n",
              "      <td>212</td>\n",
              "      <td>all sport</td>\n",
              "      <td>1000 38th st.</td>\n",
              "      <td>brooklyn</td>\n",
              "      <td>ny</td>\n",
              "      <td>11210</td>\n",
              "      <td>718</td>\n",
              "      <td>5551739</td>\n",
              "      <td>7600</td>\n",
              "      <td>6000.0</td>\n",
              "      <td>pursue a contract -- possible candidate for vo...</td>\n",
              "    </tr>\n",
              "    <tr>\n",
              "      <th>19</th>\n",
              "      <td>213</td>\n",
              "      <td>good sport</td>\n",
              "      <td>400 46th st.</td>\n",
              "      <td>sunnyside</td>\n",
              "      <td>ny</td>\n",
              "      <td>11104</td>\n",
              "      <td>718</td>\n",
              "      <td>5553771</td>\n",
              "      <td>7600</td>\n",
              "      <td>5000.0</td>\n",
              "      <td>may be moving to a larger location.</td>\n",
              "    </tr>\n",
              "    <tr>\n",
              "      <th>20</th>\n",
              "      <td>214</td>\n",
              "      <td>al's pro shop</td>\n",
              "      <td>45 spruce st.</td>\n",
              "      <td>spring</td>\n",
              "      <td>tx</td>\n",
              "      <td>77388</td>\n",
              "      <td>713</td>\n",
              "      <td>5555172</td>\n",
              "      <td>7564</td>\n",
              "      <td>8000.0</td>\n",
              "      <td>target market is serious athletes.</td>\n",
              "    </tr>\n",
              "    <tr>\n",
              "      <th>21</th>\n",
              "      <td>215</td>\n",
              "      <td>bob's family sports</td>\n",
              "      <td>400 e. 23rd</td>\n",
              "      <td>houston</td>\n",
              "      <td>tx</td>\n",
              "      <td>77026</td>\n",
              "      <td>713</td>\n",
              "      <td>5558015</td>\n",
              "      <td>7654</td>\n",
              "      <td>8000.0</td>\n",
              "      <td>target market is casual and weekend athletes. ...</td>\n",
              "    </tr>\n",
              "    <tr>\n",
              "      <th>22</th>\n",
              "      <td>216</td>\n",
              "      <td>the all american</td>\n",
              "      <td>547 prentice rd.</td>\n",
              "      <td>chelsea</td>\n",
              "      <td>ma</td>\n",
              "      <td>02150</td>\n",
              "      <td>617</td>\n",
              "      <td>5553047</td>\n",
              "      <td>7820</td>\n",
              "      <td>5000.0</td>\n",
              "      <td>customer prefers to be called between 10 and 12.</td>\n",
              "    </tr>\n",
              "    <tr>\n",
              "      <th>23</th>\n",
              "      <td>217</td>\n",
              "      <td>hit, throw, and run</td>\n",
              "      <td>333 wood court</td>\n",
              "      <td>grapevine</td>\n",
              "      <td>tx</td>\n",
              "      <td>76051</td>\n",
              "      <td>817</td>\n",
              "      <td>5552352</td>\n",
              "      <td>7564</td>\n",
              "      <td>6000.0</td>\n",
              "      <td>general purpose sports store.</td>\n",
              "    </tr>\n",
              "    <tr>\n",
              "      <th>24</th>\n",
              "      <td>218</td>\n",
              "      <td>the outfield</td>\n",
              "      <td>346 garden blvd.</td>\n",
              "      <td>flushing</td>\n",
              "      <td>ny</td>\n",
              "      <td>11355</td>\n",
              "      <td>718</td>\n",
              "      <td>5552131</td>\n",
              "      <td>7820</td>\n",
              "      <td>4000.0</td>\n",
              "      <td>store does not open until 11am and does not ha...</td>\n",
              "    </tr>\n",
              "    <tr>\n",
              "      <th>25</th>\n",
              "      <td>221</td>\n",
              "      <td>wheels and deals</td>\n",
              "      <td>2 memorial drive</td>\n",
              "      <td>houston</td>\n",
              "      <td>tx</td>\n",
              "      <td>77007</td>\n",
              "      <td>713</td>\n",
              "      <td>5554139</td>\n",
              "      <td>7789</td>\n",
              "      <td>10000.0</td>\n",
              "      <td>discount bicycle and sporting good store.</td>\n",
              "    </tr>\n",
              "    <tr>\n",
              "      <th>26</th>\n",
              "      <td>222</td>\n",
              "      <td>just bikes</td>\n",
              "      <td>4000 parkridge blvd.</td>\n",
              "      <td>dallas</td>\n",
              "      <td>tx</td>\n",
              "      <td>75205</td>\n",
              "      <td>214</td>\n",
              "      <td>5558735</td>\n",
              "      <td>7789</td>\n",
              "      <td>4000.0</td>\n",
              "      <td>exclusive bicycle dealer.</td>\n",
              "    </tr>\n",
              "    <tr>\n",
              "      <th>27</th>\n",
              "      <td>223</td>\n",
              "      <td>velo sports</td>\n",
              "      <td>23 white st.</td>\n",
              "      <td>malden</td>\n",
              "      <td>ma</td>\n",
              "      <td>02148</td>\n",
              "      <td>617</td>\n",
              "      <td>5554983</td>\n",
              "      <td>7820</td>\n",
              "      <td>5000.0</td>\n",
              "      <td>clerk answers all phone lines.  ask for mike.</td>\n",
              "    </tr>\n",
              "    <tr>\n",
              "      <th>28</th>\n",
              "      <td>224</td>\n",
              "      <td>joe's bike shop</td>\n",
              "      <td>4500 fox court</td>\n",
              "      <td>grand prarie</td>\n",
              "      <td>tx</td>\n",
              "      <td>75051</td>\n",
              "      <td>214</td>\n",
              "      <td>5559834</td>\n",
              "      <td>7789</td>\n",
              "      <td>6000.0</td>\n",
              "      <td>call joe to make sure last shipment was complete.</td>\n",
              "    </tr>\n",
              "    <tr>\n",
              "      <th>29</th>\n",
              "      <td>225</td>\n",
              "      <td>bob's swim, cycle, and run</td>\n",
              "      <td>300 horsecreek circle</td>\n",
              "      <td>irving</td>\n",
              "      <td>tx</td>\n",
              "      <td>75039</td>\n",
              "      <td>214</td>\n",
              "      <td>5558388</td>\n",
              "      <td>7789</td>\n",
              "      <td>7000.0</td>\n",
              "      <td>store catering to triathletes.</td>\n",
              "    </tr>\n",
              "    <tr>\n",
              "      <th>30</th>\n",
              "      <td>226</td>\n",
              "      <td>century shop</td>\n",
              "      <td>8 dagmar dr.</td>\n",
              "      <td>huntington</td>\n",
              "      <td>ny</td>\n",
              "      <td>11743</td>\n",
              "      <td>516</td>\n",
              "      <td>5553006</td>\n",
              "      <td>7555</td>\n",
              "      <td>4000.0</td>\n",
              "      <td>customer in the midst of a cost-cutting program.</td>\n",
              "    </tr>\n",
              "    <tr>\n",
              "      <th>31</th>\n",
              "      <td>227</td>\n",
              "      <td>the tour</td>\n",
              "      <td>2500 gardner rd.</td>\n",
              "      <td>somerville</td>\n",
              "      <td>ma</td>\n",
              "      <td>02144</td>\n",
              "      <td>617</td>\n",
              "      <td>5556673</td>\n",
              "      <td>7820</td>\n",
              "      <td>5000.0</td>\n",
              "      <td>customer referred to us by the all american.</td>\n",
              "    </tr>\n",
              "    <tr>\n",
              "      <th>32</th>\n",
              "      <td>228</td>\n",
              "      <td>fitness first</td>\n",
              "      <td>5000 85th st.</td>\n",
              "      <td>jackson heights</td>\n",
              "      <td>ny</td>\n",
              "      <td>11372</td>\n",
              "      <td>718</td>\n",
              "      <td>5558710</td>\n",
              "      <td>7555</td>\n",
              "      <td>4000.0</td>\n",
              "      <td>recently acquired another sporting goods store...</td>\n",
              "    </tr>\n",
              "  </tbody>\n",
              "</table>\n",
              "</div>"
            ],
            "text/plain": [
              "    customer_id  ...                                           comments\n",
              "0           100  ...  very friendly people to work with -- sales rep...\n",
              "1           101  ...  rep called 5/8 about change in order - contact...\n",
              "2           102  ...  company doing heavy promotion beginning 10/89....\n",
              "3           103  ...      contact rep about new line of tennis rackets.\n",
              "4           104  ...  customer with high market share (23%) due to a...\n",
              "5           105  ...  tends to order large amounts of merchandise at...\n",
              "6           106  ...  support intensive. orders small amounts (< 800...\n",
              "7           107  ...  first sporting goods store geared exclusively ...\n",
              "8           108  ...                                                   \n",
              "9           201  ...  large general-purpose sports store with an aff...\n",
              "10          202  ...               specializes in basketball equipment.\n",
              "11          203  ...               follow up on the promotion proposal.\n",
              "12          204  ...  large floorspace.  prefers maintaining large a...\n",
              "13          205  ...   tremendous potential for an exclusive agreement.\n",
              "14          206  ...              contact rep. about new product lines.\n",
              "15          207  ...  customer requires written price quotes before ...\n",
              "16          208  ...  very personal purchasing agents -- sharon and ...\n",
              "17          211  ...  have an open purchase order for $3000.  ship i...\n",
              "18          212  ...  pursue a contract -- possible candidate for vo...\n",
              "19          213  ...                may be moving to a larger location.\n",
              "20          214  ...                 target market is serious athletes.\n",
              "21          215  ...  target market is casual and weekend athletes. ...\n",
              "22          216  ...   customer prefers to be called between 10 and 12.\n",
              "23          217  ...                      general purpose sports store.\n",
              "24          218  ...  store does not open until 11am and does not ha...\n",
              "25          221  ...          discount bicycle and sporting good store.\n",
              "26          222  ...                          exclusive bicycle dealer.\n",
              "27          223  ...      clerk answers all phone lines.  ask for mike.\n",
              "28          224  ...  call joe to make sure last shipment was complete.\n",
              "29          225  ...                     store catering to triathletes.\n",
              "30          226  ...   customer in the midst of a cost-cutting program.\n",
              "31          227  ...       customer referred to us by the all american.\n",
              "32          228  ...  recently acquired another sporting goods store...\n",
              "\n",
              "[33 rows x 11 columns]"
            ]
          },
          "metadata": {
            "tags": []
          },
          "execution_count": 4
        }
      ]
    },
    {
      "cell_type": "markdown",
      "metadata": {
        "id": "1KU78rvYON8I",
        "colab_type": "text"
      },
      "source": [
        "### Задание 1\n",
        "Выбрать коды всех городов, в которых расположены отделы фирмы."
      ]
    },
    {
      "cell_type": "code",
      "metadata": {
        "id": "nKdaQNv8Oc9A",
        "colab_type": "code",
        "outputId": "4869a905-169a-43e7-b32c-f1be91a1cb45",
        "colab": {
          "base_uri": "https://localhost:8080/",
          "height": 173
        }
      },
      "source": [
        "pd.read_sql_query(\"select distinct location_id from department\", conn)"
      ],
      "execution_count": 0,
      "outputs": [
        {
          "output_type": "execute_result",
          "data": {
            "text/html": [
              "<div>\n",
              "<style scoped>\n",
              "    .dataframe tbody tr th:only-of-type {\n",
              "        vertical-align: middle;\n",
              "    }\n",
              "\n",
              "    .dataframe tbody tr th {\n",
              "        vertical-align: top;\n",
              "    }\n",
              "\n",
              "    .dataframe thead th {\n",
              "        text-align: right;\n",
              "    }\n",
              "</style>\n",
              "<table border=\"1\" class=\"dataframe\">\n",
              "  <thead>\n",
              "    <tr style=\"text-align: right;\">\n",
              "      <th></th>\n",
              "      <th>location_id</th>\n",
              "    </tr>\n",
              "  </thead>\n",
              "  <tbody>\n",
              "    <tr>\n",
              "      <th>0</th>\n",
              "      <td>122</td>\n",
              "    </tr>\n",
              "    <tr>\n",
              "      <th>1</th>\n",
              "      <td>123</td>\n",
              "    </tr>\n",
              "    <tr>\n",
              "      <th>2</th>\n",
              "      <td>124</td>\n",
              "    </tr>\n",
              "    <tr>\n",
              "      <th>3</th>\n",
              "      <td>167</td>\n",
              "    </tr>\n",
              "  </tbody>\n",
              "</table>\n",
              "</div>"
            ],
            "text/plain": [
              "   location_id\n",
              "0          122\n",
              "1          123\n",
              "2          124\n",
              "3          167"
            ]
          },
          "metadata": {
            "tags": []
          },
          "execution_count": 5
        }
      ]
    },
    {
      "cell_type": "markdown",
      "metadata": {
        "id": "YpfanHWtOmtd",
        "colab_type": "text"
      },
      "source": [
        "### Задание 2\n",
        "Для каждого сотрудника определить, какой процент по отношению к зарплате составляют его комиссионные."
      ]
    },
    {
      "cell_type": "code",
      "metadata": {
        "id": "Rwi1Zs_FOk19",
        "colab_type": "code",
        "outputId": "f39e71f3-7be4-41bb-8d12-8c705498f9b9",
        "colab": {
          "base_uri": "https://localhost:8080/",
          "height": 359
        }
      },
      "source": [
        "pd.read_sql_query(\"\"\"\n",
        "SELECT employee_id,\n",
        "       commission/salary * 100 AS 'percent'\n",
        "FROM employee\n",
        "WHERE commission IS NOT NULL\n",
        "\"\"\", conn)"
      ],
      "execution_count": 0,
      "outputs": [
        {
          "output_type": "execute_result",
          "data": {
            "text/html": [
              "<div>\n",
              "<style scoped>\n",
              "    .dataframe tbody tr th:only-of-type {\n",
              "        vertical-align: middle;\n",
              "    }\n",
              "\n",
              "    .dataframe tbody tr th {\n",
              "        vertical-align: top;\n",
              "    }\n",
              "\n",
              "    .dataframe thead th {\n",
              "        text-align: right;\n",
              "    }\n",
              "</style>\n",
              "<table border=\"1\" class=\"dataframe\">\n",
              "  <thead>\n",
              "    <tr style=\"text-align: right;\">\n",
              "      <th></th>\n",
              "      <th>employee_id</th>\n",
              "      <th>percent</th>\n",
              "    </tr>\n",
              "  </thead>\n",
              "  <tbody>\n",
              "    <tr>\n",
              "      <th>0</th>\n",
              "      <td>7499</td>\n",
              "      <td>18.750000</td>\n",
              "    </tr>\n",
              "    <tr>\n",
              "      <th>1</th>\n",
              "      <td>7521</td>\n",
              "      <td>40.000000</td>\n",
              "    </tr>\n",
              "    <tr>\n",
              "      <th>2</th>\n",
              "      <td>7555</td>\n",
              "      <td>24.000000</td>\n",
              "    </tr>\n",
              "    <tr>\n",
              "      <th>3</th>\n",
              "      <td>7557</td>\n",
              "      <td>96.000000</td>\n",
              "    </tr>\n",
              "    <tr>\n",
              "      <th>4</th>\n",
              "      <td>7564</td>\n",
              "      <td>24.000000</td>\n",
              "    </tr>\n",
              "    <tr>\n",
              "      <th>5</th>\n",
              "      <td>7600</td>\n",
              "      <td>72.000000</td>\n",
              "    </tr>\n",
              "    <tr>\n",
              "      <th>6</th>\n",
              "      <td>7654</td>\n",
              "      <td>112.000000</td>\n",
              "    </tr>\n",
              "    <tr>\n",
              "      <th>7</th>\n",
              "      <td>7789</td>\n",
              "      <td>66.666667</td>\n",
              "    </tr>\n",
              "    <tr>\n",
              "      <th>8</th>\n",
              "      <td>7820</td>\n",
              "      <td>61.538462</td>\n",
              "    </tr>\n",
              "    <tr>\n",
              "      <th>9</th>\n",
              "      <td>7844</td>\n",
              "      <td>0.000000</td>\n",
              "    </tr>\n",
              "  </tbody>\n",
              "</table>\n",
              "</div>"
            ],
            "text/plain": [
              "   employee_id     percent\n",
              "0         7499   18.750000\n",
              "1         7521   40.000000\n",
              "2         7555   24.000000\n",
              "3         7557   96.000000\n",
              "4         7564   24.000000\n",
              "5         7600   72.000000\n",
              "6         7654  112.000000\n",
              "7         7789   66.666667\n",
              "8         7820   61.538462\n",
              "9         7844    0.000000"
            ]
          },
          "metadata": {
            "tags": []
          },
          "execution_count": 9
        }
      ]
    },
    {
      "cell_type": "code",
      "metadata": {
        "id": "edQqOH2HWZyG",
        "colab_type": "code",
        "outputId": "10188ea6-6d12-4558-f7db-6c3599f495f6",
        "colab": {
          "base_uri": "https://localhost:8080/",
          "height": 1000
        }
      },
      "source": [
        "# более правильно\n",
        "pd.read_sql_query(\"\"\"\n",
        "SELECT employee_id,\n",
        "       COALESCE(commission,0)/salary * 100 AS 'percent'\n",
        "FROM employee\n",
        "ORDER BY percent DESC\n",
        "\"\"\", conn)"
      ],
      "execution_count": 0,
      "outputs": [
        {
          "output_type": "execute_result",
          "data": {
            "text/html": [
              "<div>\n",
              "<style scoped>\n",
              "    .dataframe tbody tr th:only-of-type {\n",
              "        vertical-align: middle;\n",
              "    }\n",
              "\n",
              "    .dataframe tbody tr th {\n",
              "        vertical-align: top;\n",
              "    }\n",
              "\n",
              "    .dataframe thead th {\n",
              "        text-align: right;\n",
              "    }\n",
              "</style>\n",
              "<table border=\"1\" class=\"dataframe\">\n",
              "  <thead>\n",
              "    <tr style=\"text-align: right;\">\n",
              "      <th></th>\n",
              "      <th>employee_id</th>\n",
              "      <th>percent</th>\n",
              "    </tr>\n",
              "  </thead>\n",
              "  <tbody>\n",
              "    <tr>\n",
              "      <th>0</th>\n",
              "      <td>7654</td>\n",
              "      <td>112.000000</td>\n",
              "    </tr>\n",
              "    <tr>\n",
              "      <th>1</th>\n",
              "      <td>7557</td>\n",
              "      <td>96.000000</td>\n",
              "    </tr>\n",
              "    <tr>\n",
              "      <th>2</th>\n",
              "      <td>7600</td>\n",
              "      <td>72.000000</td>\n",
              "    </tr>\n",
              "    <tr>\n",
              "      <th>3</th>\n",
              "      <td>7789</td>\n",
              "      <td>66.666667</td>\n",
              "    </tr>\n",
              "    <tr>\n",
              "      <th>4</th>\n",
              "      <td>7820</td>\n",
              "      <td>61.538462</td>\n",
              "    </tr>\n",
              "    <tr>\n",
              "      <th>5</th>\n",
              "      <td>7521</td>\n",
              "      <td>40.000000</td>\n",
              "    </tr>\n",
              "    <tr>\n",
              "      <th>6</th>\n",
              "      <td>7555</td>\n",
              "      <td>24.000000</td>\n",
              "    </tr>\n",
              "    <tr>\n",
              "      <th>7</th>\n",
              "      <td>7564</td>\n",
              "      <td>24.000000</td>\n",
              "    </tr>\n",
              "    <tr>\n",
              "      <th>8</th>\n",
              "      <td>7499</td>\n",
              "      <td>18.750000</td>\n",
              "    </tr>\n",
              "    <tr>\n",
              "      <th>9</th>\n",
              "      <td>7919</td>\n",
              "      <td>0.000000</td>\n",
              "    </tr>\n",
              "    <tr>\n",
              "      <th>10</th>\n",
              "      <td>7916</td>\n",
              "      <td>0.000000</td>\n",
              "    </tr>\n",
              "    <tr>\n",
              "      <th>11</th>\n",
              "      <td>7902</td>\n",
              "      <td>0.000000</td>\n",
              "    </tr>\n",
              "    <tr>\n",
              "      <th>12</th>\n",
              "      <td>7934</td>\n",
              "      <td>0.000000</td>\n",
              "    </tr>\n",
              "    <tr>\n",
              "      <th>13</th>\n",
              "      <td>7900</td>\n",
              "      <td>0.000000</td>\n",
              "    </tr>\n",
              "    <tr>\n",
              "      <th>14</th>\n",
              "      <td>7950</td>\n",
              "      <td>0.000000</td>\n",
              "    </tr>\n",
              "    <tr>\n",
              "      <th>15</th>\n",
              "      <td>7876</td>\n",
              "      <td>0.000000</td>\n",
              "    </tr>\n",
              "    <tr>\n",
              "      <th>16</th>\n",
              "      <td>7844</td>\n",
              "      <td>0.000000</td>\n",
              "    </tr>\n",
              "    <tr>\n",
              "      <th>17</th>\n",
              "      <td>7839</td>\n",
              "      <td>0.000000</td>\n",
              "    </tr>\n",
              "    <tr>\n",
              "      <th>18</th>\n",
              "      <td>7369</td>\n",
              "      <td>0.000000</td>\n",
              "    </tr>\n",
              "    <tr>\n",
              "      <th>19</th>\n",
              "      <td>7954</td>\n",
              "      <td>0.000000</td>\n",
              "    </tr>\n",
              "    <tr>\n",
              "      <th>20</th>\n",
              "      <td>7799</td>\n",
              "      <td>0.000000</td>\n",
              "    </tr>\n",
              "    <tr>\n",
              "      <th>21</th>\n",
              "      <td>7788</td>\n",
              "      <td>0.000000</td>\n",
              "    </tr>\n",
              "    <tr>\n",
              "      <th>22</th>\n",
              "      <td>7782</td>\n",
              "      <td>0.000000</td>\n",
              "    </tr>\n",
              "    <tr>\n",
              "      <th>23</th>\n",
              "      <td>7698</td>\n",
              "      <td>0.000000</td>\n",
              "    </tr>\n",
              "    <tr>\n",
              "      <th>24</th>\n",
              "      <td>7676</td>\n",
              "      <td>0.000000</td>\n",
              "    </tr>\n",
              "    <tr>\n",
              "      <th>25</th>\n",
              "      <td>7609</td>\n",
              "      <td>0.000000</td>\n",
              "    </tr>\n",
              "    <tr>\n",
              "      <th>26</th>\n",
              "      <td>7569</td>\n",
              "      <td>0.000000</td>\n",
              "    </tr>\n",
              "    <tr>\n",
              "      <th>27</th>\n",
              "      <td>7566</td>\n",
              "      <td>0.000000</td>\n",
              "    </tr>\n",
              "    <tr>\n",
              "      <th>28</th>\n",
              "      <td>7560</td>\n",
              "      <td>0.000000</td>\n",
              "    </tr>\n",
              "    <tr>\n",
              "      <th>29</th>\n",
              "      <td>7507</td>\n",
              "      <td>0.000000</td>\n",
              "    </tr>\n",
              "    <tr>\n",
              "      <th>30</th>\n",
              "      <td>7506</td>\n",
              "      <td>0.000000</td>\n",
              "    </tr>\n",
              "    <tr>\n",
              "      <th>31</th>\n",
              "      <td>7505</td>\n",
              "      <td>0.000000</td>\n",
              "    </tr>\n",
              "  </tbody>\n",
              "</table>\n",
              "</div>"
            ],
            "text/plain": [
              "    employee_id     percent\n",
              "0          7654  112.000000\n",
              "1          7557   96.000000\n",
              "2          7600   72.000000\n",
              "3          7789   66.666667\n",
              "4          7820   61.538462\n",
              "5          7521   40.000000\n",
              "6          7555   24.000000\n",
              "7          7564   24.000000\n",
              "8          7499   18.750000\n",
              "9          7919    0.000000\n",
              "10         7916    0.000000\n",
              "11         7902    0.000000\n",
              "12         7934    0.000000\n",
              "13         7900    0.000000\n",
              "14         7950    0.000000\n",
              "15         7876    0.000000\n",
              "16         7844    0.000000\n",
              "17         7839    0.000000\n",
              "18         7369    0.000000\n",
              "19         7954    0.000000\n",
              "20         7799    0.000000\n",
              "21         7788    0.000000\n",
              "22         7782    0.000000\n",
              "23         7698    0.000000\n",
              "24         7676    0.000000\n",
              "25         7609    0.000000\n",
              "26         7569    0.000000\n",
              "27         7566    0.000000\n",
              "28         7560    0.000000\n",
              "29         7507    0.000000\n",
              "30         7506    0.000000\n",
              "31         7505    0.000000"
            ]
          },
          "metadata": {
            "tags": []
          },
          "execution_count": 12
        }
      ]
    },
    {
      "cell_type": "markdown",
      "metadata": {
        "id": "Llxm9I5AOn38",
        "colab_type": "text"
      },
      "source": [
        "### Задание 3\n",
        "Вывести два инициала (с точками) и фамилии всех сотрудников, например:"
      ]
    },
    {
      "cell_type": "code",
      "metadata": {
        "id": "5yGutrBTOohr",
        "colab_type": "code",
        "outputId": "d93c638f-1c50-4e06-af31-94e2752b6303",
        "colab": {
          "base_uri": "https://localhost:8080/",
          "height": 1000
        }
      },
      "source": [
        "pd.read_sql_query(\"\"\"\n",
        "\n",
        "  SELECT\n",
        "    CONCAT(SUBSTR(first_name, 1, 1), '.') as I1,\n",
        "    CONCAT(middle_initial, '.') as I2,\n",
        "    last_name\n",
        "  FROM\n",
        "    employee\n",
        "\n",
        "\"\"\", conn)"
      ],
      "execution_count": 0,
      "outputs": [
        {
          "output_type": "execute_result",
          "data": {
            "text/html": [
              "<div>\n",
              "<style scoped>\n",
              "    .dataframe tbody tr th:only-of-type {\n",
              "        vertical-align: middle;\n",
              "    }\n",
              "\n",
              "    .dataframe tbody tr th {\n",
              "        vertical-align: top;\n",
              "    }\n",
              "\n",
              "    .dataframe thead th {\n",
              "        text-align: right;\n",
              "    }\n",
              "</style>\n",
              "<table border=\"1\" class=\"dataframe\">\n",
              "  <thead>\n",
              "    <tr style=\"text-align: right;\">\n",
              "      <th></th>\n",
              "      <th>I1</th>\n",
              "      <th>I2</th>\n",
              "      <th>last_name</th>\n",
              "    </tr>\n",
              "  </thead>\n",
              "  <tbody>\n",
              "    <tr>\n",
              "      <th>0</th>\n",
              "      <td>j.</td>\n",
              "      <td>q.</td>\n",
              "      <td>smith</td>\n",
              "    </tr>\n",
              "    <tr>\n",
              "      <th>1</th>\n",
              "      <td>k.</td>\n",
              "      <td>j.</td>\n",
              "      <td>allen</td>\n",
              "    </tr>\n",
              "    <tr>\n",
              "      <th>2</th>\n",
              "      <td>j.</td>\n",
              "      <td>k.</td>\n",
              "      <td>doyle</td>\n",
              "    </tr>\n",
              "    <tr>\n",
              "      <th>3</th>\n",
              "      <td>l.</td>\n",
              "      <td>s.</td>\n",
              "      <td>dennis</td>\n",
              "    </tr>\n",
              "    <tr>\n",
              "      <th>4</th>\n",
              "      <td>l.</td>\n",
              "      <td>d.</td>\n",
              "      <td>baker</td>\n",
              "    </tr>\n",
              "    <tr>\n",
              "      <th>5</th>\n",
              "      <td>c.</td>\n",
              "      <td>d.</td>\n",
              "      <td>ward</td>\n",
              "    </tr>\n",
              "    <tr>\n",
              "      <th>6</th>\n",
              "      <td>d.</td>\n",
              "      <td>t.</td>\n",
              "      <td>peters</td>\n",
              "    </tr>\n",
              "    <tr>\n",
              "      <th>7</th>\n",
              "      <td>k.</td>\n",
              "      <td>p.</td>\n",
              "      <td>shaw</td>\n",
              "    </tr>\n",
              "    <tr>\n",
              "      <th>8</th>\n",
              "      <td>s.</td>\n",
              "      <td>s.</td>\n",
              "      <td>duncan</td>\n",
              "    </tr>\n",
              "    <tr>\n",
              "      <th>9</th>\n",
              "      <td>g.</td>\n",
              "      <td>j.</td>\n",
              "      <td>lange</td>\n",
              "    </tr>\n",
              "    <tr>\n",
              "      <th>10</th>\n",
              "      <td>t.</td>\n",
              "      <td>m.</td>\n",
              "      <td>jones</td>\n",
              "    </tr>\n",
              "    <tr>\n",
              "      <th>11</th>\n",
              "      <td>c.</td>\n",
              "      <td>l.</td>\n",
              "      <td>alberts</td>\n",
              "    </tr>\n",
              "    <tr>\n",
              "      <th>12</th>\n",
              "      <td>r.</td>\n",
              "      <td>y.</td>\n",
              "      <td>porter</td>\n",
              "    </tr>\n",
              "    <tr>\n",
              "      <th>13</th>\n",
              "      <td>r.</td>\n",
              "      <td>m.</td>\n",
              "      <td>lewis</td>\n",
              "    </tr>\n",
              "    <tr>\n",
              "      <th>14</th>\n",
              "      <td>k.</td>\n",
              "      <td>j.</td>\n",
              "      <td>martin</td>\n",
              "    </tr>\n",
              "    <tr>\n",
              "      <th>15</th>\n",
              "      <td>d.</td>\n",
              "      <td>d.</td>\n",
              "      <td>sommers</td>\n",
              "    </tr>\n",
              "    <tr>\n",
              "      <th>16</th>\n",
              "      <td>m.</td>\n",
              "      <td>s.</td>\n",
              "      <td>blake</td>\n",
              "    </tr>\n",
              "    <tr>\n",
              "      <th>17</th>\n",
              "      <td>c.</td>\n",
              "      <td>f.</td>\n",
              "      <td>clark</td>\n",
              "    </tr>\n",
              "    <tr>\n",
              "      <th>18</th>\n",
              "      <td>d.</td>\n",
              "      <td>t.</td>\n",
              "      <td>scott</td>\n",
              "    </tr>\n",
              "    <tr>\n",
              "      <th>19</th>\n",
              "      <td>l.</td>\n",
              "      <td>n.</td>\n",
              "      <td>west</td>\n",
              "    </tr>\n",
              "    <tr>\n",
              "      <th>20</th>\n",
              "      <td>m.</td>\n",
              "      <td>g.</td>\n",
              "      <td>fisher</td>\n",
              "    </tr>\n",
              "    <tr>\n",
              "      <th>21</th>\n",
              "      <td>p.</td>\n",
              "      <td>s.</td>\n",
              "      <td>ross</td>\n",
              "    </tr>\n",
              "    <tr>\n",
              "      <th>22</th>\n",
              "      <td>f.</td>\n",
              "      <td>a.</td>\n",
              "      <td>king</td>\n",
              "    </tr>\n",
              "    <tr>\n",
              "      <th>23</th>\n",
              "      <td>m.</td>\n",
              "      <td>a.</td>\n",
              "      <td>turner</td>\n",
              "    </tr>\n",
              "    <tr>\n",
              "      <th>24</th>\n",
              "      <td>d.</td>\n",
              "      <td>g.</td>\n",
              "      <td>adams</td>\n",
              "    </tr>\n",
              "    <tr>\n",
              "      <th>25</th>\n",
              "      <td>f.</td>\n",
              "      <td>s.</td>\n",
              "      <td>james</td>\n",
              "    </tr>\n",
              "    <tr>\n",
              "      <th>26</th>\n",
              "      <td>j.</td>\n",
              "      <td>d.</td>\n",
              "      <td>ford</td>\n",
              "    </tr>\n",
              "    <tr>\n",
              "      <th>27</th>\n",
              "      <td>g.</td>\n",
              "      <td>m.</td>\n",
              "      <td>roberts</td>\n",
              "    </tr>\n",
              "    <tr>\n",
              "      <th>28</th>\n",
              "      <td>m.</td>\n",
              "      <td>a.</td>\n",
              "      <td>douglas</td>\n",
              "    </tr>\n",
              "    <tr>\n",
              "      <th>29</th>\n",
              "      <td>b.</td>\n",
              "      <td>m.</td>\n",
              "      <td>miller</td>\n",
              "    </tr>\n",
              "    <tr>\n",
              "      <th>30</th>\n",
              "      <td>a.</td>\n",
              "      <td>b.</td>\n",
              "      <td>jensen</td>\n",
              "    </tr>\n",
              "    <tr>\n",
              "      <th>31</th>\n",
              "      <td>j.</td>\n",
              "      <td>t.</td>\n",
              "      <td>murray</td>\n",
              "    </tr>\n",
              "  </tbody>\n",
              "</table>\n",
              "</div>"
            ],
            "text/plain": [
              "    I1  I2 last_name\n",
              "0   j.  q.     smith\n",
              "1   k.  j.     allen\n",
              "2   j.  k.     doyle\n",
              "3   l.  s.    dennis\n",
              "4   l.  d.     baker\n",
              "5   c.  d.      ward\n",
              "6   d.  t.    peters\n",
              "7   k.  p.      shaw\n",
              "8   s.  s.    duncan\n",
              "9   g.  j.     lange\n",
              "10  t.  m.     jones\n",
              "11  c.  l.   alberts\n",
              "12  r.  y.    porter\n",
              "13  r.  m.     lewis\n",
              "14  k.  j.    martin\n",
              "15  d.  d.   sommers\n",
              "16  m.  s.     blake\n",
              "17  c.  f.     clark\n",
              "18  d.  t.     scott\n",
              "19  l.  n.      west\n",
              "20  m.  g.    fisher\n",
              "21  p.  s.      ross\n",
              "22  f.  a.      king\n",
              "23  m.  a.    turner\n",
              "24  d.  g.     adams\n",
              "25  f.  s.     james\n",
              "26  j.  d.      ford\n",
              "27  g.  m.   roberts\n",
              "28  m.  a.   douglas\n",
              "29  b.  m.    miller\n",
              "30  a.  b.    jensen\n",
              "31  j.  t.    murray"
            ]
          },
          "metadata": {
            "tags": []
          },
          "execution_count": 16
        }
      ]
    },
    {
      "cell_type": "markdown",
      "metadata": {
        "id": "QrApqsiwOpCF",
        "colab_type": "text"
      },
      "source": [
        "### Задание 4\n",
        "По каждой сделке вывести точную сумму сделки, сумму сделки, округленную в большую сторону, округленную в меньшую сторону, округленную по общепринятым правилами округления."
      ]
    },
    {
      "cell_type": "code",
      "metadata": {
        "id": "UpY40PWBOpih",
        "colab_type": "code",
        "colab": {}
      },
      "source": [
        ""
      ],
      "execution_count": 0,
      "outputs": []
    },
    {
      "cell_type": "markdown",
      "metadata": {
        "id": "7Ihff8qiOpwV",
        "colab_type": "text"
      },
      "source": [
        "### Задание 5\n",
        "Выбрать фамилии всех сотрудников, у которых комиссионные больше зарплаты."
      ]
    },
    {
      "cell_type": "code",
      "metadata": {
        "id": "7h4XCzLIOqDa",
        "colab_type": "code",
        "colab": {}
      },
      "source": [
        ""
      ],
      "execution_count": 0,
      "outputs": []
    },
    {
      "cell_type": "markdown",
      "metadata": {
        "id": "nXN5hFG6OqU8",
        "colab_type": "text"
      },
      "source": [
        "### Задание 6\n",
        "Выбрать фамилии всех сотрудников, фамилии которых начинаются на букву 'S'."
      ]
    },
    {
      "cell_type": "code",
      "metadata": {
        "id": "jBNTdkvVOqqa",
        "colab_type": "code",
        "colab": {}
      },
      "source": [
        ""
      ],
      "execution_count": 0,
      "outputs": []
    },
    {
      "cell_type": "markdown",
      "metadata": {
        "id": "AXYQi1QUOq8b",
        "colab_type": "text"
      },
      "source": [
        "### Задание 7\n",
        "Выбрать имена всех сотрудников, которые не являются менеджерами (job_id=671) и не работают в отделе SALES в NEW YORK (department_id=13)."
      ]
    },
    {
      "cell_type": "code",
      "metadata": {
        "id": "SkLfvO-LOrTS",
        "colab_type": "code",
        "colab": {}
      },
      "source": [
        ""
      ],
      "execution_count": 0,
      "outputs": []
    },
    {
      "cell_type": "markdown",
      "metadata": {
        "id": "AZmwNHQ_Ordv",
        "colab_type": "text"
      },
      "source": [
        "### Задание 8\n",
        "Выбрать фамилии всех сотрудников, у которых код должности 670 или 677 (CLERK или SALESPERSON)."
      ]
    },
    {
      "cell_type": "code",
      "metadata": {
        "id": "uTiwmklpP0YO",
        "colab_type": "code",
        "colab": {}
      },
      "source": [
        ""
      ],
      "execution_count": 0,
      "outputs": []
    },
    {
      "cell_type": "markdown",
      "metadata": {
        "id": "wtnxTlSZQD6X",
        "colab_type": "text"
      },
      "source": [
        "### Задание 9\n",
        "Выбрать всех сотрудников, имена которых состоят из 6 букв и начинаются на 'MAR'."
      ]
    },
    {
      "cell_type": "code",
      "metadata": {
        "id": "1R-kdu57QkCt",
        "colab_type": "code",
        "colab": {}
      },
      "source": [
        ""
      ],
      "execution_count": 0,
      "outputs": []
    },
    {
      "cell_type": "markdown",
      "metadata": {
        "id": "7KM17N5MQnBO",
        "colab_type": "text"
      },
      "source": [
        "### Задание 10\n",
        "Выбрать фамилии всех сотрудников, которые поступили на работу после 15 апреля 1985 года."
      ]
    },
    {
      "cell_type": "code",
      "metadata": {
        "id": "V23yY1X5Qsrp",
        "colab_type": "code",
        "colab": {}
      },
      "source": [
        ""
      ],
      "execution_count": 0,
      "outputs": []
    },
    {
      "cell_type": "markdown",
      "metadata": {
        "id": "IE1PON9fQw1w",
        "colab_type": "text"
      },
      "source": [
        "### Задание 11\n",
        "Выбрать фамилии всех сотрудников, которые поступили на работу в 1985 году."
      ]
    },
    {
      "cell_type": "code",
      "metadata": {
        "id": "hLk6aXQQQ_-s",
        "colab_type": "code",
        "colab": {}
      },
      "source": [
        ""
      ],
      "execution_count": 0,
      "outputs": []
    },
    {
      "cell_type": "markdown",
      "metadata": {
        "id": "BHmBMkP0RBMu",
        "colab_type": "text"
      },
      "source": [
        "### Задание 12\n",
        "Для каждого сотрудника выбрать количество полных лет работы в фирме."
      ]
    },
    {
      "cell_type": "code",
      "metadata": {
        "id": "Me2JJtGIRD6o",
        "colab_type": "code",
        "colab": {}
      },
      "source": [
        ""
      ],
      "execution_count": 0,
      "outputs": []
    },
    {
      "cell_type": "markdown",
      "metadata": {
        "id": "gUnxATPRREfR",
        "colab_type": "text"
      },
      "source": [
        "### Задание 13\n",
        "Выбрать количество сотрудников, получающих комиссионные."
      ]
    },
    {
      "cell_type": "code",
      "metadata": {
        "id": "tK1LhWpWRFTk",
        "colab_type": "code",
        "colab": {}
      },
      "source": [
        ""
      ],
      "execution_count": 0,
      "outputs": []
    },
    {
      "cell_type": "markdown",
      "metadata": {
        "id": "go27AIofRFhy",
        "colab_type": "text"
      },
      "source": [
        "### Задание 14\n",
        "Выбрать количество и общую сумму сделок, совершенных с покупателем, код которого - 104."
      ]
    },
    {
      "cell_type": "code",
      "metadata": {
        "id": "_zZnZgKlRGH8",
        "colab_type": "code",
        "colab": {}
      },
      "source": [
        ""
      ],
      "execution_count": 0,
      "outputs": []
    },
    {
      "cell_type": "markdown",
      "metadata": {
        "id": "2R0V7vBIRGS-",
        "colab_type": "text"
      },
      "source": [
        "### Задание 15\n",
        "Выбрать среднюю зарплату по каждой должности."
      ]
    },
    {
      "cell_type": "code",
      "metadata": {
        "id": "k3_23EtkRGoW",
        "colab_type": "code",
        "colab": {}
      },
      "source": [
        ""
      ],
      "execution_count": 0,
      "outputs": []
    },
    {
      "cell_type": "markdown",
      "metadata": {
        "id": "Nrs4Zd2dRGzh",
        "colab_type": "text"
      },
      "source": [
        "### Задание 16\n",
        "Выбрать среднюю зарплата продавцов (код должности - 670)."
      ]
    },
    {
      "cell_type": "code",
      "metadata": {
        "id": "_HBPge0BRec4",
        "colab_type": "code",
        "colab": {}
      },
      "source": [
        ""
      ],
      "execution_count": 0,
      "outputs": []
    },
    {
      "cell_type": "markdown",
      "metadata": {
        "id": "V4xKEpN3Rnhb",
        "colab_type": "text"
      },
      "source": [
        "### Задание 17\n",
        " Выбрать средние зарплаты продавцов (код должности - 670) и клерков (код должности - 667)."
      ]
    },
    {
      "cell_type": "code",
      "metadata": {
        "id": "_D4mVHuIRoKD",
        "colab_type": "code",
        "colab": {}
      },
      "source": [
        ""
      ],
      "execution_count": 0,
      "outputs": []
    },
    {
      "cell_type": "markdown",
      "metadata": {
        "id": "8Aa4GAZ2RoaK",
        "colab_type": "text"
      },
      "source": [
        "### Задание 18\n",
        "Выбрать коды продуктов, по которым было совершено меньше 10 продаж.\n",
        "\n"
      ]
    },
    {
      "cell_type": "code",
      "metadata": {
        "id": "aRqV5_8lRsDD",
        "colab_type": "code",
        "colab": {}
      },
      "source": [
        ""
      ],
      "execution_count": 0,
      "outputs": []
    },
    {
      "cell_type": "markdown",
      "metadata": {
        "id": "IM_TgtEcRxf8",
        "colab_type": "text"
      },
      "source": [
        "### Задание 19\n",
        "Выбрать максимальную зарплату продавцов (код должности - 670) по каждому отделу."
      ]
    },
    {
      "cell_type": "code",
      "metadata": {
        "id": "fy2wLrpdR1Xs",
        "colab_type": "code",
        "colab": {}
      },
      "source": [
        ""
      ],
      "execution_count": 0,
      "outputs": []
    },
    {
      "cell_type": "markdown",
      "metadata": {
        "id": "-Ri0kut2SQPJ",
        "colab_type": "text"
      },
      "source": [
        "### Задание 20\n",
        "Выбрать список сотрудников фирмы в алфавитном порядке."
      ]
    },
    {
      "cell_type": "code",
      "metadata": {
        "id": "SJ9UUqcBSUuP",
        "colab_type": "code",
        "colab": {}
      },
      "source": [
        ""
      ],
      "execution_count": 0,
      "outputs": []
    }
  ]
}