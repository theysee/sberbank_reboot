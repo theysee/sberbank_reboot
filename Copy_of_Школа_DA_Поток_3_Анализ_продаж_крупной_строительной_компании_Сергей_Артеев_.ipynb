{
  "nbformat": 4,
  "nbformat_minor": 0,
  "metadata": {
    "colab": {
      "name": "Copy of Школа DA. Поток 3. Анализ продаж крупной строительной компании. Сергей Артеев..ipynb",
      "provenance": [],
      "authorship_tag": "ABX9TyNLZGJKfUUZleKNRMQSe7KC",
      "include_colab_link": true
    },
    "kernelspec": {
      "name": "python3",
      "display_name": "Python 3"
    }
  },
  "cells": [
    {
      "cell_type": "markdown",
      "metadata": {
        "id": "view-in-github",
        "colab_type": "text"
      },
      "source": [
        "<a href=\"https://colab.research.google.com/github/theysee/sberbank_reboot/blob/master/Copy_of_%D0%A8%D0%BA%D0%BE%D0%BB%D0%B0_DA_%D0%9F%D0%BE%D1%82%D0%BE%D0%BA_3_%D0%90%D0%BD%D0%B0%D0%BB%D0%B8%D0%B7_%D0%BF%D1%80%D0%BE%D0%B4%D0%B0%D0%B6_%D0%BA%D1%80%D1%83%D0%BF%D0%BD%D0%BE%D0%B9_%D1%81%D1%82%D1%80%D0%BE%D0%B8%D1%82%D0%B5%D0%BB%D1%8C%D0%BD%D0%BE%D0%B9_%D0%BA%D0%BE%D0%BC%D0%BF%D0%B0%D0%BD%D0%B8%D0%B8_%D0%A1%D0%B5%D1%80%D0%B3%D0%B5%D0%B9_%D0%90%D1%80%D1%82%D0%B5%D0%B5%D0%B2_.ipynb\" target=\"_parent\"><img src=\"https://colab.research.google.com/assets/colab-badge.svg\" alt=\"Open In Colab\"/></a>"
      ]
    },
    {
      "cell_type": "markdown",
      "metadata": {
        "id": "inKOU56ckPBa",
        "colab_type": "text"
      },
      "source": [
        "Суть Проекта в том, чтобы проанализировать продажи в крупной строительной компании.\n",
        "Входные данные в формах Excel. Формируются программой автоматически, а значит всегда постоянны. Некоторые столбцы для анализа продаж они не нужны, поэтому я буду их удалять, чтобы не мешались."
      ]
    },
    {
      "cell_type": "code",
      "metadata": {
        "id": "pE1TgkLZAi41",
        "colab_type": "code",
        "colab": {}
      },
      "source": [
        "import numpy as np\n",
        "import pandas as pd\n",
        "import pymysql\n",
        "from datetime import datetime, timedelta, date\n",
        "import matplotlib as mpl\n",
        "import matplotlib.pyplot as plt\n",
        "import seaborn as sns\n",
        "from matplotlib import cm\n",
        "from matplotlib.colors import ListedColormap, LinearSegmentedColormap\n",
        "from matplotlib.ticker import (MultipleLocator, FormatStrFormatter,\n",
        "                               AutoMinorLocator)\n",
        "%matplotlib inline"
      ],
      "execution_count": 0,
      "outputs": []
    },
    {
      "cell_type": "code",
      "metadata": {
        "id": "OinMmA-NAbHE",
        "colab_type": "code",
        "colab": {
          "base_uri": "https://localhost:8080/",
          "height": 35
        },
        "outputId": "fd5f70b1-bf54-42c6-a5a6-044a69ad4f5c"
      },
      "source": [
        "from google.colab import drive\n",
        "drive.mount('/content/drive')"
      ],
      "execution_count": 2,
      "outputs": [
        {
          "output_type": "stream",
          "text": [
            "Drive already mounted at /content/drive; to attempt to forcibly remount, call drive.mount(\"/content/drive\", force_remount=True).\n"
          ],
          "name": "stdout"
        }
      ]
    },
    {
      "cell_type": "code",
      "metadata": {
        "id": "uUN64sJHFoRi",
        "colab_type": "code",
        "colab": {
          "base_uri": "https://localhost:8080/",
          "height": 54
        },
        "outputId": "add3d63c-52a1-40e6-c9a2-a716af477754"
      },
      "source": [
        "# Не понял, как можно получить список файлов в Colab, поэтому сделаю руками.\n",
        "!ls \"/content/drive/My Drive/Эскроу\""
      ],
      "execution_count": 3,
      "outputs": [
        {
          "output_type": "stream",
          "text": [
            "Застройщик_110.xls  Застройщик_140.xls\tЗастройщик_146.xls  Застройщик_176.xls\n",
            "Застройщик_120.xls  Застройщик_141.xls\tЗастройщик_170.xls  Застройщик_28.xls\n"
          ],
          "name": "stdout"
        }
      ]
    },
    {
      "cell_type": "code",
      "metadata": {
        "id": "_XjD9hkHoSPd",
        "colab_type": "code",
        "colab": {}
      },
      "source": [
        "def pars(data_read):\n",
        "  contract = data_read.iloc[5,6]\n",
        "  contract = contract.split(' ')\n",
        "  contract = contract[-3:-2]\n",
        "  contract = int(contract[0])\n",
        "  data_read.drop(data_read.columns[[0, 4, 5, 6, 7, 8, 9, 10, 11]], axis='columns', inplace=True)\n",
        "  data_read.drop([0,1,2,3,4,5,6,7], inplace=True)\n",
        "  data_read.columns = ['Date_open_escrow', 'Depo_summ', 'Date_pay']\n",
        "  data_read['Date_open_escrow'] =  pd.to_datetime(data_read['Date_open_escrow'], format='%Y-%m-%d')\n",
        "  data_read['Date_pay'] =  pd.to_datetime(data_read['Date_pay'], format='%Y-%m-%d')\n",
        "  data_read['Contract'] = contract\n",
        "  return data_read"
      ],
      "execution_count": 0,
      "outputs": []
    },
    {
      "cell_type": "code",
      "metadata": {
        "id": "degmWgdmojkN",
        "colab_type": "code",
        "colab": {
          "base_uri": "https://localhost:8080/",
          "height": 182
        },
        "outputId": "09f5f2e0-6367-409f-9bdd-c8726bc465cd"
      },
      "source": [
        "data_read = pd.read_excel('/content/drive/My Drive/Эскроу/Застройщик_110.xls')\n",
        "df = pars(data_read)\n",
        "data_read = pd.read_excel('/content/drive/My Drive/Эскроу/Застройщик_140.xls')\n",
        "df = df.append(pars(data_read), ignore_index = True)\n",
        "data_read = pd.read_excel('/content/drive/My Drive/Эскроу/Застройщик_146.xls')\n",
        "df = df.append(pars(data_read), ignore_index = True)\n",
        "data_read = pd.read_excel('/content/drive/My Drive/Эскроу/Застройщик_176.xls')\n",
        "df = df.append(pars(data_read), ignore_index = True)\n",
        "data_read = pd.read_excel('/content/drive/My Drive/Эскроу/Застройщик_120.xls')\n",
        "df = df.append(pars(data_read), ignore_index = True)\n",
        "data_read = pd.read_excel('/content/drive/My Drive/Эскроу/Застройщик_141.xls')\n",
        "df = df.append(pars(data_read), ignore_index = True)\n",
        "data_read = pd.read_excel('/content/drive/My Drive/Эскроу/Застройщик_170.xls')\n",
        "df = df.append(pars(data_read), ignore_index = True)\n",
        "data_read = pd.read_excel('/content/drive/My Drive/Эскроу/Застройщик_28.xls')\n",
        "df = df.append(pars(data_read), ignore_index = True)\n",
        "df.dropna(inplace=True)\n",
        "df.info()"
      ],
      "execution_count": 5,
      "outputs": [
        {
          "output_type": "stream",
          "text": [
            "<class 'pandas.core.frame.DataFrame'>\n",
            "Int64Index: 1818 entries, 0 to 1845\n",
            "Data columns (total 4 columns):\n",
            "Date_open_escrow    1818 non-null datetime64[ns]\n",
            "Depo_summ           1818 non-null object\n",
            "Date_pay            1818 non-null datetime64[ns]\n",
            "Contract            1818 non-null int64\n",
            "dtypes: datetime64[ns](2), int64(1), object(1)\n",
            "memory usage: 71.0+ KB\n"
          ],
          "name": "stdout"
        }
      ]
    },
    {
      "cell_type": "code",
      "metadata": {
        "id": "ozMgd7tGj66a",
        "colab_type": "code",
        "colab": {
          "base_uri": "https://localhost:8080/",
          "height": 35
        },
        "outputId": "3af10955-4d54-45f2-ebf6-1c12364d57db"
      },
      "source": [
        "# Не знаю, как отработают файлы, чтобы не рисковать загружу в SQL.\n",
        "!pip install PyMySQL"
      ],
      "execution_count": 6,
      "outputs": [
        {
          "output_type": "stream",
          "text": [
            "Requirement already satisfied: PyMySQL in /usr/local/lib/python3.6/dist-packages (0.9.3)\n"
          ],
          "name": "stdout"
        }
      ]
    },
    {
      "cell_type": "code",
      "metadata": {
        "id": "tbpUwvaPjnaK",
        "colab_type": "code",
        "colab": {}
      },
      "source": [
        "DB_HOST = '89.223.95.235'\n",
        "DB_USER = 'student_12'\n",
        "DB_USER_PASSWORD = 'student_12'\n",
        "DB_NAME = 'student_12'\n",
        "conn = pymysql.connect(DB_HOST, DB_USER, DB_USER_PASSWORD, DB_NAME)"
      ],
      "execution_count": 0,
      "outputs": []
    },
    {
      "cell_type": "code",
      "metadata": {
        "id": "MrfdhczkthPB",
        "colab_type": "code",
        "colab": {
          "base_uri": "https://localhost:8080/",
          "height": 81
        },
        "outputId": "eb686f8b-6319-46d7-aebf-c334f470001d"
      },
      "source": [
        "pd.read_sql_query(\"show tables\", conn)"
      ],
      "execution_count": 8,
      "outputs": [
        {
          "output_type": "execute_result",
          "data": {
            "text/html": [
              "<div>\n",
              "<style scoped>\n",
              "    .dataframe tbody tr th:only-of-type {\n",
              "        vertical-align: middle;\n",
              "    }\n",
              "\n",
              "    .dataframe tbody tr th {\n",
              "        vertical-align: top;\n",
              "    }\n",
              "\n",
              "    .dataframe thead th {\n",
              "        text-align: right;\n",
              "    }\n",
              "</style>\n",
              "<table border=\"1\" class=\"dataframe\">\n",
              "  <thead>\n",
              "    <tr style=\"text-align: right;\">\n",
              "      <th></th>\n",
              "      <th>Tables_in_student_12</th>\n",
              "    </tr>\n",
              "  </thead>\n",
              "  <tbody>\n",
              "    <tr>\n",
              "      <th>0</th>\n",
              "      <td>sales</td>\n",
              "    </tr>\n",
              "  </tbody>\n",
              "</table>\n",
              "</div>"
            ],
            "text/plain": [
              "  Tables_in_student_12\n",
              "0                sales"
            ]
          },
          "metadata": {
            "tags": []
          },
          "execution_count": 8
        }
      ]
    },
    {
      "cell_type": "code",
      "metadata": {
        "id": "EXc8Xec4jnsp",
        "colab_type": "code",
        "colab": {}
      },
      "source": [
        "#query = \"DELETE FROM Sales\"\n",
        "#conn.cursor().execute(query)\n",
        "#conn.commit()"
      ],
      "execution_count": 0,
      "outputs": []
    },
    {
      "cell_type": "code",
      "metadata": {
        "id": "0d6lhIUVjn5K",
        "colab_type": "code",
        "colab": {}
      },
      "source": [
        "#query = \"DROP TABLE IF EXISTS Sales\"\n",
        "#conn.cursor().execute(query)\n",
        "#conn.commit()"
      ],
      "execution_count": 0,
      "outputs": []
    },
    {
      "cell_type": "code",
      "metadata": {
        "id": "q62UDjxvtBUg",
        "colab_type": "code",
        "colab": {
          "base_uri": "https://localhost:8080/",
          "height": 54
        },
        "outputId": "44d7e3ac-2e5f-442a-991d-73b85dbdedee"
      },
      "source": [
        "# По идее, ключ не нужен, но как SQL без ключа.\n",
        "query = \"\"\"\n",
        "  CREATE TABLE IF NOT EXISTS Sales (\n",
        "    sales_id INT AUTO_INCREMENT PRIMARY KEY,\n",
        "    Date_open_escrow DATETIME,\n",
        "    Depo_summ NUMERIC,\n",
        "    Date_pay DATETIME,\n",
        "    contract INT\n",
        "    )\n",
        "\"\"\" \n",
        "\n",
        "conn.cursor().execute(query)\n",
        "conn.commit()"
      ],
      "execution_count": 12,
      "outputs": [
        {
          "output_type": "stream",
          "text": [
            "/usr/local/lib/python3.6/dist-packages/pymysql/cursors.py:170: Warning: (1050, \"Table 'sales' already exists\")\n",
            "  result = self._query(query)\n"
          ],
          "name": "stderr"
        }
      ]
    },
    {
      "cell_type": "code",
      "metadata": {
        "id": "McBQPT55FNkm",
        "colab_type": "code",
        "colab": {
          "base_uri": "https://localhost:8080/",
          "height": 54
        },
        "outputId": "47166fc2-c880-4027-ef21-d9655f99c0f5"
      },
      "source": [
        "queries = []\n",
        "\n",
        "for index, row in df.iterrows():\n",
        "    querie = f'''INSERT INTO Sales (Date_open_escrow, Depo_summ, Date_pay, contract) VALUES ('{row[0]}', '{row[1]}', '{row[2]}', '{row[3]}')'''\n",
        "    queries.append(querie)\n",
        "\n",
        "for q in queries:\n",
        "  conn.cursor().execute(q)\n",
        "#conn.commit()"
      ],
      "execution_count": 13,
      "outputs": [
        {
          "output_type": "stream",
          "text": [
            "/usr/local/lib/python3.6/dist-packages/pymysql/cursors.py:170: Warning: (1265, \"Data truncated for column 'Depo_summ' at row 1\")\n",
            "  result = self._query(query)\n"
          ],
          "name": "stderr"
        }
      ]
    },
    {
      "cell_type": "code",
      "metadata": {
        "id": "pHNUbKTk3Gkn",
        "colab_type": "code",
        "colab": {
          "base_uri": "https://localhost:8080/",
          "height": 424
        },
        "outputId": "cf8ea3a9-d552-4c60-d543-cac4dac5ef0b"
      },
      "source": [
        "# Записей 1818, значит всё в порядке.\n",
        "df = pd.read_sql_query('''SELECT * FROM Sales''', conn)\n",
        "df"
      ],
      "execution_count": 18,
      "outputs": [
        {
          "output_type": "execute_result",
          "data": {
            "text/html": [
              "<div>\n",
              "<style scoped>\n",
              "    .dataframe tbody tr th:only-of-type {\n",
              "        vertical-align: middle;\n",
              "    }\n",
              "\n",
              "    .dataframe tbody tr th {\n",
              "        vertical-align: top;\n",
              "    }\n",
              "\n",
              "    .dataframe thead th {\n",
              "        text-align: right;\n",
              "    }\n",
              "</style>\n",
              "<table border=\"1\" class=\"dataframe\">\n",
              "  <thead>\n",
              "    <tr style=\"text-align: right;\">\n",
              "      <th></th>\n",
              "      <th>sales_id</th>\n",
              "      <th>Date_open_escrow</th>\n",
              "      <th>Depo_summ</th>\n",
              "      <th>Date_pay</th>\n",
              "      <th>contract</th>\n",
              "    </tr>\n",
              "  </thead>\n",
              "  <tbody>\n",
              "    <tr>\n",
              "      <th>0</th>\n",
              "      <td>1</td>\n",
              "      <td>2019-06-28 16:08:00</td>\n",
              "      <td>3048000.0</td>\n",
              "      <td>2019-09-30</td>\n",
              "      <td>110</td>\n",
              "    </tr>\n",
              "    <tr>\n",
              "      <th>1</th>\n",
              "      <td>2</td>\n",
              "      <td>2019-06-28 09:13:00</td>\n",
              "      <td>2048000.0</td>\n",
              "      <td>2019-08-31</td>\n",
              "      <td>110</td>\n",
              "    </tr>\n",
              "    <tr>\n",
              "      <th>2</th>\n",
              "      <td>3</td>\n",
              "      <td>2019-06-28 10:45:00</td>\n",
              "      <td>2448000.0</td>\n",
              "      <td>2019-08-31</td>\n",
              "      <td>110</td>\n",
              "    </tr>\n",
              "    <tr>\n",
              "      <th>3</th>\n",
              "      <td>4</td>\n",
              "      <td>2019-06-28 09:40:00</td>\n",
              "      <td>98000.0</td>\n",
              "      <td>2021-09-30</td>\n",
              "      <td>110</td>\n",
              "    </tr>\n",
              "    <tr>\n",
              "      <th>4</th>\n",
              "      <td>5</td>\n",
              "      <td>2019-06-28 16:47:00</td>\n",
              "      <td>3700000.0</td>\n",
              "      <td>2019-12-31</td>\n",
              "      <td>110</td>\n",
              "    </tr>\n",
              "    <tr>\n",
              "      <th>...</th>\n",
              "      <td>...</td>\n",
              "      <td>...</td>\n",
              "      <td>...</td>\n",
              "      <td>...</td>\n",
              "      <td>...</td>\n",
              "    </tr>\n",
              "    <tr>\n",
              "      <th>1813</th>\n",
              "      <td>1814</td>\n",
              "      <td>2020-01-30 12:28:25</td>\n",
              "      <td>3520000.0</td>\n",
              "      <td>2021-09-30</td>\n",
              "      <td>28</td>\n",
              "    </tr>\n",
              "    <tr>\n",
              "      <th>1814</th>\n",
              "      <td>1815</td>\n",
              "      <td>2020-02-04 09:19:23</td>\n",
              "      <td>5150000.0</td>\n",
              "      <td>2021-09-30</td>\n",
              "      <td>28</td>\n",
              "    </tr>\n",
              "    <tr>\n",
              "      <th>1815</th>\n",
              "      <td>1816</td>\n",
              "      <td>2020-01-30 11:23:49</td>\n",
              "      <td>3150000.0</td>\n",
              "      <td>2021-09-30</td>\n",
              "      <td>28</td>\n",
              "    </tr>\n",
              "    <tr>\n",
              "      <th>1816</th>\n",
              "      <td>1817</td>\n",
              "      <td>2020-01-31 11:07:27</td>\n",
              "      <td>4190000.0</td>\n",
              "      <td>2021-09-30</td>\n",
              "      <td>28</td>\n",
              "    </tr>\n",
              "    <tr>\n",
              "      <th>1817</th>\n",
              "      <td>1818</td>\n",
              "      <td>2020-01-30 17:18:06</td>\n",
              "      <td>5340000.0</td>\n",
              "      <td>2021-09-30</td>\n",
              "      <td>28</td>\n",
              "    </tr>\n",
              "  </tbody>\n",
              "</table>\n",
              "<p>1818 rows × 5 columns</p>\n",
              "</div>"
            ],
            "text/plain": [
              "      sales_id    Date_open_escrow  Depo_summ   Date_pay  contract\n",
              "0            1 2019-06-28 16:08:00  3048000.0 2019-09-30       110\n",
              "1            2 2019-06-28 09:13:00  2048000.0 2019-08-31       110\n",
              "2            3 2019-06-28 10:45:00  2448000.0 2019-08-31       110\n",
              "3            4 2019-06-28 09:40:00    98000.0 2021-09-30       110\n",
              "4            5 2019-06-28 16:47:00  3700000.0 2019-12-31       110\n",
              "...        ...                 ...        ...        ...       ...\n",
              "1813      1814 2020-01-30 12:28:25  3520000.0 2021-09-30        28\n",
              "1814      1815 2020-02-04 09:19:23  5150000.0 2021-09-30        28\n",
              "1815      1816 2020-01-30 11:23:49  3150000.0 2021-09-30        28\n",
              "1816      1817 2020-01-31 11:07:27  4190000.0 2021-09-30        28\n",
              "1817      1818 2020-01-30 17:18:06  5340000.0 2021-09-30        28\n",
              "\n",
              "[1818 rows x 5 columns]"
            ]
          },
          "metadata": {
            "tags": []
          },
          "execution_count": 18
        }
      ]
    },
    {
      "cell_type": "code",
      "metadata": {
        "id": "EF9VaohS3lim",
        "colab_type": "code",
        "colab": {}
      },
      "source": [
        "df"
      ],
      "execution_count": 0,
      "outputs": []
    }
  ]
}