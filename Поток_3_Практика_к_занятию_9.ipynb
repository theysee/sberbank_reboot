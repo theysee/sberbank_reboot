{
  "nbformat": 4,
  "nbformat_minor": 0,
  "metadata": {
    "colab": {
      "name": "Поток 3. Практика к занятию 9.ipynb",
      "provenance": [],
      "collapsed_sections": [],
      "include_colab_link": true
    },
    "kernelspec": {
      "name": "python3",
      "display_name": "Python 3"
    }
  },
  "cells": [
    {
      "cell_type": "markdown",
      "metadata": {
        "id": "view-in-github",
        "colab_type": "text"
      },
      "source": [
        "<a href=\"https://colab.research.google.com/github/theysee/sberbank_reboot/blob/master/%D0%9F%D0%BE%D1%82%D0%BE%D0%BA_3_%D0%9F%D1%80%D0%B0%D0%BA%D1%82%D0%B8%D0%BA%D0%B0_%D0%BA_%D0%B7%D0%B0%D0%BD%D1%8F%D1%82%D0%B8%D1%8E_9.ipynb\" target=\"_parent\"><img src=\"https://colab.research.google.com/assets/colab-badge.svg\" alt=\"Open In Colab\"/></a>"
      ]
    },
    {
      "cell_type": "markdown",
      "metadata": {
        "id": "pDrecLU-4QjS",
        "colab_type": "text"
      },
      "source": [
        "# Практика"
      ]
    },
    {
      "cell_type": "markdown",
      "metadata": {
        "id": "QH_ECwwO4Tyq",
        "colab_type": "text"
      },
      "source": [
        "\n",
        "\n",
        "*   [Презентация](https://docs.google.com/presentation/d/1YMP413_vDPs_cJ_JWXg98pP04PnHS8PIb8nbJUsRWPU/edit?usp=sharing)\n",
        "*   [master](https://colab.research.google.com/drive/1w--C9nl977SDZ9SLRoEXYU1xZK1dQrAt)\n",
        "\n"
      ]
    },
    {
      "cell_type": "markdown",
      "metadata": {
        "id": "m8y66jATIwvu",
        "colab_type": "text"
      },
      "source": [
        "## Задание 1\n",
        "Вытащите из приведенного ниже html следующие элементы:\n",
        "\n",
        "\n",
        "1.   Содержимое тега title\n",
        "2.   Кодировку страницы (атрибут charset тега meta)\n",
        "3.   Всех прямых потомков тега body\n",
        "4.   Получите все теги p\n",
        "5.   Напечатайте все элементы списка (тег ul) с id=\"mylist\"\n",
        "6.   Вывести тексты всех элементов во всех списках на странице (списки это теги ul и ol)\n",
        "\n",
        "\n"
      ]
    },
    {
      "cell_type": "code",
      "metadata": {
        "id": "ynEGf-10ZjcL",
        "colab_type": "code",
        "outputId": "dfd2eff8-52b9-49f7-917c-c6bec2933de1",
        "colab": {
          "base_uri": "https://localhost:8080/",
          "height": 34
        }
      },
      "source": [
        "!pip install beautifulsoup4"
      ],
      "execution_count": 154,
      "outputs": [
        {
          "output_type": "stream",
          "text": [
            "Requirement already satisfied: beautifulsoup4 in /usr/local/lib/python3.6/dist-packages (4.6.3)\n"
          ],
          "name": "stdout"
        }
      ]
    },
    {
      "cell_type": "code",
      "metadata": {
        "id": "F1MfdpyVI6dE",
        "colab_type": "code",
        "colab": {}
      },
      "source": [
        "from bs4 import BeautifulSoup\n",
        "\n",
        "html_text = \"\"\"\n",
        "<!DOCTYPE html>\n",
        "<html>\n",
        "    <head>\n",
        "        <title>Header</title>\n",
        "        <meta charset=\"utf-8\">                   \n",
        "    </head>\n",
        "        \n",
        "    <body>\n",
        "        <h2>Operating systems</h2>\n",
        "        \n",
        "        <ul>\n",
        "            <li>This</li>\n",
        "            <li>is just</li>\n",
        "            <li>a list</li>\n",
        "            <li>to make you</li>\n",
        "            <li>ANGRY</li>\n",
        "        </ul>\n",
        "        \n",
        "        <ul id=\"mylist\" style=\"width:150px\">\n",
        "            <li>Solaris</li>\n",
        "            <li>FreeBSD</li>\n",
        "            <li>Debian</li>                      \n",
        "            <li>NetBSD</li>           \n",
        "            <li>Windows</li>         \n",
        "        </ul>\n",
        "        \n",
        "        <p>\n",
        "          FreeBSD is an advanced computer operating system used to \n",
        "          power modern servers, desktops, and embedded platforms.\n",
        "        </p>\n",
        "                \n",
        "        <p>\n",
        "          Debian is a Unix-like computer operating system that is \n",
        "          composed entirely of free software.\n",
        "        </p>        \n",
        "        \n",
        "    </body>    \n",
        "</html>\n",
        "\"\"\"\n",
        "\n",
        "soup = BeautifulSoup(html_text)"
      ],
      "execution_count": 0,
      "outputs": []
    },
    {
      "cell_type": "code",
      "metadata": {
        "id": "gVW_Yuq0kiVZ",
        "colab_type": "code",
        "colab": {
          "base_uri": "https://localhost:8080/",
          "height": 34
        },
        "outputId": "f0248d56-21a5-4204-b8dc-dced8ced3a8b"
      },
      "source": [
        "#Содержимое тега title\n",
        "print(soup.title.text)"
      ],
      "execution_count": 156,
      "outputs": [
        {
          "output_type": "stream",
          "text": [
            "Header\n"
          ],
          "name": "stdout"
        }
      ]
    },
    {
      "cell_type": "code",
      "metadata": {
        "id": "HV-sv7WJG5sK",
        "colab_type": "code",
        "colab": {
          "base_uri": "https://localhost:8080/",
          "height": 34
        },
        "outputId": "4cea2de5-e47d-40a0-b7f2-6b7834ed7b9b"
      },
      "source": [
        "#Кодировку страницы (атрибут charset тега meta)\n",
        "elms = soup.select(\"meta\")\n",
        "for i in elms:\n",
        "    print(i.attrs[\"charset\"])"
      ],
      "execution_count": 157,
      "outputs": [
        {
          "output_type": "stream",
          "text": [
            "utf-8\n"
          ],
          "name": "stdout"
        }
      ]
    },
    {
      "cell_type": "code",
      "metadata": {
        "id": "kJ88uIEjG7wK",
        "colab_type": "code",
        "colab": {
          "base_uri": "https://localhost:8080/",
          "height": 340
        },
        "outputId": "6088ac9e-f52c-415a-f6bb-455b7c7233c5"
      },
      "source": [
        "#Всех прямых потомков тега body\n",
        "print(list(soup.body.children))"
      ],
      "execution_count": 158,
      "outputs": [
        {
          "output_type": "stream",
          "text": [
            "['\\n', <h2>Operating systems</h2>, '\\n', <ul>\n",
            "<li>This</li>\n",
            "<li>is just</li>\n",
            "<li>a list</li>\n",
            "<li>to make you</li>\n",
            "<li>ANGRY</li>\n",
            "</ul>, '\\n', <ul id=\"mylist\" style=\"width:150px\">\n",
            "<li>Solaris</li>\n",
            "<li>FreeBSD</li>\n",
            "<li>Debian</li>\n",
            "<li>NetBSD</li>\n",
            "<li>Windows</li>\n",
            "</ul>, '\\n', <p>\n",
            "          FreeBSD is an advanced computer operating system used to \n",
            "          power modern servers, desktops, and embedded platforms.\n",
            "        </p>, '\\n', <p>\n",
            "          Debian is a Unix-like computer operating system that is \n",
            "          composed entirely of free software.\n",
            "        </p>, '\\n']\n"
          ],
          "name": "stdout"
        }
      ]
    },
    {
      "cell_type": "code",
      "metadata": {
        "id": "ybRhIEaTHC44",
        "colab_type": "code",
        "colab": {
          "base_uri": "https://localhost:8080/",
          "height": 136
        },
        "outputId": "879cc3c6-950e-45a4-ca18-086f627c9048"
      },
      "source": [
        "#Получите все теги p\n",
        "soup.find_all('p')"
      ],
      "execution_count": 159,
      "outputs": [
        {
          "output_type": "execute_result",
          "data": {
            "text/plain": [
              "[<p>\n",
              "           FreeBSD is an advanced computer operating system used to \n",
              "           power modern servers, desktops, and embedded platforms.\n",
              "         </p>, <p>\n",
              "           Debian is a Unix-like computer operating system that is \n",
              "           composed entirely of free software.\n",
              "         </p>]"
            ]
          },
          "metadata": {
            "tags": []
          },
          "execution_count": 159
        }
      ]
    },
    {
      "cell_type": "code",
      "metadata": {
        "id": "WkHeBJnvHE-n",
        "colab_type": "code",
        "colab": {
          "base_uri": "https://localhost:8080/",
          "height": 136
        },
        "outputId": "ed14b168-f6b9-4cc5-f5c7-044b430b71b7"
      },
      "source": [
        "#Напечатайте все элементы списка (тег ul) с id=\"mylist\"\n",
        "result = soup.findAll(\"ul\", {\"id\" : \"mylist\"})\n",
        "\n",
        "for i in result:\n",
        "  print(i.text)"
      ],
      "execution_count": 160,
      "outputs": [
        {
          "output_type": "stream",
          "text": [
            "\n",
            "Solaris\n",
            "FreeBSD\n",
            "Debian\n",
            "NetBSD\n",
            "Windows\n",
            "\n"
          ],
          "name": "stdout"
        }
      ]
    },
    {
      "cell_type": "code",
      "metadata": {
        "id": "wRIRrywyHGqN",
        "colab_type": "code",
        "colab": {
          "base_uri": "https://localhost:8080/",
          "height": 255
        },
        "outputId": "306b0d77-2b2a-4094-9be7-d3e5329a30b2"
      },
      "source": [
        "#Вывести тексты всех элементов во всех списках на странице (списки это теги ul и ol)\n",
        "result = soup.findAll(['ul', 'ol'])\n",
        "\n",
        "for i in result:\n",
        "  print(i.text)"
      ],
      "execution_count": 161,
      "outputs": [
        {
          "output_type": "stream",
          "text": [
            "\n",
            "This\n",
            "is just\n",
            "a list\n",
            "to make you\n",
            "ANGRY\n",
            "\n",
            "\n",
            "Solaris\n",
            "FreeBSD\n",
            "Debian\n",
            "NetBSD\n",
            "Windows\n",
            "\n"
          ],
          "name": "stdout"
        }
      ]
    },
    {
      "cell_type": "markdown",
      "metadata": {
        "id": "5cxTi33bHvQB",
        "colab_type": "text"
      },
      "source": [
        "## Задание 2\n",
        "С помощью библиотеки beautiful soup вытащите с выбранной страницы из википедии\n",
        "\n",
        "\n",
        "1.   Заголовок статьи\n",
        "2.   Ссылки на все картинки в статье\n",
        "3.   Динамику численности населения в формате: {год:численность, ... , год:численность}\n",
        "\n"
      ]
    },
    {
      "cell_type": "code",
      "metadata": {
        "id": "EkU7qqNVGEDv",
        "colab_type": "code",
        "colab": {
          "base_uri": "https://localhost:8080/",
          "height": 102
        },
        "outputId": "3e4f2dff-0db6-48f2-f60e-0ab9410da44b"
      },
      "source": [
        "!pip install requests"
      ],
      "execution_count": 162,
      "outputs": [
        {
          "output_type": "stream",
          "text": [
            "Requirement already satisfied: requests in /usr/local/lib/python3.6/dist-packages (2.21.0)\n",
            "Requirement already satisfied: idna<2.9,>=2.5 in /usr/local/lib/python3.6/dist-packages (from requests) (2.8)\n",
            "Requirement already satisfied: certifi>=2017.4.17 in /usr/local/lib/python3.6/dist-packages (from requests) (2019.11.28)\n",
            "Requirement already satisfied: urllib3<1.25,>=1.21.1 in /usr/local/lib/python3.6/dist-packages (from requests) (1.24.3)\n",
            "Requirement already satisfied: chardet<3.1.0,>=3.0.2 in /usr/local/lib/python3.6/dist-packages (from requests) (3.0.4)\n"
          ],
          "name": "stdout"
        }
      ]
    },
    {
      "cell_type": "code",
      "metadata": {
        "id": "HQ-C_x8_GFYb",
        "colab_type": "code",
        "outputId": "102bcbb1-9a5f-4729-acc3-9d3466821e9e",
        "colab": {
          "base_uri": "https://localhost:8080/",
          "height": 54
        }
      },
      "source": [
        "import requests \n",
        "\n",
        "\n",
        "# ctrl+shift+I - посмотреть код страницы в google chrome\n",
        "# или наведите мышкой на элемент, затем правая кнопка мыши и Inspect. Выделит в коде именно этот элемент\n",
        "response = requests.get(\"https://ru.wikipedia.org/wiki/%D0%92%D0%B8%D0%BB%D0%BB%D0%B0%D1%80-%D0%A1%D0%B5%D0%BD%D1%82-%D0%90%D0%BD%D1%81%D0%B5%D0%BB%D1%8C%D0%BC\")\n",
        "html_code = response.content.decode('utf-8')\n",
        "html_code"
      ],
      "execution_count": 163,
      "outputs": [
        {
          "output_type": "execute_result",
          "data": {
            "text/plain": [
              "'<!DOCTYPE html>\\n<html class=\"client-nojs\" lang=\"ru\" dir=\"ltr\">\\n<head>\\n<meta charset=\"UTF-8\"/>\\n<title>Виллар-Сент-Ансельм — Википедия</title>\\n<script>document.documentElement.className=\"client-js\";RLCONF={\"wgBreakFrames\":!1,\"wgSeparatorTransformTable\":[\",\\\\t.\",\"\\xa0\\\\t,\"],\"wgDigitTransformTable\":[\"\",\"\"],\"wgDefaultDateFormat\":\"dmy\",\"wgMonthNames\":[\"\",\"январь\",\"февраль\",\"март\",\"апрель\",\"май\",\"июнь\",\"июль\",\"август\",\"сентябрь\",\"октябрь\",\"ноябрь\",\"декабрь\"],\"wgMonthNamesShort\":[\"\",\"янв\",\"фев\",\"мар\",\"апр\",\"май\",\"июн\",\"июл\",\"авг\",\"сен\",\"окт\",\"ноя\",\"дек\"],\"wgRequestId\":\"Xhwu6wpAMEsAACWIeB8AAABG\",\"wgCSPNonce\":!1,\"wgCanonicalNamespace\":\"\",\"wgCanonicalSpecialPageName\":!1,\"wgNamespaceNumber\":0,\"wgPageName\":\"Виллар-Сент-Ансельм\",\"wgTitle\":\"Виллар-Сент-Ансельм\",\"wgCurRevisionId\":96584638,\"wgRevisionId\":96584638,\"wgArticleId\":3905085,\"wgIsArticle\":!0,\"wgIsRedirect\":!1,\"wgAction\":\"view\",\"wgUserName\":null,\"wgUserGroups\":[\"*\"],\"wgCategories\":[\\n\"Википедия:Статьи с переопределением значения из Викиданных\",\"ПРО:Города:Последняя правка: в позапрошлом году\",\"Незавершённые статьи по географии Франции\",\"Википедия:Страницы с картами\",\"Населённые пункты по алфавиту\",\"Коммуны департамента Од\"],\"wgPageContentLanguage\":\"ru\",\"wgPageContentModel\":\"wikitext\",\"wgRelevantPageName\":\"Виллар-Сент-Ансельм\",\"wgRelevantArticleId\":3905085,\"wgIsProbablyEditable\":!0,\"wgRelevantPageIsProbablyEditable\":!0,\"wgRestrictionEdit\":[],\"wgRestrictionMove\":[],\"wgFlaggedRevsParams\":{\"tags\":{\"accuracy\":{\"levels\":3,\"quality\":2,\"pristine\":4}}},\"wgStableRevisionId\":96584638,\"wgMediaViewerOnClick\":!0,\"wgMediaViewerEnabledByDefault\":!0,\"wgPopupsReferencePreviews\":!1,\"wgPopupsConflictsWithNavPopupGadget\":!1,\"wgVisualEditor\":{\\n\"pageLanguageCode\":\"ru\",\"pageLanguageDir\":\"ltr\",\"pageVariantFallbacks\":\"ru\"},\"wgMFDisplayWikibaseDescriptions\":{\"search\":!0,\"nearby\":!0,\"watchlist\":!0,\"tagline\":!1},\"wgWMESchemaEditAttemptStepOversample\":!1,\"wgULSCurrentAutonym\":\"русский\",\"wgNoticeProject\":\"wikipedia\",\"wgCoordinates\":{\"lat\":43.05472,\"lon\":2.29917},\"wgWikibaseItemId\":\"Q1084000\",\"wgCentralAuthMobileDomain\":!1,\"wgEditSubmitButtonLabelPublish\":!0};RLSTATE={\"ext.globalCssJs.user.styles\":\"ready\",\"site.styles\":\"ready\",\"noscript\":\"ready\",\"user.styles\":\"ready\",\"ext.globalCssJs.user\":\"ready\",\"user\":\"ready\",\"user.options\":\"loading\",\"user.tokens\":\"loading\",\"ext.flaggedRevs.icons\":\"ready\",\"oojs-ui-core.styles\":\"ready\",\"oojs-ui.styles.indicators\":\"ready\",\"mediawiki.widgets.styles\":\"ready\",\"oojs-ui-core.icons\":\"ready\",\"ext.kartographer.style\":\"ready\",\"ext.cite.styles\":\"ready\",\"mediawiki.legacy.shared\":\"ready\",\"mediawiki.legacy.commonPrint\":\"ready\",\"jquery.makeCollapsible.styles\":\"ready\",\"mediawiki.toc.styles\":\\n\"ready\",\"wikibase.client.init\":\"ready\",\"ext.flaggedRevs.basic\":\"ready\",\"ext.visualEditor.desktopArticleTarget.noscript\":\"ready\",\"ext.uls.interlanguage\":\"ready\",\"ext.wikimediaBadges\":\"ready\",\"mediawiki.skinning.interface\":\"ready\",\"skins.vector.styles\":\"ready\"};RLPAGEMODULES=[\"ext.kartographer.link\",\"ext.cite.ux-enhancements\",\"site\",\"mediawiki.page.startup\",\"mediawiki.page.ready\",\"jquery.makeCollapsible\",\"mediawiki.toc\",\"mediawiki.searchSuggest\",\"ext.flaggedRevs.advanced\",\"ext.gadget.collapserefs\",\"ext.gadget.directLinkToCommons\",\"ext.gadget.referenceTooltips\",\"ext.gadget.logo\",\"ext.gadget.edittop\",\"ext.gadget.blpEditNotice\",\"ext.gadget.wikibugs\",\"ext.gadget.sidebarRelated\",\"ext.centralauth.centralautologin\",\"mmv.head\",\"mmv.bootstrap.autostart\",\"ext.popups\",\"ext.visualEditor.desktopArticleTarget.init\",\"ext.visualEditor.targetLoader\",\"ext.eventLogging\",\"ext.wikimediaEvents\",\"ext.navigationTiming\",\"ext.uls.compactlinks\",\"ext.uls.interface\",\"ext.cx.eventlogging.campaigns\",\\n\"ext.quicksurveys.init\",\"ext.centralNotice.geoIP\",\"ext.centralNotice.startUp\",\"skins.vector.js\"];</script>\\n<script>(RLQ=window.RLQ||[]).push(function(){mw.loader.implement(\"user.options@1cm6q\",function($,jQuery,require,module){/*@nomin*/mw.user.options.set({\"variant\":\"ru\"});\\n});mw.loader.implement(\"user.tokens@tffin\",function($,jQuery,require,module){/*@nomin*/mw.user.tokens.set({\"patrolToken\":\"+\\\\\\\\\",\"watchToken\":\"+\\\\\\\\\",\"csrfToken\":\"+\\\\\\\\\"});\\n});});</script>\\n<link rel=\"stylesheet\" href=\"/w/load.php?lang=ru&amp;modules=ext.cite.styles%7Cext.flaggedRevs.basic%2Cicons%7Cext.kartographer.style%7Cext.uls.interlanguage%7Cext.visualEditor.desktopArticleTarget.noscript%7Cext.wikimediaBadges%7Cjquery.makeCollapsible.styles%7Cmediawiki.legacy.commonPrint%2Cshared%7Cmediawiki.skinning.interface%7Cmediawiki.toc.styles%7Cmediawiki.widgets.styles%7Coojs-ui-core.icons%2Cstyles%7Coojs-ui.styles.indicators%7Cskins.vector.styles%7Cwikibase.client.init&amp;only=styles&amp;skin=vector\"/>\\n<script async=\"\" src=\"/w/load.php?lang=ru&amp;modules=startup&amp;only=scripts&amp;raw=1&amp;skin=vector\"></script>\\n<meta name=\"ResourceLoaderDynamicStyles\" content=\"\"/>\\n<link rel=\"stylesheet\" href=\"/w/load.php?lang=ru&amp;modules=site.styles&amp;only=styles&amp;skin=vector\"/>\\n<noscript><link rel=\"stylesheet\" href=\"/w/load.php?lang=ru&amp;modules=noscript&amp;only=styles&amp;skin=vector\"/></noscript>\\n<meta name=\"generator\" content=\"MediaWiki 1.35.0-wmf.14\"/>\\n<meta name=\"referrer\" content=\"origin\"/>\\n<meta name=\"referrer\" content=\"origin-when-crossorigin\"/>\\n<meta name=\"referrer\" content=\"origin-when-cross-origin\"/>\\n<meta property=\"og:image\" content=\"https://upload.wikimedia.org/wikipedia/commons/thumb/0/07/Villar-Saint-Anselme_Castle_4325.JPG/1200px-Villar-Saint-Anselme_Castle_4325.JPG\"/>\\n<link rel=\"alternate\" href=\"android-app://org.wikipedia/http/ru.m.wikipedia.org/wiki/%D0%92%D0%B8%D0%BB%D0%BB%D0%B0%D1%80-%D0%A1%D0%B5%D0%BD%D1%82-%D0%90%D0%BD%D1%81%D0%B5%D0%BB%D1%8C%D0%BC\"/>\\n<link rel=\"alternate\" type=\"application/x-wiki\" title=\"Править\" href=\"/w/index.php?title=%D0%92%D0%B8%D0%BB%D0%BB%D0%B0%D1%80-%D0%A1%D0%B5%D0%BD%D1%82-%D0%90%D0%BD%D1%81%D0%B5%D0%BB%D1%8C%D0%BC&amp;action=edit\"/>\\n<link rel=\"edit\" title=\"Править\" href=\"/w/index.php?title=%D0%92%D0%B8%D0%BB%D0%BB%D0%B0%D1%80-%D0%A1%D0%B5%D0%BD%D1%82-%D0%90%D0%BD%D1%81%D0%B5%D0%BB%D1%8C%D0%BC&amp;action=edit\"/>\\n<link rel=\"apple-touch-icon\" href=\"/static/apple-touch/wikipedia.png\"/>\\n<link rel=\"shortcut icon\" href=\"/static/favicon/wikipedia.ico\"/>\\n<link rel=\"search\" type=\"application/opensearchdescription+xml\" href=\"/w/opensearch_desc.php\" title=\"Википедия (ru)\"/>\\n<link rel=\"EditURI\" type=\"application/rsd+xml\" href=\"//ru.wikipedia.org/w/api.php?action=rsd\"/>\\n<link rel=\"license\" href=\"//creativecommons.org/licenses/by-sa/3.0/\"/>\\n<link rel=\"canonical\" href=\"https://ru.wikipedia.org/wiki/%D0%92%D0%B8%D0%BB%D0%BB%D0%B0%D1%80-%D0%A1%D0%B5%D0%BD%D1%82-%D0%90%D0%BD%D1%81%D0%B5%D0%BB%D1%8C%D0%BC\"/>\\n<link rel=\"dns-prefetch\" href=\"//login.wikimedia.org\"/>\\n<link rel=\"dns-prefetch\" href=\"//meta.wikimedia.org\" />\\n<!--[if lt IE 9]><script src=\"/w/resources/lib/html5shiv/html5shiv.js\"></script><![endif]-->\\n</head>\\n<body class=\"mediawiki ltr sitedir-ltr mw-hide-empty-elt ns-0 ns-subject mw-editable page-Виллар-Сент-Ансельм rootpage-Виллар-Сент-Ансельм skin-vector action-view\">\\n<div id=\"mw-page-base\" class=\"noprint\"></div>\\n<div id=\"mw-head-base\" class=\"noprint\"></div>\\n<div id=\"content\" class=\"mw-body\" role=\"main\">\\n\\t<a id=\"top\"></a>\\n\\t<div id=\"siteNotice\" class=\"mw-body-content\"><!-- CentralNotice --></div>\\n\\t<div class=\"mw-indicators mw-body-content\">\\n<div id=\"mw-indicator-0-coord\" class=\"mw-indicator\"><span class=\"coordinates plainlinks nourlexpansion\" data-param=\"43_3_17_N_2_17_57_E_scale:100000_region:FR_type:city\"><span title=\"Показать карту\"><a class=\"mw-kartographer-maplink\" data-mw=\"interface\" data-style=\"osm-intl\" href=\"/wiki/%D0%A1%D0%BB%D1%83%D0%B6%D0%B5%D0%B1%D0%BD%D0%B0%D1%8F:Map/12/43.05472/2.29917/ru\" data-zoom=\"12\" data-lat=\"43.05472\" data-lon=\"2.29917\" data-lang=\"ru\" data-overlays=\"[&quot;_edfc08f2bb9ac4cf82512502fb778a4437dd5612&quot;]\">43°03′17″&#160;с.&#160;ш. 2°17′57″&#160;в.&#160;д.</a></span><sup class=\"geo-services noprint\"><span class=\"geo-geohack\" title=\"Карты и инструменты на GeoHack\"><a class=\"external text\" href=\"//tools.wmflabs.org/geohack/geohack.php?language=ru&amp;pagename=%D0%92%D0%B8%D0%BB%D0%BB%D0%B0%D1%80-%D0%A1%D0%B5%D0%BD%D1%82-%D0%90%D0%BD%D1%81%D0%B5%D0%BB%D1%8C%D0%BC&amp;params=43_3_17_N_2_17_57_E_scale:100000_region:FR_type:city\"><span>H</span></a></span><span class=\"geo-google\" title=\"Это место на «Картах Google»\"><a rel=\"nofollow\" class=\"external text\" href=\"//maps.google.com/maps?ll=43.05472,2.29917&amp;q=43.05472,2.29917&amp;spn=0.1,0.1&amp;t=h&amp;hl=ru\"><span>G</span></a></span><span class=\"geo-yandex\" title=\"Это место на «Яндекс.Картах»\"><a rel=\"nofollow\" class=\"external text\" href=\"//yandex.ru/maps/?ll=2.29917,43.05472&amp;pt=2.29917,43.05472&amp;spn=0.1,0.1&amp;l=sat,skl\"><span>Я</span></a></span><span class=\"geo-osm\" title=\"Это место на карте OpenStreetMap\"><a rel=\"nofollow\" class=\"external text\" href=\"https://www.openstreetmap.org/?mlat=43.05472&amp;mlon=2.29917&amp;zoom=12\"><span>O</span></a></span><span class=\"geo-loadmap\" style=\"display: none;\" title=\"Это место на картах ГШ и ГУГК\"><a rel=\"nofollow\" class=\"external text\" href=\"http://loadmap.net/ru?q=43.05472%202.29917&amp;z=12&amp;s=0\"><span>L</span></a></span></sup></span></div>\\n</div>\\n\\n\\t<h1 id=\"firstHeading\" class=\"firstHeading\" lang=\"ru\">Виллар-Сент-Ансельм</h1>\\n\\t\\n\\t<div id=\"bodyContent\" class=\"mw-body-content\">\\n\\t\\t<div id=\"siteSub\" class=\"noprint\">Материал из Википедии &mdash; свободной энциклопедии</div>\\n\\t\\t<div id=\"contentSub\"></div>\\n\\t\\t\\n\\t\\t\\n\\t\\t\\n\\t\\t<div id=\"jump-to-nav\"></div>\\n\\t\\t<a class=\"mw-jump-link\" href=\"#mw-head\">Перейти к навигации</a>\\n\\t\\t<a class=\"mw-jump-link\" href=\"#p-search\">Перейти к поиску</a>\\n\\t\\t<div id=\"mw-content-text\" lang=\"ru\" dir=\"ltr\" class=\"mw-content-ltr\"><div class=\"mw-parser-output\"><table class=\"infobox vcard\" style=\"\" data-name=\"НП-Франция\"><tbody><tr><td colspan=\"2\" class=\"\" style=\"text-align:center;\">Коммуна</td></tr><tr><th colspan=\"2\" class=\"infobox-above fn org\" style=\"background:#cfe3ff;\">Виллар-Сент-Ансельм</th></tr><tr><td colspan=\"2\" class=\"nickname\" style=\"text-align:center;\"><span class=\"no-wikidata\" data-wikidata-property-id=\"P1705\"><span class=\"no-wikidata\" data-wikidata-property-id=\"P1448\">Villar-Saint-Anselme</span></span></td></tr><tr><td colspan=\"2\" class=\"infobox-image\" style=\"\"> <span class=\"wikidata-claim\" data-wikidata-property-id=\"P18\" data-wikidata-claim-id=\"Q1084000$7D25F76A-F84A-4F59-B24C-B634C057124C\"><span class=\"wikidata-snak wikidata-main-snak\"><a href=\"/wiki/%D0%A4%D0%B0%D0%B9%D0%BB:Villar-Saint-Anselme_Castle_4325.JPG\" class=\"image\"><img alt=\"Villar-Saint-Anselme Castle 4325.JPG\" src=\"//upload.wikimedia.org/wikipedia/commons/thumb/0/07/Villar-Saint-Anselme_Castle_4325.JPG/290px-Villar-Saint-Anselme_Castle_4325.JPG\" decoding=\"async\" width=\"290\" height=\"193\" srcset=\"//upload.wikimedia.org/wikipedia/commons/thumb/0/07/Villar-Saint-Anselme_Castle_4325.JPG/435px-Villar-Saint-Anselme_Castle_4325.JPG 1.5x, //upload.wikimedia.org/wikipedia/commons/thumb/0/07/Villar-Saint-Anselme_Castle_4325.JPG/580px-Villar-Saint-Anselme_Castle_4325.JPG 2x\" data-file-width=\"4896\" data-file-height=\"3264\" /></a></span></span> </td></tr>\\n<tr>\\n<td colspan=\"2\" class=\"plainlist\" style=\"text-align:center;width:60%;padding:0;\">\\n<table style=\"background:inherit; border-collapse:collapse; width:100%; display:table; text-align:center;\">\\n<tbody><tr>\\n\\n<td style=\"vertical-align: middle\"><span class=\"no-wikidata\" data-wikidata-property-id=\"P94\"><a href=\"/wiki/%D0%A4%D0%B0%D0%B9%D0%BB:Blason_ville_fr_Villar-Saint-Anselme_(Aude).svg\" class=\"image\" title=\"Герб\"><img alt=\"Герб\" src=\"//upload.wikimedia.org/wikipedia/commons/thumb/4/4b/Blason_ville_fr_Villar-Saint-Anselme_%28Aude%29.svg/90px-Blason_ville_fr_Villar-Saint-Anselme_%28Aude%29.svg.png\" decoding=\"async\" width=\"90\" height=\"99\" srcset=\"//upload.wikimedia.org/wikipedia/commons/thumb/4/4b/Blason_ville_fr_Villar-Saint-Anselme_%28Aude%29.svg/135px-Blason_ville_fr_Villar-Saint-Anselme_%28Aude%29.svg.png 1.5x, //upload.wikimedia.org/wikipedia/commons/thumb/4/4b/Blason_ville_fr_Villar-Saint-Anselme_%28Aude%29.svg/180px-Blason_ville_fr_Villar-Saint-Anselme_%28Aude%29.svg.png 2x\" data-file-width=\"600\" data-file-height=\"660\" /></a></span></td>\\n</tr>\\n<tr>\\n\\n<td>Герб</td>\\n</tr></tbody></table></td>\\n</tr>\\n<tr>\\n<td colspan=\"2\" class=\"plainlist\" style=\"text-align:center;width:60%;text-align: center; padding-bottom:0.25em;\">\\n<span class=\"coordinates plainlinks nourlexpansion\" data-param=\"43_3_17_N_2_17_57_E_scale:100000_region:FR_type:city\"><span title=\"Показать карту\"><a class=\"mw-kartographer-maplink\" data-mw=\"interface\" data-style=\"osm-intl\" href=\"/wiki/%D0%A1%D0%BB%D1%83%D0%B6%D0%B5%D0%B1%D0%BD%D0%B0%D1%8F:Map/12/43.05472/2.29917/ru\" data-zoom=\"12\" data-lat=\"43.05472\" data-lon=\"2.29917\" data-lang=\"ru\" data-overlays=\"[&quot;_edfc08f2bb9ac4cf82512502fb778a4437dd5612&quot;]\">43°03′17″&#160;с.&#160;ш. 2°17′57″&#160;в.&#160;д.</a></span><sup class=\"geo-services noprint\"><span class=\"geo-geohack\" title=\"Карты и инструменты на GeoHack\"><a class=\"external text\" href=\"//tools.wmflabs.org/geohack/geohack.php?language=ru&amp;pagename=%D0%92%D0%B8%D0%BB%D0%BB%D0%B0%D1%80-%D0%A1%D0%B5%D0%BD%D1%82-%D0%90%D0%BD%D1%81%D0%B5%D0%BB%D1%8C%D0%BC&amp;params=43_3_17_N_2_17_57_E_scale:100000_region:FR_type:city\"><span>H</span></a></span><span class=\"geo-google\" title=\"Это место на «Картах Google»\"><a rel=\"nofollow\" class=\"external text\" href=\"//maps.google.com/maps?ll=43.05472,2.29917&amp;q=43.05472,2.29917&amp;spn=0.1,0.1&amp;t=h&amp;hl=ru\"><span>G</span></a></span><span class=\"geo-yandex\" title=\"Это место на «Яндекс.Картах»\"><a rel=\"nofollow\" class=\"external text\" href=\"//yandex.ru/maps/?ll=2.29917,43.05472&amp;pt=2.29917,43.05472&amp;spn=0.1,0.1&amp;l=sat,skl\"><span>Я</span></a></span><span class=\"geo-osm\" title=\"Это место на карте OpenStreetMap\"><a rel=\"nofollow\" class=\"external text\" href=\"https://www.openstreetmap.org/?mlat=43.05472&amp;mlon=2.29917&amp;zoom=12\"><span>O</span></a></span><span class=\"geo-loadmap\" style=\"display: none;\" title=\"Это место на картах ГШ и ГУГК\"><a rel=\"nofollow\" class=\"external text\" href=\"http://loadmap.net/ru?q=43.05472%202.29917&amp;z=12&amp;s=0\"><span>L</span></a></span></sup></span></td>\\n</tr>\\n<tr>\\n<th class=\"plainlist\" style=\"width:40%;\">Страна</th>\\n<td class=\"plainlist\" style=\"width:60%;\">\\n<span class=\"no-wikidata\" data-wikidata-property-id=\"P17\"><span class=\"nowrap\" data-sort-value=\"Франция\"><span class=\"flagicon\"><a href=\"/wiki/%D0%A4%D1%80%D0%B0%D0%BD%D1%86%D0%B8%D1%8F\" title=\"Франция\"><img alt=\"\" src=\"//upload.wikimedia.org/wikipedia/commons/thumb/c/c3/Flag_of_France.svg/22px-Flag_of_France.svg.png\" decoding=\"async\" width=\"22\" height=\"15\" class=\"thumbborder\" srcset=\"//upload.wikimedia.org/wikipedia/commons/thumb/c/c3/Flag_of_France.svg/33px-Flag_of_France.svg.png 1.5x, //upload.wikimedia.org/wikipedia/commons/thumb/c/c3/Flag_of_France.svg/44px-Flag_of_France.svg.png 2x\" data-file-width=\"900\" data-file-height=\"600\" /></a></span>&#160;<a href=\"/wiki/%D0%A4%D1%80%D0%B0%D0%BD%D1%86%D0%B8%D1%8F\" title=\"Франция\"><span class=\"wrap\">Франция</span></a></span></span></td>\\n</tr>\\n<tr>\\n<th class=\"plainlist\" style=\"width:40%;\"><a href=\"/wiki/%D0%A0%D0%B5%D0%B3%D0%B8%D0%BE%D0%BD%D1%8B_%D0%A4%D1%80%D0%B0%D0%BD%D1%86%D0%B8%D0%B8\" title=\"Регионы Франции\">Регион</a></th>\\n<td class=\"plainlist\" style=\"width:60%;\">\\n<a href=\"/wiki/%D0%9B%D0%B0%D0%BD%D0%B3%D0%B5%D0%B4%D0%BE%D0%BA_%E2%80%94_%D0%A0%D1%83%D1%81%D1%81%D0%B8%D0%BB%D1%8C%D0%BE%D0%BD\" class=\"mw-redirect\" title=\"Лангедок — Руссильон\">Лангедок — Руссильон</a></td>\\n</tr>\\n<tr>\\n<th class=\"plainlist\" style=\"width:40%;\"><a href=\"/wiki/%D0%94%D0%B5%D0%BF%D0%B0%D1%80%D1%82%D0%B0%D0%BC%D0%B5%D0%BD%D1%82%D1%8B_%D0%A4%D1%80%D0%B0%D0%BD%D1%86%D0%B8%D0%B8\" title=\"Департаменты Франции\">Департамент</a></th>\\n<td class=\"plainlist\" style=\"width:60%;\">\\n<a href=\"/wiki/%D0%9E%D0%B4_(%D0%B4%D0%B5%D0%BF%D0%B0%D1%80%D1%82%D0%B0%D0%BC%D0%B5%D0%BD%D1%82)\" title=\"Од (департамент)\">Од</a></td>\\n</tr>\\n<tr>\\n<th class=\"plainlist\" style=\"width:40%;\"><a href=\"/wiki/%D0%9A%D0%B0%D0%BD%D1%82%D0%BE%D0%BD_(%D0%A4%D1%80%D0%B0%D0%BD%D1%86%D0%B8%D1%8F)\" class=\"mw-redirect\" title=\"Кантон (Франция)\">Кантон</a></th>\\n<td class=\"plainlist\" style=\"width:60%;\">\\n<a href=\"/wiki/%D0%A1%D0%B5%D0%BD%D1%82-%D0%98%D0%BB%D0%B5%D1%80_(%D0%BA%D0%B0%D0%BD%D1%82%D0%BE%D0%BD)\" title=\"Сент-Илер (кантон)\">Сент-Илер</a></td>\\n</tr>\\n<tr>\\n<th class=\"plainlist\" style=\"width:40%;\">Мэр</th>\\n<td class=\"plainlist\" style=\"width:60%;\">\\n<span class=\"no-wikidata\" data-wikidata-property-id=\"P6\">Eric Grauby<br />(2008–2014)</span></td>\\n</tr>\\n<tr>\\n<th colspan=\"2\" class=\"infobox-header\" style=\"background:#dcebff;\">История и география</th>\\n</tr>\\n<tr>\\n<th class=\"plainlist\" style=\"width:40%;\">Площадь</th>\\n<td class=\"plainlist\" style=\"width:60%;\">\\n<span class=\"no-wikidata\" data-wikidata-property-id=\"P2046\">5,88 км²</span></td>\\n</tr>\\n<tr>\\n<th class=\"plainlist\" style=\"width:40%;\"><a href=\"/wiki/%D0%92%D1%8B%D1%81%D0%BE%D1%82%D0%B0_%D0%BD%D0%B0%D0%B4_%D1%83%D1%80%D0%BE%D0%B2%D0%BD%D0%B5%D0%BC_%D0%BC%D0%BE%D1%80%D1%8F\" title=\"Высота над уровнем моря\">Высота центра</a></th>\\n<td class=\"plainlist\" style=\"width:60%;\">\\n<span class=\"no-wikidata\" data-wikidata-property-id=\"P2044\">210–424 м</span></td>\\n</tr>\\n<tr>\\n<th class=\"plainlist\" style=\"width:40%;\"><a href=\"/wiki/%D0%A7%D0%B0%D1%81%D0%BE%D0%B2%D0%BE%D0%B9_%D0%BF%D0%BE%D1%8F%D1%81\" title=\"Часовой пояс\">Часовой пояс</a></th>\\n<td class=\"plainlist\" style=\"width:60%;\">\\n<span class=\"no-wikidata\" data-wikidata-property-id=\"P421\"><a href=\"/wiki/UTC%2B1\" class=\"mw-redirect\" title=\"UTC+1\">UTC+1</a>, <a href=\"/wiki/%D0%9B%D0%B5%D1%82%D0%BD%D0%B5%D0%B5_%D0%B2%D1%80%D0%B5%D0%BC%D1%8F\" title=\"Летнее время\">летом</a> <a href=\"/wiki/UTC%2B2\" class=\"mw-redirect\" title=\"UTC+2\">UTC+2</a></span></td>\\n</tr>\\n<tr>\\n<th colspan=\"2\" class=\"infobox-header\" style=\"background:#dcebff;\">Население</th>\\n</tr>\\n<tr>\\n<th class=\"plainlist\" style=\"width:40%;\">Население</th>\\n<td class=\"plainlist\" style=\"width:60%;\">\\n<span class=\"no-wikidata\" data-wikidata-property-id=\"P1082\"><span class=\"nowrap\">93&#160;человека (<span data-wikidata-qualifier-id=\"P585\">2008</span>)</span></span></td>\\n</tr>\\n<tr>\\n<th class=\"plainlist\" style=\"width:40%;\">Плотность</th>\\n<td class=\"plainlist\" style=\"width:60%;\">\\n16&#160;чел./км²</td>\\n</tr>\\n<tr>\\n<th colspan=\"2\" class=\"infobox-header\" style=\"background:#dcebff;\">Цифровые идентификаторы</th>\\n</tr>\\n<tr>\\n<th class=\"plainlist\" style=\"width:40%;\"><a href=\"/wiki/%D0%9F%D0%BE%D1%87%D1%82%D0%BE%D0%B2%D1%8B%D0%B9_%D0%B8%D0%BD%D0%B4%D0%B5%D0%BA%D1%81\" title=\"Почтовый индекс\">Почтовый индекс</a></th>\\n<td class=\"plainlist\" style=\"width:60%;\">\\n<span class=\"no-wikidata\" data-wikidata-property-id=\"P281\">11250</span></td>\\n</tr>\\n<tr>\\n<th class=\"plainlist\" style=\"width:40%;\"><a href=\"/wiki/%D0%9A%D0%BE%D0%B4_INSEE\" title=\"Код INSEE\">Код INSEE</a></th>\\n<td class=\"plainlist\" style=\"width:60%;\">\\n<span class=\"no-wikidata\" data-wikidata-external-id=\"11415\" data-wikidata-property-id=\"P374\"><a rel=\"nofollow\" class=\"external text\" href=\"https://www.insee.fr/fr/statistiques/2011101?geo=COM-11415\">11415</a></span></td>\\n</tr><tr><td colspan=\"2\" class=\"infobox-below\" style=\";padding: 0 1px 1px 0;\"><div class=\"mw-customtoggle-maps1 noprint\" style=\"background:#dcebff; padding: 1px 0; min-width: 297px; width: 100%;\"><span style=\"border-bottom:1px dotted;\">Показать/скрыть карты</span></div>\\n<div class=\"mw-collapsible mw-collapsed\" id=\"mw-customcollapsible-maps1\">\\n<div class=\"mw-collapsible-content\" style=\"margin-top: 2px;\"><div class=\"location-map\" style=\"width:290px;&#32;;;margin:0 auto\"><div class=\"\"><div class=\"thumbimage\" style=\"overflow:hidden;max-width:100%;width:290px;position:relative;&#32;;\"><a href=\"/wiki/%D0%A4%D0%B0%D0%B9%D0%BB:France_location_map-Regions_and_departements-2016.svg\" class=\"image\" title=\"Виллар-Сент-Ансельм на карте\"><img alt=\"Виллар-Сент-Ансельм на карте\" src=\"//upload.wikimedia.org/wikipedia/commons/thumb/e/e9/France_location_map-Regions_and_departements-2016.svg/290px-France_location_map-Regions_and_departements-2016.svg.png\" decoding=\"async\" width=\"290\" height=\"279\" srcset=\"//upload.wikimedia.org/wikipedia/commons/thumb/e/e9/France_location_map-Regions_and_departements-2016.svg/435px-France_location_map-Regions_and_departements-2016.svg.png 1.5x, //upload.wikimedia.org/wikipedia/commons/thumb/e/e9/France_location_map-Regions_and_departements-2016.svg/580px-France_location_map-Regions_and_departements-2016.svg.png 2x\" data-file-width=\"2000\" data-file-height=\"1922\" /></a><div style=\"font-size:88%;line-height:1.2em;position:absolute;z-index:2;left:51.260548523207%;top:80.431216931219%\"><div style=\"position:relative;float:left;left:-4px;top:-4px;line-height:0;\"><img alt=\"Виллар-Сент-Ансельм\" src=\"//upload.wikimedia.org/wikipedia/commons/thumb/b/b4/Red_pog.png/9px-Red_pog.png\" decoding=\"async\" title=\"Виллар-Сент-Ансельм\" width=\"9\" height=\"9\" srcset=\"//upload.wikimedia.org/wikipedia/commons/thumb/b/b4/Red_pog.png/14px-Red_pog.png 1.5x, //upload.wikimedia.org/wikipedia/commons/thumb/b/b4/Red_pog.png/18px-Red_pog.png 2x\" data-file-width=\"64\" data-file-height=\"64\" /></div><div style=\"position:absolute;width:156px;top:-0.5em;text-align:right;left:-162.5px\"><span style=\"background:none;padding:0 2px\">Виллар-Сент-Ансельм</span></div></div></div></div></div></div></div></td></tr><tr><td colspan=\"2\" class=\"infobox-below metadata\" style=\";background:#dcebff; font-weight:bold;\"><span class=\"wikidata-claim\" data-wikidata-property-id=\"P373\" data-wikidata-claim-id=\"q1084000$63A7E967-B855-43D7-A133-7D714427F16A\"><span class=\"wikidata-snak wikidata-main-snak\"><a href=\"https://commons.wikimedia.org/wiki/Category:Villar-Saint-Anselme\" title=\"commons:Category:Villar-Saint-Anselme\"><img alt=\"Commons-logo.svg\" src=\"//upload.wikimedia.org/wikipedia/commons/thumb/4/4a/Commons-logo.svg/15px-Commons-logo.svg.png\" decoding=\"async\" width=\"15\" height=\"20\" srcset=\"//upload.wikimedia.org/wikipedia/commons/thumb/4/4a/Commons-logo.svg/23px-Commons-logo.svg.png 1.5x, //upload.wikimedia.org/wikipedia/commons/thumb/4/4a/Commons-logo.svg/30px-Commons-logo.svg.png 2x\" data-file-width=\"1024\" data-file-height=\"1376\" /></a>&#160;<a href=\"https://commons.wikimedia.org/wiki/Category:Villar-Saint-Anselme\" class=\"extiw\" title=\"commons:Category:Villar-Saint-Anselme\">Медиафайлы на Викискладе</a></span></span></td></tr>\\n</tbody></table>\\n<p><b>Вилла́р-Сент-Ансе́льм</b> (<a href=\"/wiki/%D0%A4%D1%80%D0%B0%D0%BD%D1%86%D1%83%D0%B7%D1%81%D0%BA%D0%B8%D0%B9_%D1%8F%D0%B7%D1%8B%D0%BA\" title=\"Французский язык\">фр.</a>&#160;<span lang=\"fr\" style=\"font-style:italic;\">Villar-Saint-Anselme</span>)&#160;— <a href=\"/wiki/%D0%9A%D0%BE%D0%BC%D0%BC%D1%83%D0%BD%D1%8B_%D0%A4%D1%80%D0%B0%D0%BD%D1%86%D0%B8%D0%B8\" title=\"Коммуны Франции\">коммуна</a> во <a href=\"/wiki/%D0%A4%D1%80%D0%B0%D0%BD%D1%86%D0%B8%D1%8F\" title=\"Франция\">Франции</a>, находится в регионе <a href=\"/wiki/%D0%9B%D0%B0%D0%BD%D0%B3%D0%B5%D0%B4%D0%BE%D0%BA_%E2%80%94_%D0%A0%D1%83%D1%81%D1%81%D0%B8%D0%BB%D1%8C%D0%BE%D0%BD\" class=\"mw-redirect\" title=\"Лангедок — Руссильон\">Лангедок — Руссильон</a>. Департамент коммуны&#160;— <a href=\"/wiki/%D0%9E%D0%B4_(%D0%B4%D0%B5%D0%BF%D0%B0%D1%80%D1%82%D0%B0%D0%BC%D0%B5%D0%BD%D1%82)\" title=\"Од (департамент)\">Од</a>. Входит в состав <a href=\"/wiki/%D0%9A%D0%B0%D0%BD%D1%82%D0%BE%D0%BD%D1%8B_%D0%A4%D1%80%D0%B0%D0%BD%D1%86%D0%B8%D0%B8\" title=\"Кантоны Франции\">кантона</a> <a href=\"/wiki/%D0%A1%D0%B5%D0%BD%D1%82-%D0%98%D0%BB%D0%B5%D1%80_(%D0%BA%D0%B0%D0%BD%D1%82%D0%BE%D0%BD)\" title=\"Сент-Илер (кантон)\">Сент-Илер</a>. <a href=\"/wiki/%D0%9E%D0%BA%D1%80%D1%83%D0%B3%D0%B0_%D0%A4%D1%80%D0%B0%D0%BD%D1%86%D0%B8%D0%B8\" title=\"Округа Франции\">Округ</a> коммуны&#160;— <a href=\"/wiki/%D0%9B%D0%B8%D0%BC%D1%83_(%D0%BE%D0%BA%D1%80%D1%83%D0%B3)\" title=\"Лиму (округ)\">Лиму</a>.\\n</p><p><a href=\"/wiki/%D0%9A%D0%BE%D0%B4_INSEE\" title=\"Код INSEE\">Код INSEE</a> коммуны — 11415.\\n</p>\\n<div id=\"toc\" class=\"toc\"><input type=\"checkbox\" role=\"button\" id=\"toctogglecheckbox\" class=\"toctogglecheckbox\" style=\"display:none\" /><div class=\"toctitle\" lang=\"ru\" dir=\"ltr\"><h2>Содержание</h2><span class=\"toctogglespan\"><label class=\"toctogglelabel\" for=\"toctogglecheckbox\"></label></span></div>\\n<ul>\\n<li class=\"toclevel-1 tocsection-1\"><a href=\"#Население\"><span class=\"tocnumber\">1</span> <span class=\"toctext\">Население</span></a></li>\\n<li class=\"toclevel-1 tocsection-2\"><a href=\"#Экономика\"><span class=\"tocnumber\">2</span> <span class=\"toctext\">Экономика</span></a></li>\\n<li class=\"toclevel-1 tocsection-3\"><a href=\"#См._также\"><span class=\"tocnumber\">3</span> <span class=\"toctext\">См. также</span></a></li>\\n<li class=\"toclevel-1 tocsection-4\"><a href=\"#Примечания\"><span class=\"tocnumber\">4</span> <span class=\"toctext\">Примечания</span></a></li>\\n<li class=\"toclevel-1 tocsection-5\"><a href=\"#Ссылки\"><span class=\"tocnumber\">5</span> <span class=\"toctext\">Ссылки</span></a></li>\\n</ul>\\n</div>\\n\\n<h2><span id=\".D0.9D.D0.B0.D1.81.D0.B5.D0.BB.D0.B5.D0.BD.D0.B8.D0.B5\"></span><span class=\"mw-headline\" id=\"Население\">Население</span><span class=\"mw-editsection\"><span class=\"mw-editsection-bracket\">[</span><a href=\"/w/index.php?title=%D0%92%D0%B8%D0%BB%D0%BB%D0%B0%D1%80-%D0%A1%D0%B5%D0%BD%D1%82-%D0%90%D0%BD%D1%81%D0%B5%D0%BB%D1%8C%D0%BC&amp;veaction=edit&amp;section=1\" class=\"mw-editsection-visualeditor\" title=\"Редактировать раздел «Население»\">править</a><span class=\"mw-editsection-divider\"> | </span><a href=\"/w/index.php?title=%D0%92%D0%B8%D0%BB%D0%BB%D0%B0%D1%80-%D0%A1%D0%B5%D0%BD%D1%82-%D0%90%D0%BD%D1%81%D0%B5%D0%BB%D1%8C%D0%BC&amp;action=edit&amp;section=1\" title=\"Редактировать раздел «Население»\">править код</a><span class=\"mw-editsection-bracket\">]</span></span></h2>\\n<p>Население коммуны на 2008 год составляло 93 человека.\\n</p>\\n<table align=\"center\" rules=\"all\" cellspacing=\"0\" cellpadding=\"4\" style=\"border:1px solid #999;background-color:#f3fff3\">\\n<caption style=\"margin-bottom:0.5em;font-size:1.1em;font-weight:bold\">Численность населения по годам<br /><small>(Источник: <a rel=\"nofollow\" class=\"external text\" href=\"http://www.insee.fr/fr/themes/tableau_local.asp?ref_id=POP&amp;millesime=2010&amp;nivgeo=COM&amp;codgeo=11415\">INSEE</a>)</small></caption>\\n<tbody><tr style=\"background:#ddffdd\" align=\"center\">\\n\\n<th scope=\"col\">1962</th><th scope=\"col\">1968</th><th scope=\"col\">1975</th><th scope=\"col\">1982</th><th scope=\"col\">1990</th><th scope=\"col\">1999</th><th scope=\"col\">2008</th>\\n</tr><tr align=\"center\">\\n<td>131</td><td>141</td><td>120</td><td>117</td><td>112</td><td>94</td><td>93</td>\\n</tr></tbody></table>\\n<h2><span id=\".D0.AD.D0.BA.D0.BE.D0.BD.D0.BE.D0.BC.D0.B8.D0.BA.D0.B0\"></span><span class=\"mw-headline\" id=\"Экономика\">Экономика</span><span class=\"mw-editsection\"><span class=\"mw-editsection-bracket\">[</span><a href=\"/w/index.php?title=%D0%92%D0%B8%D0%BB%D0%BB%D0%B0%D1%80-%D0%A1%D0%B5%D0%BD%D1%82-%D0%90%D0%BD%D1%81%D0%B5%D0%BB%D1%8C%D0%BC&amp;veaction=edit&amp;section=2\" class=\"mw-editsection-visualeditor\" title=\"Редактировать раздел «Экономика»\">править</a><span class=\"mw-editsection-divider\"> | </span><a href=\"/w/index.php?title=%D0%92%D0%B8%D0%BB%D0%BB%D0%B0%D1%80-%D0%A1%D0%B5%D0%BD%D1%82-%D0%90%D0%BD%D1%81%D0%B5%D0%BB%D1%8C%D0%BC&amp;action=edit&amp;section=2\" title=\"Редактировать раздел «Экономика»\">править код</a><span class=\"mw-editsection-bracket\">]</span></span></h2>\\n<p>В 2007 году среди 54 человек в трудоспособном возрасте (15—64 лет) 40 были <a href=\"/wiki/%D0%AD%D0%BA%D0%BE%D0%BD%D0%BE%D0%BC%D0%B8%D1%87%D0%B5%D1%81%D0%BA%D0%B8_%D0%B0%D0%BA%D1%82%D0%B8%D0%B2%D0%BD%D0%BE%D0%B5_%D0%BD%D0%B0%D1%81%D0%B5%D0%BB%D0%B5%D0%BD%D0%B8%D0%B5\" title=\"Экономически активное население\">экономически активными</a>, 14&#160;— неактивными (показатель активности&#160;— 74,1&#160;%, в 1999 году было 59,3&#160;%). Из 40 активных работали 36 человек (22 мужчин и 14 женщин), безработных было 4 (2 мужчин и 2 женщины). Среди 14 неактивных 5 человек были учениками или студентами, 4&#160;— пенсионерами, 5 были неактивными по другим причинам<sup id=\"cite_ref-1\" class=\"reference\"><a href=\"#cite_note-1\">&#91;1&#93;</a></sup>.\\n</p>\\n<h2><span id=\".D0.A1.D0.BC._.D1.82.D0.B0.D0.BA.D0.B6.D0.B5\"></span><span class=\"mw-headline\" id=\"См._также\">См. также</span><span class=\"mw-editsection\"><span class=\"mw-editsection-bracket\">[</span><a href=\"/w/index.php?title=%D0%92%D0%B8%D0%BB%D0%BB%D0%B0%D1%80-%D0%A1%D0%B5%D0%BD%D1%82-%D0%90%D0%BD%D1%81%D0%B5%D0%BB%D1%8C%D0%BC&amp;veaction=edit&amp;section=3\" class=\"mw-editsection-visualeditor\" title=\"Редактировать раздел «См. также»\">править</a><span class=\"mw-editsection-divider\"> | </span><a href=\"/w/index.php?title=%D0%92%D0%B8%D0%BB%D0%BB%D0%B0%D1%80-%D0%A1%D0%B5%D0%BD%D1%82-%D0%90%D0%BD%D1%81%D0%B5%D0%BB%D1%8C%D0%BC&amp;action=edit&amp;section=3\" title=\"Редактировать раздел «См. также»\">править код</a><span class=\"mw-editsection-bracket\">]</span></span></h2>\\n<ul><li><a href=\"/wiki/%D0%A1%D0%BF%D0%B8%D1%81%D0%BE%D0%BA_%D0%BE%D0%BA%D1%80%D1%83%D0%B3%D0%BE%D0%B2_%D0%A4%D1%80%D0%B0%D0%BD%D1%86%D0%B8%D0%B8\" title=\"Список округов Франции\">Список округов Франции</a></li></ul>\\n<h2><span id=\".D0.9F.D1.80.D0.B8.D0.BC.D0.B5.D1.87.D0.B0.D0.BD.D0.B8.D1.8F\"></span><span class=\"mw-headline\" id=\"Примечания\">Примечания</span><span class=\"mw-editsection\"><span class=\"mw-editsection-bracket\">[</span><a href=\"/w/index.php?title=%D0%92%D0%B8%D0%BB%D0%BB%D0%B0%D1%80-%D0%A1%D0%B5%D0%BD%D1%82-%D0%90%D0%BD%D1%81%D0%B5%D0%BB%D1%8C%D0%BC&amp;veaction=edit&amp;section=4\" class=\"mw-editsection-visualeditor\" title=\"Редактировать раздел «Примечания»\">править</a><span class=\"mw-editsection-divider\"> | </span><a href=\"/w/index.php?title=%D0%92%D0%B8%D0%BB%D0%BB%D0%B0%D1%80-%D0%A1%D0%B5%D0%BD%D1%82-%D0%90%D0%BD%D1%81%D0%B5%D0%BB%D1%8C%D0%BC&amp;action=edit&amp;section=4\" title=\"Редактировать раздел «Примечания»\">править код</a><span class=\"mw-editsection-bracket\">]</span></span></h2>\\n<div class=\"reflist columns\" style=\"list-style-type: decimal;\">\\n<div class=\"mw-references-wrap\"><ol class=\"references\">\\n<li id=\"cite_note-1\"><span class=\"mw-cite-backlink\"><a href=\"#cite_ref-1\">↑</a></span> <span class=\"reference-text\"><span class=\"citation\"><span lang=\"fr\"><a rel=\"nofollow\" class=\"external text\" href=\"http://www.recensement.insee.fr/chiffresCles.action?zoneSearchField=&amp;codeZone=11415-COM&amp;idTheme=2\">Emploi et population active 1999 et 2007</a></span>&#160;<span class=\"ref-info\" style=\"cursor:help;\" title=\"на французском языке\">(фр.)</span>.&#32; INSEE.&#32;<small>Дата обращения 17 мая 2012.</small>&#32;<small><a rel=\"nofollow\" class=\"external text\" href=\"https://www.webcitation.org/6Aqw7F3o5?url=http://www.recensement.insee.fr/chiffresCles.action?zoneSearchField=\">Архивировано</a> 21&#160;сентября 2012&#160;года.</small></span></span>\\n</li>\\n</ol></div></div>\\n<h2><span id=\".D0.A1.D1.81.D1.8B.D0.BB.D0.BA.D0.B8\"></span><span class=\"mw-headline\" id=\"Ссылки\">Ссылки</span><span class=\"mw-editsection\"><span class=\"mw-editsection-bracket\">[</span><a href=\"/w/index.php?title=%D0%92%D0%B8%D0%BB%D0%BB%D0%B0%D1%80-%D0%A1%D0%B5%D0%BD%D1%82-%D0%90%D0%BD%D1%81%D0%B5%D0%BB%D1%8C%D0%BC&amp;veaction=edit&amp;section=5\" class=\"mw-editsection-visualeditor\" title=\"Редактировать раздел «Ссылки»\">править</a><span class=\"mw-editsection-divider\"> | </span><a href=\"/w/index.php?title=%D0%92%D0%B8%D0%BB%D0%BB%D0%B0%D1%80-%D0%A1%D0%B5%D0%BD%D1%82-%D0%90%D0%BD%D1%81%D0%B5%D0%BB%D1%8C%D0%BC&amp;action=edit&amp;section=5\" title=\"Редактировать раздел «Ссылки»\">править код</a><span class=\"mw-editsection-bracket\">]</span></span></h2>\\n<ul><li><span class=\"citation\"><span lang=\"fr\"><a rel=\"nofollow\" class=\"external text\" href=\"http://www.insee.fr/fr/methodes/nomenclatures/cog/fichecommunale.asp?codedep=11&amp;codecom=415\">Национальный институт статистики — Виллар-Сент-Ансельм</a></span>&#160;<span class=\"ref-info\" style=\"cursor:help;\" title=\"на французском языке\">(фр.)</span>.&#32;<small>Дата обращения 17 мая 2012.</small>&#32;<small><a rel=\"nofollow\" class=\"external text\" href=\"https://www.webcitation.org/6Aqw87AQZ?url=http://www.insee.fr/fr/methodes/nomenclatures/cog/fichecommunale.asp?codedep=11\">Архивировано</a> 21&#160;сентября 2012&#160;года.</small></span></li>\\n<li><span class=\"citation\"><span lang=\"fr\"><a rel=\"nofollow\" class=\"external text\" href=\"http://cassini.ehess.fr/cassini/fr/html/fiche.php?select_resultat=40082\">Виллар-Сент-Ансельм</a></span>&#160;<span class=\"ref-info\" style=\"cursor:help;\" title=\"на французском языке\">(фр.)</span>.&#32; cassini.ehess.fr.&#32;<small>Дата обращения 2 февраля 2013.</small>&#32;<small><a rel=\"nofollow\" class=\"external text\" href=\"https://www.webcitation.org/6ENwhBUpx?url=http://cassini.ehess.fr/cassini/fr/html/fiche.php?select_resultat=40082\">Архивировано</a> 12&#160;февраля 2013&#160;года.</small></span></li></ul>\\n<p><br />\\n</p>\\n<table style=\"background:none; text-align:left; padding:2px 0;\" class=\"metadata\">\\n<tbody><tr>\\n<td style=\"padding-right:4px;\"><a href=\"/wiki/%D0%A4%D0%B0%D0%B9%D0%BB:France_Flag_Map.svg\" class=\"image\" title=\"Франция\"><img alt=\"Франция\" src=\"//upload.wikimedia.org/wikipedia/commons/thumb/e/e4/France_Flag_Map.svg/40px-France_Flag_Map.svg.png\" decoding=\"async\" width=\"40\" height=\"39\" srcset=\"//upload.wikimedia.org/wikipedia/commons/thumb/e/e4/France_Flag_Map.svg/60px-France_Flag_Map.svg.png 1.5x, //upload.wikimedia.org/wikipedia/commons/thumb/e/e4/France_Flag_Map.svg/80px-France_Flag_Map.svg.png 2x\" data-file-width=\"1612\" data-file-height=\"1579\" /></a>\\n</td>\\n<td><i>Это <a href=\"/wiki/%D0%92%D0%B8%D0%BA%D0%B8%D0%BF%D0%B5%D0%B4%D0%B8%D1%8F:%D0%97%D0%B0%D0%B3%D0%BE%D1%82%D0%BE%D0%B2%D0%BA%D0%B0_%D1%81%D1%82%D0%B0%D1%82%D1%8C%D0%B8\" title=\"Википедия:Заготовка статьи\">заготовка статьи</a>&#32;по <a href=\"/wiki/%D0%93%D0%B5%D0%BE%D0%B3%D1%80%D0%B0%D1%84%D0%B8%D1%8F_%D0%A4%D1%80%D0%B0%D0%BD%D1%86%D0%B8%D0%B8\" title=\"География Франции\">географии Франции</a>. Вы можете помочь проекту, дополнив её.</i>\\n</td></tr></tbody></table>\\n<div role=\"navigation\" class=\"navbox\" aria-labelledby=\"Коммуны_округа_Лиму\" style=\"padding:3px\"><table class=\"nowraplinks collapsible collapsed navbox-inner\" style=\"border-spacing:0;background:transparent;color:inherit\"><tbody><tr><th scope=\"col\" class=\"navbox-title\" colspan=\"2\"><span style=\"float:left;text-align:left;width:5em;margin-right:0.5em\"><a href=\"/wiki/%D0%A8%D0%B0%D0%B1%D0%BB%D0%BE%D0%BD:%D0%9A%D0%BE%D0%BC%D0%BC%D1%83%D0%BD%D1%8B_%D0%BE%D0%BA%D1%80%D1%83%D0%B3%D0%B0_%D0%9B%D0%B8%D0%BC%D1%83\" title=\"Просмотр этого шаблона\"><img alt=\"⛭\" src=\"//upload.wikimedia.org/wikipedia/commons/thumb/c/c9/Wikipedia_interwiki_section_gear_icon.svg/14px-Wikipedia_interwiki_section_gear_icon.svg.png\" decoding=\"async\" width=\"14\" height=\"14\" srcset=\"//upload.wikimedia.org/wikipedia/commons/thumb/c/c9/Wikipedia_interwiki_section_gear_icon.svg/21px-Wikipedia_interwiki_section_gear_icon.svg.png 1.5x, //upload.wikimedia.org/wikipedia/commons/thumb/c/c9/Wikipedia_interwiki_section_gear_icon.svg/28px-Wikipedia_interwiki_section_gear_icon.svg.png 2x\" data-file-width=\"14\" data-file-height=\"14\" /></a></span><div id=\"Коммуны_округа_Лиму\" style=\"font-size:114%;margin:0 5em\">Коммуны округа <a href=\"/wiki/%D0%9B%D0%B8%D0%BC%D1%83_(%D0%BE%D0%BA%D1%80%D1%83%D0%B3)\" title=\"Лиму (округ)\">Лиму</a></div></th></tr><tr><th scope=\"row\" class=\"navbox-group\" style=\"width:1px\"><a href=\"/wiki/%D0%90%D0%BA%D1%81%D0%B0_(%D0%BA%D0%B0%D0%BD%D1%82%D0%BE%D0%BD)\" title=\"Акса (кантон)\">Акса</a></th><td class=\"navbox-list navbox-odd\" style=\"text-align:left;border-left-width:2px;border-left-style:solid;width:100%;padding:0px\"><div style=\"padding:0em 0.25em\"><b><a href=\"/wiki/%D0%90%D0%BA%D1%81%D0%B0\" title=\"Акса\">Акса</a></b> • <a href=\"/wiki/%D0%90%D1%80%D1%82%D0%B8%D0%B3_(%D0%9E%D0%B4)\" title=\"Артиг (Од)\">Артиг</a> • <a href=\"/wiki/%D0%91%D0%B5%D1%81%D1%81%D0%B5%D0%B4-%D0%B4%D0%B5-%D0%A1%D0%BE\" title=\"Бессед-де-Со\">Бессед-де-Со</a> • <a href=\"/wiki/%D0%96%D0%B5%D0%BD%D0%BA%D0%BB%D0%B0\" title=\"Женкла\">Женкла</a> • <a href=\"/wiki/%D0%9A%D0%B0%D0%B9%D1%8F_(%D0%9E%D0%B4)\" title=\"Кайя (Од)\">Кайя</a> • <a href=\"/wiki/%D0%9A%D1%83%D0%BD%D0%BE%D0%B7%D1%83%D0%BB%D1%8C\" title=\"Кунозуль\">Кунозуль</a> • <a href=\"/wiki/%D0%9B%D0%B5-%D0%91%D1%83%D1%81%D0%BA%D0%B5\" title=\"Ле-Буске\">Ле-Буске</a> • <a href=\"/wiki/%D0%9B%D0%B5-%D0%9A%D0%BB%D0%B0\" title=\"Ле-Кла\">Ле-Кла</a> • <a href=\"/wiki/%D0%9C%D0%BE%D0%BD%D1%84%D0%BE%D1%80-%D1%81%D1%8E%D1%80-%D0%91%D1%83%D0%BB%D1%8C%D0%B7%D0%B0%D0%BD\" title=\"Монфор-сюр-Бульзан\">Монфор-сюр-Бульзан</a> • <a href=\"/wiki/%D0%9F%D1%8E%D0%B8%D0%BB%D0%BE%D1%80%D0%B0%D0%BD_(%D0%9E%D0%B4)\" title=\"Пюилоран (Од)\">Пюилоран</a> • <a href=\"/wiki/%D0%A0%D0%BE%D0%BA%D1%84%D0%BE%D1%80-%D0%B4%D0%B5-%D0%A1%D0%BE\" title=\"Рокфор-де-Со\">Рокфор-де-Со</a> • <a href=\"/wiki/%D0%A1%D0%B0%D0%BB%D1%8C%D0%B2%D0%B5%D0%B7%D0%B8%D0%BD\" title=\"Сальвезин\">Сальвезин</a> • <a href=\"/wiki/%D0%A1%D0%B5%D0%BD%D1%82-%D0%9A%D0%BE%D0%BB%D0%BE%D0%BC%D0%B1-%D1%81%D1%8E%D1%80-%D0%93%D0%B5%D1%82\" title=\"Сент-Коломб-сюр-Гет\">Сент-Коломб-сюр-Гет</a> • <a href=\"/wiki/%D0%AD%D1%81%D0%BA%D1%83%D0%BB%D1%83%D0%B1%D1%80\" title=\"Эскулубр\">Эскулубр</a></div></td></tr><tr><th scope=\"row\" class=\"navbox-group\" style=\"width:1px\"><a href=\"/wiki/%D0%90%D0%BB%D0%B5%D0%BD%D1%8C_(%D0%BA%D0%B0%D0%BD%D1%82%D0%BE%D0%BD)\" title=\"Алень (кантон)\">Алень</a></th><td class=\"navbox-list navbox-even\" style=\"text-align:left;border-left-width:2px;border-left-style:solid;width:100%;padding:0px\"><div style=\"padding:0em 0.25em\"><b><a href=\"/wiki/%D0%90%D0%BB%D0%B5%D0%BD%D1%8C_(%D0%BA%D0%BE%D0%BC%D0%BC%D1%83%D0%BD%D0%B0)\" title=\"Алень (коммуна)\">Алень</a></b> • <a href=\"/wiki/%D0%91%D0%B5%D0%BB%D1%8C%D0%B2%D0%B5%D0%B7-%D0%B4%D1%8E-%D0%A0%D0%B0%D0%B7%D0%B5%D1%81\" title=\"Бельвез-дю-Разес\">Бельвез-дю-Разес</a> • <a href=\"/wiki/%D0%91%D0%B5%D0%BB%D1%8C%D0%B3%D0%B0%D1%80%D0%B4-%D0%B4%D1%8E-%D0%A0%D0%B0%D0%B7%D0%B5%D1%81\" title=\"Бельгард-дю-Разес\">Бельгард-дю-Разес</a> • <a href=\"/wiki/%D0%91%D1%80%D0%B5%D0%B7%D0%B8%D0%BB%D1%8C%D1%8F%D0%BA\" class=\"mw-redirect\" title=\"Брезильяк\">Брезильяк</a> • <a href=\"/wiki/%D0%91%D1%80%D1%8E%D0%B3%D0%B5%D1%80%D0%BE%D0%BB%D1%8C\" title=\"Брюгероль\">Брюгероль</a> • <a href=\"/wiki/%D0%92%D0%B8%D0%BB%D0%BB%D0%B0%D1%80%D0%B7%D0%B5%D0%BB%D1%8C-%D0%B4%D1%8E-%D0%A0%D0%B0%D0%B7%D0%B5%D1%81\" title=\"Вилларзель-дю-Разес\">Вилларзель-дю-Разес</a> • <a href=\"/wiki/%D0%93%D1%80%D0%B0%D0%BC%D0%B0%D0%B7%D0%B8\" title=\"Грамази\">Грамази</a> • <a href=\"/wiki/%D0%94%D0%BE%D0%BD%D0%B0%D0%B7%D0%B0%D0%BA\" title=\"Доназак\">Доназак</a> • <a href=\"/wiki/%D0%9A%D0%B0%D0%BC%D0%B1%D1%8C%D1%91%D1%80\" title=\"Камбьёр\">Камбьёр</a> • <a href=\"/wiki/%D0%9A%D0%B0%D0%B9%D0%B0%D0%B2%D0%B5%D0%BB%D1%8C\" title=\"Кайавель\">Кайавель</a> • <a href=\"/wiki/%D0%9A%D0%B0%D0%B9%D0%BE_(%D0%9E%D0%B4)\" title=\"Кайо (Од)\">Кайо</a> • <a href=\"/wiki/%D0%9B%D0%B0-%D0%9A%D1%83%D1%80%D1%82%D0%B5%D1%82\" title=\"Ла-Куртет\">Ла-Куртет</a> • <a href=\"/wiki/%D0%9B%D0%B0%D1%81%D1%81%D0%B5%D1%80-%D0%B4%D0%B5-%D0%9F%D1%80%D1%83%D0%B9\" title=\"Лассер-де-Пруй\">Лассер-де-Пруй</a> • <a href=\"/wiki/%D0%9B%D0%B8%D0%BD%D1%8C%D0%B5%D1%80%D0%BE%D0%BB%D1%8C_(%D0%9E%D0%B4)\" title=\"Линьероль (Од)\">Линьероль</a> • <a href=\"/wiki/%D0%9B%D0%BE%D1%80%D0%B0%D0%B3%D0%B5%D0%BB%D1%8C\" title=\"Лорагель\">Лорагель</a> • <a href=\"/wiki/%D0%9C%D0%B0%D0%B7%D1%80%D0%BE%D0%BB%D1%8C-%D0%B4%D1%8E-%D0%A0%D0%B0%D0%B7%D0%B5%D1%81\" title=\"Мазроль-дю-Разес\">Мазроль-дю-Разес</a> • <a href=\"/wiki/%D0%9C%D0%B0%D0%BB%D1%8C%D0%B2%D1%8C%D0%B5%D1%81\" title=\"Мальвьес\">Мальвьес</a> • <a href=\"/wiki/%D0%9C%D0%BE%D0%BD%D0%B3%D1%80%D0%B0%D0%B4%D0%B0%D0%B9\" title=\"Монградай\">Монградай</a> • <a href=\"/wiki/%D0%9C%D0%BE%D0%BD%D1%82%D0%BE_(%D0%9E%D0%B4)\" title=\"Монто (Од)\">Монто</a> • <a href=\"/wiki/%D0%9F%D0%BE%D0%BC%D0%B8\" title=\"Поми\">Поми</a> • <a href=\"/wiki/%D0%A0%D1%83%D1%82%D1%8C%D0%B5_(%D0%BA%D0%BE%D0%BC%D0%BC%D1%83%D0%BD%D0%B0)\" title=\"Рутье (коммуна)\">Рутье</a> • <a href=\"/wiki/%D0%A1%D0%B5%D0%BD%D1%8C%D1%8F%D0%BB%D0%B0%D0%BD\" title=\"Сеньялан\">Сеньялан</a> • <a href=\"/wiki/%D0%A3%D0%BD%D1%83\" title=\"Уну\">Уну</a> • <a href=\"/wiki/%D0%A4%D0%B5%D0%BD%D1%83%D0%B9%D0%B5-%D0%B4%D1%8E-%D0%A0%D0%B0%D0%B7%D0%B5%D1%81\" title=\"Фенуйе-дю-Разес\">Фенуйе-дю-Разес</a> • <a href=\"/wiki/%D0%A4%D0%B5%D1%80%D1%80%D0%B0%D0%BD\" title=\"Ферран\">Ферран</a> • <a href=\"/wiki/%D0%AD%D0%BA%D1%91%D0%B9%D0%B0%D0%BD-%D1%8D-%D0%A1%D0%B5%D0%BD-%D0%96%D1%8E%D1%81%D1%82-%D0%B4%D0%B5-%D0%91%D0%B5%D0%BB%D0%B0%D0%BD%D0%B3%D0%B0%D1%80\" title=\"Экёйан-э-Сен-Жюст-де-Белангар\">Экёйан-э-Сен-Жюст-де-Белангар</a></div></td></tr><tr><th scope=\"row\" class=\"navbox-group\" style=\"width:1px\"><a href=\"/wiki/%D0%91%D0%B5%D0%BB%D1%8C%D0%BA%D0%B5%D1%80_(%D0%BA%D0%B0%D0%BD%D1%82%D0%BE%D0%BD)\" title=\"Белькер (кантон)\">Белькер</a></th><td class=\"navbox-list navbox-odd\" style=\"text-align:left;border-left-width:2px;border-left-style:solid;width:100%;padding:0px\"><div style=\"padding:0em 0.25em\"><a href=\"/wiki/%D0%91%D0%B5%D0%BB%D1%8C%D0%B2%D0%B8_(%D0%A4%D1%80%D0%B0%D0%BD%D1%86%D0%B8%D1%8F)\" title=\"Бельви (Франция)\">Бельви</a> • <b><a href=\"/wiki/%D0%91%D0%B5%D0%BB%D1%8C%D0%BA%D0%B5%D1%80\" title=\"Белькер\">Белькер</a></b> • <a href=\"/wiki/%D0%91%D0%B5%D0%BB%D1%8C%D1%84%D0%BE%D1%80-%D1%81%D1%8E%D1%80-%D0%A0%D0%B5%D0%B1%D0%B0%D0%BD%D1%82%D0%B8\" title=\"Бельфор-сюр-Ребанти\">Бельфор-сюр-Ребанти</a> • <a href=\"/wiki/%D0%93%D0%B0%D0%BB%D0%B8%D0%BD%D0%B0%D0%B3\" title=\"Галинаг\">Галинаг</a> • <a href=\"/wiki/%D0%96%D1%83%D0%BA%D1%83\" title=\"Жуку\">Жуку</a> • <a href=\"/wiki/%D0%9A%D0%B0%D0%BC%D0%BF%D0%B0%D0%BD%D1%8C%D1%8F-%D0%B4%D0%B5-%D0%A1%D0%BE\" title=\"Кампанья-де-Со\">Кампанья-де-Со</a> • <a href=\"/wiki/%D0%9A%D0%B0%D0%BC%D1%8E%D1%80%D0%B0%D0%BA\" title=\"Камюрак\">Камюрак</a> • <a href=\"/wiki/%D0%9A%D0%BE%D0%BC%D1%8E\" title=\"Комю\">Комю</a> • <a href=\"/wiki/%D0%9B%D0%B0-%D0%A4%D0%B0%D0%B6%D0%BE%D0%BB%D1%8C\" title=\"Ла-Фажоль\">Ла-Фажоль</a> • <a href=\"/wiki/%D0%9C%D0%B0%D0%B7%D1%8E%D0%B1%D0%B8\" title=\"Мазюби\">Мазюби</a> • <a href=\"/wiki/%D0%9C%D0%B5%D1%80%D1%8C%D1%8F%D0%BB%D1%8C\" title=\"Мерьяль\">Мерьяль</a> • <a href=\"/wiki/%D0%9D%D1%8C%D0%BE%D1%80-%D0%B4%D0%B5-%D0%A1%D0%BE\" title=\"Ньор-де-Со\">Ньор-де-Со</a> • <a href=\"/wiki/%D0%9E%D0%BD%D0%B0_(%D0%BA%D0%BE%D0%BC%D0%BC%D1%83%D0%BD%D0%B0)\" title=\"Она (коммуна)\">Она</a> • <a href=\"/wiki/%D0%A0%D0%BE%D0%B4%D0%BE%D0%BC\" title=\"Родом\">Родом</a> • <a href=\"/wiki/%D0%A0%D0%BE%D0%BA%D1%84%D1%91%D0%B9\" title=\"Рокфёй\">Рокфёй</a> • <a href=\"/wiki/%D0%A4%D0%BE%D0%BD%D1%82%D0%B0%D0%BD%D0%B5%D1%81-%D0%B4%D0%B5-%D0%A1%D0%BE\" title=\"Фонтанес-де-Со\">Фонтанес-де-Со</a> • <a href=\"/wiki/%D0%AD%D1%81%D0%BF%D0%B5%D0%B7%D0%B5%D0%BB%D1%8C\" title=\"Эспезель\">Эспезель</a></div></td></tr><tr><th scope=\"row\" class=\"navbox-group\" style=\"width:1px\"><a href=\"/wiki/%D0%9A%D0%B8%D0%B9%D0%B0%D0%BD_(%D0%BA%D0%B0%D0%BD%D1%82%D0%BE%D0%BD)\" title=\"Кийан (кантон)\">Кийан</a></th><td class=\"navbox-list navbox-even\" style=\"text-align:left;border-left-width:2px;border-left-style:solid;width:100%;padding:0px\"><div style=\"padding:0em 0.25em\"><a href=\"/wiki/%D0%91%D0%B5%D0%BB%D1%8C%D0%B2%D1%8C%D1%8F%D0%BD-%D1%8D-%D0%9A%D0%B0%D0%B2%D0%B8%D1%80%D0%B0%D0%BA\" title=\"Бельвьян-э-Кавирак\">Бельвьян-э-Кавирак</a> • <a href=\"/wiki/%D0%91%D1%80%D0%B5%D0%BD%D0%B0%D0%BA\" title=\"Бренак\">Бренак</a> • <a href=\"/wiki/%D0%93%D1%80%D0%B0%D0%BD%D0%B5%D1%81\" title=\"Гранес\">Гранес</a> • <a href=\"/wiki/%D0%96%D0%B8%D0%BD%D0%BE%D0%BB%D1%8C\" title=\"Жиноль\">Жиноль</a> • <a href=\"/wiki/%D0%9A%D0%B0%D0%BC%D0%BF%D0%B0%D0%BD%D1%8C-%D1%81%D1%8E%D1%80-%D0%9E%D0%B4\" title=\"Кампань-сюр-Од\">Кампань-сюр-Од</a> • <b><a href=\"/wiki/%D0%9A%D0%B8%D0%B9%D0%B0%D0%BD\" title=\"Кийан\">Кийан</a></b> • <a href=\"/wiki/%D0%9A%D0%B8%D1%80%D0%B1%D0%B0%D0%B6%D1%83\" title=\"Кирбажу\">Кирбажу</a> • <a href=\"/wiki/%D0%9A%D1%83%D0%B4%D0%BE%D0%BD\" title=\"Кудон\">Кудон</a> • <a href=\"/wiki/%D0%9C%D0%B0%D1%80%D1%81%D0%B0_(%D0%9E%D0%B4)\" title=\"Марса (Од)\">Марса</a> • <a href=\"/wiki/%D0%9D%D0%B5%D0%B1%D1%8C%D1%8F\" title=\"Небья\">Небья</a> • <a href=\"/wiki/%D0%A0%D1%83%D0%B2%D0%BD%D0%B0%D0%BA\" title=\"Рувнак\">Рувнак</a> • <a href=\"/wiki/%D0%A1%D0%B5%D0%BD-%D0%96%D1%8E%D0%BB%D1%8C%D1%8F-%D0%B4%D0%B5-%D0%91%D0%B5%D0%BA\" title=\"Сен-Жюлья-де-Бек\">Сен-Жюлья-де-Бек</a> • <a href=\"/wiki/%D0%A1%D0%B5%D0%BD-%D0%96%D1%8E%D1%81%D1%82-%D1%8D-%D0%BB%D0%B5-%D0%91%D0%B5%D0%B7%D1%8E\" title=\"Сен-Жюст-э-ле-Безю\">Сен-Жюст-э-ле-Безю</a> • <a href=\"/wiki/%D0%A1%D0%B5%D0%BD-%D0%9B%D1%83%D0%B8-%D1%8D-%D0%9F%D0%B0%D1%80%D0%B0%D1%83\" title=\"Сен-Луи-э-Парау\">Сен-Луи-э-Парау</a> • <a href=\"/wiki/%D0%A1%D0%B5%D0%BD-%D0%9C%D0%B0%D1%80%D1%82%D0%B5%D0%BD-%D0%9B%D0%B8%D1%81\" title=\"Сен-Мартен-Лис\">Сен-Мартен-Лис</a> • <a href=\"/wiki/%D0%A1%D0%B5%D0%BD-%D0%A4%D0%B5%D1%80%D1%8C%D0%BE%D0%BB%D1%8C\" title=\"Сен-Ферьоль\">Сен-Ферьоль</a> • <a href=\"/wiki/%D0%A4%D0%B0_(%D0%BA%D0%BE%D0%BC%D0%BC%D1%83%D0%BD%D0%B0)\" title=\"Фа (коммуна)\">Фа</a> • <a href=\"/wiki/%D0%AD%D1%81%D0%BF%D0%B5%D1%80%D0%B0%D0%B7%D0%B0\" title=\"Эспераза\">Эспераза</a></div></td></tr><tr><th scope=\"row\" class=\"navbox-group\" style=\"width:1px\"><a href=\"/wiki/%D0%9A%D1%83%D0%B8%D0%B7%D0%B0_(%D0%BA%D0%B0%D0%BD%D1%82%D0%BE%D0%BD)\" title=\"Куиза (кантон)\">Куиза</a></th><td class=\"navbox-list navbox-odd\" style=\"text-align:left;border-left-width:2px;border-left-style:solid;width:100%;padding:0px\"><div style=\"padding:0em 0.25em\"><a href=\"/wiki/%D0%90%D0%BD%D1%82%D1%8E%D0%BD%D1%8C%D1%8F%D0%BA\" title=\"Антюньяк\">Антюньяк</a> • <a href=\"/wiki/%D0%90%D1%80%D0%BA_(%D0%9E%D0%B4)\" title=\"Арк (Од)\">Арк</a> • <a href=\"/wiki/%D0%91%D1%8E%D0%B3%D0%B0%D1%80%D0%B0%D1%88\" title=\"Бюгараш\">Бюгараш</a> • <a href=\"/wiki/%D0%92%D0%B0%D0%BB%D1%8C%D0%BC%D0%B8%D0%B6%D0%B5%D1%80\" title=\"Вальмижер\">Вальмижер</a> • <a href=\"/wiki/%D0%9A%D0%B0%D0%BD-%D1%81%D1%8E%D1%80-%D0%BB%E2%80%99%D0%90%D0%B3%D0%BB%D0%B8\" title=\"Кан-сюр-л’Агли\">Кан-сюр-л’Агли</a> • <a href=\"/wiki/%D0%9A%D0%B0%D1%81%D0%B5%D0%BD%D1%8C_(%D0%9E%D0%B4)\" title=\"Касень (Од)\">Касень</a> • <a href=\"/wiki/%D0%9A%D0%BE%D0%BD%D0%B8%D0%BB%D1%8C%D1%8F%D0%BA-%D0%B4%D0%B5-%D0%BB%D0%B0-%D0%9C%D0%BE%D0%BD%D1%82%D0%B0%D0%BD%D1%8C\" class=\"mw-redirect\" title=\"Конильяк-де-ла-Монтань\">Конильяк-де-ла-Монтань</a> • <b><a href=\"/wiki/%D0%9A%D1%83%D0%B8%D0%B7%D0%B0\" title=\"Куиза\">Куиза</a></b> • <a href=\"/wiki/%D0%9A%D1%83%D1%81%D1%82%D0%BE%D1%81%D1%81%D0%B0\" title=\"Кустосса\">Кустосса</a> • <a href=\"/wiki/%D0%9A%D1%8E%D0%B1%D1%8C%D0%B5%D1%80-%D1%81%D1%8E%D1%80-%D0%A1%D0%B8%D0%BD%D0%BE%D0%B1%D0%BB%D1%8C\" title=\"Кюбьер-сюр-Синобль\">Кюбьер-сюр-Синобль</a> • <a href=\"/wiki/%D0%9B%D0%B0-%D0%A1%D0%B5%D1%80%D0%BF%D0%B0%D0%BD\" title=\"Ла-Серпан\">Ла-Серпан</a> • <a href=\"/wiki/%D0%9B%D1%8E%D0%BA-%D1%81%D1%8E%D1%80-%D0%9E%D0%B4\" title=\"Люк-сюр-Од\">Люк-сюр-Од</a> • <a href=\"/wiki/%D0%9C%D0%B8%D1%81%D1%81%D0%B5%D0%B3%D1%80\" title=\"Миссегр\">Миссегр</a> • <a href=\"/wiki/%D0%9C%D0%BE%D0%BD%D1%82%D0%B0%D0%B7%D0%B5%D0%BB%D1%8C\" title=\"Монтазель\">Монтазель</a> • <a href=\"/wiki/%D0%9F%D0%B5%D1%80%D0%BE%D0%BB%D1%8C_(%D0%9E%D0%B4)\" title=\"Пероль (Од)\">Пероль</a> • <a href=\"/wiki/%D0%A0%D0%B5%D0%BD-%D0%BB%D0%B5-%D0%91%D0%B5%D0%BD\" title=\"Рен-ле-Бен\">Рен-ле-Бен</a> • <a href=\"/wiki/%D0%A0%D0%B5%D0%BD-%D0%BB%D0%B5-%D0%A8%D0%B0%D1%82%D0%BE\" title=\"Рен-ле-Шато\">Рен-ле-Шато</a> • <a href=\"/wiki/%D0%A0%D0%BE%D0%BA%D1%82%D0%B0%D0%B9%D0%B0%D0%B4_(%D0%9E%D0%B4)\" title=\"Роктайад (Од)\">Роктайад</a> • <a href=\"/wiki/%D0%A1%D0%B5%D1%80_(%D0%9E%D0%B4)\" title=\"Сер (Од)\">Сер</a> • <a href=\"/wiki/%D0%A1%D1%83%D0%B3%D1%80%D0%B5%D0%BD%D1%8C\" title=\"Сугрень\">Сугрень</a> • <a href=\"/wiki/%D0%A2%D0%B5%D1%80%D0%BE%D0%BB%D1%8C\" class=\"mw-redirect\" title=\"Тероль\">Тероль</a> • <a href=\"/wiki/%D0%A4%D1%83%D1%80%D1%82%D1%83\" title=\"Фурту\">Фурту</a></div></td></tr><tr><th scope=\"row\" class=\"navbox-group\" style=\"width:1px\"><a href=\"/wiki/%D0%9B%D0%B8%D0%BC%D1%83_(%D0%BA%D0%B0%D0%BD%D1%82%D0%BE%D0%BD)\" title=\"Лиму (кантон)\">Лиму</a></th><td class=\"navbox-list navbox-even\" style=\"text-align:left;border-left-width:2px;border-left-style:solid;width:100%;padding:0px\"><div style=\"padding:0em 0.25em\"><a href=\"/wiki/%D0%90%D0%B6%D0%B0%D0%BA\" title=\"Ажак\">Ажак</a> • <a href=\"/wiki/%D0%90%D0%BB%D0%B5-%D0%BB%D0%B5-%D0%91%D0%B5%D0%BD\" title=\"Але-ле-Бен\">Але-ле-Бен</a> • <a href=\"/wiki/%D0%91%D1%83%D1%80%D1%8C%D0%B5%D0%B6\" title=\"Бурьеж\">Бурьеж</a> • <a href=\"/wiki/%D0%91%D1%83%D1%80%D0%B8%D0%B6%D0%BE%D0%BB%D1%8C\" title=\"Бурижоль\">Бурижоль</a> • <a href=\"/wiki/%D0%92%D0%B5%D1%80%D0%B0%D0%B7%D0%B0\" title=\"Вераза\">Вераза</a> • <a href=\"/wiki/%D0%92%D0%B8%D0%BB%D1%8C%D0%BB%D0%BE%D0%BD%D0%B3-%D0%B4%E2%80%99%D0%9E%D0%B4\" title=\"Вильлонг-д’Од\">Вильлонг-д’Од</a> • <a href=\"/wiki/%D0%93%D0%B0%D0%B6%D0%B0-%D1%8D-%D0%92%D0%B8%D0%BB%D1%8C%D0%B4%D1%8C%D1%91\" title=\"Гажа-э-Вильдьё\">Гажа-э-Вильдьё</a> • <a href=\"/wiki/%D0%9A%D0%B0%D1%81%D1%82%D0%B5%D0%BB%D1%8C%D1%80%D0%B0%D0%BD\" title=\"Кастельран\">Кастельран</a> • <a href=\"/wiki/%D0%9A%D1%83%D1%80%D0%BD%D0%B0%D0%BD%D0%B5%D0%BB%D1%8C\" title=\"Курнанель\">Курнанель</a> • <a href=\"/wiki/%D0%9B%D0%B0-%D0%91%D0%B5%D0%B7%D0%BE%D0%BB%D1%8C\" title=\"Ла-Безоль\">Ла-Безоль</a> • <a href=\"/wiki/%D0%9B%D0%B0-%D0%94%D0%B8%D0%BD%D1%8C-%D0%B4%E2%80%99%D0%90%D0%B2%D0%B0%D0%BB%D1%8C\" title=\"Ла-Динь-д’Аваль\">Ла-Динь-д’Аваль</a> • <a href=\"/wiki/%D0%9B%D0%B0-%D0%94%D0%B8%D0%BD%D1%8C-%D0%B4%E2%80%99%D0%90%D0%BC%D0%BE%D0%BD\" title=\"Ла-Динь-д’Амон\">Ла-Динь-д’Амон</a> • <b><a href=\"/wiki/%D0%9B%D0%B8%D0%BC%D1%83\" title=\"Лиму\">Лиму</a></b> • <a href=\"/wiki/%D0%9B%D1%83%D0%BF%D1%8C%D1%8F_(%D0%BA%D0%BE%D0%BC%D0%BC%D1%83%D0%BD%D0%B0)\" title=\"Лупья (коммуна)\">Лупья</a> • <a href=\"/wiki/%D0%9C%D0%B0%D0%B3%D1%80%D0%B8_(%D0%BA%D0%BE%D0%BC%D0%BC%D1%83%D0%BD%D0%B0)\" title=\"Магри (коммуна)\">Магри</a> • <a href=\"/wiki/%D0%9C%D0%B0%D0%BB%D1%8C%D1%80%D0%B0\" title=\"Мальра\">Мальра</a> • <a href=\"/wiki/%D0%9F%D0%BE%D0%BB%D0%B8%D0%BD%D1%8C\" title=\"Полинь\">Полинь</a> • <a href=\"/wiki/%D0%9F%D1%8C%D1%91%D1%81\" title=\"Пьёс\">Пьёс</a> • <a href=\"/wiki/%D0%A1%D0%B5%D0%BD-%D0%9A%D1%83%D0%B0-%D0%B4%D1%8E-%D0%A0%D0%B0%D0%B7%D0%B5%D1%81\" title=\"Сен-Куа-дю-Разес\">Сен-Куа-дю-Разес</a> • <a href=\"/wiki/%D0%A1%D0%B5%D0%BD-%D0%9C%D0%B0%D1%80%D1%82%D0%B5%D0%BD-%D0%B4%D0%B5-%D0%92%D0%B8%D0%BB%D1%8C%D1%80%D0%B5%D0%B3%D0%BB%D0%B0%D0%BD\" title=\"Сен-Мартен-де-Вильреглан\">Сен-Мартен-де-Вильреглан</a> • <a href=\"/wiki/%D0%A1%D0%B5%D0%BF%D0%B8\" title=\"Сепи\">Сепи</a> • <a href=\"/wiki/%D0%A2%D1%83%D1%80%D1%80%D0%B5%D0%B9\" title=\"Туррей\">Туррей</a> • <a href=\"/wiki/%D0%A4%D0%B5%D1%81%D1%82-%D1%8D-%D0%A1%D0%B5%D0%BD%D1%82-%D0%90%D0%BD%D0%B4%D1%80%D0%B5\" title=\"Фест-э-Сент-Андре\">Фест-э-Сент-Андре</a></div></td></tr><tr><th scope=\"row\" class=\"navbox-group\" style=\"width:1px\"><a href=\"/wiki/%D0%A1%D0%B5%D0%BD%D1%82-%D0%98%D0%BB%D0%B5%D1%80_(%D0%BA%D0%B0%D0%BD%D1%82%D0%BE%D0%BD)\" title=\"Сент-Илер (кантон)\">Сент-Илер</a></th><td class=\"navbox-list navbox-odd\" style=\"text-align:left;border-left-width:2px;border-left-style:solid;width:100%;padding:0px\"><div style=\"padding:0em 0.25em\"><a href=\"/wiki/%D0%91%D0%B5%D0%BB%D1%8C%D0%BA%D0%B0%D1%81%D1%82%D0%B5%D0%BB%D1%8C-%D1%8D-%D0%91%D1%8E%D0%BA\" title=\"Белькастель-э-Бюк\">Белькастель-э-Бюк</a> • <a href=\"/wiki/%D0%92%D0%B5%D1%80%D0%B7%D0%B5%D0%B9\" title=\"Верзей\">Верзей</a> • <a href=\"/wiki/%D0%92%D0%B8%D0%BB%D0%BB%D0%B0%D1%80%D0%B4%D0%B5%D0%B1%D0%B5%D0%BB%D1%8C\" title=\"Виллардебель\">Виллардебель</a> • <a class=\"mw-selflink selflink\">Виллар-Сент-Ансельм</a> • <a href=\"/wiki/%D0%92%D0%B8%D0%BB%D1%8C%D0%B1%D0%B0%D0%B7%D0%B8\" title=\"Вильбази\">Вильбази</a> • <a href=\"/wiki/%D0%92%D0%B8%D0%BB%D1%8C%D1%84%D0%BB%D1%83%D1%80\" title=\"Вильфлур\">Вильфлур</a> • <a href=\"/wiki/%D0%93%D0%B0%D1%80%D0%B4%D0%B8_(%D0%BA%D0%BE%D0%BC%D0%BC%D1%83%D0%BD%D0%B0)\" title=\"Гарди (коммуна)\">Гарди</a> • <a href=\"/wiki/%D0%93%D1%80%D0%B5%D1%84%D1%84%D0%B5%D0%B9\" title=\"Греффей\">Греффей</a> • <a href=\"/wiki/%D0%9A%D0%BB%D0%B5%D1%80%D0%BC%D0%BE%D0%BD-%D1%81%D1%8E%D1%80-%D0%9B%D0%BE%D0%BA%D0%B5\" title=\"Клермон-сюр-Локе\">Клермон-сюр-Локе</a> • <a href=\"/wiki/%D0%9A%D0%BE%D0%BD%D0%B5%D1%82-%D1%81%D1%8E%D1%80-%D0%9B%D0%BE%D0%BA%D0%B5\" title=\"Конет-сюр-Локе\">Конет-сюр-Локе</a> • <a href=\"/wiki/%D0%9B%D0%B0%D0%B4%D0%B5%D1%80%D0%BD-%D1%81%D1%8E%D1%80-%D0%9B%D0%BE%D0%BA%D0%B5\" title=\"Ладерн-сюр-Локе\">Ладерн-сюр-Локе</a> • <a href=\"/wiki/%D0%9F%D0%BE%D0%BC%D0%B0_(%D0%BA%D0%BE%D0%BC%D0%BC%D1%83%D0%BD%D0%B0)\" title=\"Пома (коммуна)\">Пома</a> • <b><a href=\"/wiki/%D0%A1%D0%B5%D0%BD%D1%82-%D0%98%D0%BB%D0%B5%D1%80_(%D0%9E%D0%B4)\" title=\"Сент-Илер (Од)\">Сент-Илер</a></b> • <a href=\"/wiki/%D0%A1%D0%B5%D0%BD-%D0%9F%D0%BE%D0%BB%D0%B8%D0%BA%D0%B0%D1%80%D0%BF\" title=\"Сен-Поликарп\">Сен-Поликарп</a></div></td></tr><tr><th scope=\"row\" class=\"navbox-group\" style=\"width:1px\"><a href=\"/wiki/%D0%A8%D0%B0%D0%BB%D0%B0%D0%B1%D1%80_(%D0%BA%D0%B0%D0%BD%D1%82%D0%BE%D0%BD)\" title=\"Шалабр (кантон)\">Шалабр</a></th><td class=\"navbox-list navbox-even\" style=\"text-align:left;border-left-width:2px;border-left-style:solid;width:100%;padding:0px\"><div style=\"padding:0em 0.25em\"><a href=\"/wiki/%D0%92%D0%B8%D0%BB%D1%8C%D1%84%D0%BE%D1%80_(%D0%9E%D0%B4)\" title=\"Вильфор (Од)\">Вильфор</a> • <a href=\"/wiki/%D0%93%D0%B5%D0%B9%D1%82-%D1%8D-%D0%9B%D0%B0%D0%B1%D0%B0%D1%81%D1%82%D0%B8%D0%B4\" title=\"Гейт-э-Лабастид\">Гейт-э-Лабастид</a> • <a href=\"/wiki/%D0%9A%D0%BE%D0%B4%D0%B2%D0%B0%D0%BB%D1%8C\" title=\"Кодваль\">Кодваль</a> • <a href=\"/wiki/%D0%9A%D0%BE%D1%80%D0%B1%D1%8C%D0%B5%D1%80_(%D0%9E%D0%B4)\" title=\"Корбьер (Од)\">Корбьер</a> • <a href=\"/wiki/%D0%9A%D1%83%D1%80%D1%82%D0%BE%D0%BB%D0%B8\" title=\"Куртоли\">Куртоли</a> • <a href=\"/wiki/%D0%9C%D0%BE%D0%BD%D0%B6%D0%B0%D1%80%D0%B4%D0%B5%D0%BD\" title=\"Монжарден\">Монжарден</a> • <a href=\"/wiki/%D0%9F%D0%B5%D1%80%D1%84%D0%B8%D1%82-%D0%B4%D1%8E-%D0%A0%D0%B0%D0%B7%D0%B5%D1%81\" title=\"Перфит-дю-Разес\">Перфит-дю-Разес</a> • <a href=\"/wiki/%D0%9F%D1%8E%D0%B8%D0%B2%D0%B5%D1%80\" class=\"mw-disambig\" title=\"Пюивер\">Пюивер</a> • <a href=\"/wiki/%D0%A0%D0%B8%D0%B2%D0%B5%D0%BB%D1%8C\" title=\"Ривель\">Ривель</a> • <a href=\"/wiki/%D0%A1%D0%B5%D0%BD-%D0%91%D0%B5%D0%BD%D1%83%D0%B0_(%D0%9E%D0%B4)\" title=\"Сен-Бенуа (Од)\">Сен-Бенуа</a> • <a href=\"/wiki/%D0%A1%D0%B5%D0%BD-%D0%96%D0%B0%D0%BD-%D0%B4%D0%B5-%D0%9F%D0%B0%D1%80%D0%B0%D0%BA%D0%BE%D0%BB%D1%8C\" title=\"Сен-Жан-де-Параколь\">Сен-Жан-де-Параколь</a> • <a href=\"/wiki/%D0%A1%D0%B5%D0%BD%D1%82-%D0%9A%D0%BE%D0%BB%D0%BE%D0%BC%D0%B1-%D1%81%D1%8E%D1%80-%D0%BB%E2%80%99%D0%AD%D1%80\" title=\"Сент-Коломб-сюр-л’Эр\">Сент-Коломб-сюр-л’Эр</a> • <a href=\"/wiki/%D0%A1%D0%BE%D0%BD%D0%BD%D0%B0%D0%BA-%D1%81%D1%8E%D1%80-%D0%BB%E2%80%99%D0%AD%D1%80\" title=\"Соннак-сюр-л’Эр\">Соннак-сюр-л’Эр</a> • <a href=\"/wiki/%D0%A2%D1%80%D0%B5%D0%B7%D1%8C%D0%B5\" title=\"Трезье\">Трезье</a> • <b><a href=\"/wiki/%D0%A8%D0%B0%D0%BB%D0%B0%D0%B1%D1%80\" title=\"Шалабр\">Шалабр</a></b></div></td></tr></tbody></table></div>\\n<!-- \\nNewPP limit report\\nParsed by mw1240\\nCached time: 20200113084844\\nCache expiry: 86400\\nDynamic content: true\\nComplications: [vary‐revision‐sha1]\\nCPU time usage: 0.872 seconds\\nReal time usage: 1.171 seconds\\nPreprocessor visited node count: 6299/1000000\\nPreprocessor generated node count: 0/1500000\\nPost‐expand include size: 99460/2097152 bytes\\nTemplate argument size: 15734/2097152 bytes\\nHighest expansion depth: 27/40\\nExpensive parser function count: 8/500\\nUnstrip recursion depth: 0/20\\nUnstrip post‐expand size: 1732/5000000 bytes\\nNumber of Wikibase entities loaded: 2/400\\nLua time usage: 0.335/10.000 seconds\\nLua memory usage: 3.4 MB/50 MB\\n-->\\n<!--\\nTransclusion expansion time report (%,ms,calls,template)\\n100.00% 1020.278      1 -total\\n 69.29%  706.974      1 Шаблон:НП-Франция\\n 68.78%  701.765      1 Шаблон:НП\\n 62.74%  640.121      1 Шаблон:Карточка\\n 33.69%  343.746     36 Шаблон:Wikidata\\n 17.68%  180.338      2 Шаблон:Wikidata-coords\\n 12.39%  126.440      1 Шаблон:Численность_населения\\n  7.15%   72.987      1 Шаблон:Карточка/оригинал_названия\\n  6.78%   69.179      3 Шаблон:Cite_web\\n  5.81%   59.242      1 Шаблон:Примечания\\n-->\\n\\n<!-- Saved in parser cache with key ruwiki:pcache:idhash:3905085-0!canonical and timestamp 20200113084843 and revision id 96584638\\n -->\\n</div><noscript><img src=\"//ru.wikipedia.org/wiki/Special:CentralAutoLogin/start?type=1x1\" alt=\"\" title=\"\" width=\"1\" height=\"1\" style=\"border: none; position: absolute;\" /></noscript></div>\\n\\t\\t\\n\\t\\t<div class=\"printfooter\">Источник — <a dir=\"ltr\" href=\"https://ru.wikipedia.org/w/index.php?title=Виллар-Сент-Ансельм&amp;oldid=96584638\">https://ru.wikipedia.org/w/index.php?title=Виллар-Сент-Ансельм&amp;oldid=96584638</a></div>\\n\\t\\t\\n\\t\\t<div id=\"catlinks\" class=\"catlinks\" data-mw=\"interface\"><div id=\"mw-normal-catlinks\" class=\"mw-normal-catlinks\"><a href=\"/wiki/%D0%A1%D0%BB%D1%83%D0%B6%D0%B5%D0%B1%D0%BD%D0%B0%D1%8F:%D0%9A%D0%B0%D1%82%D0%B5%D0%B3%D0%BE%D1%80%D0%B8%D0%B8\" title=\"Служебная:Категории\">Категории</a>: <ul><li><a href=\"/wiki/%D0%9A%D0%B0%D1%82%D0%B5%D0%B3%D0%BE%D1%80%D0%B8%D1%8F:%D0%9D%D0%B0%D1%81%D0%B5%D0%BB%D1%91%D0%BD%D0%BD%D1%8B%D0%B5_%D0%BF%D1%83%D0%BD%D0%BA%D1%82%D1%8B_%D0%BF%D0%BE_%D0%B0%D0%BB%D1%84%D0%B0%D0%B2%D0%B8%D1%82%D1%83\" title=\"Категория:Населённые пункты по алфавиту\">Населённые пункты по алфавиту</a></li><li><a href=\"/wiki/%D0%9A%D0%B0%D1%82%D0%B5%D0%B3%D0%BE%D1%80%D0%B8%D1%8F:%D0%9A%D0%BE%D0%BC%D0%BC%D1%83%D0%BD%D1%8B_%D0%B4%D0%B5%D0%BF%D0%B0%D1%80%D1%82%D0%B0%D0%BC%D0%B5%D0%BD%D1%82%D0%B0_%D0%9E%D0%B4\" title=\"Категория:Коммуны департамента Од\">Коммуны департамента Од</a></li></ul></div><div id=\"mw-hidden-catlinks\" class=\"mw-hidden-catlinks mw-hidden-cats-hidden\">Скрытые категории: <ul><li><a href=\"/wiki/%D0%9A%D0%B0%D1%82%D0%B5%D0%B3%D0%BE%D1%80%D0%B8%D1%8F:%D0%92%D0%B8%D0%BA%D0%B8%D0%BF%D0%B5%D0%B4%D0%B8%D1%8F:%D0%A1%D1%82%D0%B0%D1%82%D1%8C%D0%B8_%D1%81_%D0%BF%D0%B5%D1%80%D0%B5%D0%BE%D0%BF%D1%80%D0%B5%D0%B4%D0%B5%D0%BB%D0%B5%D0%BD%D0%B8%D0%B5%D0%BC_%D0%B7%D0%BD%D0%B0%D1%87%D0%B5%D0%BD%D0%B8%D1%8F_%D0%B8%D0%B7_%D0%92%D0%B8%D0%BA%D0%B8%D0%B4%D0%B0%D0%BD%D0%BD%D1%8B%D1%85\" title=\"Категория:Википедия:Статьи с переопределением значения из Викиданных\">Википедия:Статьи с переопределением значения из Викиданных</a></li><li><a href=\"/wiki/%D0%9A%D0%B0%D1%82%D0%B5%D0%B3%D0%BE%D1%80%D0%B8%D1%8F:%D0%9F%D0%A0%D0%9E:%D0%93%D0%BE%D1%80%D0%BE%D0%B4%D0%B0:%D0%9F%D0%BE%D1%81%D0%BB%D0%B5%D0%B4%D0%BD%D1%8F%D1%8F_%D0%BF%D1%80%D0%B0%D0%B2%D0%BA%D0%B0:_%D0%B2_%D0%BF%D0%BE%D0%B7%D0%B0%D0%BF%D1%80%D0%BE%D1%88%D0%BB%D0%BE%D0%BC_%D0%B3%D0%BE%D0%B4%D1%83\" title=\"Категория:ПРО:Города:Последняя правка: в позапрошлом году\">ПРО:Города:Последняя правка: в позапрошлом году</a></li><li><a href=\"/wiki/%D0%9A%D0%B0%D1%82%D0%B5%D0%B3%D0%BE%D1%80%D0%B8%D1%8F:%D0%9D%D0%B5%D0%B7%D0%B0%D0%B2%D0%B5%D1%80%D1%88%D1%91%D0%BD%D0%BD%D1%8B%D0%B5_%D1%81%D1%82%D0%B0%D1%82%D1%8C%D0%B8_%D0%BF%D0%BE_%D0%B3%D0%B5%D0%BE%D0%B3%D1%80%D0%B0%D1%84%D0%B8%D0%B8_%D0%A4%D1%80%D0%B0%D0%BD%D1%86%D0%B8%D0%B8\" title=\"Категория:Незавершённые статьи по географии Франции\">Незавершённые статьи по географии Франции</a></li><li><a href=\"/wiki/%D0%9A%D0%B0%D1%82%D0%B5%D0%B3%D0%BE%D1%80%D0%B8%D1%8F:%D0%92%D0%B8%D0%BA%D0%B8%D0%BF%D0%B5%D0%B4%D0%B8%D1%8F:%D0%A1%D1%82%D1%80%D0%B0%D0%BD%D0%B8%D1%86%D1%8B_%D1%81_%D0%BA%D0%B0%D1%80%D1%82%D0%B0%D0%BC%D0%B8\" title=\"Категория:Википедия:Страницы с картами\">Википедия:Страницы с картами</a></li></ul></div></div>\\n\\t\\t<div class=\"visualClear\"></div>\\n\\t\\t\\n\\t</div>\\n</div>\\n<div id=\\'mw-data-after-content\\'>\\n\\t<div class=\"read-more-container\"></div>\\n</div>\\n\\n\\n\\t\\t<div id=\"mw-navigation\">\\n\\t\\t\\t<h2>Навигация</h2>\\n\\t\\t\\t<div id=\"mw-head\">\\n\\t\\t\\t\\t\\t\\t<div id=\"p-personal\" role=\"navigation\" aria-labelledby=\"p-personal-label\">\\n\\t\\t\\t<h3 id=\"p-personal-label\">Персональные инструменты</h3>\\n\\t\\t\\t<ul>\\n\\t\\t\\t\\t<li id=\"pt-anonuserpage\">Вы не представились системе</li><li id=\"pt-anontalk\"><a href=\"/wiki/%D0%A1%D0%BB%D1%83%D0%B6%D0%B5%D0%B1%D0%BD%D0%B0%D1%8F:%D0%9C%D0%BE%D1%91_%D0%BE%D0%B1%D1%81%D1%83%D0%B6%D0%B4%D0%B5%D0%BD%D0%B8%D0%B5\" title=\"Страница обсуждений для моего IP [n]\" accesskey=\"n\">Обсуждение</a></li><li id=\"pt-anoncontribs\"><a href=\"/wiki/%D0%A1%D0%BB%D1%83%D0%B6%D0%B5%D0%B1%D0%BD%D0%B0%D1%8F:%D0%9C%D0%BE%D0%B9_%D0%B2%D0%BA%D0%BB%D0%B0%D0%B4\" title=\"Список правок, сделанных с этого IP-адреса [y]\" accesskey=\"y\">Вклад</a></li><li id=\"pt-createaccount\"><a href=\"/w/index.php?title=%D0%A1%D0%BB%D1%83%D0%B6%D0%B5%D0%B1%D0%BD%D0%B0%D1%8F:%D0%A1%D0%BE%D0%B7%D0%B4%D0%B0%D1%82%D1%8C_%D1%83%D1%87%D1%91%D1%82%D0%BD%D1%83%D1%8E_%D0%B7%D0%B0%D0%BF%D0%B8%D1%81%D1%8C&amp;returnto=%D0%92%D0%B8%D0%BB%D0%BB%D0%B0%D1%80-%D0%A1%D0%B5%D0%BD%D1%82-%D0%90%D0%BD%D1%81%D0%B5%D0%BB%D1%8C%D0%BC\" title=\"Мы предлагаем вам создать учётную запись и войти в систему, хотя это и не обязательно.\">Создать учётную запись</a></li><li id=\"pt-login\"><a href=\"/w/index.php?title=%D0%A1%D0%BB%D1%83%D0%B6%D0%B5%D0%B1%D0%BD%D0%B0%D1%8F:%D0%92%D1%85%D0%BE%D0%B4&amp;returnto=%D0%92%D0%B8%D0%BB%D0%BB%D0%B0%D1%80-%D0%A1%D0%B5%D0%BD%D1%82-%D0%90%D0%BD%D1%81%D0%B5%D0%BB%D1%8C%D0%BC\" title=\"Здесь можно зарегистрироваться в системе, но это необязательно. [o]\" accesskey=\"o\">Войти</a></li>\\t\\t\\t</ul>\\n\\t\\t</div>\\n\\t\\t\\t\\t\\t\\t<div id=\"left-navigation\">\\n\\t\\t\\t\\t\\t\\n<div id=\"p-namespaces\" role=\"navigation\" class=\"vectorTabs \" aria-labelledby=\"p-namespaces-label\">\\n\\t<h3 id=\"p-namespaces-label\">Пространства имён</h3>\\n\\t<ul >\\n\\t\\t<li id=\"ca-nstab-main\" class=\"selected\"><a href=\"/wiki/%D0%92%D0%B8%D0%BB%D0%BB%D0%B0%D1%80-%D0%A1%D0%B5%D0%BD%D1%82-%D0%90%D0%BD%D1%81%D0%B5%D0%BB%D1%8C%D0%BC\" title=\"Просмотр основной страницы [c]\" accesskey=\"c\">Статья</a></li><li id=\"ca-talk\"><a href=\"/wiki/%D0%9E%D0%B1%D1%81%D1%83%D0%B6%D0%B4%D0%B5%D0%BD%D0%B8%D0%B5:%D0%92%D0%B8%D0%BB%D0%BB%D0%B0%D1%80-%D0%A1%D0%B5%D0%BD%D1%82-%D0%90%D0%BD%D1%81%D0%B5%D0%BB%D1%8C%D0%BC\" rel=\"discussion\" title=\"Обсуждение основной страницы [t]\" accesskey=\"t\">Обсуждение</a></li>\\n\\t</ul>\\n</div>\\n\\t\\t<div id=\"p-variants\" role=\"navigation\" class=\"vectorMenu emptyPortlet\" aria-labelledby=\"p-variants-label\">\\n\\t\\t\\t\\t\\t\\t<input type=\"checkbox\" class=\"vectorMenuCheckbox\" aria-labelledby=\"p-variants-label\" />\\n\\t\\t\\t<h3 id=\"p-variants-label\">\\n\\t\\t\\t\\t<span>Варианты</span>\\n\\t\\t\\t</h3>\\n\\t\\t\\t<ul class=\"menu\">\\n\\t\\t\\t\\t\\t\\t\\t</ul>\\n\\t\\t</div>\\n\\t\\t\\t\\t\\t\\t</div>\\n\\t\\t\\t\\t<div id=\"right-navigation\">\\n\\t\\t\\t\\t\\t\\n<div id=\"p-views\" role=\"navigation\" class=\"vectorTabs \" aria-labelledby=\"p-views-label\">\\n\\t<h3 id=\"p-views-label\">Просмотры</h3>\\n\\t<ul >\\n\\t\\t<li id=\"ca-view\" class=\"collapsible selected\"><a href=\"/wiki/%D0%92%D0%B8%D0%BB%D0%BB%D0%B0%D1%80-%D0%A1%D0%B5%D0%BD%D1%82-%D0%90%D0%BD%D1%81%D0%B5%D0%BB%D1%8C%D0%BC\">Читать</a></li><li id=\"ca-ve-edit\" class=\"collapsible\"><a href=\"/w/index.php?title=%D0%92%D0%B8%D0%BB%D0%BB%D0%B0%D1%80-%D0%A1%D0%B5%D0%BD%D1%82-%D0%90%D0%BD%D1%81%D0%B5%D0%BB%D1%8C%D0%BC&amp;veaction=edit\" title=\"Редактировать данную страницу [v]\" accesskey=\"v\">Править</a></li><li id=\"ca-edit\" class=\"collapsible\"><a href=\"/w/index.php?title=%D0%92%D0%B8%D0%BB%D0%BB%D0%B0%D1%80-%D0%A1%D0%B5%D0%BD%D1%82-%D0%90%D0%BD%D1%81%D0%B5%D0%BB%D1%8C%D0%BC&amp;action=edit\" title=\"Эту статью можно изменять. Перед сохранением изменений, пожалуйста, нажмите кнопку предварительного просмотра для визуальной проверки результата [e]\" accesskey=\"e\">Править код</a></li><li id=\"ca-history\" class=\"collapsible\"><a href=\"/w/index.php?title=%D0%92%D0%B8%D0%BB%D0%BB%D0%B0%D1%80-%D0%A1%D0%B5%D0%BD%D1%82-%D0%90%D0%BD%D1%81%D0%B5%D0%BB%D1%8C%D0%BC&amp;action=history\" title=\"Журнал изменений страницы [h]\" accesskey=\"h\">История</a></li>\\n\\t</ul>\\n</div>\\n\\t\\t<div id=\"p-cactions\" role=\"navigation\" class=\"vectorMenu emptyPortlet\" aria-labelledby=\"p-cactions-label\">\\n\\t\\t\\t<input type=\"checkbox\" class=\"vectorMenuCheckbox\" aria-labelledby=\"p-cactions-label\" />\\n\\t\\t\\t<h3 id=\"p-cactions-label\"><span>Ещё</span></h3>\\n\\t\\t\\t<ul class=\"menu\">\\n\\t\\t\\t\\t\\t\\t\\t</ul>\\n\\t\\t</div>\\n\\t\\t\\n<div id=\"p-search\" role=\"search\">\\n\\t<h3 >\\n\\t\\t<label for=\"searchInput\">Поиск</label>\\n\\t</h3>\\n\\t<form action=\"/w/index.php\" id=\"searchform\">\\n\\t\\t<div id=\"simpleSearch\">\\n\\t\\t\\t<input type=\"search\" name=\"search\" placeholder=\"Искать в Википедии\" title=\"Искать в Википедии [f]\" accesskey=\"f\" id=\"searchInput\"/>\\n\\t\\t\\t<input type=\"hidden\" value=\"Служебная:Поиск\" name=\"title\"/>\\n\\t\\t\\t\\n\\t\\t\\t<input type=\"submit\" name=\"fulltext\" value=\"Найти\" title=\"Найти страницы, содержащие указанный текст\" id=\"mw-searchButton\" class=\"searchButton mw-fallbackSearchButton\"/>\\n\\t\\t\\t<input type=\"submit\" name=\"go\" value=\"Перейти\" title=\"Перейти к странице, имеющей в точности такое название\" id=\"searchButton\" class=\"searchButton\"/>\\n\\t\\t</div>\\n\\t</form>\\n</div>\\n\\t\\t\\t\\t</div>\\n\\t\\t\\t</div>\\n\\t\\t\\t<div id=\"mw-panel\">\\n\\t\\t\\t\\t<div id=\"p-logo\" role=\"banner\"><a class=\"mw-wiki-logo\" href=\"/wiki/%D0%97%D0%B0%D0%B3%D0%BB%D0%B0%D0%B2%D0%BD%D0%B0%D1%8F_%D1%81%D1%82%D1%80%D0%B0%D0%BD%D0%B8%D1%86%D0%B0\" title=\"Перейти на заглавную страницу\"></a></div>\\n\\t\\t\\t\\t\\t\\t<div class=\"portal\" role=\"navigation\" id=\"p-navigation\" aria-labelledby=\"p-navigation-label\">\\n\\t\\t\\t<h3 id=\"p-navigation-label\">Навигация</h3>\\n\\t\\t\\t<div class=\"body\">\\n\\t\\t\\t\\t\\t\\t\\t\\t<ul>\\n\\t\\t\\t\\t\\t<li id=\"n-mainpage-description\"><a href=\"/wiki/%D0%97%D0%B0%D0%B3%D0%BB%D0%B0%D0%B2%D0%BD%D0%B0%D1%8F_%D1%81%D1%82%D1%80%D0%B0%D0%BD%D0%B8%D1%86%D0%B0\" title=\"Перейти на заглавную страницу [z]\" accesskey=\"z\">Заглавная страница</a></li><li id=\"n-browse\"><a href=\"/wiki/%D0%92%D0%B8%D0%BA%D0%B8%D0%BF%D0%B5%D0%B4%D0%B8%D1%8F:%D0%9F%D0%BE%D0%B8%D1%81%D0%BA_%D0%BF%D0%BE_%D0%BA%D0%B0%D1%82%D0%B5%D0%B3%D0%BE%D1%80%D0%B8%D1%8F%D0%BC\" title=\"Поиск по категориям\">Рубрикация</a></li><li id=\"n-index\"><a href=\"/wiki/%D0%92%D0%B8%D0%BA%D0%B8%D0%BF%D0%B5%D0%B4%D0%B8%D1%8F:%D0%90%D0%BB%D1%84%D0%B0%D0%B2%D0%B8%D1%82%D0%BD%D1%8B%D0%B9_%D1%83%D0%BA%D0%B0%D0%B7%D0%B0%D1%82%D0%B5%D0%BB%D1%8C\" title=\"Поиск по двум первым буквам\">Указатель А\\u2009—\\u2009Я</a></li><li id=\"n-featured\"><a href=\"/wiki/%D0%92%D0%B8%D0%BA%D0%B8%D0%BF%D0%B5%D0%B4%D0%B8%D1%8F:%D0%98%D0%B7%D0%B1%D1%80%D0%B0%D0%BD%D0%BD%D1%8B%D0%B5_%D1%81%D1%82%D0%B0%D1%82%D1%8C%D0%B8\" title=\"Статьи, считающиеся лучшими статьями проекта\">Избранные статьи</a></li><li id=\"n-randompage\"><a href=\"/wiki/%D0%A1%D0%BB%D1%83%D0%B6%D0%B5%D0%B1%D0%BD%D0%B0%D1%8F:%D0%A1%D0%BB%D1%83%D1%87%D0%B0%D0%B9%D0%BD%D0%B0%D1%8F_%D1%81%D1%82%D1%80%D0%B0%D0%BD%D0%B8%D1%86%D0%B0\" title=\"Посмотреть случайно выбранную страницу [x]\" accesskey=\"x\">Случайная статья</a></li><li id=\"n-currentevents\"><a href=\"/wiki/%D0%9F%D0%BE%D1%80%D1%82%D0%B0%D0%BB:%D0%A2%D0%B5%D0%BA%D1%83%D1%89%D0%B8%D0%B5_%D1%81%D0%BE%D0%B1%D1%8B%D1%82%D0%B8%D1%8F\" title=\"Статьи о текущих событиях в мире\">Текущие события</a></li>\\t\\t\\t\\t</ul>\\n\\t\\t\\t\\t\\t\\t\\t</div>\\n\\t\\t</div>\\n\\t\\t\\t<div class=\"portal\" role=\"navigation\" id=\"p-participation\" aria-labelledby=\"p-participation-label\">\\n\\t\\t\\t<h3 id=\"p-participation-label\">Участие</h3>\\n\\t\\t\\t<div class=\"body\">\\n\\t\\t\\t\\t\\t\\t\\t\\t<ul>\\n\\t\\t\\t\\t\\t<li id=\"n-bug_in_article\"><a href=\"/wiki/%D0%92%D0%B8%D0%BA%D0%B8%D0%BF%D0%B5%D0%B4%D0%B8%D1%8F:%D0%A1%D0%BE%D0%BE%D0%B1%D1%89%D0%B5%D0%BD%D0%B8%D1%8F_%D0%BE%D0%B1_%D0%BE%D1%88%D0%B8%D0%B1%D0%BA%D0%B0%D1%85\" title=\"Сообщить об ошибке в этой статье\">Сообщить об\\xa0ошибке</a></li><li id=\"n-portal\"><a href=\"/wiki/%D0%92%D0%B8%D0%BA%D0%B8%D0%BF%D0%B5%D0%B4%D0%B8%D1%8F:%D0%A1%D0%BE%D0%BE%D0%B1%D1%89%D0%B5%D1%81%D1%82%D0%B2%D0%BE\" title=\"О проекте, о том, чем здесь можно заниматься, а также — где что находится\">Сообщество</a></li><li id=\"n-forum\"><a href=\"/wiki/%D0%92%D0%B8%D0%BA%D0%B8%D0%BF%D0%B5%D0%B4%D0%B8%D1%8F:%D0%A4%D0%BE%D1%80%D1%83%D0%BC\" title=\"Форум участников Википедии\">Форум</a></li><li id=\"n-recentchanges\"><a href=\"/wiki/%D0%A1%D0%BB%D1%83%D0%B6%D0%B5%D0%B1%D0%BD%D0%B0%D1%8F:%D0%A1%D0%B2%D0%B5%D0%B6%D0%B8%D0%B5_%D0%BF%D1%80%D0%B0%D0%B2%D0%BA%D0%B8\" title=\"Список последних изменений [r]\" accesskey=\"r\">Свежие правки</a></li><li id=\"n-newpages\"><a href=\"/wiki/%D0%A1%D0%BB%D1%83%D0%B6%D0%B5%D0%B1%D0%BD%D0%B0%D1%8F:%D0%9D%D0%BE%D0%B2%D1%8B%D0%B5_%D1%81%D1%82%D1%80%D0%B0%D0%BD%D0%B8%D1%86%D1%8B\" title=\"Список недавно созданных страниц\">Новые страницы</a></li><li id=\"n-help\"><a href=\"/wiki/%D0%92%D0%B8%D0%BA%D0%B8%D0%BF%D0%B5%D0%B4%D0%B8%D1%8F:%D0%A1%D0%BF%D1%80%D0%B0%D0%B2%D0%BA%D0%B0\" title=\"Место, где можно получить справку\">Справка</a></li><li id=\"n-sitesupport\"><a href=\"//donate.wikimedia.org/wiki/Special:FundraiserRedirector?utm_source=donate&amp;utm_medium=sidebar&amp;utm_campaign=C13_ru.wikipedia.org&amp;uselang=ru\" title=\"Поддержите нас\">Пожертвовать</a></li>\\t\\t\\t\\t</ul>\\n\\t\\t\\t\\t\\t\\t\\t</div>\\n\\t\\t</div>\\n\\t\\t\\t<div class=\"portal\" role=\"navigation\" id=\"p-tb\" aria-labelledby=\"p-tb-label\">\\n\\t\\t\\t<h3 id=\"p-tb-label\">Инструменты</h3>\\n\\t\\t\\t<div class=\"body\">\\n\\t\\t\\t\\t\\t\\t\\t\\t<ul>\\n\\t\\t\\t\\t\\t<li id=\"t-whatlinkshere\"><a href=\"/wiki/%D0%A1%D0%BB%D1%83%D0%B6%D0%B5%D0%B1%D0%BD%D0%B0%D1%8F:%D0%A1%D1%81%D1%8B%D0%BB%D0%BA%D0%B8_%D1%81%D1%8E%D0%B4%D0%B0/%D0%92%D0%B8%D0%BB%D0%BB%D0%B0%D1%80-%D0%A1%D0%B5%D0%BD%D1%82-%D0%90%D0%BD%D1%81%D0%B5%D0%BB%D1%8C%D0%BC\" title=\"Список всех страниц, ссылающихся на данную [j]\" accesskey=\"j\">Ссылки сюда</a></li><li id=\"t-recentchangeslinked\"><a href=\"/wiki/%D0%A1%D0%BB%D1%83%D0%B6%D0%B5%D0%B1%D0%BD%D0%B0%D1%8F:%D0%A1%D0%B2%D1%8F%D0%B7%D0%B0%D0%BD%D0%BD%D1%8B%D0%B5_%D0%BF%D1%80%D0%B0%D0%B2%D0%BA%D0%B8/%D0%92%D0%B8%D0%BB%D0%BB%D0%B0%D1%80-%D0%A1%D0%B5%D0%BD%D1%82-%D0%90%D0%BD%D1%81%D0%B5%D0%BB%D1%8C%D0%BC\" rel=\"nofollow\" title=\"Последние изменения в страницах, на которые ссылается эта страница [k]\" accesskey=\"k\">Связанные правки</a></li><li id=\"t-specialpages\"><a href=\"/wiki/%D0%A1%D0%BB%D1%83%D0%B6%D0%B5%D0%B1%D0%BD%D0%B0%D1%8F:%D0%A1%D0%BF%D0%B5%D1%86%D1%81%D1%82%D1%80%D0%B0%D0%BD%D0%B8%D1%86%D1%8B\" title=\"Список служебных страниц [q]\" accesskey=\"q\">Служебные страницы</a></li><li id=\"t-permalink\"><a href=\"/w/index.php?title=%D0%92%D0%B8%D0%BB%D0%BB%D0%B0%D1%80-%D0%A1%D0%B5%D0%BD%D1%82-%D0%90%D0%BD%D1%81%D0%B5%D0%BB%D1%8C%D0%BC&amp;oldid=96584638\" title=\"Постоянная ссылка на эту версию страницы\">Постоянная ссылка</a></li><li id=\"t-info\"><a href=\"/w/index.php?title=%D0%92%D0%B8%D0%BB%D0%BB%D0%B0%D1%80-%D0%A1%D0%B5%D0%BD%D1%82-%D0%90%D0%BD%D1%81%D0%B5%D0%BB%D1%8C%D0%BC&amp;action=info\" title=\"Подробнее об этой странице\">Сведения о\\xa0странице</a></li><li id=\"t-wikibase\"><a href=\"https://www.wikidata.org/wiki/Special:EntityPage/Q1084000\" title=\"Ссылка на связанный элемент репозитория данных [g]\" accesskey=\"g\">Элемент Викиданных</a></li><li id=\"t-cite\"><a href=\"/w/index.php?title=%D0%A1%D0%BB%D1%83%D0%B6%D0%B5%D0%B1%D0%BD%D0%B0%D1%8F:%D0%A6%D0%B8%D1%82%D0%B0%D1%82%D0%B0&amp;page=%D0%92%D0%B8%D0%BB%D0%BB%D0%B0%D1%80-%D0%A1%D0%B5%D0%BD%D1%82-%D0%90%D0%BD%D1%81%D0%B5%D0%BB%D1%8C%D0%BC&amp;id=96584638\" title=\"Информация о том, как цитировать эту страницу\">Цитировать страницу</a></li>\\t\\t\\t\\t</ul>\\n\\t\\t\\t\\t\\t\\t\\t</div>\\n\\t\\t</div>\\n\\t\\t\\t<div class=\"portal\" role=\"navigation\" id=\"p-wikibase-otherprojects\" aria-labelledby=\"p-wikibase-otherprojects-label\">\\n\\t\\t\\t<h3 id=\"p-wikibase-otherprojects-label\">В других проектах</h3>\\n\\t\\t\\t<div class=\"body\">\\n\\t\\t\\t\\t\\t\\t\\t\\t<ul>\\n\\t\\t\\t\\t\\t<li class=\"wb-otherproject-link wb-otherproject-commons\"><a href=\"https://commons.wikimedia.org/wiki/Category:Villar-Saint-Anselme\" hreflang=\"en\">Викисклад</a></li>\\t\\t\\t\\t</ul>\\n\\t\\t\\t\\t\\t\\t\\t</div>\\n\\t\\t</div>\\n\\t\\t\\t<div class=\"portal\" role=\"navigation\" id=\"p-coll-print_export\" aria-labelledby=\"p-coll-print_export-label\">\\n\\t\\t\\t<h3 id=\"p-coll-print_export-label\">Печать/экспорт</h3>\\n\\t\\t\\t<div class=\"body\">\\n\\t\\t\\t\\t\\t\\t\\t\\t<ul>\\n\\t\\t\\t\\t\\t<li id=\"coll-create_a_book\"><a href=\"/w/index.php?title=%D0%A1%D0%BB%D1%83%D0%B6%D0%B5%D0%B1%D0%BD%D0%B0%D1%8F:%D0%9A%D0%BE%D0%BB%D0%BB%D0%B5%D0%BA%D1%86%D0%B8%D1%8F_%D0%BA%D0%BD%D0%B8%D0%B3&amp;bookcmd=book_creator&amp;referer=%D0%92%D0%B8%D0%BB%D0%BB%D0%B0%D1%80-%D0%A1%D0%B5%D0%BD%D1%82-%D0%90%D0%BD%D1%81%D0%B5%D0%BB%D1%8C%D0%BC\">Создать книгу</a></li><li id=\"coll-download-as-rl\"><a href=\"/w/index.php?title=%D0%A1%D0%BB%D1%83%D0%B6%D0%B5%D0%B1%D0%BD%D0%B0%D1%8F:ElectronPdf&amp;page=%D0%92%D0%B8%D0%BB%D0%BB%D0%B0%D1%80-%D0%A1%D0%B5%D0%BD%D1%82-%D0%90%D0%BD%D1%81%D0%B5%D0%BB%D1%8C%D0%BC&amp;action=show-download-screen\">Скачать как PDF</a></li><li id=\"t-print\"><a href=\"/w/index.php?title=%D0%92%D0%B8%D0%BB%D0%BB%D0%B0%D1%80-%D0%A1%D0%B5%D0%BD%D1%82-%D0%90%D0%BD%D1%81%D0%B5%D0%BB%D1%8C%D0%BC&amp;printable=yes\" title=\"Версия этой страницы для печати [p]\" accesskey=\"p\">Версия для печати</a></li>\\t\\t\\t\\t</ul>\\n\\t\\t\\t\\t\\t\\t\\t</div>\\n\\t\\t</div>\\n\\t\\t\\t<div class=\"portal\" role=\"navigation\" id=\"p-lang\" aria-labelledby=\"p-lang-label\">\\n\\t\\t\\t<h3 id=\"p-lang-label\">На других языках</h3>\\n\\t\\t\\t<div class=\"body\">\\n\\t\\t\\t\\t\\t\\t\\t\\t<ul>\\n\\t\\t\\t\\t\\t<li class=\"interlanguage-link interwiki-ca\"><a href=\"https://ca.wikipedia.org/wiki/Vilar_de_Monsenh_Ancel\" title=\"Vilar de Monsenh Ancel — каталанский\" lang=\"ca\" hreflang=\"ca\" class=\"interlanguage-link-target\">Català</a></li><li class=\"interlanguage-link interwiki-ce\"><a href=\"https://ce.wikipedia.org/wiki/%D0%92%D0%B8%D0%BB%D0%BB%D0%B0%D1%80-%D0%A1%D0%B5%D0%BD%D1%82-%D0%90%D0%BD%D1%81%D0%B5%D0%BB%D1%8C%D0%BC\" title=\"Виллар-Сент-Ансельм — чеченский\" lang=\"ce\" hreflang=\"ce\" class=\"interlanguage-link-target\">Нохчийн</a></li><li class=\"interlanguage-link interwiki-ceb\"><a href=\"https://ceb.wikipedia.org/wiki/Villar-Saint-Anselme\" title=\"Villar-Saint-Anselme — себуано\" lang=\"ceb\" hreflang=\"ceb\" class=\"interlanguage-link-target\">Cebuano</a></li><li class=\"interlanguage-link interwiki-de\"><a href=\"https://de.wikipedia.org/wiki/Villar-Saint-Anselme\" title=\"Villar-Saint-Anselme — немецкий\" lang=\"de\" hreflang=\"de\" class=\"interlanguage-link-target\">Deutsch</a></li><li class=\"interlanguage-link interwiki-en\"><a href=\"https://en.wikipedia.org/wiki/Villar-Saint-Anselme\" title=\"Villar-Saint-Anselme — английский\" lang=\"en\" hreflang=\"en\" class=\"interlanguage-link-target\">English</a></li><li class=\"interlanguage-link interwiki-es\"><a href=\"https://es.wikipedia.org/wiki/Villar-Saint-Anselme\" title=\"Villar-Saint-Anselme — испанский\" lang=\"es\" hreflang=\"es\" class=\"interlanguage-link-target\">Español</a></li><li class=\"interlanguage-link interwiki-eu\"><a href=\"https://eu.wikipedia.org/wiki/Villar-Saint-Anselme\" title=\"Villar-Saint-Anselme — баскский\" lang=\"eu\" hreflang=\"eu\" class=\"interlanguage-link-target\">Euskara</a></li><li class=\"interlanguage-link interwiki-fr\"><a href=\"https://fr.wikipedia.org/wiki/Villar-Saint-Anselme\" title=\"Villar-Saint-Anselme — французский\" lang=\"fr\" hreflang=\"fr\" class=\"interlanguage-link-target\">Français</a></li><li class=\"interlanguage-link interwiki-hu\"><a href=\"https://hu.wikipedia.org/wiki/Villar-Saint-Anselme\" title=\"Villar-Saint-Anselme — венгерский\" lang=\"hu\" hreflang=\"hu\" class=\"interlanguage-link-target\">Magyar</a></li><li class=\"interlanguage-link interwiki-hy\"><a href=\"https://hy.wikipedia.org/wiki/%D5%8E%D5%AB%D5%AC%D5%A1%D6%80_%D5%8D%D5%A5%D5%B6%D5%BF_%D4%B1%D5%B6%D5%BD%D5%A5%D5%AC%D5%B4\" title=\"Վիլար Սենտ Անսելմ — армянский\" lang=\"hy\" hreflang=\"hy\" class=\"interlanguage-link-target\">Հայերեն</a></li><li class=\"interlanguage-link interwiki-it\"><a href=\"https://it.wikipedia.org/wiki/Villar-Saint-Anselme\" title=\"Villar-Saint-Anselme — итальянский\" lang=\"it\" hreflang=\"it\" class=\"interlanguage-link-target\">Italiano</a></li><li class=\"interlanguage-link interwiki-kk\"><a href=\"https://kk.wikipedia.org/wiki/%D0%92%D0%B8%D0%BB%D0%BB%D0%B0%D1%80-%D0%A1%D0%B5%D0%BD%D1%82-%D0%90%D0%BD%D1%81%D0%B5%D0%BB%D1%8C%D0%BC\" title=\"Виллар-Сент-Ансельм — казахский\" lang=\"kk\" hreflang=\"kk\" class=\"interlanguage-link-target\">Қазақша</a></li><li class=\"interlanguage-link interwiki-la\"><a href=\"https://la.wikipedia.org/wiki/Villar-Saint-Anselme\" title=\"Villar-Saint-Anselme — латинский\" lang=\"la\" hreflang=\"la\" class=\"interlanguage-link-target\">Latina</a></li><li class=\"interlanguage-link interwiki-lmo\"><a href=\"https://lmo.wikipedia.org/wiki/Villar-Saint-Anselme\" title=\"Villar-Saint-Anselme — Lombard\" lang=\"lmo\" hreflang=\"lmo\" class=\"interlanguage-link-target\">Lumbaart</a></li><li class=\"interlanguage-link interwiki-mg\"><a href=\"https://mg.wikipedia.org/wiki/Villar-Saint-Anselme\" title=\"Villar-Saint-Anselme — малагасийский\" lang=\"mg\" hreflang=\"mg\" class=\"interlanguage-link-target\">Malagasy</a></li><li class=\"interlanguage-link interwiki-ms\"><a href=\"https://ms.wikipedia.org/wiki/Villar-Saint-Anselme\" title=\"Villar-Saint-Anselme — малайский\" lang=\"ms\" hreflang=\"ms\" class=\"interlanguage-link-target\">Bahasa Melayu</a></li><li class=\"interlanguage-link interwiki-nl\"><a href=\"https://nl.wikipedia.org/wiki/Villar-Saint-Anselme\" title=\"Villar-Saint-Anselme — нидерландский\" lang=\"nl\" hreflang=\"nl\" class=\"interlanguage-link-target\">Nederlands</a></li><li class=\"interlanguage-link interwiki-oc\"><a href=\"https://oc.wikipedia.org/wiki/Le_Vilar_de_Monsenh_Ancel\" title=\"Le Vilar de Monsenh Ancel — окситанский\" lang=\"oc\" hreflang=\"oc\" class=\"interlanguage-link-target\">Occitan</a></li><li class=\"interlanguage-link interwiki-pl\"><a href=\"https://pl.wikipedia.org/wiki/Villar-Saint-Anselme\" title=\"Villar-Saint-Anselme — польский\" lang=\"pl\" hreflang=\"pl\" class=\"interlanguage-link-target\">Polski</a></li><li class=\"interlanguage-link interwiki-pms\"><a href=\"https://pms.wikipedia.org/wiki/Villar-Saint-Anselme\" title=\"Villar-Saint-Anselme — Piedmontese\" lang=\"pms\" hreflang=\"pms\" class=\"interlanguage-link-target\">Piemontèis</a></li><li class=\"interlanguage-link interwiki-pt\"><a href=\"https://pt.wikipedia.org/wiki/Villar-Saint-Anselme\" title=\"Villar-Saint-Anselme — португальский\" lang=\"pt\" hreflang=\"pt\" class=\"interlanguage-link-target\">Português</a></li><li class=\"interlanguage-link interwiki-ro\"><a href=\"https://ro.wikipedia.org/wiki/Villar-Saint-Anselme\" title=\"Villar-Saint-Anselme — румынский\" lang=\"ro\" hreflang=\"ro\" class=\"interlanguage-link-target\">Română</a></li><li class=\"interlanguage-link interwiki-sk\"><a href=\"https://sk.wikipedia.org/wiki/Villar-Saint-Anselme\" title=\"Villar-Saint-Anselme — словацкий\" lang=\"sk\" hreflang=\"sk\" class=\"interlanguage-link-target\">Slovenčina</a></li><li class=\"interlanguage-link interwiki-sv\"><a href=\"https://sv.wikipedia.org/wiki/Villar-Saint-Anselme\" title=\"Villar-Saint-Anselme — шведский\" lang=\"sv\" hreflang=\"sv\" class=\"interlanguage-link-target\">Svenska</a></li><li class=\"interlanguage-link interwiki-uk\"><a href=\"https://uk.wikipedia.org/wiki/%D0%92%D1%96%D0%BB%D0%BB%D0%B0%D1%80-%D0%A1%D0%B5%D0%BD%D1%82-%D0%90%D0%BD%D1%81%D0%B5%D0%BB%D1%8C%D0%BC\" title=\"Віллар-Сент-Ансельм — украинский\" lang=\"uk\" hreflang=\"uk\" class=\"interlanguage-link-target\">Українська</a></li><li class=\"interlanguage-link interwiki-vi\"><a href=\"https://vi.wikipedia.org/wiki/Villar-Saint-Anselme\" title=\"Villar-Saint-Anselme — вьетнамский\" lang=\"vi\" hreflang=\"vi\" class=\"interlanguage-link-target\">Tiếng Việt</a></li><li class=\"interlanguage-link interwiki-vo\"><a href=\"https://vo.wikipedia.org/wiki/Villar-Saint-Anselme\" title=\"Villar-Saint-Anselme — волапюк\" lang=\"vo\" hreflang=\"vo\" class=\"interlanguage-link-target\">Volapük</a></li><li class=\"interlanguage-link interwiki-war\"><a href=\"https://war.wikipedia.org/wiki/Villar-Saint-Anselme\" title=\"Villar-Saint-Anselme — варай\" lang=\"war\" hreflang=\"war\" class=\"interlanguage-link-target\">Winaray</a></li><li class=\"interlanguage-link interwiki-zh\"><a href=\"https://zh.wikipedia.org/wiki/%E7%BB%B4%E6%8B%89%E5%9C%A3%E6%98%82%E5%A1%9E%E5%B0%94%E5%A7%86_(%E5%A5%A5%E5%BE%B7%E7%9C%81)\" title=\"维拉圣昂塞尔姆 (奥德省) — китайский\" lang=\"zh\" hreflang=\"zh\" class=\"interlanguage-link-target\">中文</a></li><li class=\"interlanguage-link interwiki-zh-min-nan\"><a href=\"https://zh-min-nan.wikipedia.org/wiki/Villar-Saint-Anselme\" title=\"Villar-Saint-Anselme — Chinese (Min Nan)\" lang=\"nan\" hreflang=\"nan\" class=\"interlanguage-link-target\">Bân-lâm-gú</a></li>\\t\\t\\t\\t</ul>\\n\\t\\t\\t\\t<div class=\"after-portlet after-portlet-lang\"><span class=\"wb-langlinks-edit wb-langlinks-link\"><a href=\"https://www.wikidata.org/wiki/Special:EntityPage/Q1084000#sitelinks-wikipedia\" title=\"Править межъязыковые ссылки\" class=\"wbc-editpage\">Править ссылки</a></span></div>\\t\\t\\t</div>\\n\\t\\t</div>\\n\\t\\t\\t\\t</div>\\n\\t\\t</div>\\n\\t\\t\\t\\t<div id=\"footer\" role=\"contentinfo\">\\n\\t\\t\\t\\t\\t\\t<ul id=\"footer-info\">\\n\\t\\t\\t\\t\\t\\t\\t\\t<li id=\"footer-info-lastmod\"> Эта страница в последний раз была отредактирована 30 ноября 2018 в 17:04.</li>\\n\\t\\t\\t\\t\\t\\t\\t\\t<li id=\"footer-info-copyright\">Текст доступен по <a rel=\"license\" href=\"//ru.wikipedia.org/wiki/Википедия:Текст_лицензии_Creative_Commons_Attribution-ShareAlike_3.0_Unported\">лицензии Creative Commons Attribution-ShareAlike</a><a rel=\"license\" href=\"//creativecommons.org/licenses/by-sa/3.0/\" style=\"display:none;\"></a>; в отдельных случаях могут действовать дополнительные условия.\\n<span class=\"noprint\">Подробнее см. <a href=\"//foundation.wikimedia.org/wiki/Terms_of_Use/ru\">Условия использования</a>.</span><br>\\nWikipedia®\\xa0— зарегистрированный товарный знак некоммерческой организации <a href=\"//wikimediafoundation.org\">Wikimedia Foundation, Inc.</a></li>\\n\\t\\t\\t\\t\\t\\t\\t</ul>\\n\\t\\t\\t\\t\\t\\t<ul id=\"footer-places\">\\n\\t\\t\\t\\t\\t\\t\\t\\t<li id=\"footer-places-privacy\"><a href=\"https://meta.wikimedia.org/wiki/Privacy_policy/ru\" class=\"extiw\" title=\"m:Privacy policy/ru\">Политика конфиденциальности</a></li>\\n\\t\\t\\t\\t\\t\\t\\t\\t<li id=\"footer-places-about\"><a href=\"/wiki/%D0%92%D0%B8%D0%BA%D0%B8%D0%BF%D0%B5%D0%B4%D0%B8%D1%8F:%D0%9E%D0%BF%D0%B8%D1%81%D0%B0%D0%BD%D0%B8%D0%B5\" title=\"Википедия:Описание\">Описание Википедии</a></li>\\n\\t\\t\\t\\t\\t\\t\\t\\t<li id=\"footer-places-disclaimer\"><a href=\"/wiki/%D0%92%D0%B8%D0%BA%D0%B8%D0%BF%D0%B5%D0%B4%D0%B8%D1%8F:%D0%9E%D1%82%D0%BA%D0%B0%D0%B7_%D0%BE%D1%82_%D0%BE%D1%82%D0%B2%D0%B5%D1%82%D1%81%D1%82%D0%B2%D0%B5%D0%BD%D0%BD%D0%BE%D1%81%D1%82%D0%B8\" title=\"Википедия:Отказ от ответственности\">Отказ от ответственности</a></li>\\n\\t\\t\\t\\t\\t\\t\\t\\t<li id=\"footer-places-contact\"><a href=\"//ru.wikipedia.org/wiki/Википедия:Контакты\">Свяжитесь с нами</a></li>\\n\\t\\t\\t\\t\\t\\t\\t\\t<li id=\"footer-places-developers\"><a href=\"https://www.mediawiki.org/wiki/Special:MyLanguage/How_to_contribute\">Разработчики</a></li>\\n\\t\\t\\t\\t\\t\\t\\t\\t<li id=\"footer-places-statslink\"><a href=\"https://stats.wikimedia.org/v2/#/ru.wikipedia.org\">Статистика</a></li>\\n\\t\\t\\t\\t\\t\\t\\t\\t<li id=\"footer-places-cookiestatement\"><a href=\"https://foundation.wikimedia.org/wiki/Cookie_statement\">Заявление о куки</a></li>\\n\\t\\t\\t\\t\\t\\t\\t\\t<li id=\"footer-places-mobileview\"><a href=\"//ru.m.wikipedia.org/w/index.php?title=%D0%92%D0%B8%D0%BB%D0%BB%D0%B0%D1%80-%D0%A1%D0%B5%D0%BD%D1%82-%D0%90%D0%BD%D1%81%D0%B5%D0%BB%D1%8C%D0%BC&amp;mobileaction=toggle_view_mobile\" class=\"noprint stopMobileRedirectToggle\">Мобильная версия</a></li>\\n\\t\\t\\t\\t\\t\\t\\t</ul>\\n\\t\\t\\t\\t\\t\\t\\t\\t\\t\\t<ul id=\"footer-icons\" class=\"noprint\">\\n\\t\\t\\t\\t\\t\\t\\t\\t\\t\\t<li id=\"footer-copyrightico\">\\n\\t\\t\\t\\t\\t\\t<a href=\"https://wikimediafoundation.org/\"><img src=\"/static/images/wikimedia-button.png\" srcset=\"/static/images/wikimedia-button-1.5x.png 1.5x, /static/images/wikimedia-button-2x.png 2x\" width=\"88\" height=\"31\" alt=\"Wikimedia Foundation\"/></a>\\t\\t\\t\\t\\t</li>\\n\\t\\t\\t\\t\\t\\t\\t\\t\\t\\t<li id=\"footer-poweredbyico\">\\n\\t\\t\\t\\t\\t\\t<a href=\"https://www.mediawiki.org/\"><img src=\"/static/images/poweredby_mediawiki_88x31.png\" alt=\"Powered by MediaWiki\" srcset=\"/static/images/poweredby_mediawiki_132x47.png 1.5x, /static/images/poweredby_mediawiki_176x62.png 2x\" width=\"88\" height=\"31\"/></a>\\t\\t\\t\\t\\t</li>\\n\\t\\t\\t\\t\\t\\t\\t\\t\\t</ul>\\n\\t\\t\\t\\t\\t\\t<div style=\"clear: both;\"></div>\\n\\t\\t</div>\\n\\t\\t\\n\\n<script>(RLQ=window.RLQ||[]).push(function(){mw.config.set({\"wgPageParseReport\":{\"limitreport\":{\"cputime\":\"0.872\",\"walltime\":\"1.171\",\"ppvisitednodes\":{\"value\":6299,\"limit\":1000000},\"ppgeneratednodes\":{\"value\":0,\"limit\":1500000},\"postexpandincludesize\":{\"value\":99460,\"limit\":2097152},\"templateargumentsize\":{\"value\":15734,\"limit\":2097152},\"expansiondepth\":{\"value\":27,\"limit\":40},\"expensivefunctioncount\":{\"value\":8,\"limit\":500},\"unstrip-depth\":{\"value\":0,\"limit\":20},\"unstrip-size\":{\"value\":1732,\"limit\":5000000},\"entityaccesscount\":{\"value\":2,\"limit\":400},\"timingprofile\":[\"100.00% 1020.278      1 -total\",\" 69.29%  706.974      1 Шаблон:НП-Франция\",\" 68.78%  701.765      1 Шаблон:НП\",\" 62.74%  640.121      1 Шаблон:Карточка\",\" 33.69%  343.746     36 Шаблон:Wikidata\",\" 17.68%  180.338      2 Шаблон:Wikidata-coords\",\" 12.39%  126.440      1 Шаблон:Численность_населения\",\"  7.15%   72.987      1 Шаблон:Карточка/оригинал_названия\",\"  6.78%   69.179      3 Шаблон:Cite_web\",\"  5.81%   59.242      1 Шаблон:Примечания\"]},\"scribunto\":{\"limitreport-timeusage\":{\"value\":\"0.335\",\"limit\":\"10.000\"},\"limitreport-memusage\":{\"value\":3560532,\"limit\":52428800}},\"cachereport\":{\"origin\":\"mw1240\",\"timestamp\":\"20200113084844\",\"ttl\":86400,\"transientcontent\":true}}});});</script>\\n<script type=\"application/ld+json\">{\"@context\":\"https:\\\\/\\\\/schema.org\",\"@type\":\"Article\",\"name\":\"\\\\u0412\\\\u0438\\\\u043b\\\\u043b\\\\u0430\\\\u0440-\\\\u0421\\\\u0435\\\\u043d\\\\u0442-\\\\u0410\\\\u043d\\\\u0441\\\\u0435\\\\u043b\\\\u044c\\\\u043c\",\"url\":\"https:\\\\/\\\\/ru.wikipedia.org\\\\/wiki\\\\/%D0%92%D0%B8%D0%BB%D0%BB%D0%B0%D1%80-%D0%A1%D0%B5%D0%BD%D1%82-%D0%90%D0%BD%D1%81%D0%B5%D0%BB%D1%8C%D0%BC\",\"sameAs\":\"http:\\\\/\\\\/www.wikidata.org\\\\/entity\\\\/Q1084000\",\"mainEntity\":\"http:\\\\/\\\\/www.wikidata.org\\\\/entity\\\\/Q1084000\",\"author\":{\"@type\":\"Organization\",\"name\":\"Contributors to Wikimedia projects\"},\"publisher\":{\"@type\":\"Organization\",\"name\":\"\\\\u0424\\\\u043e\\\\u043d\\\\u0434 \\\\u0412\\\\u0438\\\\u043a\\\\u0438\\\\u043c\\\\u0435\\\\u0434\\\\u0438\\\\u0430\",\"logo\":{\"@type\":\"ImageObject\",\"url\":\"https:\\\\/\\\\/www.wikimedia.org\\\\/static\\\\/images\\\\/wmf-hor-googpub.png\"}},\"datePublished\":\"2012-05-17T14:14:27Z\",\"dateModified\":\"2018-11-30T17:04:51Z\",\"image\":\"https:\\\\/\\\\/upload.wikimedia.org\\\\/wikipedia\\\\/commons\\\\/0\\\\/07\\\\/Villar-Saint-Anselme_Castle_4325.JPG\",\"headline\":\"\\\\u043a\\\\u043e\\\\u043c\\\\u043c\\\\u0443\\\\u043d\\\\u0430 \\\\u0432\\\\u043e \\\\u0424\\\\u0440\\\\u0430\\\\u043d\\\\u0446\\\\u0438\\\\u0438\"}</script>\\n<script>(RLQ=window.RLQ||[]).push(function(){mw.config.set({\"wgBackendResponseTime\":1394,\"wgHostname\":\"mw1240\"});});</script>\\n</body>\\n</html>\\n'"
            ]
          },
          "metadata": {
            "tags": []
          },
          "execution_count": 163
        }
      ]
    },
    {
      "cell_type": "code",
      "metadata": {
        "id": "UrRQ-8Jzi283",
        "colab_type": "code",
        "colab": {}
      },
      "source": [
        "# уборка переносов строки\n",
        " html_code = html_code.replace('\\n', '')\n",
        " html_code = html_code.replace('\\r', '')"
      ],
      "execution_count": 0,
      "outputs": []
    },
    {
      "cell_type": "code",
      "metadata": {
        "id": "LrddjKg9lKIK",
        "colab_type": "code",
        "colab": {
          "base_uri": "https://localhost:8080/",
          "height": 34
        },
        "outputId": "fab38034-0170-4e18-86b0-e2fbb79160cb"
      },
      "source": [
        "#Заголовок статьи\n",
        "soup = BeautifulSoup(html_code)\n",
        "soup.title.text"
      ],
      "execution_count": 165,
      "outputs": [
        {
          "output_type": "execute_result",
          "data": {
            "text/plain": [
              "'Виллар-Сент-Ансельм — Википедия'"
            ]
          },
          "metadata": {
            "tags": []
          },
          "execution_count": 165
        }
      ]
    },
    {
      "cell_type": "code",
      "metadata": {
        "id": "izxotcZXWHV2",
        "colab_type": "code",
        "colab": {
          "base_uri": "https://localhost:8080/",
          "height": 204
        },
        "outputId": "bbd4ba48-b1ec-43e1-c488-53280b9d5ac0"
      },
      "source": [
        "#Ссылки на все картинки в статье\n",
        "elms = soup.select(\"img\")\n",
        "for i in elms:\n",
        "    print(i.attrs[\"src\"])"
      ],
      "execution_count": 166,
      "outputs": [
        {
          "output_type": "stream",
          "text": [
            "//upload.wikimedia.org/wikipedia/commons/thumb/0/07/Villar-Saint-Anselme_Castle_4325.JPG/290px-Villar-Saint-Anselme_Castle_4325.JPG\n",
            "//upload.wikimedia.org/wikipedia/commons/thumb/4/4b/Blason_ville_fr_Villar-Saint-Anselme_%28Aude%29.svg/90px-Blason_ville_fr_Villar-Saint-Anselme_%28Aude%29.svg.png\n",
            "//upload.wikimedia.org/wikipedia/commons/thumb/c/c3/Flag_of_France.svg/22px-Flag_of_France.svg.png\n",
            "//upload.wikimedia.org/wikipedia/commons/thumb/e/e9/France_location_map-Regions_and_departements-2016.svg/290px-France_location_map-Regions_and_departements-2016.svg.png\n",
            "//upload.wikimedia.org/wikipedia/commons/thumb/b/b4/Red_pog.png/9px-Red_pog.png\n",
            "//upload.wikimedia.org/wikipedia/commons/thumb/4/4a/Commons-logo.svg/15px-Commons-logo.svg.png\n",
            "//upload.wikimedia.org/wikipedia/commons/thumb/e/e4/France_Flag_Map.svg/40px-France_Flag_Map.svg.png\n",
            "//upload.wikimedia.org/wikipedia/commons/thumb/c/c9/Wikipedia_interwiki_section_gear_icon.svg/14px-Wikipedia_interwiki_section_gear_icon.svg.png\n",
            "//ru.wikipedia.org/wiki/Special:CentralAutoLogin/start?type=1x1\n",
            "/static/images/wikimedia-button.png\n",
            "/static/images/poweredby_mediawiki_88x31.png\n"
          ],
          "name": "stdout"
        }
      ]
    },
    {
      "cell_type": "code",
      "metadata": {
        "id": "0r9joJhpWHiK",
        "colab_type": "code",
        "colab": {
          "base_uri": "https://localhost:8080/",
          "height": 136
        },
        "outputId": "158843be-64e9-4ec1-999b-325362923753"
      },
      "source": [
        "#Динамику численности населения в формате: {год:численность, ... , год:численность}\n",
        "elm_y=[]\n",
        "elm_p=[]\n",
        "\n",
        "elm = soup.caption.next_sibling.findAll('th')\n",
        "for i in elm:\n",
        "  elm_y.append(i.text)\n",
        "\n",
        "elm = soup.caption.next_sibling.findAll('td')\n",
        "for i in elm:\n",
        "  elm_p.append(i.text)\n",
        "\n",
        "d =  dict(zip(elm_y, elm_p))\n",
        "d "
      ],
      "execution_count": 175,
      "outputs": [
        {
          "output_type": "execute_result",
          "data": {
            "text/plain": [
              "{'1962': '131',\n",
              " '1968': '141',\n",
              " '1975': '120',\n",
              " '1982': '117',\n",
              " '1990': '112',\n",
              " '1999': '94',\n",
              " '2008': '93'}"
            ]
          },
          "metadata": {
            "tags": []
          },
          "execution_count": 175
        }
      ]
    }
  ]
}