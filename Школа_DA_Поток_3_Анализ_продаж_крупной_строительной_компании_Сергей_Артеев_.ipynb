{
  "nbformat": 4,
  "nbformat_minor": 0,
  "metadata": {
    "colab": {
      "name": "Школа DA. Поток 3. Анализ продаж крупной строительной компании. Сергей Артеев..ipynb",
      "provenance": [],
      "authorship_tag": "ABX9TyOlsq6gMBtMmqmvDLVsKvBu",
      "include_colab_link": true
    },
    "kernelspec": {
      "name": "python3",
      "display_name": "Python 3"
    }
  },
  "cells": [
    {
      "cell_type": "markdown",
      "metadata": {
        "id": "view-in-github",
        "colab_type": "text"
      },
      "source": [
        "<a href=\"https://colab.research.google.com/github/theysee/sberbank_reboot/blob/master/%D0%A8%D0%BA%D0%BE%D0%BB%D0%B0_DA_%D0%9F%D0%BE%D1%82%D0%BE%D0%BA_3_%D0%90%D0%BD%D0%B0%D0%BB%D0%B8%D0%B7_%D0%BF%D1%80%D0%BE%D0%B4%D0%B0%D0%B6_%D0%BA%D1%80%D1%83%D0%BF%D0%BD%D0%BE%D0%B9_%D1%81%D1%82%D1%80%D0%BE%D0%B8%D1%82%D0%B5%D0%BB%D1%8C%D0%BD%D0%BE%D0%B9_%D0%BA%D0%BE%D0%BC%D0%BF%D0%B0%D0%BD%D0%B8%D0%B8_%D0%A1%D0%B5%D1%80%D0%B3%D0%B5%D0%B9_%D0%90%D1%80%D1%82%D0%B5%D0%B5%D0%B2_.ipynb\" target=\"_parent\"><img src=\"https://colab.research.google.com/assets/colab-badge.svg\" alt=\"Open In Colab\"/></a>"
      ]
    },
    {
      "cell_type": "markdown",
      "metadata": {
        "id": "inKOU56ckPBa",
        "colab_type": "text"
      },
      "source": [
        "Суть Проекта в том, чтобы проанализировать продажи в крупной строительной компании.\n",
        "Входные данные в формах Excel. Формируются программой автоматически, а значит всегда постоянны. Некоторые столбцы для анализа продаж они не нужны, поэтому я буду их удалять, чтобы не мешались."
      ]
    },
    {
      "cell_type": "code",
      "metadata": {
        "id": "pE1TgkLZAi41",
        "colab_type": "code",
        "colab": {}
      },
      "source": [
        "import numpy as np\n",
        "import pandas as pd\n",
        "import pymysql\n",
        "from datetime import datetime, timedelta, date\n",
        "import matplotlib as mpl\n",
        "import matplotlib.pyplot as plt\n",
        "import seaborn as sns\n",
        "from matplotlib import cm\n",
        "from matplotlib.colors import ListedColormap, LinearSegmentedColormap\n",
        "from matplotlib.ticker import (MultipleLocator, FormatStrFormatter,\n",
        "                               AutoMinorLocator)\n",
        "%matplotlib inline"
      ],
      "execution_count": 0,
      "outputs": []
    },
    {
      "cell_type": "code",
      "metadata": {
        "id": "OinMmA-NAbHE",
        "colab_type": "code",
        "colab": {
          "base_uri": "https://localhost:8080/",
          "height": 35
        },
        "outputId": "1df58f8d-04c6-4300-e597-bbf2b5e54991"
      },
      "source": [
        "# Если не сработает загрузка файлов, дальше есть загрузка в SQL.\n",
        "from google.colab import drive\n",
        "drive.mount('/content/drive')"
      ],
      "execution_count": 2,
      "outputs": [
        {
          "output_type": "stream",
          "text": [
            "Drive already mounted at /content/drive; to attempt to forcibly remount, call drive.mount(\"/content/drive\", force_remount=True).\n"
          ],
          "name": "stdout"
        }
      ]
    },
    {
      "cell_type": "code",
      "metadata": {
        "id": "uUN64sJHFoRi",
        "colab_type": "code",
        "colab": {
          "base_uri": "https://localhost:8080/",
          "height": 54
        },
        "outputId": "2ae13e51-4db4-4d1a-f097-2d50b601b227"
      },
      "source": [
        "# Прочитал, что список файлов в Colab не получить, поэтому делаю руками.\n",
        "!ls \"/content/drive/My Drive/Эскроу\""
      ],
      "execution_count": 3,
      "outputs": [
        {
          "output_type": "stream",
          "text": [
            "Застройщик_110.xls  Застройщик_140.xls\tЗастройщик_146.xls  Застройщик_176.xls\n",
            "Застройщик_120.xls  Застройщик_141.xls\tЗастройщик_170.xls  Застройщик_28.xls\n"
          ],
          "name": "stdout"
        }
      ]
    },
    {
      "cell_type": "code",
      "metadata": {
        "id": "_XjD9hkHoSPd",
        "colab_type": "code",
        "colab": {}
      },
      "source": [
        "# Функция для наведения красоты.\n",
        "# Удаляем лишние данные, обрезаем сверху и снизу тех ячейки в Excel.\n",
        "def pars(data_read):\n",
        "  contract = data_read.iloc[5,6]\n",
        "  contract = contract.split(' ')\n",
        "  contract = contract[-3:-2]\n",
        "  contract = int(contract[0])\n",
        "  data_read.drop(data_read.columns[[0, 4, 5, 6, 7, 8, 9, 10, 11]], axis='columns', inplace=True)\n",
        "  data_read.drop([0,1,2,3,4,5,6,7], inplace=True)\n",
        "  data_read.columns = ['Date_open_escrow', 'Depo_summ', 'Date_pay']\n",
        "  data_read['Date_open_escrow'] =  pd.to_datetime(data_read['Date_open_escrow'], format='%Y-%m-%d')\n",
        "  data_read['Date_pay'] =  pd.to_datetime(data_read['Date_pay'], format='%Y-%m-%d')\n",
        "  data_read['Contract'] = contract\n",
        "  return data_read"
      ],
      "execution_count": 0,
      "outputs": []
    },
    {
      "cell_type": "code",
      "metadata": {
        "id": "degmWgdmojkN",
        "colab_type": "code",
        "colab": {
          "base_uri": "https://localhost:8080/",
          "height": 182
        },
        "outputId": "7e46f7bc-d3ea-4f09-b7ac-debe3ae169c8"
      },
      "source": [
        "data_read = pd.read_excel('/content/drive/My Drive/Эскроу/Застройщик_110.xls')\n",
        "df = pars(data_read)\n",
        "data_read = pd.read_excel('/content/drive/My Drive/Эскроу/Застройщик_140.xls')\n",
        "df = df.append(pars(data_read), ignore_index = True)\n",
        "data_read = pd.read_excel('/content/drive/My Drive/Эскроу/Застройщик_146.xls')\n",
        "df = df.append(pars(data_read), ignore_index = True)\n",
        "data_read = pd.read_excel('/content/drive/My Drive/Эскроу/Застройщик_176.xls')\n",
        "df = df.append(pars(data_read), ignore_index = True)\n",
        "data_read = pd.read_excel('/content/drive/My Drive/Эскроу/Застройщик_120.xls')\n",
        "df = df.append(pars(data_read), ignore_index = True)\n",
        "data_read = pd.read_excel('/content/drive/My Drive/Эскроу/Застройщик_141.xls')\n",
        "df = df.append(pars(data_read), ignore_index = True)\n",
        "data_read = pd.read_excel('/content/drive/My Drive/Эскроу/Застройщик_170.xls')\n",
        "df = df.append(pars(data_read), ignore_index = True)\n",
        "data_read = pd.read_excel('/content/drive/My Drive/Эскроу/Застройщик_28.xls')\n",
        "df = df.append(pars(data_read), ignore_index = True)\n",
        "df.dropna(inplace=True)\n",
        "df['Depo_summ'] = df['Depo_summ'].astype(np.int64)\n",
        "df.info()"
      ],
      "execution_count": 21,
      "outputs": [
        {
          "output_type": "stream",
          "text": [
            "<class 'pandas.core.frame.DataFrame'>\n",
            "Int64Index: 1818 entries, 0 to 1845\n",
            "Data columns (total 4 columns):\n",
            "Date_open_escrow    1818 non-null datetime64[ns]\n",
            "Depo_summ           1818 non-null int64\n",
            "Date_pay            1818 non-null datetime64[ns]\n",
            "Contract            1818 non-null int64\n",
            "dtypes: datetime64[ns](2), int64(2)\n",
            "memory usage: 71.0 KB\n"
          ],
          "name": "stdout"
        }
      ]
    },
    {
      "cell_type": "code",
      "metadata": {
        "id": "ozMgd7tGj66a",
        "colab_type": "code",
        "colab": {
          "base_uri": "https://localhost:8080/",
          "height": 35
        },
        "outputId": "5f2c055d-339a-4368-8415-7db63a03a3d8"
      },
      "source": [
        "!pip install PyMySQL"
      ],
      "execution_count": 22,
      "outputs": [
        {
          "output_type": "stream",
          "text": [
            "Requirement already satisfied: PyMySQL in /usr/local/lib/python3.6/dist-packages (0.9.3)\n"
          ],
          "name": "stdout"
        }
      ]
    },
    {
      "cell_type": "code",
      "metadata": {
        "id": "tbpUwvaPjnaK",
        "colab_type": "code",
        "colab": {}
      },
      "source": [
        "DB_HOST = '89.223.95.235'\n",
        "DB_USER = 'student_12'\n",
        "DB_USER_PASSWORD = 'student_12'\n",
        "DB_NAME = 'student_12'\n",
        "conn = pymysql.connect(DB_HOST, DB_USER, DB_USER_PASSWORD, DB_NAME)"
      ],
      "execution_count": 0,
      "outputs": []
    },
    {
      "cell_type": "code",
      "metadata": {
        "id": "MrfdhczkthPB",
        "colab_type": "code",
        "colab": {
          "base_uri": "https://localhost:8080/",
          "height": 81
        },
        "outputId": "72827efe-46a1-405a-ace0-828bcb3582b8"
      },
      "source": [
        "pd.read_sql_query(\"show tables\", conn)"
      ],
      "execution_count": 31,
      "outputs": [
        {
          "output_type": "execute_result",
          "data": {
            "text/html": [
              "<div>\n",
              "<style scoped>\n",
              "    .dataframe tbody tr th:only-of-type {\n",
              "        vertical-align: middle;\n",
              "    }\n",
              "\n",
              "    .dataframe tbody tr th {\n",
              "        vertical-align: top;\n",
              "    }\n",
              "\n",
              "    .dataframe thead th {\n",
              "        text-align: right;\n",
              "    }\n",
              "</style>\n",
              "<table border=\"1\" class=\"dataframe\">\n",
              "  <thead>\n",
              "    <tr style=\"text-align: right;\">\n",
              "      <th></th>\n",
              "      <th>Tables_in_student_12</th>\n",
              "    </tr>\n",
              "  </thead>\n",
              "  <tbody>\n",
              "    <tr>\n",
              "      <th>0</th>\n",
              "      <td>sales</td>\n",
              "    </tr>\n",
              "  </tbody>\n",
              "</table>\n",
              "</div>"
            ],
            "text/plain": [
              "  Tables_in_student_12\n",
              "0                sales"
            ]
          },
          "metadata": {
            "tags": []
          },
          "execution_count": 31
        }
      ]
    },
    {
      "cell_type": "code",
      "metadata": {
        "id": "0d6lhIUVjn5K",
        "colab_type": "code",
        "colab": {}
      },
      "source": [
        "#query = \"DROP TABLE IF EXISTS Sales\"\n",
        "#conn.cursor().execute(query)\n",
        "#conn.commit()"
      ],
      "execution_count": 0,
      "outputs": []
    },
    {
      "cell_type": "code",
      "metadata": {
        "id": "q62UDjxvtBUg",
        "colab_type": "code",
        "colab": {}
      },
      "source": [
        "# По идее, ключ не нужен, но как SQL без ключа.\n",
        "query = \"\"\"\n",
        "  CREATE TABLE IF NOT EXISTS Sales (\n",
        "    Sales_id INT AUTO_INCREMENT PRIMARY KEY,\n",
        "    Date_open_escrow DATETIME,\n",
        "    Depo_summ NUMERIC,\n",
        "    Date_pay DATETIME,\n",
        "    Contract INT\n",
        "    )\n",
        "\"\"\" \n",
        "\n",
        "conn.cursor().execute(query)\n",
        "conn.commit()"
      ],
      "execution_count": 0,
      "outputs": []
    },
    {
      "cell_type": "code",
      "metadata": {
        "id": "McBQPT55FNkm",
        "colab_type": "code",
        "colab": {}
      },
      "source": [
        "queries = []\n",
        "\n",
        "for index, row in df.iterrows():\n",
        "    querie = f'''INSERT INTO Sales (Date_open_escrow, Depo_summ, Date_pay, Contract) VALUES ('{row[0]}', '{row[1]}', '{row[2]}', '{row[3]}')'''\n",
        "    queries.append(querie)\n",
        "\n",
        "for q in queries:\n",
        "  conn.cursor().execute(q)\n",
        "#conn.commit()"
      ],
      "execution_count": 0,
      "outputs": []
    },
    {
      "cell_type": "code",
      "metadata": {
        "id": "pHNUbKTk3Gkn",
        "colab_type": "code",
        "colab": {
          "base_uri": "https://localhost:8080/",
          "height": 424
        },
        "outputId": "753d8d71-177d-4fb5-9d52-f4250c13a2b3"
      },
      "source": [
        "# Записей 1818, значит всё в порядке.\n",
        "df = pd.read_sql_query('''SELECT * FROM Sales''', conn)\n",
        "df"
      ],
      "execution_count": 48,
      "outputs": [
        {
          "output_type": "execute_result",
          "data": {
            "text/html": [
              "<div>\n",
              "<style scoped>\n",
              "    .dataframe tbody tr th:only-of-type {\n",
              "        vertical-align: middle;\n",
              "    }\n",
              "\n",
              "    .dataframe tbody tr th {\n",
              "        vertical-align: top;\n",
              "    }\n",
              "\n",
              "    .dataframe thead th {\n",
              "        text-align: right;\n",
              "    }\n",
              "</style>\n",
              "<table border=\"1\" class=\"dataframe\">\n",
              "  <thead>\n",
              "    <tr style=\"text-align: right;\">\n",
              "      <th></th>\n",
              "      <th>Sales_id</th>\n",
              "      <th>Date_open_escrow</th>\n",
              "      <th>Depo_summ</th>\n",
              "      <th>Date_pay</th>\n",
              "      <th>Contract</th>\n",
              "    </tr>\n",
              "  </thead>\n",
              "  <tbody>\n",
              "    <tr>\n",
              "      <th>0</th>\n",
              "      <td>1</td>\n",
              "      <td>2019-06-28 16:08:00</td>\n",
              "      <td>3048000.0</td>\n",
              "      <td>2019-09-30</td>\n",
              "      <td>110</td>\n",
              "    </tr>\n",
              "    <tr>\n",
              "      <th>1</th>\n",
              "      <td>2</td>\n",
              "      <td>2019-06-28 09:13:00</td>\n",
              "      <td>2048000.0</td>\n",
              "      <td>2019-08-31</td>\n",
              "      <td>110</td>\n",
              "    </tr>\n",
              "    <tr>\n",
              "      <th>2</th>\n",
              "      <td>3</td>\n",
              "      <td>2019-06-28 10:45:00</td>\n",
              "      <td>2448000.0</td>\n",
              "      <td>2019-08-31</td>\n",
              "      <td>110</td>\n",
              "    </tr>\n",
              "    <tr>\n",
              "      <th>3</th>\n",
              "      <td>4</td>\n",
              "      <td>2019-06-28 09:40:00</td>\n",
              "      <td>98000.0</td>\n",
              "      <td>2021-09-30</td>\n",
              "      <td>110</td>\n",
              "    </tr>\n",
              "    <tr>\n",
              "      <th>4</th>\n",
              "      <td>5</td>\n",
              "      <td>2019-06-28 16:47:00</td>\n",
              "      <td>3700000.0</td>\n",
              "      <td>2019-12-31</td>\n",
              "      <td>110</td>\n",
              "    </tr>\n",
              "    <tr>\n",
              "      <th>...</th>\n",
              "      <td>...</td>\n",
              "      <td>...</td>\n",
              "      <td>...</td>\n",
              "      <td>...</td>\n",
              "      <td>...</td>\n",
              "    </tr>\n",
              "    <tr>\n",
              "      <th>1813</th>\n",
              "      <td>1814</td>\n",
              "      <td>2020-01-30 12:28:25</td>\n",
              "      <td>3520000.0</td>\n",
              "      <td>2021-09-30</td>\n",
              "      <td>28</td>\n",
              "    </tr>\n",
              "    <tr>\n",
              "      <th>1814</th>\n",
              "      <td>1815</td>\n",
              "      <td>2020-02-04 09:19:23</td>\n",
              "      <td>5150000.0</td>\n",
              "      <td>2021-09-30</td>\n",
              "      <td>28</td>\n",
              "    </tr>\n",
              "    <tr>\n",
              "      <th>1815</th>\n",
              "      <td>1816</td>\n",
              "      <td>2020-01-30 11:23:49</td>\n",
              "      <td>3150000.0</td>\n",
              "      <td>2021-09-30</td>\n",
              "      <td>28</td>\n",
              "    </tr>\n",
              "    <tr>\n",
              "      <th>1816</th>\n",
              "      <td>1817</td>\n",
              "      <td>2020-01-31 11:07:27</td>\n",
              "      <td>4190000.0</td>\n",
              "      <td>2021-09-30</td>\n",
              "      <td>28</td>\n",
              "    </tr>\n",
              "    <tr>\n",
              "      <th>1817</th>\n",
              "      <td>1818</td>\n",
              "      <td>2020-01-30 17:18:06</td>\n",
              "      <td>5340000.0</td>\n",
              "      <td>2021-09-30</td>\n",
              "      <td>28</td>\n",
              "    </tr>\n",
              "  </tbody>\n",
              "</table>\n",
              "<p>1818 rows × 5 columns</p>\n",
              "</div>"
            ],
            "text/plain": [
              "      Sales_id    Date_open_escrow  Depo_summ   Date_pay  Contract\n",
              "0            1 2019-06-28 16:08:00  3048000.0 2019-09-30       110\n",
              "1            2 2019-06-28 09:13:00  2048000.0 2019-08-31       110\n",
              "2            3 2019-06-28 10:45:00  2448000.0 2019-08-31       110\n",
              "3            4 2019-06-28 09:40:00    98000.0 2021-09-30       110\n",
              "4            5 2019-06-28 16:47:00  3700000.0 2019-12-31       110\n",
              "...        ...                 ...        ...        ...       ...\n",
              "1813      1814 2020-01-30 12:28:25  3520000.0 2021-09-30        28\n",
              "1814      1815 2020-02-04 09:19:23  5150000.0 2021-09-30        28\n",
              "1815      1816 2020-01-30 11:23:49  3150000.0 2021-09-30        28\n",
              "1816      1817 2020-01-31 11:07:27  4190000.0 2021-09-30        28\n",
              "1817      1818 2020-01-30 17:18:06  5340000.0 2021-09-30        28\n",
              "\n",
              "[1818 rows x 5 columns]"
            ]
          },
          "metadata": {
            "tags": []
          },
          "execution_count": 48
        }
      ]
    },
    {
      "cell_type": "code",
      "metadata": {
        "id": "EF9VaohS3lim",
        "colab_type": "code",
        "colab": {
          "base_uri": "https://localhost:8080/",
          "height": 698
        },
        "outputId": "9d340982-406f-4b54-c3f1-4520f8cc7248"
      },
      "source": [
        "# Используем ящик, чтобы понять, какой вообще разброс цены.\n",
        "plt.figure(figsize=(13,10), dpi= 80)\n",
        "sns.boxplot(x='Contract', y='Depo_summ', data=df, notch=False)\n",
        "# Видим выброс. Это не ошибка, такая продажа действительно была."
      ],
      "execution_count": 30,
      "outputs": [
        {
          "output_type": "execute_result",
          "data": {
            "text/plain": [
              "<matplotlib.axes._subplots.AxesSubplot at 0x7f224a6abf60>"
            ]
          },
          "metadata": {
            "tags": []
          },
          "execution_count": 30
        },
        {
          "output_type": "display_data",
          "data": {
            "image/png": "[encoded data removed]",
            "text/plain": [
              "<Figure size 1040x800 with 1 Axes>"
            ]
          },
          "metadata": {
            "tags": []
          }
        }
      ]
    },
    {
      "cell_type": "code",
      "metadata": {
        "id": "FrjhcCucBKm3",
        "colab_type": "code",
        "colab": {
          "base_uri": "https://localhost:8080/",
          "height": 35
        },
        "outputId": "57f91c67-853a-4f1a-eb6a-e6c164b4266b"
      },
      "source": [
        "# Та самая сумма.\n",
        "df['Depo_summ'].max()"
      ],
      "execution_count": 14,
      "outputs": [
        {
          "output_type": "execute_result",
          "data": {
            "text/plain": [
              "93782826.0"
            ]
          },
          "metadata": {
            "tags": []
          },
          "execution_count": 14
        }
      ]
    },
    {
      "cell_type": "code",
      "metadata": {
        "id": "grpqLahsVsJa",
        "colab_type": "code",
        "colab": {
          "base_uri": "https://localhost:8080/",
          "height": 300
        },
        "outputId": "15229a2f-8e90-49f2-84a7-eb2f1b4f0717"
      },
      "source": [
        "# Посмотрим статистику по Датафрейму\n",
        "df.describe()"
      ],
      "execution_count": 34,
      "outputs": [
        {
          "output_type": "execute_result",
          "data": {
            "text/html": [
              "<div>\n",
              "<style scoped>\n",
              "    .dataframe tbody tr th:only-of-type {\n",
              "        vertical-align: middle;\n",
              "    }\n",
              "\n",
              "    .dataframe tbody tr th {\n",
              "        vertical-align: top;\n",
              "    }\n",
              "\n",
              "    .dataframe thead th {\n",
              "        text-align: right;\n",
              "    }\n",
              "</style>\n",
              "<table border=\"1\" class=\"dataframe\">\n",
              "  <thead>\n",
              "    <tr style=\"text-align: right;\">\n",
              "      <th></th>\n",
              "      <th>Sales_id</th>\n",
              "      <th>Depo_summ</th>\n",
              "      <th>Contract</th>\n",
              "    </tr>\n",
              "  </thead>\n",
              "  <tbody>\n",
              "    <tr>\n",
              "      <th>count</th>\n",
              "      <td>1818.000000</td>\n",
              "      <td>1.818000e+03</td>\n",
              "      <td>1818.000000</td>\n",
              "    </tr>\n",
              "    <tr>\n",
              "      <th>mean</th>\n",
              "      <td>909.500000</td>\n",
              "      <td>3.470487e+06</td>\n",
              "      <td>130.777228</td>\n",
              "    </tr>\n",
              "    <tr>\n",
              "      <th>std</th>\n",
              "      <td>524.955712</td>\n",
              "      <td>3.154061e+06</td>\n",
              "      <td>49.057146</td>\n",
              "    </tr>\n",
              "    <tr>\n",
              "      <th>min</th>\n",
              "      <td>1.000000</td>\n",
              "      <td>1.000000e+00</td>\n",
              "      <td>28.000000</td>\n",
              "    </tr>\n",
              "    <tr>\n",
              "      <th>25%</th>\n",
              "      <td>455.250000</td>\n",
              "      <td>1.987401e+06</td>\n",
              "      <td>110.000000</td>\n",
              "    </tr>\n",
              "    <tr>\n",
              "      <th>50%</th>\n",
              "      <td>909.500000</td>\n",
              "      <td>3.400000e+06</td>\n",
              "      <td>141.000000</td>\n",
              "    </tr>\n",
              "    <tr>\n",
              "      <th>75%</th>\n",
              "      <td>1363.750000</td>\n",
              "      <td>4.950000e+06</td>\n",
              "      <td>170.000000</td>\n",
              "    </tr>\n",
              "    <tr>\n",
              "      <th>max</th>\n",
              "      <td>1818.000000</td>\n",
              "      <td>9.378283e+07</td>\n",
              "      <td>176.000000</td>\n",
              "    </tr>\n",
              "  </tbody>\n",
              "</table>\n",
              "</div>"
            ],
            "text/plain": [
              "          Sales_id     Depo_summ     Contract\n",
              "count  1818.000000  1.818000e+03  1818.000000\n",
              "mean    909.500000  3.470487e+06   130.777228\n",
              "std     524.955712  3.154061e+06    49.057146\n",
              "min       1.000000  1.000000e+00    28.000000\n",
              "25%     455.250000  1.987401e+06   110.000000\n",
              "50%     909.500000  3.400000e+06   141.000000\n",
              "75%    1363.750000  4.950000e+06   170.000000\n",
              "max    1818.000000  9.378283e+07   176.000000"
            ]
          },
          "metadata": {
            "tags": []
          },
          "execution_count": 34
        }
      ]
    },
    {
      "cell_type": "code",
      "metadata": {
        "id": "9oh2yXwuU3At",
        "colab_type": "code",
        "colab": {
          "base_uri": "https://localhost:8080/",
          "height": 698
        },
        "outputId": "8bd2b4da-ddd9-43c2-e77f-2b2ca77f58bc"
      },
      "source": [
        "# Построим график без этого выброса.\n",
        "plt.figure(figsize=(13,10), dpi= 80)\n",
        "sns.boxplot(x='Contract', y='Depo_summ', data=df[df['Depo_summ'] < df['Depo_summ'].max()], notch=False)"
      ],
      "execution_count": 36,
      "outputs": [
        {
          "output_type": "execute_result",
          "data": {
            "text/plain": [
              "<matplotlib.axes._subplots.AxesSubplot at 0x7f224ab04550>"
            ]
          },
          "metadata": {
            "tags": []
          },
          "execution_count": 36
        },
        {
          "output_type": "display_data",
          "data": {
            "image/png": "[encoded data removed]",
            "text/plain": [
              "<Figure size 1040x800 with 1 Axes>"
            ]
          },
          "metadata": {
            "tags": []
          }
        }
      ]
    },
    {
      "cell_type": "markdown",
      "metadata": {
        "id": "Szv-FpNkWjFS",
        "colab_type": "text"
      },
      "source": [
        "Компания работает в разных городах России. Проекты тоже разные и продаются с разной динамикой и успехом.\n",
        "Выводы по графику:\n",
        "Наиболее стабильный размер счета эскроу в договоре 120 и наиболее нестабильные в 170 и 176. С точки зрения бизнеса, стоит присмотреться к проектам, где продажи нестабильны."
      ]
    },
    {
      "cell_type": "code",
      "metadata": {
        "id": "dQPgBECiYD-r",
        "colab_type": "code",
        "colab": {
          "base_uri": "https://localhost:8080/",
          "height": 849
        },
        "outputId": "44204ee6-6522-4d4e-a1a9-56fa427424ff"
      },
      "source": [
        "# Посмотрим на суммы продаж по договорам.\n",
        "df1 = df.groupby('Contract').aggregate(sum)\n",
        "df1.sort_values('Depo_summ', inplace=True)\n",
        "df1.reset_index(inplace=True)\n",
        "fig, ax = plt.subplots(figsize=(16,10), facecolor='white', dpi= 80)\n",
        "ax.vlines(x=df1.index, ymin=0, ymax=df1.Depo_summ, color='firebrick', alpha=0.7, linewidth=20)\n",
        "for i, Depo_summ in enumerate(df1.Depo_summ):\n",
        "    ax.text(i, Depo_summ+1, round(Depo_summ, 1), horizontalalignment='center')\n",
        "plt.xticks(df1.index, df1.Contract, rotation=60, horizontalalignment='right', fontsize=12)"
      ],
      "execution_count": 78,
      "outputs": [
        {
          "output_type": "execute_result",
          "data": {
            "text/plain": [
              "([<matplotlib.axis.XTick at 0x7f224436afd0>,\n",
              "  <matplotlib.axis.XTick at 0x7f224436a940>,\n",
              "  <matplotlib.axis.XTick at 0x7f224436a470>,\n",
              "  <matplotlib.axis.XTick at 0x7f22442878d0>,\n",
              "  <matplotlib.axis.XTick at 0x7f2244287da0>,\n",
              "  <matplotlib.axis.XTick at 0x7f2244275320>,\n",
              "  <matplotlib.axis.XTick at 0x7f2244275898>,\n",
              "  <matplotlib.axis.XTick at 0x7f2244275e10>],\n",
              " <a list of 8 Text xticklabel objects>)"
            ]
          },
          "metadata": {
            "tags": []
          },
          "execution_count": 78
        },
        {
          "output_type": "display_data",
          "data": {
            "image/png": "[encoded data removed]",
            "text/plain": [
              "<Figure size 1280x800 with 1 Axes>"
            ]
          },
          "metadata": {
            "tags": []
          }
        }
      ]
    },
    {
      "cell_type": "code",
      "metadata": {
        "id": "8gfU085jgxXg",
        "colab_type": "code",
        "colab": {
          "base_uri": "https://localhost:8080/",
          "height": 838
        },
        "outputId": "70b1a5df-5dd1-4097-a0a4-d2cb052e7ad4"
      },
      "source": [
        "# А теперь на количество продаж по договорам.\n",
        "df1 = df.groupby('Contract')['Depo_summ'].agg(['sum', 'count'])\n",
        "df1.sort_values('count', inplace=True)\n",
        "df1.reset_index(inplace=True)\n",
        "fig, ax = plt.subplots(figsize=(16,10), facecolor='white', dpi= 80)\n",
        "ax.vlines(x=df1.index, ymin=0, ymax=df1['count'], color='firebrick', alpha=0.7, linewidth=20)\n",
        "for i, count in enumerate(df1['count']):\n",
        "    ax.text(i, count+1, round(count, 1), horizontalalignment='center')\n",
        "plt.xticks(df1.index, df1.Contract, rotation=60, horizontalalignment='right', fontsize=12)"
      ],
      "execution_count": 104,
      "outputs": [
        {
          "output_type": "execute_result",
          "data": {
            "text/plain": [
              "([<matplotlib.axis.XTick at 0x7f224402d588>,\n",
              "  <matplotlib.axis.XTick at 0x7f2244023eb8>,\n",
              "  <matplotlib.axis.XTick at 0x7f2244023be0>,\n",
              "  <matplotlib.axis.XTick at 0x7f2243fd97f0>,\n",
              "  <matplotlib.axis.XTick at 0x7f2243fd9cc0>,\n",
              "  <matplotlib.axis.XTick at 0x7f2243fe11d0>,\n",
              "  <matplotlib.axis.XTick at 0x7f2243fe16a0>,\n",
              "  <matplotlib.axis.XTick at 0x7f2243fe1b70>],\n",
              " <a list of 8 Text xticklabel objects>)"
            ]
          },
          "metadata": {
            "tags": []
          },
          "execution_count": 104
        },
        {
          "output_type": "display_data",
          "data": {
            "image/png": "[encoded data removed]",
            "text/plain": [
              "<Figure size 1280x800 with 1 Axes>"
            ]
          },
          "metadata": {
            "tags": []
          }
        }
      ]
    },
    {
      "cell_type": "markdown",
      "metadata": {
        "id": "K-8fqJwmkHGT",
        "colab_type": "text"
      },
      "source": [
        "Выводы:\n",
        "Видим, что некоторые договоры не совпадают в последовательности между суммой на эскроу и количеством продаж.\n",
        "Например, договор 28 и 141 при меньших продажах демонстрируют большие суммы на счетах."
      ]
    },
    {
      "cell_type": "code",
      "metadata": {
        "id": "mk0RXVPbk8RO",
        "colab_type": "code",
        "colab": {
          "base_uri": "https://localhost:8080/",
          "height": 206
        },
        "outputId": "98f05dae-0d66-4755-8642-478986f6499f"
      },
      "source": [
        "df.head()"
      ],
      "execution_count": 100,
      "outputs": [
        {
          "output_type": "execute_result",
          "data": {
            "text/html": [
              "<div>\n",
              "<style scoped>\n",
              "    .dataframe tbody tr th:only-of-type {\n",
              "        vertical-align: middle;\n",
              "    }\n",
              "\n",
              "    .dataframe tbody tr th {\n",
              "        vertical-align: top;\n",
              "    }\n",
              "\n",
              "    .dataframe thead th {\n",
              "        text-align: right;\n",
              "    }\n",
              "</style>\n",
              "<table border=\"1\" class=\"dataframe\">\n",
              "  <thead>\n",
              "    <tr style=\"text-align: right;\">\n",
              "      <th></th>\n",
              "      <th>Sales_id</th>\n",
              "      <th>Date_open_escrow</th>\n",
              "      <th>Depo_summ</th>\n",
              "      <th>Date_pay</th>\n",
              "      <th>Contract</th>\n",
              "    </tr>\n",
              "  </thead>\n",
              "  <tbody>\n",
              "    <tr>\n",
              "      <th>0</th>\n",
              "      <td>1</td>\n",
              "      <td>2019-06-28 16:08:00</td>\n",
              "      <td>3048000.0</td>\n",
              "      <td>2019-09-30</td>\n",
              "      <td>110</td>\n",
              "    </tr>\n",
              "    <tr>\n",
              "      <th>1</th>\n",
              "      <td>2</td>\n",
              "      <td>2019-06-28 09:13:00</td>\n",
              "      <td>2048000.0</td>\n",
              "      <td>2019-08-31</td>\n",
              "      <td>110</td>\n",
              "    </tr>\n",
              "    <tr>\n",
              "      <th>2</th>\n",
              "      <td>3</td>\n",
              "      <td>2019-06-28 10:45:00</td>\n",
              "      <td>2448000.0</td>\n",
              "      <td>2019-08-31</td>\n",
              "      <td>110</td>\n",
              "    </tr>\n",
              "    <tr>\n",
              "      <th>3</th>\n",
              "      <td>4</td>\n",
              "      <td>2019-06-28 09:40:00</td>\n",
              "      <td>98000.0</td>\n",
              "      <td>2021-09-30</td>\n",
              "      <td>110</td>\n",
              "    </tr>\n",
              "    <tr>\n",
              "      <th>4</th>\n",
              "      <td>5</td>\n",
              "      <td>2019-06-28 16:47:00</td>\n",
              "      <td>3700000.0</td>\n",
              "      <td>2019-12-31</td>\n",
              "      <td>110</td>\n",
              "    </tr>\n",
              "  </tbody>\n",
              "</table>\n",
              "</div>"
            ],
            "text/plain": [
              "   Sales_id    Date_open_escrow  Depo_summ   Date_pay  Contract\n",
              "0         1 2019-06-28 16:08:00  3048000.0 2019-09-30       110\n",
              "1         2 2019-06-28 09:13:00  2048000.0 2019-08-31       110\n",
              "2         3 2019-06-28 10:45:00  2448000.0 2019-08-31       110\n",
              "3         4 2019-06-28 09:40:00    98000.0 2021-09-30       110\n",
              "4         5 2019-06-28 16:47:00  3700000.0 2019-12-31       110"
            ]
          },
          "metadata": {
            "tags": []
          },
          "execution_count": 100
        }
      ]
    },
    {
      "cell_type": "code",
      "metadata": {
        "id": "hRwkyAm5kqez",
        "colab_type": "code",
        "colab": {
          "base_uri": "https://localhost:8080/",
          "height": 238
        },
        "outputId": "a386f126-4026-4891-8876-ce32cab6aaaa"
      },
      "source": [
        "# А теперь посмотрим динамику во времени.\n",
        "df1 = df.groupby(['Date_pay', 'Contract'])['Depo_summ'].agg(['sum', 'count'])\n",
        "df1.head()"
      ],
      "execution_count": 112,
      "outputs": [
        {
          "output_type": "execute_result",
          "data": {
            "text/html": [
              "<div>\n",
              "<style scoped>\n",
              "    .dataframe tbody tr th:only-of-type {\n",
              "        vertical-align: middle;\n",
              "    }\n",
              "\n",
              "    .dataframe tbody tr th {\n",
              "        vertical-align: top;\n",
              "    }\n",
              "\n",
              "    .dataframe thead th {\n",
              "        text-align: right;\n",
              "    }\n",
              "</style>\n",
              "<table border=\"1\" class=\"dataframe\">\n",
              "  <thead>\n",
              "    <tr style=\"text-align: right;\">\n",
              "      <th></th>\n",
              "      <th></th>\n",
              "      <th>sum</th>\n",
              "      <th>count</th>\n",
              "    </tr>\n",
              "    <tr>\n",
              "      <th>Date_pay</th>\n",
              "      <th>Contract</th>\n",
              "      <th></th>\n",
              "      <th></th>\n",
              "    </tr>\n",
              "  </thead>\n",
              "  <tbody>\n",
              "    <tr>\n",
              "      <th>2018-02-20</th>\n",
              "      <th>170</th>\n",
              "      <td>3900000.0</td>\n",
              "      <td>1</td>\n",
              "    </tr>\n",
              "    <tr>\n",
              "      <th>2018-02-28</th>\n",
              "      <th>170</th>\n",
              "      <td>6000000.0</td>\n",
              "      <td>1</td>\n",
              "    </tr>\n",
              "    <tr>\n",
              "      <th>2018-08-26</th>\n",
              "      <th>170</th>\n",
              "      <td>5370000.0</td>\n",
              "      <td>1</td>\n",
              "    </tr>\n",
              "    <tr>\n",
              "      <th>2018-09-20</th>\n",
              "      <th>170</th>\n",
              "      <td>3250000.0</td>\n",
              "      <td>1</td>\n",
              "    </tr>\n",
              "    <tr>\n",
              "      <th>2018-09-25</th>\n",
              "      <th>170</th>\n",
              "      <td>5390000.0</td>\n",
              "      <td>1</td>\n",
              "    </tr>\n",
              "  </tbody>\n",
              "</table>\n",
              "</div>"
            ],
            "text/plain": [
              "                           sum  count\n",
              "Date_pay   Contract                  \n",
              "2018-02-20 170       3900000.0      1\n",
              "2018-02-28 170       6000000.0      1\n",
              "2018-08-26 170       5370000.0      1\n",
              "2018-09-20 170       3250000.0      1\n",
              "2018-09-25 170       5390000.0      1"
            ]
          },
          "metadata": {
            "tags": []
          },
          "execution_count": 112
        }
      ]
    },
    {
      "cell_type": "code",
      "metadata": {
        "id": "sqF66QXWnDbF",
        "colab_type": "code",
        "colab": {}
      },
      "source": [
        "plt.figure(figsize=(16,10), dpi= 80)\n",
        "plt.plot(df1['Date_pay'], df1[df1['Contract'] == '170'])"
      ],
      "execution_count": 0,
      "outputs": []
    },
    {
      "cell_type": "code",
      "metadata": {
        "id": "XGAuhGbcpGrn",
        "colab_type": "code",
        "colab": {
          "base_uri": "https://localhost:8080/",
          "height": 747
        },
        "outputId": "24108dfd-10c7-4e36-e113-59ff0bbb4c6f"
      },
      "source": [
        "df1['Contract'] == 170"
      ],
      "execution_count": 126,
      "outputs": [
        {
          "output_type": "error",
          "ename": "KeyError",
          "evalue": "ignored",
          "traceback": [
            "\u001b[0;31m---------------------------------------------------------------------------\u001b[0m",
            "\u001b[0;31mKeyError\u001b[0m                                  Traceback (most recent call last)",
            "\u001b[0;32m/usr/local/lib/python3.6/dist-packages/pandas/core/indexes/base.py\u001b[0m in \u001b[0;36mget_loc\u001b[0;34m(self, key, method, tolerance)\u001b[0m\n\u001b[1;32m   2896\u001b[0m             \u001b[0;32mtry\u001b[0m\u001b[0;34m:\u001b[0m\u001b[0;34m\u001b[0m\u001b[0;34m\u001b[0m\u001b[0m\n\u001b[0;32m-> 2897\u001b[0;31m                 \u001b[0;32mreturn\u001b[0m \u001b[0mself\u001b[0m\u001b[0;34m.\u001b[0m\u001b[0m_engine\u001b[0m\u001b[0;34m.\u001b[0m\u001b[0mget_loc\u001b[0m\u001b[0;34m(\u001b[0m\u001b[0mkey\u001b[0m\u001b[0;34m)\u001b[0m\u001b[0;34m\u001b[0m\u001b[0;34m\u001b[0m\u001b[0m\n\u001b[0m\u001b[1;32m   2898\u001b[0m             \u001b[0;32mexcept\u001b[0m \u001b[0mKeyError\u001b[0m\u001b[0;34m:\u001b[0m\u001b[0;34m\u001b[0m\u001b[0;34m\u001b[0m\u001b[0m\n",
            "\u001b[0;32mpandas/_libs/index.pyx\u001b[0m in \u001b[0;36mpandas._libs.index.IndexEngine.get_loc\u001b[0;34m()\u001b[0m\n",
            "\u001b[0;32mpandas/_libs/index.pyx\u001b[0m in \u001b[0;36mpandas._libs.index.IndexEngine.get_loc\u001b[0;34m()\u001b[0m\n",
            "\u001b[0;32mpandas/_libs/hashtable_class_helper.pxi\u001b[0m in \u001b[0;36mpandas._libs.hashtable.PyObjectHashTable.get_item\u001b[0;34m()\u001b[0m\n",
            "\u001b[0;32mpandas/_libs/hashtable_class_helper.pxi\u001b[0m in \u001b[0;36mpandas._libs.hashtable.PyObjectHashTable.get_item\u001b[0;34m()\u001b[0m\n",
            "\u001b[0;31mKeyError\u001b[0m: 'Contract'",
            "\nDuring handling of the above exception, another exception occurred:\n",
            "\u001b[0;31mKeyError\u001b[0m                                  Traceback (most recent call last)",
            "\u001b[0;32m<ipython-input-126-43d06f5e791b>\u001b[0m in \u001b[0;36m<module>\u001b[0;34m()\u001b[0m\n\u001b[0;32m----> 1\u001b[0;31m \u001b[0mdf1\u001b[0m\u001b[0;34m[\u001b[0m\u001b[0;34m'Contract'\u001b[0m\u001b[0;34m]\u001b[0m \u001b[0;34m==\u001b[0m \u001b[0;36m170\u001b[0m\u001b[0;34m\u001b[0m\u001b[0;34m\u001b[0m\u001b[0m\n\u001b[0m",
            "\u001b[0;32m/usr/local/lib/python3.6/dist-packages/pandas/core/frame.py\u001b[0m in \u001b[0;36m__getitem__\u001b[0;34m(self, key)\u001b[0m\n\u001b[1;32m   2993\u001b[0m             \u001b[0;32mif\u001b[0m \u001b[0mself\u001b[0m\u001b[0;34m.\u001b[0m\u001b[0mcolumns\u001b[0m\u001b[0;34m.\u001b[0m\u001b[0mnlevels\u001b[0m \u001b[0;34m>\u001b[0m \u001b[0;36m1\u001b[0m\u001b[0;34m:\u001b[0m\u001b[0;34m\u001b[0m\u001b[0;34m\u001b[0m\u001b[0m\n\u001b[1;32m   2994\u001b[0m                 \u001b[0;32mreturn\u001b[0m \u001b[0mself\u001b[0m\u001b[0;34m.\u001b[0m\u001b[0m_getitem_multilevel\u001b[0m\u001b[0;34m(\u001b[0m\u001b[0mkey\u001b[0m\u001b[0;34m)\u001b[0m\u001b[0;34m\u001b[0m\u001b[0;34m\u001b[0m\u001b[0m\n\u001b[0;32m-> 2995\u001b[0;31m             \u001b[0mindexer\u001b[0m \u001b[0;34m=\u001b[0m \u001b[0mself\u001b[0m\u001b[0;34m.\u001b[0m\u001b[0mcolumns\u001b[0m\u001b[0;34m.\u001b[0m\u001b[0mget_loc\u001b[0m\u001b[0;34m(\u001b[0m\u001b[0mkey\u001b[0m\u001b[0;34m)\u001b[0m\u001b[0;34m\u001b[0m\u001b[0;34m\u001b[0m\u001b[0m\n\u001b[0m\u001b[1;32m   2996\u001b[0m             \u001b[0;32mif\u001b[0m \u001b[0mis_integer\u001b[0m\u001b[0;34m(\u001b[0m\u001b[0mindexer\u001b[0m\u001b[0;34m)\u001b[0m\u001b[0;34m:\u001b[0m\u001b[0;34m\u001b[0m\u001b[0;34m\u001b[0m\u001b[0m\n\u001b[1;32m   2997\u001b[0m                 \u001b[0mindexer\u001b[0m \u001b[0;34m=\u001b[0m \u001b[0;34m[\u001b[0m\u001b[0mindexer\u001b[0m\u001b[0;34m]\u001b[0m\u001b[0;34m\u001b[0m\u001b[0;34m\u001b[0m\u001b[0m\n",
            "\u001b[0;32m/usr/local/lib/python3.6/dist-packages/pandas/core/indexes/base.py\u001b[0m in \u001b[0;36mget_loc\u001b[0;34m(self, key, method, tolerance)\u001b[0m\n\u001b[1;32m   2897\u001b[0m                 \u001b[0;32mreturn\u001b[0m \u001b[0mself\u001b[0m\u001b[0;34m.\u001b[0m\u001b[0m_engine\u001b[0m\u001b[0;34m.\u001b[0m\u001b[0mget_loc\u001b[0m\u001b[0;34m(\u001b[0m\u001b[0mkey\u001b[0m\u001b[0;34m)\u001b[0m\u001b[0;34m\u001b[0m\u001b[0;34m\u001b[0m\u001b[0m\n\u001b[1;32m   2898\u001b[0m             \u001b[0;32mexcept\u001b[0m \u001b[0mKeyError\u001b[0m\u001b[0;34m:\u001b[0m\u001b[0;34m\u001b[0m\u001b[0;34m\u001b[0m\u001b[0m\n\u001b[0;32m-> 2899\u001b[0;31m                 \u001b[0;32mreturn\u001b[0m \u001b[0mself\u001b[0m\u001b[0;34m.\u001b[0m\u001b[0m_engine\u001b[0m\u001b[0;34m.\u001b[0m\u001b[0mget_loc\u001b[0m\u001b[0;34m(\u001b[0m\u001b[0mself\u001b[0m\u001b[0;34m.\u001b[0m\u001b[0m_maybe_cast_indexer\u001b[0m\u001b[0;34m(\u001b[0m\u001b[0mkey\u001b[0m\u001b[0;34m)\u001b[0m\u001b[0;34m)\u001b[0m\u001b[0;34m\u001b[0m\u001b[0;34m\u001b[0m\u001b[0m\n\u001b[0m\u001b[1;32m   2900\u001b[0m         \u001b[0mindexer\u001b[0m \u001b[0;34m=\u001b[0m \u001b[0mself\u001b[0m\u001b[0;34m.\u001b[0m\u001b[0mget_indexer\u001b[0m\u001b[0;34m(\u001b[0m\u001b[0;34m[\u001b[0m\u001b[0mkey\u001b[0m\u001b[0;34m]\u001b[0m\u001b[0;34m,\u001b[0m \u001b[0mmethod\u001b[0m\u001b[0;34m=\u001b[0m\u001b[0mmethod\u001b[0m\u001b[0;34m,\u001b[0m \u001b[0mtolerance\u001b[0m\u001b[0;34m=\u001b[0m\u001b[0mtolerance\u001b[0m\u001b[0;34m)\u001b[0m\u001b[0;34m\u001b[0m\u001b[0;34m\u001b[0m\u001b[0m\n\u001b[1;32m   2901\u001b[0m         \u001b[0;32mif\u001b[0m \u001b[0mindexer\u001b[0m\u001b[0;34m.\u001b[0m\u001b[0mndim\u001b[0m \u001b[0;34m>\u001b[0m \u001b[0;36m1\u001b[0m \u001b[0;32mor\u001b[0m \u001b[0mindexer\u001b[0m\u001b[0;34m.\u001b[0m\u001b[0msize\u001b[0m \u001b[0;34m>\u001b[0m \u001b[0;36m1\u001b[0m\u001b[0;34m:\u001b[0m\u001b[0;34m\u001b[0m\u001b[0;34m\u001b[0m\u001b[0m\n",
            "\u001b[0;32mpandas/_libs/index.pyx\u001b[0m in \u001b[0;36mpandas._libs.index.IndexEngine.get_loc\u001b[0;34m()\u001b[0m\n",
            "\u001b[0;32mpandas/_libs/index.pyx\u001b[0m in \u001b[0;36mpandas._libs.index.IndexEngine.get_loc\u001b[0;34m()\u001b[0m\n",
            "\u001b[0;32mpandas/_libs/hashtable_class_helper.pxi\u001b[0m in \u001b[0;36mpandas._libs.hashtable.PyObjectHashTable.get_item\u001b[0;34m()\u001b[0m\n",
            "\u001b[0;32mpandas/_libs/hashtable_class_helper.pxi\u001b[0m in \u001b[0;36mpandas._libs.hashtable.PyObjectHashTable.get_item\u001b[0;34m()\u001b[0m\n",
            "\u001b[0;31mKeyError\u001b[0m: 'Contract'"
          ]
        }
      ]
    }
  ]
}