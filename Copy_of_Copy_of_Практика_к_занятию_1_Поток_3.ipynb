{
  "nbformat": 4,
  "nbformat_minor": 0,
  "metadata": {
    "colab": {
      "name": "Практика к занятию 1.Поток 3.ipynb",
      "provenance": [],
      "collapsed_sections": [],
      "include_colab_link": true
    },
    "kernelspec": {
      "name": "python3",
      "display_name": "Python 3"
    }
  },
  "cells": [
    {
      "cell_type": "markdown",
      "metadata": {
        "id": "view-in-github",
        "colab_type": "text"
      },
      "source": [
        "<a href=\"https://colab.research.google.com/github/theysee/sberbank_reboot/blob/master/Copy_of_Copy_of_%D0%9F%D1%80%D0%B0%D0%BA%D1%82%D0%B8%D0%BA%D0%B0_%D0%BA_%D0%B7%D0%B0%D0%BD%D1%8F%D1%82%D0%B8%D1%8E_1_%D0%9F%D0%BE%D1%82%D0%BE%D0%BA_3.ipynb\" target=\"_parent\"><img src=\"https://colab.research.google.com/assets/colab-badge.svg\" alt=\"Open In Colab\"/></a>"
      ]
    },
    {
      "cell_type": "markdown",
      "metadata": {
        "id": "BPhCROYzn4qm",
        "colab_type": "text"
      },
      "source": [
        "# Практика\n",
        "*   [Презентация](https://docs.google.com/presentation/d/1i0Dhn98CLVE7GTkX7lOUY6LfEPGHjBLS16tuZ4338wE/edit?usp=sharing)\n",
        "*   [master notebook](https://colab.research.google.com/drive/1RzW5t14NUOanuUj7eGfW0bIqTweKtUim)\n"
      ]
    },
    {
      "cell_type": "markdown",
      "metadata": {
        "id": "QMlUzOq0oAI5",
        "colab_type": "text"
      },
      "source": [
        "## Задача 1\n",
        "Есть список a = [1, 1, 2, 3, 5, 8, 13, 21, 34, 55, 89].\n",
        "\n",
        "Выведите все элементы, которые меньше 5."
      ]
    },
    {
      "cell_type": "code",
      "metadata": {
        "id": "rwJIfKOdnfGW",
        "colab_type": "code",
        "outputId": "03fc0420-feb6-4a1d-80db-44b4ff4050d8",
        "colab": {
          "base_uri": "https://localhost:8080/",
          "height": 90
        }
      },
      "source": [
        "a = [1, 1, 2, 3, 5, 8, 13, 21, 34, 55, 89]\n",
        "for i in a:\n",
        "  if i < 5:\n",
        "    print(i)\n"
      ],
      "execution_count": 0,
      "outputs": [
        {
          "output_type": "stream",
          "text": [
            "1\n",
            "1\n",
            "2\n",
            "3\n"
          ],
          "name": "stdout"
        }
      ]
    },
    {
      "cell_type": "markdown",
      "metadata": {
        "id": "0PxuwdtZoB9-",
        "colab_type": "text"
      },
      "source": [
        "## Задача 2\n",
        "Даны списки:\n",
        "\n",
        "a = [1, 1, 2, 3, 5, 8, 13, 21, 34, 55, 89];\n",
        "\n",
        "b = [1, 2, 3, 4, 5, 6, 7, 8, 9, 10, 11, 12, 13].\n",
        "\n",
        "Нужно вернуть список, который состоит из элементов, общих для этих двух списков."
      ]
    },
    {
      "cell_type": "code",
      "metadata": {
        "id": "lk3duBSroC0M",
        "colab_type": "code",
        "outputId": "9c93f205-6e81-4b1a-d53f-ec3a3fe36a67",
        "colab": {
          "base_uri": "https://localhost:8080/",
          "height": 35
        }
      },
      "source": [
        "a = [1, 1, 2, 3, 5, 8, 13, 21, 34, 55, 89]\n",
        "b = [1, 2, 3, 4, 5, 6, 7, 8, 9, 10, 11, 12, 13]\n",
        "c = []\n",
        "\n",
        "for i in a:\n",
        "  for j in b:\n",
        "    if i == j:\n",
        "      c.append(i)\n",
        "  \n",
        "print(c)\n"
      ],
      "execution_count": 0,
      "outputs": [
        {
          "output_type": "stream",
          "text": [
            "[1, 1, 2, 3, 5, 8, 13]\n"
          ],
          "name": "stdout"
        }
      ]
    },
    {
      "cell_type": "markdown",
      "metadata": {
        "id": "wp4bFLkBoDP_",
        "colab_type": "text"
      },
      "source": [
        "## Задача 3\n",
        "Напишите программу для слияния нескольких словарей в один."
      ]
    },
    {
      "cell_type": "code",
      "metadata": {
        "id": "ntwCajTRoEV0",
        "colab_type": "code",
        "outputId": "eb7347c3-4afe-4b4f-dbed-b7fcaf168f61",
        "colab": {
          "base_uri": "https://localhost:8080/",
          "height": 35
        }
      },
      "source": [
        "old_dict = {}\n",
        "my_dict1 = {'a':500, 'b':5874, 'c': 560,'d':400, 'e':5874, 'f': 20}\n",
        "my_dict2 = {'g':400, 'h':4874, 'j': 460,'k':300, 'l':4874, 'f': 10}\n",
        "my_dict3 = {'z':300, 'x':3874, 'v': 360,'b':200, 'n':3874, 'm': 0}\n",
        "\n",
        "def dict_update(old_dict, new_dict):\n",
        "  old_dict.update(new_dict)\n",
        "  return old_dict\n",
        "\n",
        "dict_update(old_dict, my_dict1)\n",
        "dict_update(old_dict, my_dict2)\n",
        "dict_update(old_dict, my_dict3)\n",
        "\n",
        "print(old_dict)\n"
      ],
      "execution_count": 0,
      "outputs": [
        {
          "output_type": "stream",
          "text": [
            "{'a': 500, 'b': 200, 'c': 560, 'd': 400, 'e': 5874, 'f': 10, 'g': 400, 'h': 4874, 'j': 460, 'k': 300, 'l': 4874, 'z': 300, 'x': 3874, 'v': 360, 'n': 3874, 'm': 0}\n"
          ],
          "name": "stdout"
        }
      ]
    },
    {
      "cell_type": "markdown",
      "metadata": {
        "id": "eatrVEvzoEy6",
        "colab_type": "text"
      },
      "source": [
        "## Задача 4\n",
        "Найдите три ключа с самыми высокими значениями в словаре my_dict = {'a':500, 'b':5874, 'c': 560,'d':400, 'e':5874, 'f': 20}."
      ]
    },
    {
      "cell_type": "code",
      "metadata": {
        "id": "QdNJsuO8oFtb",
        "colab_type": "code",
        "outputId": "06eb98d2-62c7-4ed4-b7fc-4a57ee1dd0fc",
        "colab": {
          "base_uri": "https://localhost:8080/",
          "height": 0
        }
      },
      "source": [
        "my_dict = {'a':500, 'b':5874, 'c': 560,'d':400, 'e':5874, 'f': 20}\n",
        "targ_dict = {}\n",
        "\n",
        "for key in my_dict:\n",
        "  if len(targ_dict) < 3:\n",
        "    targ_dict[key] = my_dict[key]\n",
        "  else:\n",
        "    for val in targ_dict:\n",
        "      if targ_dict[val] < my_dict[key]:\n",
        "        del targ_dict[val]\n",
        "        targ_dict[key] = my_dict[key]\n",
        "        break\n",
        "print(targ_dict)"
      ],
      "execution_count": 60,
      "outputs": [
        {
          "output_type": "stream",
          "text": [
            "{'b': 5874, 'c': 560, 'e': 5874}\n"
          ],
          "name": "stdout"
        }
      ]
    },
    {
      "cell_type": "markdown",
      "metadata": {
        "id": "D-7vU_xMoGXW",
        "colab_type": "text"
      },
      "source": [
        "## Задача 5\n",
        "Нужно вывести первые n строк [треугольника Паскаля](https://ru.wikipedia.org/wiki/%D0%A2%D1%80%D0%B5%D1%83%D0%B3%D0%BE%D0%BB%D1%8C%D0%BD%D0%B8%D0%BA_%D0%9F%D0%B0%D1%81%D0%BA%D0%B0%D0%BB%D1%8F). В этом треугольнике на вершине и по бокам стоят единицы, а каждое число внутри равно сумме двух расположенных над ним чисел."
      ]
    },
    {
      "cell_type": "code",
      "metadata": {
        "id": "ORxlMF5XoHaf",
        "colab_type": "code",
        "outputId": "4a741bf8-9a06-4460-fd99-c3401d71584f",
        "colab": {
          "base_uri": "https://localhost:8080/",
          "height": 119
        }
      },
      "source": [
        "row_t = []\n",
        "row_b = []\n",
        "tmp = 0\n",
        "\n",
        "row_count = int(input())\n",
        "\n",
        "for i in range(row_count):\n",
        "  row_t = row_b\n",
        "  print(row_b)\n",
        "  row_b = []\n",
        "  row_b.append(1)\n",
        "  if len(row_t) > 0:\n",
        "    for j in row_t:\n",
        "      val = j + tmp\n",
        "      tmp = j\n",
        "      row_b.append(val)\n",
        "  \n",
        "\n",
        "    \n",
        "\n",
        "\n",
        "\n",
        "      \n",
        "      \n"
      ],
      "execution_count": 59,
      "outputs": [
        {
          "output_type": "stream",
          "text": [
            "5\n",
            "[]\n",
            "[1]\n",
            "[1, 1]\n",
            "[1, 2, 2]\n",
            "[1, 2, 3, 4]\n"
          ],
          "name": "stdout"
        }
      ]
    },
    {
      "cell_type": "markdown",
      "metadata": {
        "id": "LZFh27IYoH-M",
        "colab_type": "text"
      },
      "source": [
        "## Задача 6\n",
        "Напишите проверку на то, является ли строка палиндромом. Палиндром — это слово или фраза, которые одинаково читаются слева направо и справа налево."
      ]
    },
    {
      "cell_type": "code",
      "metadata": {
        "id": "g7lxAS0KoJEj",
        "colab_type": "code",
        "colab": {}
      },
      "source": [
        ""
      ],
      "execution_count": 0,
      "outputs": []
    },
    {
      "cell_type": "markdown",
      "metadata": {
        "id": "0dG5QsDnoJw4",
        "colab_type": "text"
      },
      "source": [
        "## Задача 7\n",
        "Сделайте так, чтобы число секунд отображалось в виде дни:часы:минуты:секунды. (используйте format())"
      ]
    },
    {
      "cell_type": "code",
      "metadata": {
        "id": "hZ9eY7HsoKyd",
        "colab_type": "code",
        "colab": {}
      },
      "source": [
        "# ваш код тут"
      ],
      "execution_count": 0,
      "outputs": []
    },
    {
      "cell_type": "markdown",
      "metadata": {
        "id": "nBVW10zzoLN-",
        "colab_type": "text"
      },
      "source": [
        "## Задача 8\n",
        "Вы принимаете от пользователя последовательность чисел, разделённых запятой. Составьте список и кортеж с этими числами.\n",
        "\n",
        "**Для приёма пользовательского ввода используйте функцию input()**"
      ]
    },
    {
      "cell_type": "code",
      "metadata": {
        "id": "Pzvbnwt1pCXf",
        "colab_type": "code",
        "colab": {}
      },
      "source": [
        "s = input(\"введите значение\")\n",
        "print(s)\n",
        "print(type(s))"
      ],
      "execution_count": 0,
      "outputs": []
    },
    {
      "cell_type": "code",
      "metadata": {
        "id": "x--lqdQOoMSG",
        "colab_type": "code",
        "colab": {}
      },
      "source": [
        "# ваш код тут"
      ],
      "execution_count": 0,
      "outputs": []
    },
    {
      "cell_type": "markdown",
      "metadata": {
        "id": "LX80ZS4VoMt_",
        "colab_type": "text"
      },
      "source": [
        "## Задача 9\n",
        "Выведите первый и последний элемент списка."
      ]
    },
    {
      "cell_type": "code",
      "metadata": {
        "id": "0pOygKC-oNjX",
        "colab_type": "code",
        "colab": {}
      },
      "source": [
        "# ваш код тут"
      ],
      "execution_count": 0,
      "outputs": []
    },
    {
      "cell_type": "markdown",
      "metadata": {
        "id": "RONwF247oOGw",
        "colab_type": "text"
      },
      "source": [
        "## Задача 10\n",
        "Напишите программу, которая принимает имя файла и выводит его расширение. Если расширение у файла определить невозможно, выбросите исключение."
      ]
    },
    {
      "cell_type": "code",
      "metadata": {
        "id": "koKS5w99oPDY",
        "colab_type": "code",
        "colab": {}
      },
      "source": [
        "# ваш код тут"
      ],
      "execution_count": 0,
      "outputs": []
    },
    {
      "cell_type": "markdown",
      "metadata": {
        "id": "Imewfx3UphZG",
        "colab_type": "text"
      },
      "source": [
        "## Задача 11\n",
        "Сложите цифры целого числа."
      ]
    },
    {
      "cell_type": "code",
      "metadata": {
        "id": "S0prYFkypjMD",
        "colab_type": "code",
        "colab": {}
      },
      "source": [
        "# ваш код тут"
      ],
      "execution_count": 0,
      "outputs": []
    },
    {
      "cell_type": "markdown",
      "metadata": {
        "id": "tx0wApZupk05",
        "colab_type": "text"
      },
      "source": [
        "## Задача 12\n",
        "Напишите программу, которая принимает два списка и выводит все элементы первого, которых нет во втором."
      ]
    },
    {
      "cell_type": "code",
      "metadata": {
        "id": "MkC_sLdRpoG7",
        "colab_type": "code",
        "colab": {}
      },
      "source": [
        "# ваш код тут"
      ],
      "execution_count": 0,
      "outputs": []
    },
    {
      "cell_type": "markdown",
      "metadata": {
        "id": "PO9NF3IBpoxz",
        "colab_type": "text"
      },
      "source": [
        "## Задача 13\n",
        "Напишите программу, которая выводит чётные числа из заданного списка и останавливается, если встречает число 237."
      ]
    },
    {
      "cell_type": "code",
      "metadata": {
        "id": "6pqgc99LprzC",
        "colab_type": "code",
        "colab": {}
      },
      "source": [
        "# ваш код тут"
      ],
      "execution_count": 0,
      "outputs": []
    },
    {
      "cell_type": "markdown",
      "metadata": {
        "id": "0lMCVueRpsae",
        "colab_type": "text"
      },
      "source": [
        "## Задача 14\n",
        "Посчитайте, сколько раз символ встречается в строке."
      ]
    },
    {
      "cell_type": "code",
      "metadata": {
        "id": "L26W_dlNpxBL",
        "colab_type": "code",
        "colab": {}
      },
      "source": [
        "# ваш код тут"
      ],
      "execution_count": 0,
      "outputs": []
    },
    {
      "cell_type": "markdown",
      "metadata": {
        "id": "FF0C3-cTp0uy",
        "colab_type": "text"
      },
      "source": [
        "## Задача 15\n",
        "Поменяйте значения переменных местами."
      ]
    },
    {
      "cell_type": "code",
      "metadata": {
        "id": "1BLkWTA5p2FZ",
        "colab_type": "code",
        "colab": {}
      },
      "source": [
        "# ваш код тут"
      ],
      "execution_count": 0,
      "outputs": []
    },
    {
      "cell_type": "markdown",
      "metadata": {
        "id": "I2x5B2_Np9kO",
        "colab_type": "text"
      },
      "source": [
        "## Задача 16\n",
        "Нужно проверить, все ли числа в последовательности уникальны."
      ]
    },
    {
      "cell_type": "code",
      "metadata": {
        "id": "gsiB8H61p_Bb",
        "colab_type": "code",
        "colab": {}
      },
      "source": [
        "# ваш код тут"
      ],
      "execution_count": 0,
      "outputs": []
    }
  ]
}