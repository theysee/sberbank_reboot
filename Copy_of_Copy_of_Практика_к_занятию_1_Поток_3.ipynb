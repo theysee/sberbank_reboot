{
  "nbformat": 4,
  "nbformat_minor": 0,
  "metadata": {
    "colab": {
      "name": "Практика к занятию 1.Поток 3.ipynb",
      "provenance": [],
      "collapsed_sections": [],
      "include_colab_link": true
    },
    "kernelspec": {
      "name": "python3",
      "display_name": "Python 3"
    }
  },
  "cells": [
    {
      "cell_type": "markdown",
      "metadata": {
        "id": "view-in-github",
        "colab_type": "text"
      },
      "source": [
        "<a href=\"https://colab.research.google.com/github/theysee/sberbank_reboot/blob/master/Copy_of_Copy_of_%D0%9F%D1%80%D0%B0%D0%BA%D1%82%D0%B8%D0%BA%D0%B0_%D0%BA_%D0%B7%D0%B0%D0%BD%D1%8F%D1%82%D0%B8%D1%8E_1_%D0%9F%D0%BE%D1%82%D0%BE%D0%BA_3.ipynb\" target=\"_parent\"><img src=\"https://colab.research.google.com/assets/colab-badge.svg\" alt=\"Open In Colab\"/></a>"
      ]
    },
    {
      "cell_type": "markdown",
      "metadata": {
        "id": "BPhCROYzn4qm",
        "colab_type": "text"
      },
      "source": [
        "# Практика\n",
        "*   [Презентация](https://docs.google.com/presentation/d/1i0Dhn98CLVE7GTkX7lOUY6LfEPGHjBLS16tuZ4338wE/edit?usp=sharing)\n",
        "*   [master notebook](https://colab.research.google.com/drive/1RzW5t14NUOanuUj7eGfW0bIqTweKtUim)\n"
      ]
    },
    {
      "cell_type": "markdown",
      "metadata": {
        "id": "QMlUzOq0oAI5",
        "colab_type": "text"
      },
      "source": [
        "## Задача 1\n",
        "Есть список a = [1, 1, 2, 3, 5, 8, 13, 21, 34, 55, 89].\n",
        "\n",
        "Выведите все элементы, которые меньше 5."
      ]
    },
    {
      "cell_type": "code",
      "metadata": {
        "id": "rwJIfKOdnfGW",
        "colab_type": "code",
        "outputId": "03fc0420-feb6-4a1d-80db-44b4ff4050d8",
        "colab": {
          "base_uri": "https://localhost:8080/",
          "height": 90
        }
      },
      "source": [
        "a = [1, 1, 2, 3, 5, 8, 13, 21, 34, 55, 89]\n",
        "for i in a:\n",
        "  if i < 5:\n",
        "    print(i)\n"
      ],
      "execution_count": 0,
      "outputs": [
        {
          "output_type": "stream",
          "text": [
            "1\n",
            "1\n",
            "2\n",
            "3\n"
          ],
          "name": "stdout"
        }
      ]
    },
    {
      "cell_type": "markdown",
      "metadata": {
        "id": "0PxuwdtZoB9-",
        "colab_type": "text"
      },
      "source": [
        "## Задача 2\n",
        "Даны списки:\n",
        "\n",
        "a = [1, 1, 2, 3, 5, 8, 13, 21, 34, 55, 89];\n",
        "\n",
        "b = [1, 2, 3, 4, 5, 6, 7, 8, 9, 10, 11, 12, 13].\n",
        "\n",
        "Нужно вернуть список, который состоит из элементов, общих для этих двух списков."
      ]
    },
    {
      "cell_type": "code",
      "metadata": {
        "id": "lk3duBSroC0M",
        "colab_type": "code",
        "outputId": "9c93f205-6e81-4b1a-d53f-ec3a3fe36a67",
        "colab": {
          "base_uri": "https://localhost:8080/",
          "height": 35
        }
      },
      "source": [
        "a = [1, 1, 2, 3, 5, 8, 13, 21, 34, 55, 89]\n",
        "b = [1, 2, 3, 4, 5, 6, 7, 8, 9, 10, 11, 12, 13]\n",
        "c = []\n",
        "\n",
        "for i in a:\n",
        "  for j in b:\n",
        "    if i == j:\n",
        "      c.append(i)\n",
        "  \n",
        "print(c)\n"
      ],
      "execution_count": 0,
      "outputs": [
        {
          "output_type": "stream",
          "text": [
            "[1, 1, 2, 3, 5, 8, 13]\n"
          ],
          "name": "stdout"
        }
      ]
    },
    {
      "cell_type": "markdown",
      "metadata": {
        "id": "wp4bFLkBoDP_",
        "colab_type": "text"
      },
      "source": [
        "## Задача 3\n",
        "Напишите программу для слияния нескольких словарей в один."
      ]
    },
    {
      "cell_type": "code",
      "metadata": {
        "id": "ntwCajTRoEV0",
        "colab_type": "code",
        "outputId": "eb7347c3-4afe-4b4f-dbed-b7fcaf168f61",
        "colab": {
          "base_uri": "https://localhost:8080/",
          "height": 35
        }
      },
      "source": [
        "old_dict = {}\n",
        "my_dict1 = {'a':500, 'b':5874, 'c': 560,'d':400, 'e':5874, 'f': 20}\n",
        "my_dict2 = {'g':400, 'h':4874, 'j': 460,'k':300, 'l':4874, 'f': 10}\n",
        "my_dict3 = {'z':300, 'x':3874, 'v': 360,'b':200, 'n':3874, 'm': 0}\n",
        "\n",
        "def dict_update(old_dict, new_dict):\n",
        "  old_dict.update(new_dict)\n",
        "  return old_dict\n",
        "\n",
        "dict_update(old_dict, my_dict1)\n",
        "dict_update(old_dict, my_dict2)\n",
        "dict_update(old_dict, my_dict3)\n",
        "\n",
        "print(old_dict)\n"
      ],
      "execution_count": 0,
      "outputs": [
        {
          "output_type": "stream",
          "text": [
            "{'a': 500, 'b': 200, 'c': 560, 'd': 400, 'e': 5874, 'f': 10, 'g': 400, 'h': 4874, 'j': 460, 'k': 300, 'l': 4874, 'z': 300, 'x': 3874, 'v': 360, 'n': 3874, 'm': 0}\n"
          ],
          "name": "stdout"
        }
      ]
    },
    {
      "cell_type": "markdown",
      "metadata": {
        "id": "eatrVEvzoEy6",
        "colab_type": "text"
      },
      "source": [
        "## Задача 4\n",
        "Найдите три ключа с самыми высокими значениями в словаре my_dict = {'a':500, 'b':5874, 'c': 560,'d':400, 'e':5874, 'f': 20}."
      ]
    },
    {
      "cell_type": "code",
      "metadata": {
        "id": "QdNJsuO8oFtb",
        "colab_type": "code",
        "outputId": "06eb98d2-62c7-4ed4-b7fc-4a57ee1dd0fc",
        "colab": {
          "base_uri": "https://localhost:8080/"
        }
      },
      "source": [
        "my_dict = {'a':500, 'b':5874, 'c': 560,'d':400, 'e':5874, 'f': 20}\n",
        "targ_dict = {}\n",
        "\n",
        "for key in my_dict:\n",
        "  if len(targ_dict) < 3:\n",
        "    targ_dict[key] = my_dict[key]\n",
        "  else:\n",
        "    for val in targ_dict:\n",
        "      if targ_dict[val] < my_dict[key]:\n",
        "        del targ_dict[val]\n",
        "        targ_dict[key] = my_dict[key]\n",
        "        break\n",
        "print(targ_dict)"
      ],
      "execution_count": 0,
      "outputs": [
        {
          "output_type": "stream",
          "text": [
            "{'b': 5874, 'c': 560, 'e': 5874}\n"
          ],
          "name": "stdout"
        }
      ]
    },
    {
      "cell_type": "markdown",
      "metadata": {
        "id": "D-7vU_xMoGXW",
        "colab_type": "text"
      },
      "source": [
        "## Задача 5\n",
        "Нужно вывести первые n строк [треугольника Паскаля](https://ru.wikipedia.org/wiki/%D0%A2%D1%80%D0%B5%D1%83%D0%B3%D0%BE%D0%BB%D1%8C%D0%BD%D0%B8%D0%BA_%D0%9F%D0%B0%D1%81%D0%BA%D0%B0%D0%BB%D1%8F). В этом треугольнике на вершине и по бокам стоят единицы, а каждое число внутри равно сумме двух расположенных над ним чисел."
      ]
    },
    {
      "cell_type": "code",
      "metadata": {
        "id": "ORxlMF5XoHaf",
        "colab_type": "code",
        "outputId": "4e15b2f7-4967-4bfb-f5a3-6e790b6b0fa9",
        "colab": {
          "base_uri": "https://localhost:8080/",
          "height": 85
        }
      },
      "source": [
        "row_count = int(input())\n",
        "\n",
        "\n",
        "  \n",
        "\n",
        "    \n",
        "\n",
        "\n",
        "\n",
        "      \n",
        "      \n"
      ],
      "execution_count": 0,
      "outputs": [
        {
          "output_type": "stream",
          "text": [
            "3\n",
            "[1, 1]\n",
            "[1, 1]\n",
            "[1, 1, 2, 1]\n"
          ],
          "name": "stdout"
        }
      ]
    },
    {
      "cell_type": "markdown",
      "metadata": {
        "id": "LZFh27IYoH-M",
        "colab_type": "text"
      },
      "source": [
        "## Задача 6\n",
        "Напишите проверку на то, является ли строка палиндромом. Палиндром — это слово или фраза, которые одинаково читаются слева направо и справа налево."
      ]
    },
    {
      "cell_type": "code",
      "metadata": {
        "id": "g7lxAS0KoJEj",
        "colab_type": "code",
        "outputId": "a343b44e-fa86-4874-b436-5b681e130ac5",
        "colab": {
          "base_uri": "https://localhost:8080/",
          "height": 51
        }
      },
      "source": [
        "i_word = input()\n",
        "\n",
        "i_word = i_word.replace(\" \",\"\")\n",
        "i_word = i_word.lower()\n",
        "tmp_l = []\n",
        "\n",
        "for j in reversed(i_word):\n",
        "  tmp_l.append(j)\n",
        "\n",
        "i_word_rev = ''.join(tmp_l)\n",
        "\n",
        "if i_word == i_word_rev:\n",
        "  print(f'I am a polyndrom')\n",
        "else:\n",
        "  print(f'I am NOT a polyndrom')"
      ],
      "execution_count": 0,
      "outputs": [
        {
          "output_type": "stream",
          "text": [
            "Тонет енот\n",
            "I am a polyndrom\n"
          ],
          "name": "stdout"
        }
      ]
    },
    {
      "cell_type": "markdown",
      "metadata": {
        "id": "0dG5QsDnoJw4",
        "colab_type": "text"
      },
      "source": [
        "## Задача 7\n",
        "Сделайте так, чтобы число секунд отображалось в виде дни:часы:минуты:секунды. (используйте format())"
      ]
    },
    {
      "cell_type": "code",
      "metadata": {
        "id": "hZ9eY7HsoKyd",
        "colab_type": "code",
        "outputId": "465c6e1e-23e3-4ba9-cbdc-09ae0da157f3",
        "colab": {
          "base_uri": "https://localhost:8080/",
          "height": 51
        }
      },
      "source": [
        "i_sec = int(input())\n",
        "i_day = 0\n",
        "i_hour = 0\n",
        "i_min = 0\n",
        "\n",
        "while i_sec > 60:\n",
        "  if i_sec > 86400:\n",
        "    i_day += 1\n",
        "    i_sec = i_sec - 86400\n",
        "  elif i_sec > 3600:\n",
        "    i_hour += 1\n",
        "    i_sec = i_sec - 3600\n",
        "  else:\n",
        "    i_min += 1\n",
        "    i_sec = i_sec - 60\n",
        "print(f'Day - {i_day}, hour - {i_hour}, min - {i_min}, sec - {i_sec}')"
      ],
      "execution_count": 18,
      "outputs": [
        {
          "output_type": "stream",
          "text": [
            "15654651\n",
            "Day - 181, hour - 4, min - 30, sec - 51\n"
          ],
          "name": "stdout"
        }
      ]
    },
    {
      "cell_type": "markdown",
      "metadata": {
        "id": "nBVW10zzoLN-",
        "colab_type": "text"
      },
      "source": [
        "## Задача 8\n",
        "Вы принимаете от пользователя последовательность чисел, разделённых запятой. Составьте список и кортеж с этими числами.\n",
        "\n",
        "**Для приёма пользовательского ввода используйте функцию input()**"
      ]
    },
    {
      "cell_type": "code",
      "metadata": {
        "id": "Pzvbnwt1pCXf",
        "colab_type": "code",
        "outputId": "cb2feb8d-a1c6-41dc-b56a-221ebbb2ac59",
        "colab": {
          "base_uri": "https://localhost:8080/",
          "height": 51
        }
      },
      "source": [
        "#s = input(\"введите значение\")\n",
        "\n",
        "s = '12,16,24,27,46,37,29,76,87'\n",
        "\n",
        "i_list = s.split(',')\n",
        "i_tuple = tuple(i_list)\n",
        "\n",
        "print(f'i am list - {i_list}, realy - {type(i_list)}')\n",
        "print(f'i am tuple - {i_tuple}, realy - {type(i_tuple)}')\n"
      ],
      "execution_count": 17,
      "outputs": [
        {
          "output_type": "stream",
          "text": [
            "i am list - ['12', '16', '24', '27', '46', '37', '29', '76', '87'], realy - <class 'list'>\n",
            "i am tuple - ('12', '16', '24', '27', '46', '37', '29', '76', '87'), realy - <class 'tuple'>\n"
          ],
          "name": "stdout"
        }
      ]
    },
    {
      "cell_type": "markdown",
      "metadata": {
        "id": "LX80ZS4VoMt_",
        "colab_type": "text"
      },
      "source": [
        "## Задача 9\n",
        "Выведите первый и последний элемент списка."
      ]
    },
    {
      "cell_type": "code",
      "metadata": {
        "id": "0pOygKC-oNjX",
        "colab_type": "code",
        "outputId": "61b62a52-6830-4e51-95ae-8bc61766f14a",
        "colab": {
          "base_uri": "https://localhost:8080/",
          "height": 51
        }
      },
      "source": [
        "s = ['12', '16', '24', '27', '46', '37', '29', '76', '87']\n",
        "print(s[0])\n",
        "print(s[len(s) - 1])"
      ],
      "execution_count": 16,
      "outputs": [
        {
          "output_type": "stream",
          "text": [
            "12\n",
            "87\n"
          ],
          "name": "stdout"
        }
      ]
    },
    {
      "cell_type": "markdown",
      "metadata": {
        "id": "RONwF247oOGw",
        "colab_type": "text"
      },
      "source": [
        "## Задача 10\n",
        "Напишите программу, которая принимает имя файла и выводит его расширение. Если расширение у файла определить невозможно, выбросите исключение."
      ]
    },
    {
      "cell_type": "code",
      "metadata": {
        "id": "koKS5w99oPDY",
        "colab_type": "code",
        "colab": {
          "base_uri": "https://localhost:8080/",
          "height": 34
        },
        "outputId": "191e448e-3b7a-44c2-f261-73e459dcb090"
      },
      "source": [
        "#i_word = input()\n",
        "i_word = \"Файл с расширением.docx\"\n",
        "\n",
        "try:\n",
        "  tmp = i_word.split('.')\n",
        "  i_exp = tmp[len(tmp) - 1]\n",
        "\n",
        "except:\n",
        "  i_exp = \"Невозможно определить расширение\"\n",
        "\n",
        "print(i_exp)"
      ],
      "execution_count": 15,
      "outputs": [
        {
          "output_type": "stream",
          "text": [
            "docx\n"
          ],
          "name": "stdout"
        }
      ]
    },
    {
      "cell_type": "markdown",
      "metadata": {
        "id": "Imewfx3UphZG",
        "colab_type": "text"
      },
      "source": [
        "## Задача 11\n",
        "Сложите цифры целого числа."
      ]
    },
    {
      "cell_type": "code",
      "metadata": {
        "id": "S0prYFkypjMD",
        "colab_type": "code",
        "outputId": "88829081-6c1d-4654-9d1d-72bf8e7b9d9e",
        "colab": {
          "base_uri": "https://localhost:8080/",
          "height": 34
        }
      },
      "source": [
        "i_int = 15628\n",
        "\n",
        "i_str = str(i_int)\n",
        "i_sum = 0\n",
        "\n",
        "for i in i_str:\n",
        "  i_sum = i_sum + int(i)\n",
        "print(i_sum)"
      ],
      "execution_count": 13,
      "outputs": [
        {
          "output_type": "stream",
          "text": [
            "22\n"
          ],
          "name": "stdout"
        }
      ]
    },
    {
      "cell_type": "markdown",
      "metadata": {
        "id": "tx0wApZupk05",
        "colab_type": "text"
      },
      "source": [
        "## Задача 12\n",
        "Напишите программу, которая принимает два списка и выводит все элементы первого, которых нет во втором."
      ]
    },
    {
      "cell_type": "code",
      "metadata": {
        "id": "MkC_sLdRpoG7",
        "colab_type": "code",
        "outputId": "f187d731-2bb4-4f16-9874-c6b8db0186e3",
        "colab": {
          "base_uri": "https://localhost:8080/",
          "height": 214
        }
      },
      "source": [
        "a = [1, 1, 2, 3, 5, 8, 13, 21, 34, 55, 89]\n",
        "b = [1, 2, 3, 4, 5, 6, 7, 8, 9, 10, 11, 12, 13]\n",
        "c = []\n",
        "\n",
        "for i in a:\n",
        "  for j in b:\n",
        "    if i == j:\n",
        "      c.append(a.index(i))\n",
        "for i in c:\n",
        "  del a[a.index(i)]\n",
        "print(a)"
      ],
      "execution_count": 12,
      "outputs": [
        {
          "output_type": "error",
          "ename": "ValueError",
          "evalue": "ignored",
          "traceback": [
            "\u001b[0;31m---------------------------------------------------------------------------\u001b[0m",
            "\u001b[0;31mValueError\u001b[0m                                Traceback (most recent call last)",
            "\u001b[0;32m<ipython-input-12-8336b34d359a>\u001b[0m in \u001b[0;36m<module>\u001b[0;34m()\u001b[0m\n\u001b[1;32m      8\u001b[0m       \u001b[0mc\u001b[0m\u001b[0;34m.\u001b[0m\u001b[0mappend\u001b[0m\u001b[0;34m(\u001b[0m\u001b[0ma\u001b[0m\u001b[0;34m.\u001b[0m\u001b[0mindex\u001b[0m\u001b[0;34m(\u001b[0m\u001b[0mi\u001b[0m\u001b[0;34m)\u001b[0m\u001b[0;34m)\u001b[0m\u001b[0;34m\u001b[0m\u001b[0;34m\u001b[0m\u001b[0m\n\u001b[1;32m      9\u001b[0m \u001b[0;32mfor\u001b[0m \u001b[0mi\u001b[0m \u001b[0;32min\u001b[0m \u001b[0mc\u001b[0m\u001b[0;34m:\u001b[0m\u001b[0;34m\u001b[0m\u001b[0;34m\u001b[0m\u001b[0m\n\u001b[0;32m---> 10\u001b[0;31m   \u001b[0;32mdel\u001b[0m \u001b[0ma\u001b[0m\u001b[0;34m[\u001b[0m\u001b[0ma\u001b[0m\u001b[0;34m.\u001b[0m\u001b[0mindex\u001b[0m\u001b[0;34m(\u001b[0m\u001b[0mi\u001b[0m\u001b[0;34m)\u001b[0m\u001b[0;34m]\u001b[0m\u001b[0;34m\u001b[0m\u001b[0;34m\u001b[0m\u001b[0m\n\u001b[0m\u001b[1;32m     11\u001b[0m \u001b[0mprint\u001b[0m\u001b[0;34m(\u001b[0m\u001b[0ma\u001b[0m\u001b[0;34m)\u001b[0m\u001b[0;34m\u001b[0m\u001b[0;34m\u001b[0m\u001b[0m\n",
            "\u001b[0;31mValueError\u001b[0m: 0 is not in list"
          ]
        }
      ]
    },
    {
      "cell_type": "markdown",
      "metadata": {
        "id": "PO9NF3IBpoxz",
        "colab_type": "text"
      },
      "source": [
        "## Задача 13\n",
        "Напишите программу, которая выводит чётные числа из заданного списка и останавливается, если встречает число 237."
      ]
    },
    {
      "cell_type": "code",
      "metadata": {
        "id": "6pqgc99LprzC",
        "colab_type": "code",
        "colab": {
          "base_uri": "https://localhost:8080/",
          "height": 187
        },
        "outputId": "b2587d6e-61df-4736-97e3-898af4406621"
      },
      "source": [
        "i_list = [1, 2, 3, 4, 5, 6, 7, 8, 9, 10, 11, 12, 13, 62, 73, 98, 366, 8365, 37, 28, 237, 763, 764, 1000, 7884]\n",
        "\n",
        "for i in i_list:\n",
        "  if i == 237:\n",
        "    break\n",
        "  elif i%2 == 0:\n",
        "    print(i)\n",
        "  else:\n",
        "    pass"
      ],
      "execution_count": 21,
      "outputs": [
        {
          "output_type": "stream",
          "text": [
            "2\n",
            "4\n",
            "6\n",
            "8\n",
            "10\n",
            "12\n",
            "62\n",
            "98\n",
            "366\n",
            "28\n"
          ],
          "name": "stdout"
        }
      ]
    },
    {
      "cell_type": "markdown",
      "metadata": {
        "id": "0lMCVueRpsae",
        "colab_type": "text"
      },
      "source": [
        "## Задача 14\n",
        "Посчитайте, сколько раз символ встречается в строке."
      ]
    },
    {
      "cell_type": "code",
      "metadata": {
        "id": "L26W_dlNpxBL",
        "colab_type": "code",
        "colab": {
          "base_uri": "https://localhost:8080/",
          "height": 34
        },
        "outputId": "0d5e658e-64af-4a11-a8e3-4125bd1c4c95"
      },
      "source": [
        "#i_sym = input()\n",
        "#i_word = input()\n",
        "i_sym = 'e'\n",
        "i_word = 'quelle belle journee'\n",
        "i_counter = 0\n",
        "\n",
        "for i in i_word:\n",
        "  if i == i_sym:\n",
        "    i_counter += 1\n",
        "print(f'Символ встречается {i_counter} раз')\n",
        "\n"
      ],
      "execution_count": 22,
      "outputs": [
        {
          "output_type": "stream",
          "text": [
            "Символ встречается 6 раз\n"
          ],
          "name": "stdout"
        }
      ]
    },
    {
      "cell_type": "markdown",
      "metadata": {
        "id": "FF0C3-cTp0uy",
        "colab_type": "text"
      },
      "source": [
        "## Задача 15\n",
        "Поменяйте значения переменных местами."
      ]
    },
    {
      "cell_type": "code",
      "metadata": {
        "id": "1BLkWTA5p2FZ",
        "colab_type": "code",
        "colab": {
          "base_uri": "https://localhost:8080/",
          "height": 34
        },
        "outputId": "13aa90b3-9b35-4f2b-c406-29149f9e3172"
      },
      "source": [
        "a = 'a'\n",
        "b = 'b'\n",
        "\n",
        "a, b = b, a\n",
        "\n",
        "print(f'а = {a}, b = {b}')"
      ],
      "execution_count": 23,
      "outputs": [
        {
          "output_type": "stream",
          "text": [
            "а = b, b = a\n"
          ],
          "name": "stdout"
        }
      ]
    },
    {
      "cell_type": "markdown",
      "metadata": {
        "id": "I2x5B2_Np9kO",
        "colab_type": "text"
      },
      "source": [
        "## Задача 16\n",
        "Нужно проверить, все ли числа в последовательности уникальны."
      ]
    },
    {
      "cell_type": "code",
      "metadata": {
        "id": "gsiB8H61p_Bb",
        "colab_type": "code",
        "colab": {
          "base_uri": "https://localhost:8080/",
          "height": 34
        },
        "outputId": "2c8827c2-7cb0-4b45-d959-dfbae2cacaed"
      },
      "source": [
        "i_seq = 126473937465894038347456\n",
        "\n",
        "i_seq = str(i_seq)\n",
        "\n",
        "for i in i_seq:\n",
        "  if i == tmp:\n",
        "    flag = False\n",
        "    break\n",
        "  else:\n",
        "    flag = True\n",
        "  tmp = i\n",
        "\n",
        "if flag:\n",
        "  print('Последовательность уникальна')\n",
        "else:\n",
        "  print('Последовательность НЕ уникальна')"
      ],
      "execution_count": 26,
      "outputs": [
        {
          "output_type": "stream",
          "text": [
            "Последовательность НЕ уникальна\n"
          ],
          "name": "stdout"
        }
      ]
    }
  ]
}