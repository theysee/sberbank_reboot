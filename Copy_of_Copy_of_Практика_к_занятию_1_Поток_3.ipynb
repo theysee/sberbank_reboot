{
  "nbformat": 4,
  "nbformat_minor": 0,
  "metadata": {
    "colab": {
      "name": "Практика к занятию 1.Поток 3.ipynb",
      "provenance": [],
      "collapsed_sections": [],
      "include_colab_link": true
    },
    "kernelspec": {
      "name": "python3",
      "display_name": "Python 3"
    }
  },
  "cells": [
    {
      "cell_type": "markdown",
      "metadata": {
        "id": "view-in-github",
        "colab_type": "text"
      },
      "source": [
        "<a href=\"https://colab.research.google.com/github/theysee/sberbank_reboot/blob/master/Copy_of_Copy_of_%D0%9F%D1%80%D0%B0%D0%BA%D1%82%D0%B8%D0%BA%D0%B0_%D0%BA_%D0%B7%D0%B0%D0%BD%D1%8F%D1%82%D0%B8%D1%8E_1_%D0%9F%D0%BE%D1%82%D0%BE%D0%BA_3.ipynb\" target=\"_parent\"><img src=\"https://colab.research.google.com/assets/colab-badge.svg\" alt=\"Open In Colab\"/></a>"
      ]
    },
    {
      "cell_type": "markdown",
      "metadata": {
        "id": "BPhCROYzn4qm",
        "colab_type": "text"
      },
      "source": [
        "# Практика\n",
        "*   [Презентация](https://docs.google.com/presentation/d/1i0Dhn98CLVE7GTkX7lOUY6LfEPGHjBLS16tuZ4338wE/edit?usp=sharing)\n",
        "*   [master notebook](https://colab.research.google.com/drive/1RzW5t14NUOanuUj7eGfW0bIqTweKtUim)\n"
      ]
    },
    {
      "cell_type": "markdown",
      "metadata": {
        "id": "QMlUzOq0oAI5",
        "colab_type": "text"
      },
      "source": [
        "## Задача 1\n",
        "Есть список a = [1, 1, 2, 3, 5, 8, 13, 21, 34, 55, 89].\n",
        "\n",
        "Выведите все элементы, которые меньше 5."
      ]
    },
    {
      "cell_type": "code",
      "metadata": {
        "id": "rwJIfKOdnfGW",
        "colab_type": "code",
        "outputId": "a279d694-0769-4a7f-9365-b23ebe04a003",
        "colab": {
          "base_uri": "https://localhost:8080/",
          "height": 0
        }
      },
      "source": [
        "a = [1, 1, 2, 3, 5, 8, 13, 21, 34, 55, 89]\n",
        "for i in a:\n",
        "  if i < 5:\n",
        "    print(i)\n"
      ],
      "execution_count": 19,
      "outputs": [
        {
          "output_type": "stream",
          "text": [
            "1\n",
            "1\n",
            "2\n",
            "3\n"
          ],
          "name": "stdout"
        }
      ]
    },
    {
      "cell_type": "markdown",
      "metadata": {
        "id": "0PxuwdtZoB9-",
        "colab_type": "text"
      },
      "source": [
        "## Задача 2\n",
        "Даны списки:\n",
        "\n",
        "a = [1, 1, 2, 3, 5, 8, 13, 21, 34, 55, 89];\n",
        "\n",
        "b = [1, 2, 3, 4, 5, 6, 7, 8, 9, 10, 11, 12, 13].\n",
        "\n",
        "Нужно вернуть список, который состоит из элементов, общих для этих двух списков."
      ]
    },
    {
      "cell_type": "code",
      "metadata": {
        "id": "lk3duBSroC0M",
        "colab_type": "code",
        "outputId": "4583070b-427f-4956-b7a7-a0ddbf0b8a18",
        "colab": {
          "base_uri": "https://localhost:8080/",
          "height": 0
        }
      },
      "source": [
        "# Если нужно, чтобы каждый элемент был виден.\n",
        "a = [1, 1, 2, 3, 5, 8, 13, 21, 34, 55, 89]\n",
        "b = [1, 2, 3, 4, 5, 6, 7, 8, 9, 10, 11, 12, 13]\n",
        "c = []\n",
        "\n",
        "for i in a:\n",
        "  for j in b:\n",
        "    if i == j:\n",
        "      c.append(i)\n",
        "  \n",
        "print(c) "
      ],
      "execution_count": 20,
      "outputs": [
        {
          "output_type": "stream",
          "text": [
            "[1, 1, 2, 3, 5, 8, 13]\n"
          ],
          "name": "stdout"
        }
      ]
    },
    {
      "cell_type": "code",
      "metadata": {
        "id": "pD-XUiD6uREH",
        "colab_type": "code",
        "colab": {
          "base_uri": "https://localhost:8080/",
          "height": 0
        },
        "outputId": "f5a46de6-c950-4406-97cb-0e2bd0f0d6fa"
      },
      "source": [
        "# Если просто нужны общие, как значения.\n",
        "a = [1, 1, 2, 3, 5, 8, 13, 21, 34, 55, 89]\n",
        "b = [1, 2, 3, 4, 5, 6, 7, 8, 9, 10, 11, 12, 13]\n",
        "\n",
        "c = list(set(a) & set(b))\n",
        "\n",
        "print(c)\n"
      ],
      "execution_count": 36,
      "outputs": [
        {
          "output_type": "stream",
          "text": [
            "[1, 2, 3, 5, 8, 13]\n"
          ],
          "name": "stdout"
        }
      ]
    },
    {
      "cell_type": "markdown",
      "metadata": {
        "id": "wp4bFLkBoDP_",
        "colab_type": "text"
      },
      "source": [
        "## Задача 3\n",
        "Напишите программу для слияния нескольких словарей в один."
      ]
    },
    {
      "cell_type": "code",
      "metadata": {
        "id": "ntwCajTRoEV0",
        "colab_type": "code",
        "outputId": "9d4ec6ee-fe11-4e56-c772-2d5ebf31ae98",
        "colab": {
          "base_uri": "https://localhost:8080/",
          "height": 0
        }
      },
      "source": [
        "old_dict = {}\n",
        "my_dict1 = {'a':500, 'b':5874, 'c': 560,'d':400, 'e':5874, 'f': 20}\n",
        "my_dict2 = {'g':400, 'h':4874, 'j': 460,'k':300, 'l':4874, 'f': 10}\n",
        "my_dict3 = {'z':300, 'x':3874, 'v': 360,'b':200, 'n':3874, 'm': 0}\n",
        "\n",
        "def dict_update(old_dict, new_dict):\n",
        "  old_dict.update(new_dict)\n",
        "  return old_dict\n",
        "\n",
        "dict_update(old_dict, my_dict1)\n",
        "dict_update(old_dict, my_dict2)\n",
        "dict_update(old_dict, my_dict3)\n",
        "\n",
        "print(old_dict)\n"
      ],
      "execution_count": 21,
      "outputs": [
        {
          "output_type": "stream",
          "text": [
            "{'a': 500, 'b': 200, 'c': 560, 'd': 400, 'e': 5874, 'f': 10, 'g': 400, 'h': 4874, 'j': 460, 'k': 300, 'l': 4874, 'z': 300, 'x': 3874, 'v': 360, 'n': 3874, 'm': 0}\n"
          ],
          "name": "stdout"
        }
      ]
    },
    {
      "cell_type": "markdown",
      "metadata": {
        "id": "eatrVEvzoEy6",
        "colab_type": "text"
      },
      "source": [
        "## Задача 4\n",
        "Найдите три ключа с самыми высокими значениями в словаре my_dict = {'a':500, 'b':5874, 'c': 560,'d':400, 'e':5874, 'f': 20}."
      ]
    },
    {
      "cell_type": "code",
      "metadata": {
        "id": "QdNJsuO8oFtb",
        "colab_type": "code",
        "outputId": "88423f8f-0ce0-4cac-aa8b-631fd839b032",
        "colab": {
          "base_uri": "https://localhost:8080/",
          "height": 0
        }
      },
      "source": [
        "my_dict = {'a':500, 'b':5874, 'c': 560,'d':400, 'e':5874, 'f': 20}\n",
        "targ_dict = {}\n",
        "\n",
        "for key in my_dict:\n",
        "  if len(targ_dict) < 3:\n",
        "    targ_dict[key] = my_dict[key]\n",
        "  else:\n",
        "    for val in targ_dict:\n",
        "      if targ_dict[val] < my_dict[key]:\n",
        "        del targ_dict[val]\n",
        "        targ_dict[key] = my_dict[key]\n",
        "        break\n",
        "print(targ_dict)"
      ],
      "execution_count": 22,
      "outputs": [
        {
          "output_type": "stream",
          "text": [
            "{'b': 5874, 'c': 560, 'e': 5874}\n"
          ],
          "name": "stdout"
        }
      ]
    },
    {
      "cell_type": "markdown",
      "metadata": {
        "id": "D-7vU_xMoGXW",
        "colab_type": "text"
      },
      "source": [
        "## Задача 5\n",
        "Нужно вывести первые n строк [треугольника Паскаля](https://ru.wikipedia.org/wiki/%D0%A2%D1%80%D0%B5%D1%83%D0%B3%D0%BE%D0%BB%D1%8C%D0%BD%D0%B8%D0%BA_%D0%9F%D0%B0%D1%81%D0%BA%D0%B0%D0%BB%D1%8F). В этом треугольнике на вершине и по бокам стоят единицы, а каждое число внутри равно сумме двух расположенных над ним чисел."
      ]
    },
    {
      "cell_type": "code",
      "metadata": {
        "id": "ORxlMF5XoHaf",
        "colab_type": "code",
        "outputId": "f57be1fe-3567-4fdb-c1d2-3243be978287",
        "colab": {
          "base_uri": "https://localhost:8080/",
          "height": 272
        }
      },
      "source": [
        "how_row = 15\n",
        "\n",
        "row_top = [1]\n",
        "row_bot = [1, 1]\n",
        "tmp = 0\n",
        "\n",
        "for i in range(how_row):\n",
        "  if i == 0:\n",
        "    print(row_top)\n",
        "  elif i == 1:\n",
        "    print(row_bot)\n",
        "  else:\n",
        "    row_top = row_bot\n",
        "    row_bot = []\n",
        "    row_bot.append(1)\n",
        "    for j in range(0, len(row_top) - 1):\n",
        "      tmp = row_top[j] + row_top[j + 1]\n",
        "      row_bot.append(tmp)\n",
        "    else:\n",
        "      row_bot.append(1)\n",
        "      print(row_bot)"
      ],
      "execution_count": 37,
      "outputs": [
        {
          "output_type": "stream",
          "text": [
            "[1]\n",
            "[1, 1]\n",
            "[1, 2, 1]\n",
            "[1, 3, 3, 1]\n",
            "[1, 4, 6, 4, 1]\n",
            "[1, 5, 10, 10, 5, 1]\n",
            "[1, 6, 15, 20, 15, 6, 1]\n",
            "[1, 7, 21, 35, 35, 21, 7, 1]\n",
            "[1, 8, 28, 56, 70, 56, 28, 8, 1]\n",
            "[1, 9, 36, 84, 126, 126, 84, 36, 9, 1]\n",
            "[1, 10, 45, 120, 210, 252, 210, 120, 45, 10, 1]\n",
            "[1, 11, 55, 165, 330, 462, 462, 330, 165, 55, 11, 1]\n",
            "[1, 12, 66, 220, 495, 792, 924, 792, 495, 220, 66, 12, 1]\n",
            "[1, 13, 78, 286, 715, 1287, 1716, 1716, 1287, 715, 286, 78, 13, 1]\n",
            "[1, 14, 91, 364, 1001, 2002, 3003, 3432, 3003, 2002, 1001, 364, 91, 14, 1]\n"
          ],
          "name": "stdout"
        }
      ]
    },
    {
      "cell_type": "markdown",
      "metadata": {
        "id": "LZFh27IYoH-M",
        "colab_type": "text"
      },
      "source": [
        "## Задача 6\n",
        "Напишите проверку на то, является ли строка палиндромом. Палиндром — это слово или фраза, которые одинаково читаются слева направо и справа налево."
      ]
    },
    {
      "cell_type": "code",
      "metadata": {
        "id": "g7lxAS0KoJEj",
        "colab_type": "code",
        "outputId": "328367b6-3e17-47a5-9f97-972fa7d8785d",
        "colab": {
          "base_uri": "https://localhost:8080/",
          "height": 0
        }
      },
      "source": [
        "#s_word = input()\n",
        "s_word = 'Тонет Енот'\n",
        "\n",
        "s_word = s_word.replace(\" \",\"\")\n",
        "s_word = s_word.lower()\n",
        "tmp_l = []\n",
        "\n",
        "for j in reversed(s_word):\n",
        "  tmp_l.append(j)\n",
        "\n",
        "s_word_rev = ''.join(tmp_l)\n",
        "\n",
        "if s_word == s_word_rev:\n",
        "  print(f'I am a polyndrom')\n",
        "else:\n",
        "  print(f'I am NOT a polyndrom')"
      ],
      "execution_count": 23,
      "outputs": [
        {
          "output_type": "stream",
          "text": [
            "I am a polyndrom\n"
          ],
          "name": "stdout"
        }
      ]
    },
    {
      "cell_type": "markdown",
      "metadata": {
        "id": "0dG5QsDnoJw4",
        "colab_type": "text"
      },
      "source": [
        "## Задача 7\n",
        "Сделайте так, чтобы число секунд отображалось в виде дни:часы:минуты:секунды. (используйте format())"
      ]
    },
    {
      "cell_type": "code",
      "metadata": {
        "id": "hZ9eY7HsoKyd",
        "colab_type": "code",
        "outputId": "f237de33-edc3-4a61-9efc-68091d8e50a7",
        "colab": {
          "base_uri": "https://localhost:8080/",
          "height": 0
        }
      },
      "source": [
        "i_sec = int(input())\n",
        "i_day = 0\n",
        "i_hour = 0\n",
        "i_min = 0\n",
        "\n",
        "while i_sec > 60:\n",
        "  if i_sec > 86400:\n",
        "    i_day += 1\n",
        "    i_sec = i_sec - 86400\n",
        "  elif i_sec > 3600:\n",
        "    i_hour += 1\n",
        "    i_sec = i_sec - 3600\n",
        "  else:\n",
        "    i_min += 1\n",
        "    i_sec = i_sec - 60\n",
        "print(f'Day - {i_day}, hour - {i_hour}, min - {i_min}, sec - {i_sec}')"
      ],
      "execution_count": 24,
      "outputs": [
        {
          "output_type": "stream",
          "text": [
            "6449494\n",
            "Day - 74, hour - 15, min - 31, sec - 34\n"
          ],
          "name": "stdout"
        }
      ]
    },
    {
      "cell_type": "markdown",
      "metadata": {
        "id": "nBVW10zzoLN-",
        "colab_type": "text"
      },
      "source": [
        "## Задача 8\n",
        "Вы принимаете от пользователя последовательность чисел, разделённых запятой. Составьте список и кортеж с этими числами.\n",
        "\n",
        "**Для приёма пользовательского ввода используйте функцию input()**"
      ]
    },
    {
      "cell_type": "code",
      "metadata": {
        "id": "Pzvbnwt1pCXf",
        "colab_type": "code",
        "outputId": "4717d980-9b6e-4381-ab0e-4788efbffcbe",
        "colab": {
          "base_uri": "https://localhost:8080/",
          "height": 0
        }
      },
      "source": [
        "#s = input(\"введите значение\")\n",
        "\n",
        "s = '12,16,24,27,46,37,29,76,87'\n",
        "\n",
        "my_list = s.split(',')\n",
        "my_tuple = tuple(my_list)\n",
        "\n",
        "print(f'i am list - {my_list}, realy - {type(my_list)}')\n",
        "print(f'i am tuple - {my_tuple}, realy - {type(my_tuple)}')\n"
      ],
      "execution_count": 25,
      "outputs": [
        {
          "output_type": "stream",
          "text": [
            "i am list - ['12', '16', '24', '27', '46', '37', '29', '76', '87'], realy - <class 'list'>\n",
            "i am tuple - ('12', '16', '24', '27', '46', '37', '29', '76', '87'), realy - <class 'tuple'>\n"
          ],
          "name": "stdout"
        }
      ]
    },
    {
      "cell_type": "markdown",
      "metadata": {
        "id": "LX80ZS4VoMt_",
        "colab_type": "text"
      },
      "source": [
        "## Задача 9\n",
        "Выведите первый и последний элемент списка."
      ]
    },
    {
      "cell_type": "code",
      "metadata": {
        "id": "0pOygKC-oNjX",
        "colab_type": "code",
        "outputId": "a3d22067-ff17-4b54-ab40-fec71ed9f196",
        "colab": {
          "base_uri": "https://localhost:8080/",
          "height": 0
        }
      },
      "source": [
        "l = ['12', '16', '24', '27', '46', '37', '29', '76', '87']\n",
        "print(l[0])\n",
        "print(l[len(l) - 1])"
      ],
      "execution_count": 26,
      "outputs": [
        {
          "output_type": "stream",
          "text": [
            "12\n",
            "87\n"
          ],
          "name": "stdout"
        }
      ]
    },
    {
      "cell_type": "markdown",
      "metadata": {
        "id": "RONwF247oOGw",
        "colab_type": "text"
      },
      "source": [
        "## Задача 10\n",
        "Напишите программу, которая принимает имя файла и выводит его расширение. Если расширение у файла определить невозможно, выбросите исключение."
      ]
    },
    {
      "cell_type": "code",
      "metadata": {
        "id": "koKS5w99oPDY",
        "colab_type": "code",
        "outputId": "d6e76d71-649a-4398-8357-e126416745cf",
        "colab": {
          "base_uri": "https://localhost:8080/",
          "height": 0
        }
      },
      "source": [
        "#s_word = input()\n",
        "s_word = \"Файл с расширением.docx\"\n",
        "\n",
        "try:\n",
        "  tmp = s_word.split('.')\n",
        "  s_exp = tmp[len(tmp) - 1]\n",
        "\n",
        "except:\n",
        "  s_exp = \"Невозможно определить расширение\"\n",
        "\n",
        "print(s_exp)"
      ],
      "execution_count": 27,
      "outputs": [
        {
          "output_type": "stream",
          "text": [
            "docx\n"
          ],
          "name": "stdout"
        }
      ]
    },
    {
      "cell_type": "markdown",
      "metadata": {
        "id": "Imewfx3UphZG",
        "colab_type": "text"
      },
      "source": [
        "## Задача 11\n",
        "Сложите цифры целого числа."
      ]
    },
    {
      "cell_type": "code",
      "metadata": {
        "id": "S0prYFkypjMD",
        "colab_type": "code",
        "outputId": "83b3d10b-cb62-4709-fe7d-0423bee0cb8b",
        "colab": {
          "base_uri": "https://localhost:8080/",
          "height": 0
        }
      },
      "source": [
        "i_int = 15628\n",
        "\n",
        "s_str = str(i_int)\n",
        "i_sum = 0\n",
        "\n",
        "for i in s_str:\n",
        "  i_sum = i_sum + int(i)\n",
        "print(i_sum)"
      ],
      "execution_count": 28,
      "outputs": [
        {
          "output_type": "stream",
          "text": [
            "22\n"
          ],
          "name": "stdout"
        }
      ]
    },
    {
      "cell_type": "markdown",
      "metadata": {
        "id": "tx0wApZupk05",
        "colab_type": "text"
      },
      "source": [
        "## Задача 12\n",
        "Напишите программу, которая принимает два списка и выводит все элементы первого, которых нет во втором."
      ]
    },
    {
      "cell_type": "code",
      "metadata": {
        "id": "MkC_sLdRpoG7",
        "colab_type": "code",
        "outputId": "d71be2a5-bcec-48ba-ae6c-faf523aeb02e",
        "colab": {
          "base_uri": "https://localhost:8080/",
          "height": 0
        }
      },
      "source": [
        "l_first = [12,34,56,78,90,100,120,450,891,514,849,756,124,74,568,893]\n",
        "l_second = [12,34,56,78,90,100,120,450,891,514,849,756,124]\n",
        "\n",
        "l_uniq = list(set(l_first) - set(l_second))\n",
        "\n",
        "print(l_uniq)"
      ],
      "execution_count": 34,
      "outputs": [
        {
          "output_type": "stream",
          "text": [
            "[568, 74, 893]\n"
          ],
          "name": "stdout"
        }
      ]
    },
    {
      "cell_type": "markdown",
      "metadata": {
        "id": "PO9NF3IBpoxz",
        "colab_type": "text"
      },
      "source": [
        "## Задача 13\n",
        "Напишите программу, которая выводит чётные числа из заданного списка и останавливается, если встречает число 237."
      ]
    },
    {
      "cell_type": "code",
      "metadata": {
        "id": "6pqgc99LprzC",
        "colab_type": "code",
        "outputId": "959f8402-0487-4b66-dc44-db3ad8f16b01",
        "colab": {
          "base_uri": "https://localhost:8080/",
          "height": 0
        }
      },
      "source": [
        "my_list = [1, 2, 3, 4, 5, 6, 7, 8, 9, 10, 11, 12, 13, 62, 73, 98, 366, 8365, 37, 28, 237, 763, 764, 1000, 7884]\n",
        "\n",
        "for i in my_list:\n",
        "  if i == 237:\n",
        "    break\n",
        "  elif i % 2 == 0:\n",
        "    print(i)\n",
        "  else:\n",
        "    pass"
      ],
      "execution_count": 29,
      "outputs": [
        {
          "output_type": "stream",
          "text": [
            "2\n",
            "4\n",
            "6\n",
            "8\n",
            "10\n",
            "12\n",
            "62\n",
            "98\n",
            "366\n",
            "28\n"
          ],
          "name": "stdout"
        }
      ]
    },
    {
      "cell_type": "markdown",
      "metadata": {
        "id": "0lMCVueRpsae",
        "colab_type": "text"
      },
      "source": [
        "## Задача 14\n",
        "Посчитайте, сколько раз символ встречается в строке."
      ]
    },
    {
      "cell_type": "code",
      "metadata": {
        "id": "L26W_dlNpxBL",
        "colab_type": "code",
        "outputId": "e448c425-538c-47f1-b40f-da6e82d9f32b",
        "colab": {
          "base_uri": "https://localhost:8080/",
          "height": 0
        }
      },
      "source": [
        "#s_sym = input()\n",
        "#s_word = input()\n",
        "s_sym = 'e'\n",
        "s_word = 'quelle belle journee'\n",
        "i_counter = 0\n",
        "\n",
        "for i in s_word:\n",
        "  if i == s_sym:\n",
        "    i_counter += 1\n",
        "print(f'Символ встречается {i_counter} раз')\n",
        "\n"
      ],
      "execution_count": 30,
      "outputs": [
        {
          "output_type": "stream",
          "text": [
            "Символ встречается 6 раз\n"
          ],
          "name": "stdout"
        }
      ]
    },
    {
      "cell_type": "markdown",
      "metadata": {
        "id": "FF0C3-cTp0uy",
        "colab_type": "text"
      },
      "source": [
        "## Задача 15\n",
        "Поменяйте значения переменных местами."
      ]
    },
    {
      "cell_type": "code",
      "metadata": {
        "id": "1BLkWTA5p2FZ",
        "colab_type": "code",
        "outputId": "1f8d7467-3496-424f-855c-b9ec90bbfbee",
        "colab": {
          "base_uri": "https://localhost:8080/",
          "height": 0
        }
      },
      "source": [
        "a = 'a'\n",
        "b = 'b'\n",
        "\n",
        "a, b = b, a\n",
        "\n",
        "print(f'а = {a}, b = {b}')"
      ],
      "execution_count": 31,
      "outputs": [
        {
          "output_type": "stream",
          "text": [
            "а = b, b = a\n"
          ],
          "name": "stdout"
        }
      ]
    },
    {
      "cell_type": "markdown",
      "metadata": {
        "id": "I2x5B2_Np9kO",
        "colab_type": "text"
      },
      "source": [
        "## Задача 16\n",
        "Нужно проверить, все ли числа в последовательности уникальны."
      ]
    },
    {
      "cell_type": "code",
      "metadata": {
        "id": "gsiB8H61p_Bb",
        "colab_type": "code",
        "outputId": "14632e71-c3e6-4a97-a55a-ac72845fcb79",
        "colab": {
          "base_uri": "https://localhost:8080/",
          "height": 0
        }
      },
      "source": [
        "#i_sec = [12,34,56,78,90,100,120,450,891,514,849,756,12]\n",
        "l_sec = [12,34,56,78,90,100,120,450,891,514,849,756,124]\n",
        "flag = True #Тут не работает exit\n",
        "\n",
        "for i in range(len(l_sec)):\n",
        "  for j in range(i+1, len(l_sec)):\n",
        "    if l_sec[j] == l_sec[i]:\n",
        "      flag = False\n",
        "      \n",
        "if flag:\n",
        "  print('Последовательность уникальна')\n",
        "else:\n",
        "  print('Последовательность НЕ уникальна')"
      ],
      "execution_count": 32,
      "outputs": [
        {
          "output_type": "stream",
          "text": [
            "Последовательность уникальна\n"
          ],
          "name": "stdout"
        }
      ]
    }
  ]
}