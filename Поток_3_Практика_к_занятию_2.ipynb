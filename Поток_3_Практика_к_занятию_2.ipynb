{
  "nbformat": 4,
  "nbformat_minor": 0,
  "metadata": {
    "colab": {
      "name": "Поток 3. Практика к занятию 2.ipynb",
      "provenance": [],
      "collapsed_sections": [],
      "include_colab_link": true
    },
    "kernelspec": {
      "name": "python3",
      "display_name": "Python 3"
    }
  },
  "cells": [
    {
      "cell_type": "markdown",
      "metadata": {
        "id": "view-in-github",
        "colab_type": "text"
      },
      "source": [
        "<a href=\"https://colab.research.google.com/github/theysee/sberbank_reboot/blob/master/%D0%9F%D0%BE%D1%82%D0%BE%D0%BA_3_%D0%9F%D1%80%D0%B0%D0%BA%D1%82%D0%B8%D0%BA%D0%B0_%D0%BA_%D0%B7%D0%B0%D0%BD%D1%8F%D1%82%D0%B8%D1%8E_2.ipynb\" target=\"_parent\"><img src=\"https://colab.research.google.com/assets/colab-badge.svg\" alt=\"Open In Colab\"/></a>"
      ]
    },
    {
      "cell_type": "markdown",
      "metadata": {
        "id": "8UJhWBl3pK-0",
        "colab_type": "text"
      },
      "source": [
        "# Практика\n",
        "*   [Презентация](https://docs.google.com/presentation/d/1_mq8XrHBciKJrEOjcqnZf_SI77dlJCOFYRIoIhg7gqw/edit?usp=sharing)\n",
        "*   [master](https://colab.research.google.com/drive/1EaA_hgjd_24v9vdZLUkBBOmSVhDOX86X)"
      ]
    },
    {
      "cell_type": "markdown",
      "metadata": {
        "id": "wpx5PcBIsmz-",
        "colab_type": "text"
      },
      "source": [
        "## Часть 1"
      ]
    },
    {
      "cell_type": "markdown",
      "metadata": {
        "id": "wOvsCdb9s9LL",
        "colab_type": "text"
      },
      "source": [
        "### Задание 1\n",
        "Измените функцию change_name так, чтобы значение **глобальной** переменной изменилось"
      ]
    },
    {
      "cell_type": "code",
      "metadata": {
        "id": "1yAZSQRCs7HR",
        "colab_type": "code",
        "outputId": "c6e65a9c-c177-48d2-e290-12fa6fbc3639",
        "colab": {
          "base_uri": "https://localhost:8080/",
          "height": 51
        }
      },
      "source": [
        "name = 'Аалексей'\n",
        "\n",
        "def change_name(new_name):\n",
        "    global name\n",
        "    name = new_name\n",
        "\n",
        "print(name)    \n",
        "\n",
        "change_name('Куда ты едешь')\n",
        "\n",
        "print(name)"
      ],
      "execution_count": 283,
      "outputs": [
        {
          "output_type": "stream",
          "text": [
            "Аалексей\n",
            "Куда ты едешь\n"
          ],
          "name": "stdout"
        }
      ]
    },
    {
      "cell_type": "markdown",
      "metadata": {
        "id": "H-jgaSh4v_FS",
        "colab_type": "text"
      },
      "source": [
        "### Задание 2\n",
        "Создайте класс \"собака\" (Dog), у которого будут такие аттрибуты как имя и возраст. Также добавьте 2 метода: первый выводит имя собаки и её возраст на экран, а второй принимает на вход параметр \"звук\" (sound), и печатает на экран Имя собаки и, что она \"говорит\""
      ]
    },
    {
      "cell_type": "code",
      "metadata": {
        "id": "EYgcHedswG2Q",
        "colab_type": "code",
        "colab": {}
      },
      "source": [
        "class Dog:\n",
        "\n",
        "    # Initializer / Instance attributes\n",
        "    def __init__(self, name, age):\n",
        "      self.name = name\n",
        "      self.age = age\n",
        "\n",
        "    # instance method\n",
        "    def description(self):\n",
        "      print(f'Имя собаки: {self.name}. Возраст {self.age}')\n",
        "\n",
        "    # instance method\n",
        "    def speak(self, sound):\n",
        "      print(f'{self.name} говорит: {sound}')\n",
        "        # ваш код"
      ],
      "execution_count": 0,
      "outputs": []
    },
    {
      "cell_type": "code",
      "metadata": {
        "id": "GuWTVT7ySPHZ",
        "colab_type": "code",
        "colab": {}
      },
      "source": [
        "dog1 = Dog(name=\"Bob\", age=6)"
      ],
      "execution_count": 0,
      "outputs": []
    },
    {
      "cell_type": "code",
      "metadata": {
        "id": "pouAqP0DSTMs",
        "colab_type": "code",
        "outputId": "983565af-2a7f-4803-85a1-47ae66ecddf8",
        "colab": {
          "base_uri": "https://localhost:8080/",
          "height": 34
        }
      },
      "source": [
        "type(dog1)"
      ],
      "execution_count": 286,
      "outputs": [
        {
          "output_type": "execute_result",
          "data": {
            "text/plain": [
              "__main__.Dog"
            ]
          },
          "metadata": {
            "tags": []
          },
          "execution_count": 286
        }
      ]
    },
    {
      "cell_type": "code",
      "metadata": {
        "id": "G3ynslDoSWKi",
        "colab_type": "code",
        "outputId": "5f6cc290-febc-48db-f1ad-c686db3816a8",
        "colab": {
          "base_uri": "https://localhost:8080/",
          "height": 34
        }
      },
      "source": [
        "dog1.name"
      ],
      "execution_count": 287,
      "outputs": [
        {
          "output_type": "execute_result",
          "data": {
            "text/plain": [
              "'Bob'"
            ]
          },
          "metadata": {
            "tags": []
          },
          "execution_count": 287
        }
      ]
    },
    {
      "cell_type": "code",
      "metadata": {
        "id": "0cLxS_m4SXxu",
        "colab_type": "code",
        "outputId": "509ac6df-db4e-40ab-85f3-5edfbe8b8e00",
        "colab": {
          "base_uri": "https://localhost:8080/",
          "height": 34
        }
      },
      "source": [
        "dog1.age"
      ],
      "execution_count": 288,
      "outputs": [
        {
          "output_type": "execute_result",
          "data": {
            "text/plain": [
              "6"
            ]
          },
          "metadata": {
            "tags": []
          },
          "execution_count": 288
        }
      ]
    },
    {
      "cell_type": "code",
      "metadata": {
        "id": "9O5PkxpiSZj0",
        "colab_type": "code",
        "outputId": "6f004607-1b99-4345-d7d3-11d9427182cc",
        "colab": {
          "base_uri": "https://localhost:8080/",
          "height": 34
        }
      },
      "source": [
        "dog1.description()"
      ],
      "execution_count": 289,
      "outputs": [
        {
          "output_type": "stream",
          "text": [
            "Имя собаки: Bob. Возраст 6\n"
          ],
          "name": "stdout"
        }
      ]
    },
    {
      "cell_type": "code",
      "metadata": {
        "id": "T61c1z3ETWiD",
        "colab_type": "code",
        "outputId": "9d547d58-b769-470a-a270-7220d0a8263e",
        "colab": {
          "base_uri": "https://localhost:8080/",
          "height": 34
        }
      },
      "source": [
        "dog1.speak(\"wuf!\")"
      ],
      "execution_count": 290,
      "outputs": [
        {
          "output_type": "stream",
          "text": [
            "Bob говорит: wuf!\n"
          ],
          "name": "stdout"
        }
      ]
    },
    {
      "cell_type": "markdown",
      "metadata": {
        "id": "yLoBgu2GpodA",
        "colab_type": "text"
      },
      "source": [
        "### Задание 3\n",
        "Создайте класс PetStorage (Хранилище животных), который среди своих аттрибутов содержит хранилище для домашних животных (объекта класса Dog). Добавьте в класс Pets следующие методы: кол-во питомцев в хранилище, напечатать возраста всех животных из хранилища. Затем инициализируйте объект класса Pets с 3-мя экземплярами собак, и добейтесь примерно следующего вывода\n",
        "\n",
        "У меня 3 собаки. \n",
        "\n",
        "Возраст \"имя собаки\" 6. \n",
        "\n",
        "Возраст \"имя собаки\" 7. \n",
        "\n",
        "Возраст \"имя собаки\" 9. \n",
        "\n",
        "За основу используйте код ниже"
      ]
    },
    {
      "cell_type": "code",
      "metadata": {
        "id": "JK9CzgkOTV7U",
        "colab_type": "code",
        "colab": {}
      },
      "source": [
        "class PetStorage:\n",
        "\n",
        "  def __init__(self, pets=None):\n",
        "    if pets is None: # чтобы можно было инициализровать пустое хранилище\n",
        "      self.pets = []\n",
        "    else:\n",
        "      if isinstance(pets, list):\n",
        "        self.pets = pets\n",
        "      else:\n",
        "        print(\"Передайте мне список животных!\")\n",
        "        exit(-1)\n",
        "\n",
        "  def pets_count(self):\n",
        "    print(f'В хранилище собак - {len(self.pets)} туш')\n",
        "\n",
        "  def print_pets(self):\n",
        "    for i in self.pets:\n",
        "      print(f'В хранилище есть собака с именем {i.name} возрастом {i.age}')"
      ],
      "execution_count": 0,
      "outputs": []
    },
    {
      "cell_type": "code",
      "metadata": {
        "id": "9D2ySn_csf-Z",
        "colab_type": "code",
        "colab": {
          "base_uri": "https://localhost:8080/",
          "height": 85
        },
        "outputId": "0f1209e0-ef95-40f1-ce5c-704f80abd227"
      },
      "source": [
        "dog1 = Dog(name=\"Bob\", age=6)\n",
        "dog2 = Dog(name=\"Alex\", age=2)\n",
        "dog3 = Dog(name=\"Alfred\", age=1)\n",
        "\n",
        "storage = PetStorage([dog1, dog2, dog3])\n",
        "storage.pets_count()\n",
        "storage.print_pets()"
      ],
      "execution_count": 292,
      "outputs": [
        {
          "output_type": "stream",
          "text": [
            "В хранилище собак - 3 туш\n",
            "В хранилище есть собака с именем Bob возрастом 6\n",
            "В хранилище есть собака с именем Alex возрастом 2\n",
            "В хранилище есть собака с именем Alfred возрастом 1\n"
          ],
          "name": "stdout"
        }
      ]
    },
    {
      "cell_type": "code",
      "metadata": {
        "id": "GUNlqP4wWIGt",
        "colab_type": "code",
        "outputId": "0e46233a-5810-49d7-be31-520dc67b79d0",
        "colab": {
          "base_uri": "https://localhost:8080/",
          "height": 68
        }
      },
      "source": [
        "storage.pets"
      ],
      "execution_count": 293,
      "outputs": [
        {
          "output_type": "execute_result",
          "data": {
            "text/plain": [
              "[<__main__.Dog at 0x7f015a8ff828>,\n",
              " <__main__.Dog at 0x7f015a8ff6a0>,\n",
              " <__main__.Dog at 0x7f015a8ff4a8>]"
            ]
          },
          "metadata": {
            "tags": []
          },
          "execution_count": 293
        }
      ]
    },
    {
      "cell_type": "markdown",
      "metadata": {
        "id": "h10LOFKzvtFx",
        "colab_type": "text"
      },
      "source": [
        "### Задание 4\n",
        "Добавьте в класс Dog аттрибут объекта is_hungry, который по умолчанию имеет значение True, а также метод eat(), который меняет значение is_hungry на False. Затем покормите всех собак, и проверьте ,что они действительно не голодные"
      ]
    },
    {
      "cell_type": "code",
      "metadata": {
        "id": "6qnR-0wrsicF",
        "colab_type": "code",
        "colab": {}
      },
      "source": [
        "class Hungry_dog(Dog):\n",
        "  \n",
        "  def __init__(self, name, age, is_hungry=True):\n",
        "    self.is_hungry = is_hungry\n",
        "    self.name = name\n",
        "    self.age = age\n",
        "\n",
        "  def eat(self):\n",
        "    self.is_hungry = False\n",
        "    print(f'Cобака с именем {self.name} возрастом {self.age} больше не голодна')"
      ],
      "execution_count": 0,
      "outputs": []
    },
    {
      "cell_type": "code",
      "metadata": {
        "id": "_CmVP-BwrGBx",
        "colab_type": "code",
        "colab": {
          "base_uri": "https://localhost:8080/",
          "height": 68
        },
        "outputId": "034bc04b-a250-4957-8423-7be04eb2ae4b"
      },
      "source": [
        "dog1 = Hungry_dog(name=\"Bob\", age=6)\n",
        "dog2 = Hungry_dog(name=\"Alex\", age=2)\n",
        "dog3 = Hungry_dog(name=\"Alfred\", age=1)\n",
        "\n",
        "print(dog1.is_hungry)\n",
        "print(dog2.is_hungry)\n",
        "print(dog3.is_hungry)"
      ],
      "execution_count": 295,
      "outputs": [
        {
          "output_type": "stream",
          "text": [
            "True\n",
            "True\n",
            "True\n"
          ],
          "name": "stdout"
        }
      ]
    },
    {
      "cell_type": "code",
      "metadata": {
        "id": "v-223QtUsWfr",
        "colab_type": "code",
        "colab": {
          "base_uri": "https://localhost:8080/",
          "height": 119
        },
        "outputId": "14aabba9-714a-48c6-b8e4-7e99542fe480"
      },
      "source": [
        "dog1.eat()\n",
        "dog2.eat()\n",
        "dog3.eat()\n",
        "print(dog1.is_hungry)\n",
        "print(dog2.is_hungry)\n",
        "print(dog3.is_hungry)"
      ],
      "execution_count": 296,
      "outputs": [
        {
          "output_type": "stream",
          "text": [
            "Cобака с именем Bob возрастом 6 больше не голодна\n",
            "Cобака с именем Alex возрастом 2 больше не голодна\n",
            "Cобака с именем Alfred возрастом 1 больше не голодна\n",
            "False\n",
            "False\n",
            "False\n"
          ],
          "name": "stdout"
        }
      ]
    },
    {
      "cell_type": "markdown",
      "metadata": {
        "id": "dQGwhu3Bx4MP",
        "colab_type": "text"
      },
      "source": [
        "### Задание 5\n",
        "Теперь добавьте в оба класса Pets и Dog метод walk(), так, что если вызвать этот метод у объекта класса Pets, то каждый питомец будет выведен на прогулку, и сообщит об этом"
      ]
    },
    {
      "cell_type": "code",
      "metadata": {
        "id": "h8JrWzncxq47",
        "colab_type": "code",
        "colab": {}
      },
      "source": [
        "class Walk_dog(Dog):\n",
        "  \n",
        "  def __init__(self, name, age, walk=False):\n",
        "    self.walk = walk\n",
        "    self.name = name\n",
        "    self.age = age\n",
        "\n",
        "  def go_walk(self):\n",
        "    self.walk = True\n",
        "    print(f'Я есть собака с именем {self.name} возрастом {self.age} пошла гулять')"
      ],
      "execution_count": 0,
      "outputs": []
    },
    {
      "cell_type": "code",
      "metadata": {
        "id": "Ee2ZBxoykR5f",
        "colab_type": "code",
        "colab": {}
      },
      "source": [
        "class PetStorage_with_walk(PetStorage):\n",
        "  def __init__(self, pets=None):\n",
        "    if pets is None: # чтобы можно было инициализровать пустое хранилище\n",
        "      self.pets = []\n",
        "    else:\n",
        "      if isinstance(pets, list):\n",
        "        self.pets = pets\n",
        "      else:\n",
        "        print(\"Передайте мне список животных!\")\n",
        "        exit(-1)\n",
        "  \n",
        "  def lets_pets_out(self):\n",
        "    for i in self.pets:\n",
        "      i.go_walk()"
      ],
      "execution_count": 0,
      "outputs": []
    },
    {
      "cell_type": "code",
      "metadata": {
        "id": "lXfWJj-ba0o5",
        "colab_type": "code",
        "colab": {
          "base_uri": "https://localhost:8080/",
          "height": 68
        },
        "outputId": "e16106b7-b913-4309-e810-e251b29ef22c"
      },
      "source": [
        "dog1 = Walk_dog(name=\"Bob\", age=6)\n",
        "dog2 = Walk_dog(name=\"Alex\", age=2)\n",
        "dog3 = Walk_dog(name=\"Alfred\", age=1)\n",
        "\n",
        "storage = PetStorage_with_walk([dog1, dog2, dog3])\n",
        "storage.lets_pets_out()"
      ],
      "execution_count": 299,
      "outputs": [
        {
          "output_type": "stream",
          "text": [
            "Я есть собака с именем Bob возрастом 6 пошла гулять\n",
            "Я есть собака с именем Alex возрастом 2 пошла гулять\n",
            "Я есть собака с именем Alfred возрастом 1 пошла гулять\n"
          ],
          "name": "stdout"
        }
      ]
    },
    {
      "cell_type": "code",
      "metadata": {
        "id": "Pc3--SBxdSRP",
        "colab_type": "code",
        "colab": {}
      },
      "source": [
        ""
      ],
      "execution_count": 0,
      "outputs": []
    }
  ]
}