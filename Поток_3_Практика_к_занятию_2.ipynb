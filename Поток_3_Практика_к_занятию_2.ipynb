{
  "nbformat": 4,
  "nbformat_minor": 0,
  "metadata": {
    "colab": {
      "name": "Поток 3. Практика к занятию 2.ipynb",
      "provenance": [],
      "collapsed_sections": [],
      "include_colab_link": true
    },
    "kernelspec": {
      "name": "python3",
      "display_name": "Python 3"
    }
  },
  "cells": [
    {
      "cell_type": "markdown",
      "metadata": {
        "id": "view-in-github",
        "colab_type": "text"
      },
      "source": [
        "<a href=\"https://colab.research.google.com/github/theysee/sberbank_reboot/blob/master/%D0%9F%D0%BE%D1%82%D0%BE%D0%BA_3_%D0%9F%D1%80%D0%B0%D0%BA%D1%82%D0%B8%D0%BA%D0%B0_%D0%BA_%D0%B7%D0%B0%D0%BD%D1%8F%D1%82%D0%B8%D1%8E_2.ipynb\" target=\"_parent\"><img src=\"https://colab.research.google.com/assets/colab-badge.svg\" alt=\"Open In Colab\"/></a>"
      ]
    },
    {
      "cell_type": "markdown",
      "metadata": {
        "id": "8UJhWBl3pK-0",
        "colab_type": "text"
      },
      "source": [
        "# Практика\n",
        "*   [Презентация](https://docs.google.com/presentation/d/1_mq8XrHBciKJrEOjcqnZf_SI77dlJCOFYRIoIhg7gqw/edit?usp=sharing)\n",
        "*   [master](https://colab.research.google.com/drive/1EaA_hgjd_24v9vdZLUkBBOmSVhDOX86X)"
      ]
    },
    {
      "cell_type": "markdown",
      "metadata": {
        "id": "wpx5PcBIsmz-",
        "colab_type": "text"
      },
      "source": [
        "## Часть 1"
      ]
    },
    {
      "cell_type": "markdown",
      "metadata": {
        "id": "wOvsCdb9s9LL",
        "colab_type": "text"
      },
      "source": [
        "### Задание 1\n",
        "Измените функцию change_name так, чтобы значение **глобальной** переменной изменилось"
      ]
    },
    {
      "cell_type": "code",
      "metadata": {
        "id": "1yAZSQRCs7HR",
        "colab_type": "code",
        "outputId": "088b1f2c-21bb-463f-ecef-0f8b9c69d712",
        "colab": {
          "base_uri": "https://localhost:8080/",
          "height": 51
        }
      },
      "source": [
        "name = 'Аалексей'\n",
        "\n",
        "def change_name(new_name):\n",
        "    global name\n",
        "    name = new_name\n",
        "\n",
        "print(name)    \n",
        "\n",
        "change_name('Куда ты едешь')\n",
        "\n",
        "print(name)"
      ],
      "execution_count": 0,
      "outputs": [
        {
          "output_type": "stream",
          "text": [
            "Аалексей\n",
            "Куда ты едешь\n"
          ],
          "name": "stdout"
        }
      ]
    },
    {
      "cell_type": "markdown",
      "metadata": {
        "id": "H-jgaSh4v_FS",
        "colab_type": "text"
      },
      "source": [
        "### Задание 2\n",
        "Создайте класс \"собака\" (Dog), у которого будут такие аттрибуты как имя и возраст. Также добавьте 2 метода: первый выводит имя собаки и её возраст на экран, а второй принимает на вход параметр \"звук\" (sound), и печатает на экран Имя собаки и, что она \"говорит\""
      ]
    },
    {
      "cell_type": "code",
      "metadata": {
        "id": "EYgcHedswG2Q",
        "colab_type": "code",
        "colab": {}
      },
      "source": [
        "class Dog:\n",
        "\n",
        "    # Initializer / Instance attributes\n",
        "    def __init__(self, name, age):\n",
        "      self.name = name\n",
        "      self.age = age\n",
        "\n",
        "    # instance method\n",
        "    def description(self):\n",
        "      print('Имя собаки: {}. Возраст {}'.format(self.name, self.age))\n",
        "\n",
        "    # instance method\n",
        "    def speak(self, sound):\n",
        "      print(\"{} говорит: {}\".format(self.name, sound))\n",
        "        # ваш код"
      ],
      "execution_count": 0,
      "outputs": []
    },
    {
      "cell_type": "code",
      "metadata": {
        "id": "GuWTVT7ySPHZ",
        "colab_type": "code",
        "colab": {}
      },
      "source": [
        "dog1 = Dog(name=\"Bob\", age=6)"
      ],
      "execution_count": 0,
      "outputs": []
    },
    {
      "cell_type": "code",
      "metadata": {
        "id": "pouAqP0DSTMs",
        "colab_type": "code",
        "outputId": "51a2bda9-78da-412b-a41b-278e36b0c92e",
        "colab": {
          "base_uri": "https://localhost:8080/",
          "height": 34
        }
      },
      "source": [
        "type(dog1)"
      ],
      "execution_count": 0,
      "outputs": [
        {
          "output_type": "execute_result",
          "data": {
            "text/plain": [
              "__main__.Dog"
            ]
          },
          "metadata": {
            "tags": []
          },
          "execution_count": 6
        }
      ]
    },
    {
      "cell_type": "code",
      "metadata": {
        "id": "G3ynslDoSWKi",
        "colab_type": "code",
        "outputId": "a98c6919-d0ee-4e73-e3c7-ef40906d25fd",
        "colab": {
          "base_uri": "https://localhost:8080/",
          "height": 34
        }
      },
      "source": [
        "dog1.name"
      ],
      "execution_count": 0,
      "outputs": [
        {
          "output_type": "execute_result",
          "data": {
            "text/plain": [
              "'Bob'"
            ]
          },
          "metadata": {
            "tags": []
          },
          "execution_count": 7
        }
      ]
    },
    {
      "cell_type": "code",
      "metadata": {
        "id": "0cLxS_m4SXxu",
        "colab_type": "code",
        "outputId": "5acaf09d-80c3-4a79-f51a-b6176759ba6d",
        "colab": {
          "base_uri": "https://localhost:8080/",
          "height": 34
        }
      },
      "source": [
        "dog1.age"
      ],
      "execution_count": 0,
      "outputs": [
        {
          "output_type": "execute_result",
          "data": {
            "text/plain": [
              "6"
            ]
          },
          "metadata": {
            "tags": []
          },
          "execution_count": 8
        }
      ]
    },
    {
      "cell_type": "code",
      "metadata": {
        "id": "9O5PkxpiSZj0",
        "colab_type": "code",
        "outputId": "29b640db-28ef-4b38-ac9d-6b1851929807",
        "colab": {
          "base_uri": "https://localhost:8080/",
          "height": 34
        }
      },
      "source": [
        "dog1.description()"
      ],
      "execution_count": 0,
      "outputs": [
        {
          "output_type": "stream",
          "text": [
            "Имя собаки: Bob. Возраст 6\n"
          ],
          "name": "stdout"
        }
      ]
    },
    {
      "cell_type": "code",
      "metadata": {
        "id": "T61c1z3ETWiD",
        "colab_type": "code",
        "outputId": "eeceeabb-4527-4cf4-f2b4-dd27573df8fa",
        "colab": {
          "base_uri": "https://localhost:8080/",
          "height": 34
        }
      },
      "source": [
        "dog1.speak(\"wuf!\")"
      ],
      "execution_count": 0,
      "outputs": [
        {
          "output_type": "stream",
          "text": [
            "Bob говорит: wuf!\n"
          ],
          "name": "stdout"
        }
      ]
    },
    {
      "cell_type": "markdown",
      "metadata": {
        "id": "yLoBgu2GpodA",
        "colab_type": "text"
      },
      "source": [
        "### Задание 3\n",
        "Создайте класс PetStorage (Хранилище животных), который среди своих аттрибутов содержит хранилище для домашних животных (объекта класса Dog). Добавьте в класс Pets следующие методы: кол-во питомцев в хранилище, напечатать возраста всех животных из хранилища. Затем инициализируйте объект класса Pets с 3-мя экземплярами собак, и добейтесь примерно следующего вывода\n",
        "\n",
        "У меня 3 собаки. \n",
        "\n",
        "Возраст \"имя собаки\" 6. \n",
        "\n",
        "Возраст \"имя собаки\" 7. \n",
        "\n",
        "Возраст \"имя собаки\" 9. \n",
        "\n",
        "За основу используйте код ниже"
      ]
    },
    {
      "cell_type": "code",
      "metadata": {
        "id": "JK9CzgkOTV7U",
        "colab_type": "code",
        "colab": {}
      },
      "source": [
        "class PetStorage:\n",
        "\n",
        "  def __init__(self, pets=None):\n",
        "    if pets is None: # чтобы можно было инициализровать пустое хранилище\n",
        "      self.pets = []\n",
        "    else:\n",
        "      if isinstance(pets, list):\n",
        "        self.pets = pets\n",
        "      else:\n",
        "        print(\"Передайте мне список животных!\")\n",
        "        exit(-1)\n",
        "\n",
        "  def storage_size(self):\n",
        "    pass\n",
        "    # ваш код тут\n",
        "\n",
        "  def print_pets(self):\n",
        "    pass\n",
        "    # ваш код тут"
      ],
      "execution_count": 0,
      "outputs": []
    },
    {
      "cell_type": "code",
      "metadata": {
        "id": "9D2ySn_csf-Z",
        "colab_type": "code",
        "colab": {}
      },
      "source": [
        "# ваш код тут\n",
        "dog1 = Dog(name=\"Bob\", age=6)\n",
        "dog2 = Dog(name=\"Alex\", age=2)\n",
        "dog3 = Dog(name=\"Alfred\", age=1)\n",
        "\n",
        "storage = PetStorage([dog1, dog2, dog3])"
      ],
      "execution_count": 0,
      "outputs": []
    },
    {
      "cell_type": "code",
      "metadata": {
        "id": "GUNlqP4wWIGt",
        "colab_type": "code",
        "outputId": "6c05d6c2-4bee-4809-c17b-e03cee8ae662",
        "colab": {
          "base_uri": "https://localhost:8080/",
          "height": 68
        }
      },
      "source": [
        "storage.pets"
      ],
      "execution_count": 0,
      "outputs": [
        {
          "output_type": "execute_result",
          "data": {
            "text/plain": [
              "[<__main__.Dog at 0x7f434690ae10>,\n",
              " <__main__.Dog at 0x7f434690ac50>,\n",
              " <__main__.Dog at 0x7f434694ce10>]"
            ]
          },
          "metadata": {
            "tags": []
          },
          "execution_count": 20
        }
      ]
    },
    {
      "cell_type": "markdown",
      "metadata": {
        "id": "h10LOFKzvtFx",
        "colab_type": "text"
      },
      "source": [
        "### Задание 4\n",
        "Добавьте в класс Dog аттрибут объекта is_hungry, который по умолчанию имеет значение True, а также метод eat(), который меняет значение is_hungry на False. Затем покормите всех собак, и проверьте ,что они действительно не голодные"
      ]
    },
    {
      "cell_type": "code",
      "metadata": {
        "id": "6qnR-0wrsicF",
        "colab_type": "code",
        "colab": {}
      },
      "source": [
        "# ваш код тут"
      ],
      "execution_count": 0,
      "outputs": []
    },
    {
      "cell_type": "markdown",
      "metadata": {
        "id": "dQGwhu3Bx4MP",
        "colab_type": "text"
      },
      "source": [
        "### Задание 5\n",
        "Теперь добавьте в оба класса Pets и Dog метод walk(), так, что если вызвать этот метод у объекта класса Pets, то каждый питомец будет выведен на прогулку, и сообщит об этом"
      ]
    },
    {
      "cell_type": "code",
      "metadata": {
        "id": "h8JrWzncxq47",
        "colab_type": "code",
        "colab": {}
      },
      "source": [
        "# ваш код тут"
      ],
      "execution_count": 0,
      "outputs": []
    }
  ]
}