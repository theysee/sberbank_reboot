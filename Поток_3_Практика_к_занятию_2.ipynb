{
  "nbformat": 4,
  "nbformat_minor": 0,
  "metadata": {
    "colab": {
      "name": "Поток 3. Практика к занятию 2.ipynb",
      "provenance": [],
      "collapsed_sections": [],
      "include_colab_link": true
    },
    "kernelspec": {
      "name": "python3",
      "display_name": "Python 3"
    }
  },
  "cells": [
    {
      "cell_type": "markdown",
      "metadata": {
        "id": "view-in-github",
        "colab_type": "text"
      },
      "source": [
        "<a href=\"https://colab.research.google.com/github/theysee/sberbank_reboot/blob/master/%D0%9F%D0%BE%D1%82%D0%BE%D0%BA_3_%D0%9F%D1%80%D0%B0%D0%BA%D1%82%D0%B8%D0%BA%D0%B0_%D0%BA_%D0%B7%D0%B0%D0%BD%D1%8F%D1%82%D0%B8%D1%8E_2.ipynb\" target=\"_parent\"><img src=\"https://colab.research.google.com/assets/colab-badge.svg\" alt=\"Open In Colab\"/></a>"
      ]
    },
    {
      "cell_type": "markdown",
      "metadata": {
        "id": "8UJhWBl3pK-0",
        "colab_type": "text"
      },
      "source": [
        "# Практика\n",
        "*   [Презентация](https://docs.google.com/presentation/d/1_mq8XrHBciKJrEOjcqnZf_SI77dlJCOFYRIoIhg7gqw/edit?usp=sharing)\n",
        "*   [master](https://colab.research.google.com/drive/1EaA_hgjd_24v9vdZLUkBBOmSVhDOX86X)"
      ]
    },
    {
      "cell_type": "markdown",
      "metadata": {
        "id": "wpx5PcBIsmz-",
        "colab_type": "text"
      },
      "source": [
        "## Часть 1"
      ]
    },
    {
      "cell_type": "markdown",
      "metadata": {
        "id": "wOvsCdb9s9LL",
        "colab_type": "text"
      },
      "source": [
        "### Задание 1\n",
        "Измените функцию change_name так, чтобы значение **глобальной** переменной изменилось"
      ]
    },
    {
      "cell_type": "code",
      "metadata": {
        "id": "1yAZSQRCs7HR",
        "colab_type": "code",
        "outputId": "2ef45efe-9703-400a-a864-c9426045945a",
        "colab": {
          "base_uri": "https://localhost:8080/",
          "height": 51
        }
      },
      "source": [
        "name = 'Аалексей'\n",
        "\n",
        "def change_name(new_name):\n",
        "    global name\n",
        "    name = new_name\n",
        "\n",
        "print(name)    \n",
        "\n",
        "change_name('Куда ты едешь')\n",
        "\n",
        "print(name)"
      ],
      "execution_count": 261,
      "outputs": [
        {
          "output_type": "stream",
          "text": [
            "Аалексей\n",
            "Куда ты едешь\n"
          ],
          "name": "stdout"
        }
      ]
    },
    {
      "cell_type": "markdown",
      "metadata": {
        "id": "H-jgaSh4v_FS",
        "colab_type": "text"
      },
      "source": [
        "### Задание 2\n",
        "Создайте класс \"собака\" (Dog), у которого будут такие аттрибуты как имя и возраст. Также добавьте 2 метода: первый выводит имя собаки и её возраст на экран, а второй принимает на вход параметр \"звук\" (sound), и печатает на экран Имя собаки и, что она \"говорит\""
      ]
    },
    {
      "cell_type": "code",
      "metadata": {
        "id": "EYgcHedswG2Q",
        "colab_type": "code",
        "colab": {}
      },
      "source": [
        "class Dog:\n",
        "\n",
        "    # Initializer / Instance attributes\n",
        "    def __init__(self, name, age):\n",
        "      self.name = name\n",
        "      self.age = age\n",
        "\n",
        "    # instance method\n",
        "    def description(self):\n",
        "      print(f'Имя собаки: {self.name}. Возраст {self.age}')\n",
        "\n",
        "    # instance method\n",
        "    def speak(self, sound):\n",
        "      print(f'{self.name} говорит: {sound}')\n",
        "        # ваш код"
      ],
      "execution_count": 0,
      "outputs": []
    },
    {
      "cell_type": "code",
      "metadata": {
        "id": "GuWTVT7ySPHZ",
        "colab_type": "code",
        "colab": {}
      },
      "source": [
        "dog1 = Dog(name=\"Bob\", age=6)"
      ],
      "execution_count": 0,
      "outputs": []
    },
    {
      "cell_type": "code",
      "metadata": {
        "id": "pouAqP0DSTMs",
        "colab_type": "code",
        "outputId": "d3479898-370f-4562-e519-71e699251c95",
        "colab": {
          "base_uri": "https://localhost:8080/",
          "height": 34
        }
      },
      "source": [
        "type(dog1)"
      ],
      "execution_count": 264,
      "outputs": [
        {
          "output_type": "execute_result",
          "data": {
            "text/plain": [
              "__main__.Dog"
            ]
          },
          "metadata": {
            "tags": []
          },
          "execution_count": 264
        }
      ]
    },
    {
      "cell_type": "code",
      "metadata": {
        "id": "G3ynslDoSWKi",
        "colab_type": "code",
        "outputId": "8817fb8a-7fc9-4256-9b9c-685da4c57eef",
        "colab": {
          "base_uri": "https://localhost:8080/",
          "height": 34
        }
      },
      "source": [
        "dog1.name"
      ],
      "execution_count": 265,
      "outputs": [
        {
          "output_type": "execute_result",
          "data": {
            "text/plain": [
              "'Bob'"
            ]
          },
          "metadata": {
            "tags": []
          },
          "execution_count": 265
        }
      ]
    },
    {
      "cell_type": "code",
      "metadata": {
        "id": "0cLxS_m4SXxu",
        "colab_type": "code",
        "outputId": "7d3d98c5-8f38-48e0-c6ed-7a683edfb123",
        "colab": {
          "base_uri": "https://localhost:8080/",
          "height": 34
        }
      },
      "source": [
        "dog1.age"
      ],
      "execution_count": 266,
      "outputs": [
        {
          "output_type": "execute_result",
          "data": {
            "text/plain": [
              "6"
            ]
          },
          "metadata": {
            "tags": []
          },
          "execution_count": 266
        }
      ]
    },
    {
      "cell_type": "code",
      "metadata": {
        "id": "9O5PkxpiSZj0",
        "colab_type": "code",
        "outputId": "cf0242c2-248b-4dc9-dd0e-aefb90be6517",
        "colab": {
          "base_uri": "https://localhost:8080/",
          "height": 34
        }
      },
      "source": [
        "dog1.description()"
      ],
      "execution_count": 267,
      "outputs": [
        {
          "output_type": "stream",
          "text": [
            "Имя собаки: Bob. Возраст 6\n"
          ],
          "name": "stdout"
        }
      ]
    },
    {
      "cell_type": "code",
      "metadata": {
        "id": "T61c1z3ETWiD",
        "colab_type": "code",
        "outputId": "e8514a88-ab77-4de6-df75-fa7b9e3c3225",
        "colab": {
          "base_uri": "https://localhost:8080/",
          "height": 34
        }
      },
      "source": [
        "dog1.speak(\"wuf!\")"
      ],
      "execution_count": 268,
      "outputs": [
        {
          "output_type": "stream",
          "text": [
            "Bob говорит: wuf!\n"
          ],
          "name": "stdout"
        }
      ]
    },
    {
      "cell_type": "markdown",
      "metadata": {
        "id": "yLoBgu2GpodA",
        "colab_type": "text"
      },
      "source": [
        "### Задание 3\n",
        "Создайте класс PetStorage (Хранилище животных), который среди своих аттрибутов содержит хранилище для домашних животных (объекта класса Dog). Добавьте в класс Pets следующие методы: кол-во питомцев в хранилище, напечатать возраста всех животных из хранилища. Затем инициализируйте объект класса Pets с 3-мя экземплярами собак, и добейтесь примерно следующего вывода\n",
        "\n",
        "У меня 3 собаки. \n",
        "\n",
        "Возраст \"имя собаки\" 6. \n",
        "\n",
        "Возраст \"имя собаки\" 7. \n",
        "\n",
        "Возраст \"имя собаки\" 9. \n",
        "\n",
        "За основу используйте код ниже"
      ]
    },
    {
      "cell_type": "code",
      "metadata": {
        "id": "JK9CzgkOTV7U",
        "colab_type": "code",
        "colab": {}
      },
      "source": [
        "class PetStorage:\n",
        "\n",
        "  def __init__(self, pets=None):\n",
        "    if pets is None: # чтобы можно было инициализровать пустое хранилище\n",
        "      self.pets = []\n",
        "    else:\n",
        "      if isinstance(pets, list):\n",
        "        self.pets = pets\n",
        "      else:\n",
        "        print(\"Передайте мне список животных!\")\n",
        "        exit(-1)\n",
        "\n",
        "  def pets_count(self):\n",
        "    print(f'В хранилище собак - {len(self.pets)} туш')\n",
        "\n",
        "  def print_pets(self):\n",
        "    for i in self.pets:\n",
        "      print(f'В хранилище есть собака с именем {i.name} возрастом {i.age}')"
      ],
      "execution_count": 0,
      "outputs": []
    },
    {
      "cell_type": "code",
      "metadata": {
        "id": "9D2ySn_csf-Z",
        "colab_type": "code",
        "colab": {
          "base_uri": "https://localhost:8080/",
          "height": 85
        },
        "outputId": "2f4d6a85-ad80-46d6-bd8c-dbb10ff80956"
      },
      "source": [
        "dog1 = Dog(name=\"Bob\", age=6)\n",
        "dog2 = Dog(name=\"Alex\", age=2)\n",
        "dog3 = Dog(name=\"Alfred\", age=1)\n",
        "\n",
        "storage = PetStorage([dog1, dog2, dog3])\n",
        "storage.pets_count()\n",
        "storage.print_pets()"
      ],
      "execution_count": 270,
      "outputs": [
        {
          "output_type": "stream",
          "text": [
            "В хранилище собак - 3 туш\n",
            "В хранилище есть собака с именем Bob возрастом 6\n",
            "В хранилище есть собака с именем Alex возрастом 2\n",
            "В хранилище есть собака с именем Alfred возрастом 1\n"
          ],
          "name": "stdout"
        }
      ]
    },
    {
      "cell_type": "code",
      "metadata": {
        "id": "GUNlqP4wWIGt",
        "colab_type": "code",
        "outputId": "3fb9fa27-a006-4007-cec6-1f10ec21e114",
        "colab": {
          "base_uri": "https://localhost:8080/",
          "height": 68
        }
      },
      "source": [
        "storage.pets"
      ],
      "execution_count": 271,
      "outputs": [
        {
          "output_type": "execute_result",
          "data": {
            "text/plain": [
              "[<__main__.Dog at 0x7f015a8ee898>,\n",
              " <__main__.Dog at 0x7f015a8ee3c8>,\n",
              " <__main__.Dog at 0x7f015a8ff588>]"
            ]
          },
          "metadata": {
            "tags": []
          },
          "execution_count": 271
        }
      ]
    },
    {
      "cell_type": "markdown",
      "metadata": {
        "id": "h10LOFKzvtFx",
        "colab_type": "text"
      },
      "source": [
        "### Задание 4\n",
        "Добавьте в класс Dog аттрибут объекта is_hungry, который по умолчанию имеет значение True, а также метод eat(), который меняет значение is_hungry на False. Затем покормите всех собак, и проверьте ,что они действительно не голодные"
      ]
    },
    {
      "cell_type": "code",
      "metadata": {
        "id": "6qnR-0wrsicF",
        "colab_type": "code",
        "colab": {}
      },
      "source": [
        "class Hungry_dog(Dog):\n",
        "  \n",
        "  def __init__(self, name, age, is_hungry=True):\n",
        "    self.is_hungry = is_hungry\n",
        "    self.name = name\n",
        "    self.age = age\n",
        "\n",
        "  def eat(self):\n",
        "    self.is_hungry = False\n",
        "    print(f'Cобака с именем {self.name} возрастом {self.age} больше не голодна')"
      ],
      "execution_count": 0,
      "outputs": []
    },
    {
      "cell_type": "code",
      "metadata": {
        "id": "_CmVP-BwrGBx",
        "colab_type": "code",
        "colab": {
          "base_uri": "https://localhost:8080/",
          "height": 68
        },
        "outputId": "ff1d41cc-9129-4919-fb75-2805a4357263"
      },
      "source": [
        "dog1 = Hungry_dog(name=\"Bob\", age=6)\n",
        "dog2 = Hungry_dog(name=\"Alex\", age=2)\n",
        "dog3 = Hungry_dog(name=\"Alfred\", age=1)\n",
        "\n",
        "print(dog1.is_hungry)\n",
        "print(dog2.is_hungry)\n",
        "print(dog3.is_hungry)"
      ],
      "execution_count": 273,
      "outputs": [
        {
          "output_type": "stream",
          "text": [
            "True\n",
            "True\n",
            "True\n"
          ],
          "name": "stdout"
        }
      ]
    },
    {
      "cell_type": "code",
      "metadata": {
        "id": "v-223QtUsWfr",
        "colab_type": "code",
        "colab": {
          "base_uri": "https://localhost:8080/",
          "height": 119
        },
        "outputId": "0480ef0a-c5f0-435d-f342-45d163c44a51"
      },
      "source": [
        "dog1.eat()\n",
        "dog2.eat()\n",
        "dog3.eat()\n",
        "print(dog1.is_hungry)\n",
        "print(dog2.is_hungry)\n",
        "print(dog3.is_hungry)"
      ],
      "execution_count": 274,
      "outputs": [
        {
          "output_type": "stream",
          "text": [
            "Cобака с именем Bob возрастом 6 больше не голодна\n",
            "Cобака с именем Alex возрастом 2 больше не голодна\n",
            "Cобака с именем Alfred возрастом 1 больше не голодна\n",
            "False\n",
            "False\n",
            "False\n"
          ],
          "name": "stdout"
        }
      ]
    },
    {
      "cell_type": "markdown",
      "metadata": {
        "id": "dQGwhu3Bx4MP",
        "colab_type": "text"
      },
      "source": [
        "### Задание 5\n",
        "Теперь добавьте в оба класса Pets и Dog метод walk(), так, что если вызвать этот метод у объекта класса Pets, то каждый питомец будет выведен на прогулку, и сообщит об этом"
      ]
    },
    {
      "cell_type": "code",
      "metadata": {
        "id": "h8JrWzncxq47",
        "colab_type": "code",
        "colab": {}
      },
      "source": [
        "class Walk_dog(Dog):\n",
        "  \n",
        "  def __init__(self, name, age, walk=False):\n",
        "    self.walk = walk\n",
        "    self.name = name\n",
        "    self.age = age\n",
        "\n",
        "  def go_walk(self):\n",
        "    self.walk = True\n",
        "    print(f'Я есть собака с именем {self.name} возрастом {self.age} пошла гулять')"
      ],
      "execution_count": 0,
      "outputs": []
    },
    {
      "cell_type": "code",
      "metadata": {
        "id": "Ee2ZBxoykR5f",
        "colab_type": "code",
        "colab": {}
      },
      "source": [
        "class PetStorage_with_walk(PetStorage):\n",
        "  def __init__(self, pets=None):"
      ],
      "execution_count": 0,
      "outputs": []
    },
    {
      "cell_type": "code",
      "metadata": {
        "id": "lXfWJj-ba0o5",
        "colab_type": "code",
        "colab": {
          "base_uri": "https://localhost:8080/",
          "height": 34
        },
        "outputId": "7cb38c3b-0dd5-4814-f62e-35be0405eb97"
      },
      "source": [
        "dog1 = Walk_dog(name=\"Bob\", age=6)\n",
        "dog2 = Walk_dog(name=\"Alex\", age=2)\n",
        "dog3 = Walk_dog(name=\"Alfred\", age=1)\n",
        "\n",
        "dog1.go_walk()"
      ],
      "execution_count": 276,
      "outputs": [
        {
          "output_type": "stream",
          "text": [
            "Я есть собака с именем Bob возрастом 6 пошла гулять\n"
          ],
          "name": "stdout"
        }
      ]
    },
    {
      "cell_type": "code",
      "metadata": {
        "id": "Pc3--SBxdSRP",
        "colab_type": "code",
        "colab": {}
      },
      "source": [
        ""
      ],
      "execution_count": 0,
      "outputs": []
    }
  ]
}