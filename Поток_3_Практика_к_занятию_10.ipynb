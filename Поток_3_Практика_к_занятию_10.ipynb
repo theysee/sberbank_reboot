{
  "nbformat": 4,
  "nbformat_minor": 0,
  "metadata": {
    "colab": {
      "name": "Поток 3. Практика к занятию 10.ipynb",
      "provenance": [],
      "collapsed_sections": [],
      "include_colab_link": true
    },
    "kernelspec": {
      "name": "python3",
      "display_name": "Python 3"
    }
  },
  "cells": [
    {
      "cell_type": "markdown",
      "metadata": {
        "id": "view-in-github",
        "colab_type": "text"
      },
      "source": [
        "<a href=\"https://colab.research.google.com/github/theysee/sberbank_reboot/blob/master/%D0%9F%D0%BE%D1%82%D0%BE%D0%BA_3_%D0%9F%D1%80%D0%B0%D0%BA%D1%82%D0%B8%D0%BA%D0%B0_%D0%BA_%D0%B7%D0%B0%D0%BD%D1%8F%D1%82%D0%B8%D1%8E_10.ipynb\" target=\"_parent\"><img src=\"https://colab.research.google.com/assets/colab-badge.svg\" alt=\"Open In Colab\"/></a>"
      ]
    },
    {
      "cell_type": "markdown",
      "metadata": {
        "id": "pDrecLU-4QjS",
        "colab_type": "text"
      },
      "source": [
        "# Практика"
      ]
    },
    {
      "cell_type": "markdown",
      "metadata": {
        "id": "QH_ECwwO4Tyq",
        "colab_type": "text"
      },
      "source": [
        "\n",
        "\n",
        "*   [Презентация](https://docs.google.com/presentation/d/1JyDiIutjow6Tn8SoRI0pFxs2Ieh7IzdpW3nWdplKNMM/edit?usp=sharing)\n",
        "*   [Мастер](https://colab.research.google.com/drive/1Z3MHcQZO1CMs3COBdRh2IE8XIXf9jcRr)\n"
      ]
    },
    {
      "cell_type": "markdown",
      "metadata": {
        "id": "5V70InEBTgup",
        "colab_type": "text"
      },
      "source": [
        "## 1.1\n",
        "Брошено две монеты. Найти вероятность того, что монеты выпали разными сторонами\n",
        "\n",
        "https://drive.google.com/open?id=1FNzWSwZt26aodL1p1uIkSelKhGkvcu3v"
      ]
    },
    {
      "cell_type": "code",
      "metadata": {
        "id": "4zIZojc9hsdS",
        "colab_type": "code",
        "colab": {}
      },
      "source": [
        "ОО, ОР, РО, РР."
      ],
      "execution_count": 0,
      "outputs": []
    },
    {
      "cell_type": "code",
      "metadata": {
        "id": "88Iw-SL3jYQV",
        "colab_type": "code",
        "colab": {}
      },
      "source": [
        "P(A)=2/4=1/2"
      ],
      "execution_count": 0,
      "outputs": []
    },
    {
      "cell_type": "markdown",
      "metadata": {
        "id": "t0XOMos2Tl0e",
        "colab_type": "text"
      },
      "source": [
        "## 1.2\n",
        "Брошено три монеты. Описать множество всех элементарных событий. Найти вероятности следующих событий:\n",
        "\n",
        "\n",
        "1.   A = {не выпало ни одного герба}\n",
        "2.   B = {выпало четное число гербов}\n",
        "3.   C = {на третьей монете выпал герб}\n",
        "\n",
        "https://drive.google.com/open?id=1GSJaKKxyUcJguALTb1-UAW3ZFtbtAoU7"
      ]
    },
    {
      "cell_type": "code",
      "metadata": {
        "id": "Mz0Syp-whUWC",
        "colab_type": "code",
        "colab": {}
      },
      "source": [
        "ООО, ООР, ОРР, РРР, РОО, РРО, РОР, ОРО."
      ],
      "execution_count": 0,
      "outputs": []
    },
    {
      "cell_type": "code",
      "metadata": {
        "id": "5oMJj776UocB",
        "colab_type": "code",
        "colab": {}
      },
      "source": [
        "#A = {не выпало ни одного герба}\n",
        "P(A) = 1/8"
      ],
      "execution_count": 0,
      "outputs": []
    },
    {
      "cell_type": "code",
      "metadata": {
        "id": "cad63QseUolM",
        "colab_type": "code",
        "colab": {}
      },
      "source": [
        "#B = {выпало четное число гербов}\n",
        "P(B) = 3/8"
      ],
      "execution_count": 0,
      "outputs": []
    },
    {
      "cell_type": "code",
      "metadata": {
        "id": "o7NjAE9uUo-L",
        "colab_type": "code",
        "colab": {}
      },
      "source": [
        "#C = {на третьей монете выпал герб}\n",
        "P(C) = 4/8 = 1/2"
      ],
      "execution_count": 0,
      "outputs": []
    },
    {
      "cell_type": "markdown",
      "metadata": {
        "id": "g7A7QlvGTnwZ",
        "colab_type": "text"
      },
      "source": [
        "## 1.5\n",
        "Брошены две игральные кости. Найти вероятность события D = {выпала хотя бы одна шестёрка}\n",
        "\n",
        "https://drive.google.com/open?id=1QZqgPMUF6ZDfCLOhPh3pNQ0GizL20MfN"
      ]
    },
    {
      "cell_type": "code",
      "metadata": {
        "id": "B0FKhGechxWc",
        "colab_type": "code",
        "colab": {}
      },
      "source": [
        "A B | A B\n",
        "1 6 | 6 1\n",
        "2   |   2\n",
        "3   |   3\n",
        "4   |   4\n",
        "5   |   5\n",
        "6   |   "
      ],
      "execution_count": 0,
      "outputs": []
    },
    {
      "cell_type": "code",
      "metadata": {
        "id": "rDLPiGhpUprO",
        "colab_type": "code",
        "colab": {}
      },
      "source": [
        "P(D) = 11/36"
      ],
      "execution_count": 0,
      "outputs": []
    },
    {
      "cell_type": "markdown",
      "metadata": {
        "id": "yLoZDZ17UVsp",
        "colab_type": "text"
      },
      "source": [
        "## 1.9\n",
        "В лотерее имеется 10 билетов, из которых один выигрышный. Размер выигрыша 10 ден. ед.; стоимость билета 1 ден ед. Найти закон распределения случайной величины X, равной чистому выигрышу участника лотереи, который вытаскивает билет первым.\n",
        "\n",
        "https://drive.google.com/open?id=14l4OnNFbIofnrqNksiomYSm3ao9pTT3m"
      ]
    },
    {
      "cell_type": "code",
      "metadata": {
        "id": "UEOx2F9-HtjL",
        "colab_type": "code",
        "colab": {}
      },
      "source": [
        ""
      ],
      "execution_count": 0,
      "outputs": []
    },
    {
      "cell_type": "markdown",
      "metadata": {
        "id": "Fbu1RFZwWZrk",
        "colab_type": "text"
      },
      "source": [
        "## 2.1\n",
        "Из колоды (36 карт) вынимают последовательно без возвращения две карты. Найти вероятность того, что первой картой была шестерка, а второй — семерка. Найти условную вероятность того же события при условии, что обе карты бубновой масти.\n",
        "\n",
        "https://drive.google.com/open?id=1WFYwMjtGEyvDebEpXEAbwi9yBbYP1M1J"
      ]
    },
    {
      "cell_type": "code",
      "metadata": {
        "id": "0VeCLI97Wtya",
        "colab_type": "code",
        "colab": {}
      },
      "source": [
        "# 4*4/36*35, 1/72"
      ],
      "execution_count": 0,
      "outputs": []
    },
    {
      "cell_type": "code",
      "metadata": {
        "id": "7OGAeq9cW-J-",
        "colab_type": "code",
        "outputId": "ac4b439d-c5a6-4b20-d870-ba340d51f8e1",
        "colab": {
          "base_uri": "https://localhost:8080/",
          "height": 34
        }
      },
      "source": [
        "1/72 > (4*4)/(36*35)"
      ],
      "execution_count": 0,
      "outputs": [
        {
          "output_type": "execute_result",
          "data": {
            "text/plain": [
              "True"
            ]
          },
          "metadata": {
            "tags": []
          },
          "execution_count": 4
        }
      ]
    },
    {
      "cell_type": "code",
      "metadata": {
        "id": "037o56awW9-E",
        "colab_type": "code",
        "colab": {}
      },
      "source": [
        ""
      ],
      "execution_count": 0,
      "outputs": []
    }
  ]
}