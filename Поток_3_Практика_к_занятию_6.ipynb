{
  "nbformat": 4,
  "nbformat_minor": 0,
  "metadata": {
    "colab": {
      "name": "Поток 3. Практика к занятию 6.ipynb",
      "provenance": [],
      "collapsed_sections": [],
      "include_colab_link": true
    },
    "kernelspec": {
      "name": "python3",
      "display_name": "Python 3"
    }
  },
  "cells": [
    {
      "cell_type": "markdown",
      "metadata": {
        "id": "view-in-github",
        "colab_type": "text"
      },
      "source": [
        "<a href=\"https://colab.research.google.com/github/theysee/sberbank_reboot/blob/master/%D0%9F%D0%BE%D1%82%D0%BE%D0%BA_3_%D0%9F%D1%80%D0%B0%D0%BA%D1%82%D0%B8%D0%BA%D0%B0_%D0%BA_%D0%B7%D0%B0%D0%BD%D1%8F%D1%82%D0%B8%D1%8E_6.ipynb\" target=\"_parent\"><img src=\"https://colab.research.google.com/assets/colab-badge.svg\" alt=\"Open In Colab\"/></a>"
      ]
    },
    {
      "cell_type": "markdown",
      "metadata": {
        "id": "pDrecLU-4QjS",
        "colab_type": "text"
      },
      "source": [
        "# Практика"
      ]
    },
    {
      "cell_type": "markdown",
      "metadata": {
        "id": "QH_ECwwO4Tyq",
        "colab_type": "text"
      },
      "source": [
        "\n",
        "\n",
        "*   [Презентация](https://docs.google.com/presentation/d/100xFwSILlxsoaAj98FW5ztneo03fRyob-33IKOvpJqM/edit?usp=sharing)\n",
        "*   [master](https://colab.research.google.com/drive/1ZmBW1QzhWjPQGs1E3oFDvaygKZZAQ6CP)\n",
        "\n"
      ]
    },
    {
      "cell_type": "code",
      "metadata": {
        "id": "w5oyx4OaOP9s",
        "colab_type": "code",
        "outputId": "dab97e2a-f5ed-4eaf-acec-d798a5aa8d24",
        "colab": {
          "base_uri": "https://localhost:8080/",
          "height": 107
        }
      },
      "source": [
        "!pip install PyMySQL"
      ],
      "execution_count": 0,
      "outputs": [
        {
          "output_type": "stream",
          "text": [
            "Collecting PyMySQL\n",
            "\u001b[?25l  Downloading https://files.pythonhosted.org/packages/ed/39/15045ae46f2a123019aa968dfcba0396c161c20f855f11dea6796bcaae95/PyMySQL-0.9.3-py2.py3-none-any.whl (47kB)\n",
            "\r\u001b[K     |██████▉                         | 10kB 21.8MB/s eta 0:00:01\r\u001b[K     |█████████████▊                  | 20kB 6.5MB/s eta 0:00:01\r\u001b[K     |████████████████████▋           | 30kB 9.1MB/s eta 0:00:01\r\u001b[K     |███████████████████████████▌    | 40kB 5.9MB/s eta 0:00:01\r\u001b[K     |████████████████████████████████| 51kB 4.1MB/s \n",
            "\u001b[?25hInstalling collected packages: PyMySQL\n",
            "Successfully installed PyMySQL-0.9.3\n"
          ],
          "name": "stdout"
        }
      ]
    },
    {
      "cell_type": "code",
      "metadata": {
        "id": "ovRIyU9flDeD",
        "colab_type": "code",
        "outputId": "3dc0633a-f060-4329-dec7-bca7361a87fc",
        "colab": {
          "base_uri": "https://localhost:8080/",
          "height": 107
        }
      },
      "source": [
        "!pip install pandas"
      ],
      "execution_count": 0,
      "outputs": [
        {
          "output_type": "stream",
          "text": [
            "Requirement already satisfied: pandas in /usr/local/lib/python3.6/dist-packages (0.25.3)\n",
            "Requirement already satisfied: numpy>=1.13.3 in /usr/local/lib/python3.6/dist-packages (from pandas) (1.17.4)\n",
            "Requirement already satisfied: pytz>=2017.2 in /usr/local/lib/python3.6/dist-packages (from pandas) (2018.9)\n",
            "Requirement already satisfied: python-dateutil>=2.6.1 in /usr/local/lib/python3.6/dist-packages (from pandas) (2.6.1)\n",
            "Requirement already satisfied: six>=1.5 in /usr/local/lib/python3.6/dist-packages (from python-dateutil>=2.6.1->pandas) (1.12.0)\n"
          ],
          "name": "stdout"
        }
      ]
    },
    {
      "cell_type": "code",
      "metadata": {
        "id": "z4BDycl5ORbd",
        "colab_type": "code",
        "colab": {}
      },
      "source": [
        "import pymysql\n",
        "import numpy as np\n",
        "import pandas as pd\n",
        "from matplotlib import pyplot as plt\n",
        "%matplotlib inline\n",
        "\n",
        "\n",
        "# доступны student-ы от 0 до 49\n",
        "# в этот раз важно взять своего student-а. Если в коде ниже увидите, что в вашей базе уже есть таблицы, то выберите другого пользователя.\n",
        "# НЕ ЗАБУДЬТЕ ВЫПОЛНИТЬ КОД ЭТОЙ КЛЕТКИ\n",
        "\n",
        "\n",
        "\n",
        "DB_HOST = '89.223.95.235'\n",
        "DB_USER = 'student_1'\n",
        "DB_USER_PASSWORD = 'student_1'\n",
        "DB_NAME = 'student_1'"
      ],
      "execution_count": 0,
      "outputs": []
    },
    {
      "cell_type": "code",
      "metadata": {
        "id": "hWuL4HR64HkJ",
        "colab_type": "code",
        "outputId": "4ecd6e7a-9d45-40e5-e09f-8c311937077d",
        "colab": {
          "base_uri": "https://localhost:8080/",
          "height": 49
        }
      },
      "source": [
        "conn = pymysql.connect(DB_HOST, DB_USER, DB_USER_PASSWORD, DB_NAME)\n",
        "pd.read_sql_query(\"show tables\", conn)"
      ],
      "execution_count": 0,
      "outputs": [
        {
          "output_type": "execute_result",
          "data": {
            "text/html": [
              "<div>\n",
              "<style scoped>\n",
              "    .dataframe tbody tr th:only-of-type {\n",
              "        vertical-align: middle;\n",
              "    }\n",
              "\n",
              "    .dataframe tbody tr th {\n",
              "        vertical-align: top;\n",
              "    }\n",
              "\n",
              "    .dataframe thead th {\n",
              "        text-align: right;\n",
              "    }\n",
              "</style>\n",
              "<table border=\"1\" class=\"dataframe\">\n",
              "  <thead>\n",
              "    <tr style=\"text-align: right;\">\n",
              "      <th></th>\n",
              "      <th>Tables_in_student_1</th>\n",
              "    </tr>\n",
              "  </thead>\n",
              "  <tbody>\n",
              "  </tbody>\n",
              "</table>\n",
              "</div>"
            ],
            "text/plain": [
              "Empty DataFrame\n",
              "Columns: [Tables_in_student_1]\n",
              "Index: []"
            ]
          },
          "metadata": {
            "tags": []
          },
          "execution_count": 10
        }
      ]
    },
    {
      "cell_type": "markdown",
      "metadata": {
        "id": "IfODJhZeGdnm",
        "colab_type": "text"
      },
      "source": [
        "### Шаг 1\n",
        "Сгенерируем данные по показам, кликам, и деньгам по 5 объявлениям с названиями Advertising_0, Advertising_1, ...\n",
        "\n",
        "Просто выполните две клетки ниже"
      ]
    },
    {
      "cell_type": "code",
      "metadata": {
        "id": "Q4dNP-wQ5CgJ",
        "colab_type": "code",
        "colab": {}
      },
      "source": [
        "adv_sample = 'Advertising_{}'\n",
        "advertisings = []\n",
        "for i in range(5):\n",
        "  advertisings.append(adv_sample.format(i))\n",
        "advertisings"
      ],
      "execution_count": 0,
      "outputs": []
    },
    {
      "cell_type": "code",
      "metadata": {
        "id": "sKd5n3UI5M21",
        "colab_type": "code",
        "colab": {}
      },
      "source": [
        "from datetime import datetime, timedelta, date\n",
        "DATE_FORMAT = '%Y-%m-%d'\n",
        "start_date = date(2019, 8, 1)\n",
        "data = {}\n",
        "for adv_id in range(1, len(advertisings)+1):\n",
        "  day_data = []\n",
        "  data[adv_id] = []\n",
        "  for idx, events_number in enumerate(np.random.random_integers(50, 100, 30)):\n",
        "    events = np.zeros(events_number)\n",
        "    events[np.random.rand(events_number) > 0.5] = 1\n",
        "    money = np.round(events * np.random.rand(events_number)*10 + np.random.rand(events_number), 2)\n",
        "    dt = start_date + timedelta(days=idx)\n",
        "    dates = [dt.strftime(DATE_FORMAT) for j in range(events_number)]\n",
        "    day_data = list(zip(dates, events, money))\n",
        "    data[adv_id] += day_data\n",
        "data"
      ],
      "execution_count": 0,
      "outputs": []
    },
    {
      "cell_type": "code",
      "metadata": {
        "id": "TeVJS0NBGzZb",
        "colab_type": "code",
        "colab": {}
      },
      "source": [
        "data.keys()"
      ],
      "execution_count": 0,
      "outputs": []
    },
    {
      "cell_type": "markdown",
      "metadata": {
        "id": "3WHZrbs7G3Qp",
        "colab_type": "text"
      },
      "source": [
        "Теперь в массиве advertisings у нас лежат названия объявлений, а в словаре data ключом является идентификатор объявления в нашей будущей базе данных (при использовании AUTO_INCREMENT PRIMARY KEY идентификаторы будут от 1 до 5 соответственно). \n",
        "\n",
        "Значениями в словаре data являются массивы tuple-ов в которых по порядку записана дата события, тип события, а также кол-во денег, которое стоило это событие. \n",
        "\n",
        "*   0 это показ\n",
        "*   1 это клик (если был клик, то был и показ)\n",
        "*   кол-во денег указано в рублях\n",
        "\n"
      ]
    },
    {
      "cell_type": "code",
      "metadata": {
        "id": "xCBJzlp2CBoO",
        "colab_type": "code",
        "colab": {}
      },
      "source": [
        "data[1][0][2]"
      ],
      "execution_count": 0,
      "outputs": []
    },
    {
      "cell_type": "markdown",
      "metadata": {
        "id": "zQCojjvRH5sC",
        "colab_type": "text"
      },
      "source": [
        "### Шаг 2\n",
        "Создадим структуру таблиц.\n",
        "Нам понадобится создать две таблицы. В одной будут храниться названия объявлений с их уникальным идентификатором, а во второй будут храниться события, относящиеся к этим объявлениям. При этом вторая таблица связана с первой таблицей первичным ключом."
      ]
    },
    {
      "cell_type": "code",
      "metadata": {
        "id": "0bb21GLp_cgx",
        "colab_type": "code",
        "colab": {}
      },
      "source": [
        "# выполните, чтобы получить объект соединения\n",
        "conn = pymysql.connect(DB_HOST, DB_USER, DB_USER_PASSWORD, DB_NAME) # создаём соединение"
      ],
      "execution_count": 0,
      "outputs": []
    },
    {
      "cell_type": "code",
      "metadata": {
        "id": "4IeMZ6ZmI45F",
        "colab_type": "code",
        "colab": {}
      },
      "source": [
        "# выполните эту клетку если захотите удалить ошибочно созданную таблицу adv_glossary\n",
        "query = \"DROP TABLE IF EXISTS adv_glossary\"\n",
        "\n",
        "conn.cursor().execute(query) # выполняем запрос\n",
        "conn.commit() # сохраняем изменения"
      ],
      "execution_count": 0,
      "outputs": []
    },
    {
      "cell_type": "code",
      "metadata": {
        "id": "T3SVaau9JAp_",
        "colab_type": "code",
        "colab": {}
      },
      "source": [
        "# выполните эту клетку если захотите удалить ошибочно созданную таблицу adv_events\n",
        "query = \"DROP TABLE IF EXISTS adv_events\"\n",
        "\n",
        "\n",
        "conn.cursor().execute(query) # выполняем запрос\n",
        "conn.commit() # сохраняем изменения"
      ],
      "execution_count": 0,
      "outputs": []
    },
    {
      "cell_type": "code",
      "metadata": {
        "id": "thiGTVvaJClz",
        "colab_type": "code",
        "colab": {}
      },
      "source": [
        ""
      ],
      "execution_count": 0,
      "outputs": []
    },
    {
      "cell_type": "code",
      "metadata": {
        "id": "1W_WGKkYJC1J",
        "colab_type": "code",
        "colab": {}
      },
      "source": [
        ""
      ],
      "execution_count": 0,
      "outputs": []
    },
    {
      "cell_type": "code",
      "metadata": {
        "id": "tEfiISizJCh4",
        "colab_type": "code",
        "colab": {}
      },
      "source": [
        ""
      ],
      "execution_count": 0,
      "outputs": []
    },
    {
      "cell_type": "code",
      "metadata": {
        "id": "hJ8YT1kkAQ2q",
        "colab_type": "code",
        "colab": {}
      },
      "source": [
        "# напишите запрос для создания таблицы с объявлениями"
      ],
      "execution_count": 0,
      "outputs": []
    },
    {
      "cell_type": "code",
      "metadata": {
        "id": "MOgNhzN1IyVV",
        "colab_type": "code",
        "colab": {}
      },
      "source": [
        "# напишите запрос для создания таблицы с событиями по объявлениям"
      ],
      "execution_count": 0,
      "outputs": []
    },
    {
      "cell_type": "code",
      "metadata": {
        "id": "gIA85M0UE4pK",
        "colab_type": "code",
        "colab": {}
      },
      "source": [
        "# а также добавьте ограничение целостности на идентификатор объявления"
      ],
      "execution_count": 0,
      "outputs": []
    },
    {
      "cell_type": "markdown",
      "metadata": {
        "id": "XimLMSu0JRDd",
        "colab_type": "text"
      },
      "source": [
        "### Шаг 3\n",
        "Теперь, когда таблицы созданы, наполните их данными. Это может занять некоторое время, подождите, выпейте чаю;). Заметьте, если внешний ключ создан правильно, то база не даст вписать данные с несуществующими связями. \n",
        "С какой базы надо начать наполнение?"
      ]
    },
    {
      "cell_type": "code",
      "metadata": {
        "id": "AZDRrOeIJeCA",
        "colab_type": "code",
        "colab": {}
      },
      "source": [
        "# ваш код тут"
      ],
      "execution_count": 0,
      "outputs": []
    },
    {
      "cell_type": "markdown",
      "metadata": {
        "id": "puBRr783Jqke",
        "colab_type": "text"
      },
      "source": [
        "### Шаг 4\n",
        "Проверьте, что данные действительно появились в таблицах"
      ]
    },
    {
      "cell_type": "code",
      "metadata": {
        "id": "ZrB5pQNOJzid",
        "colab_type": "code",
        "colab": {}
      },
      "source": [
        "# ваш код тут"
      ],
      "execution_count": 0,
      "outputs": []
    },
    {
      "cell_type": "markdown",
      "metadata": {
        "id": "UZF4K4eRJ-hd",
        "colab_type": "text"
      },
      "source": [
        "### Шаг 5\n",
        "Теперь для каждого объявления посчитайте [CTR](https://ru.wikipedia.org/wiki/CTR_(%D0%98%D0%BD%D1%82%D0%B5%D1%80%D0%BD%D0%B5%D1%82)#targetText=CTR%20(%D1%81%D0%B8%D0%BD%D0%BE%D0%BD%D0%B8%D0%BC%20%E2%80%94%20%D0%BA%D0%BB%D0%B8%D0%BA%D0%B0%D0%B1%D0%B5%D0%BB%D1%8C%D0%BD%D0%BE%D1%81%D1%82%D1%8C%2C%20%D0%BE%D1%82,%D1%87%D0%B8%D1%81%D0%BB%D1%83%20%D0%BF%D0%BE%D0%BA%D0%B0%D0%B7%D0%BE%D0%B2%2C%20%D0%B8%D0%B7%D0%BC%D0%B5%D1%80%D1%8F%D0%B5%D1%82%D1%81%D1%8F%20%D0%B2%20%D0%BF%D1%80%D0%BE%D1%86%D0%B5%D0%BD%D1%82%D0%B0%D1%85.&targetText=%D0%9D%D0%B0%D0%BF%D1%80%D0%B8%D0%BC%D0%B5%D1%80%3A%20%D1%80%D0%B5%D0%BA%D0%BB%D0%B0%D0%BC%D0%BD%D1%8B%D0%B9%20%D0%B1%D0%BB%D0%BE%D0%BA%20%D0%B1%D1%8B%D0%BB%20%D0%BF%D0%BE%D0%BA%D0%B0%D0%B7%D0%B0%D0%BD,%D0%BD%D0%B0%20%D0%BD%D0%B5%D0%B3%D0%BE%20%D0%BA%D0%BB%D0%B8%D0%BA%D0%BD%D1%83%D0%BB%D0%B8%202%20%D1%80%D0%B0%D0%B7%D0%B0.) и [CPM](http://promo-sa.ru/seo-terms/cpm) за каждый день с помощью sql запроса, и выведите результат в pandas.\n",
        "\n",
        "В результирующем датафрейме должно быть отражено название объявления, дата, CTR за день, CPM за день."
      ]
    },
    {
      "cell_type": "code",
      "metadata": {
        "id": "tV0HkhMVJ_tS",
        "colab_type": "code",
        "colab": {}
      },
      "source": [
        "# data = pd.read_sql_query(\"\", conn) # считаем данные в переменную\n",
        "# Всё сводится к тому ,чтобы посчитать кол-во кликов и кол-во показов. \n",
        "# Подсказка: используйте конструкцию CASE WHEN и агрегатную функцию SUM\n",
        "pd.read_sql_query(\"\", conn)"
      ],
      "execution_count": 0,
      "outputs": []
    },
    {
      "cell_type": "markdown",
      "metadata": {
        "id": "smNiRaepKw1e",
        "colab_type": "text"
      },
      "source": [
        "### Шаг 6\n",
        "Но на таблицу не так интересно смотреть как на графики...\n",
        "\n",
        "Для каждого объявления постройте дневные графики CTR и CPM.\n",
        "\n",
        "На всякий случай проследите, чтобы данные были нарисованы по возрастанию даты. Для этого надо либо отсортировать датафрейм по дате, либо проследить, что тип данных у это поля в pandas что-то типа date. Чтобы посмотреть типы полей в pandas используйте атрибут датафрейма .dtypes"
      ]
    },
    {
      "cell_type": "code",
      "metadata": {
        "id": "cpvSFLB1KvmS",
        "colab_type": "code",
        "colab": {}
      },
      "source": [
        ""
      ],
      "execution_count": 0,
      "outputs": []
    }
  ]
}