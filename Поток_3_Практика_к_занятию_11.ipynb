{
  "nbformat": 4,
  "nbformat_minor": 0,
  "metadata": {
    "colab": {
      "name": "Поток 3. Практика к занятию 11.ipynb",
      "provenance": [],
      "collapsed_sections": [],
      "include_colab_link": true
    },
    "kernelspec": {
      "name": "python3",
      "display_name": "Python 3"
    }
  },
  "cells": [
    {
      "cell_type": "markdown",
      "metadata": {
        "id": "view-in-github",
        "colab_type": "text"
      },
      "source": [
        "<a href=\"https://colab.research.google.com/github/theysee/sberbank_reboot/blob/master/%D0%9F%D0%BE%D1%82%D0%BE%D0%BA_3_%D0%9F%D1%80%D0%B0%D0%BA%D1%82%D0%B8%D0%BA%D0%B0_%D0%BA_%D0%B7%D0%B0%D0%BD%D1%8F%D1%82%D0%B8%D1%8E_11.ipynb\" target=\"_parent\"><img src=\"https://colab.research.google.com/assets/colab-badge.svg\" alt=\"Open In Colab\"/></a>"
      ]
    },
    {
      "cell_type": "markdown",
      "metadata": {
        "id": "pDrecLU-4QjS",
        "colab_type": "text"
      },
      "source": [
        "# Практика"
      ]
    },
    {
      "cell_type": "markdown",
      "metadata": {
        "id": "QH_ECwwO4Tyq",
        "colab_type": "text"
      },
      "source": [
        "\n",
        "\n",
        "*   [Презентация](https://docs.google.com/presentation/d/1K5QJ8vUiuAaX94ouhZzPN8U49PWz_rTbt-Hr4yhCIZU/edit?usp=sharing)\n",
        "*   [master](https://colab.research.google.com/drive/1o82sP1BfMtFua0zf_DaVWvh98FzB-upU)\n",
        "\n"
      ]
    },
    {
      "cell_type": "code",
      "metadata": {
        "id": "a6XFMuQUG6jO",
        "colab_type": "code",
        "colab": {}
      },
      "source": [
        "import pandas as pd\n",
        "import numpy as np\n",
        "import matplotlib.pyplot as plt\n",
        "import scipy.stats as sts\n",
        "import math\n",
        "%matplotlib inline"
      ],
      "execution_count": 0,
      "outputs": []
    },
    {
      "cell_type": "markdown",
      "metadata": {
        "id": "5owLnS0MHJnz",
        "colab_type": "text"
      },
      "source": [
        "## ЦПТ для различных распределений\n",
        "Возьмите то непрерывное распределение, которое вам больше всего понравится из списка доступных в модуле [scipy.stats](https://docs.scipy.org/doc/scipy/reference/stats.html).\n",
        "\n",
        "Напишите в клетках ниже дисперсию и математическое ожидание для выбранного распределения. (Можно просто вставить картинку с формулой)"
      ]
    },
    {
      "cell_type": "markdown",
      "metadata": {
        "id": "v1IvIGF9IRgH",
        "colab_type": "text"
      },
      "source": [
        "### Сгенерируйте примеры из распределения"
      ]
    },
    {
      "cell_type": "code",
      "metadata": {
        "id": "l4oTC1NSHvl7",
        "colab_type": "code",
        "outputId": "52df1553-6d91-4452-9ade-e2a62a8d7ff2",
        "colab": {
          "base_uri": "https://localhost:8080/",
          "height": 377
        }
      },
      "source": [
        "# ваш код тут\n",
        "# например вот такое распределение https://docs.scipy.org/doc/scipy/reference/generated/scipy.stats.cosine.html#scipy.stats.cosine\n",
        "cosine_rv = sts.cosine()\n",
        "sample = cosine_rv.rvs(100)\n",
        "sample"
      ],
      "execution_count": 0,
      "outputs": [
        {
          "output_type": "execute_result",
          "data": {
            "text/plain": [
              "array([-1.60923735,  1.45785486, -1.53181733,  1.11034936, -0.37734093,\n",
              "        1.39035554,  0.38597225,  0.25243176,  0.01710811, -0.75493141,\n",
              "        1.10445199,  0.21896236, -1.09453714, -1.76287693,  2.32787603,\n",
              "       -1.54028078, -0.25048812, -0.87777675, -2.28375367, -0.2201794 ,\n",
              "       -0.26035678,  0.66281882,  0.89831561,  0.59047811, -0.91595564,\n",
              "       -1.7769971 ,  0.3414279 ,  1.67389771,  1.08306623,  1.92541513,\n",
              "        0.93011793,  0.13066765, -1.50348111,  0.29928758, -1.51447778,\n",
              "        1.92042396,  0.2256848 , -0.12353149,  0.62417755,  0.12139409,\n",
              "        1.28876532, -0.28408201,  0.67774426, -0.85069142,  1.45624495,\n",
              "       -1.70529096,  1.59911096,  1.20689254,  1.14773339,  0.65092931,\n",
              "        2.06527822, -2.00811584,  0.35357598,  1.84192451, -1.3339007 ,\n",
              "        0.18979651, -0.5176047 , -1.17655899,  1.75033204,  0.31446437,\n",
              "       -0.61537552,  1.7182802 , -0.13903544, -2.78398875,  0.16555999,\n",
              "       -0.74295128, -1.58367192,  0.98281691, -0.08541918, -1.88223397,\n",
              "        0.31288173, -0.82803548,  0.73783803,  0.07326555,  0.09157433,\n",
              "        1.37941348,  2.02701877, -0.28981414,  1.56876977, -2.08535753,\n",
              "        0.26766651,  0.13695703,  0.16012877, -0.32535088,  1.21782416,\n",
              "        2.0031888 , -1.20813677,  1.80427489, -0.57979509, -2.05766631,\n",
              "        0.62372265, -0.63631633, -0.2279265 , -0.88719127,  0.26357101,\n",
              "       -1.10117882,  0.39929484,  0.09613494, -0.70213547,  1.26266904])"
            ]
          },
          "metadata": {
            "tags": []
          },
          "execution_count": 2
        }
      ]
    },
    {
      "cell_type": "code",
      "metadata": {
        "id": "ScsjsI4oXgKR",
        "colab_type": "code",
        "outputId": "86833794-f43b-436e-a0e4-c3b7483df016",
        "colab": {
          "base_uri": "https://localhost:8080/",
          "height": 35
        }
      },
      "source": [
        "sample.dtype"
      ],
      "execution_count": 0,
      "outputs": [
        {
          "output_type": "execute_result",
          "data": {
            "text/plain": [
              "dtype('float64')"
            ]
          },
          "metadata": {
            "tags": []
          },
          "execution_count": 6
        }
      ]
    },
    {
      "cell_type": "code",
      "metadata": {
        "id": "pXTNSqAOCYX4",
        "colab_type": "code",
        "colab": {}
      },
      "source": [
        "real_mean = cosine_rv.mean() # настоящее среднее случайной величины"
      ],
      "execution_count": 0,
      "outputs": []
    },
    {
      "cell_type": "code",
      "metadata": {
        "id": "5x4hFKaUCWSY",
        "colab_type": "code",
        "colab": {}
      },
      "source": [
        "real_var = cosine_rv.var() # настоящая дисперсия случайной величины"
      ],
      "execution_count": 0,
      "outputs": []
    },
    {
      "cell_type": "markdown",
      "metadata": {
        "id": "4bNn15giIX77",
        "colab_type": "text"
      },
      "source": [
        "### Постройте гистограмму выборки и теоретическую плотность распределения"
      ]
    },
    {
      "cell_type": "code",
      "metadata": {
        "id": "CwbvqecvIcXN",
        "colab_type": "code",
        "outputId": "ace01d5d-2552-499b-bc4f-1eb19166af83",
        "colab": {
          "base_uri": "https://localhost:8080/",
          "height": 283
        }
      },
      "source": [
        "# ваш код тут\n",
        "plt.hist(sample, density=True)\n",
        "x = np.linspace(-4,4,100)\n",
        "pdf = cosine_rv.pdf(x)\n",
        "plt.plot(x, pdf, label='теоретическая плотность', alpha=0.5)\n",
        "plt.legend()"
      ],
      "execution_count": 0,
      "outputs": [
        {
          "output_type": "execute_result",
          "data": {
            "text/plain": [
              "<matplotlib.legend.Legend at 0x7f35bc6746a0>"
            ]
          },
          "metadata": {
            "tags": []
          },
          "execution_count": 5
        },
        {
          "output_type": "display_data",
          "data": {
            "image/png": "[encoded data removed]",
            "text/plain": [
              "<Figure size 432x288 with 1 Axes>"
            ]
          },
          "metadata": {
            "tags": []
          }
        }
      ]
    },
    {
      "cell_type": "code",
      "metadata": {
        "id": "rKd5XFelBqe7",
        "colab_type": "code",
        "outputId": "32773b82-a3e9-46a2-b06d-a94d667d4f66",
        "colab": {
          "base_uri": "https://localhost:8080/",
          "height": 51
        }
      },
      "source": [
        "sample_mean = sample.mean() # выборочное среднее\n",
        "print(sample_mean)\n",
        "sample_var = sample.var() # выборочная дисперсия\n",
        "print(sample_var)"
      ],
      "execution_count": 0,
      "outputs": [
        {
          "output_type": "stream",
          "text": [
            "-0.1867435297784517\n",
            "1.0834359555326623\n"
          ],
          "name": "stdout"
        }
      ]
    },
    {
      "cell_type": "markdown",
      "metadata": {
        "id": "qPuHR68NId_Z",
        "colab_type": "text"
      },
      "source": [
        "### Оценим распределение выборочного среднего для разных объёмов выборок\n",
        "Для этого постройте на одном полотне гистограмму выборочных средних и теоретическое распределение выборочных средних по ЦПТ для разных объёмов выборок.\n",
        "\n",
        "Для теоретического распределение используйте настоящие значения мат ожидания и дисперсии (не приближенные на основе выборки)."
      ]
    },
    {
      "cell_type": "code",
      "metadata": {
        "id": "_mB8upK7J58w",
        "colab_type": "code",
        "colab": {}
      },
      "source": [
        "# ваш код тут"
      ],
      "execution_count": 0,
      "outputs": []
    },
    {
      "cell_type": "markdown",
      "metadata": {
        "id": "TF1onBy_J7sX",
        "colab_type": "text"
      },
      "source": [
        "Как вы считаете, для выбранного распределения апроксимация распределения выборочного среднего работает хорошо или плохо?\n",
        "**Ваш ответ:**"
      ]
    },
    {
      "cell_type": "code",
      "metadata": {
        "id": "1BEsK495KIuM",
        "colab_type": "code",
        "colab": {}
      },
      "source": [
        ""
      ],
      "execution_count": 0,
      "outputs": []
    }
  ]
}