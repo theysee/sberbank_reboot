{
  "nbformat": 4,
  "nbformat_minor": 0,
  "metadata": {
    "colab": {
      "name": "Поток 3. Практика к занятию 11.ipynb",
      "provenance": [],
      "collapsed_sections": [],
      "include_colab_link": true
    },
    "kernelspec": {
      "name": "python3",
      "display_name": "Python 3"
    }
  },
  "cells": [
    {
      "cell_type": "markdown",
      "metadata": {
        "id": "view-in-github",
        "colab_type": "text"
      },
      "source": [
        "<a href=\"https://colab.research.google.com/github/theysee/sberbank_reboot/blob/master/%D0%9F%D0%BE%D1%82%D0%BE%D0%BA_3_%D0%9F%D1%80%D0%B0%D0%BA%D1%82%D0%B8%D0%BA%D0%B0_%D0%BA_%D0%B7%D0%B0%D0%BD%D1%8F%D1%82%D0%B8%D1%8E_11.ipynb\" target=\"_parent\"><img src=\"https://colab.research.google.com/assets/colab-badge.svg\" alt=\"Open In Colab\"/></a>"
      ]
    },
    {
      "cell_type": "markdown",
      "metadata": {
        "id": "pDrecLU-4QjS",
        "colab_type": "text"
      },
      "source": [
        "# Практика"
      ]
    },
    {
      "cell_type": "markdown",
      "metadata": {
        "id": "QH_ECwwO4Tyq",
        "colab_type": "text"
      },
      "source": [
        "\n",
        "\n",
        "*   [Презентация](https://docs.google.com/presentation/d/1K5QJ8vUiuAaX94ouhZzPN8U49PWz_rTbt-Hr4yhCIZU/edit?usp=sharing)\n",
        "*   [master](https://colab.research.google.com/drive/1o82sP1BfMtFua0zf_DaVWvh98FzB-upU)\n",
        "\n"
      ]
    },
    {
      "cell_type": "code",
      "metadata": {
        "id": "a6XFMuQUG6jO",
        "colab_type": "code",
        "colab": {}
      },
      "source": [
        "import pandas as pd\n",
        "import numpy as np\n",
        "import matplotlib.pyplot as plt\n",
        "import scipy.stats as sts\n",
        "import math\n",
        "%matplotlib inline"
      ],
      "execution_count": 0,
      "outputs": []
    },
    {
      "cell_type": "markdown",
      "metadata": {
        "id": "5owLnS0MHJnz",
        "colab_type": "text"
      },
      "source": [
        "## ЦПТ для различных распределений\n",
        "Возьмите то непрерывное распределение, которое вам больше всего понравится из списка доступных в модуле [scipy.stats](https://docs.scipy.org/doc/scipy/reference/stats.html).\n",
        "\n",
        "Напишите в клетках ниже дисперсию и математическое ожидание для выбранного распределения. (Можно просто вставить картинку с формулой)"
      ]
    },
    {
      "cell_type": "markdown",
      "metadata": {
        "id": "v1IvIGF9IRgH",
        "colab_type": "text"
      },
      "source": [
        "### Сгенерируйте примеры из распределения"
      ]
    },
    {
      "cell_type": "code",
      "metadata": {
        "id": "l4oTC1NSHvl7",
        "colab_type": "code",
        "outputId": "2bfd97cb-5954-46d6-f008-1b93fcc7469b",
        "colab": {
          "base_uri": "https://localhost:8080/",
          "height": 357
        }
      },
      "source": [
        "# ваш код тут\n",
        "# например вот такое распределение https://docs.scipy.org/doc/scipy/reference/generated/scipy.stats.cosine.html#scipy.stats.cosine\n",
        "cosine_rv = sts.cosine()\n",
        "sample = cosine_rv.rvs(100)\n",
        "sample"
      ],
      "execution_count": 3,
      "outputs": [
        {
          "output_type": "execute_result",
          "data": {
            "text/plain": [
              "array([-0.00668183,  1.17517781,  0.28001879,  1.8207327 , -0.39708709,\n",
              "        1.09449661,  2.66117057,  0.61209939, -2.47016131, -1.57532507,\n",
              "        1.04801591,  2.3719892 , -0.75460208,  1.69904114,  0.39025784,\n",
              "       -1.23017274,  0.13232551, -0.36180874,  1.73852197, -0.10983555,\n",
              "        0.04103579,  1.59791979,  1.58924995,  0.84425384,  1.80959207,\n",
              "        0.10943558,  0.02193756,  0.98961207,  0.84778163,  0.99130778,\n",
              "        0.34055094, -1.3320189 ,  0.91209887,  1.8235225 , -1.32449814,\n",
              "       -2.1083848 , -0.5796213 ,  1.90592548, -0.33759301, -1.36177484,\n",
              "        0.18058149,  2.08844212,  0.43752663,  1.73684167,  1.8941708 ,\n",
              "       -0.7330641 ,  0.21960122,  1.3585417 , -0.60777536,  0.95658355,\n",
              "        0.01394221, -1.30342557, -0.58811537, -0.92066547, -0.9266636 ,\n",
              "       -0.2717175 ,  0.29663123,  0.11025234, -1.25749491,  0.90604974,\n",
              "       -1.88671235, -0.24121122, -0.56488114,  1.55998496,  0.58158795,\n",
              "       -0.42380764, -0.56311602, -0.21349339,  2.08313515,  1.41658512,\n",
              "        0.34842545, -0.92180507,  1.64053193,  0.00281816,  0.89177795,\n",
              "       -0.5094064 ,  2.47523944,  0.07912672,  0.20035271, -0.57344207,\n",
              "       -1.57861788, -0.41003328, -0.91512974, -0.02272559, -1.43399802,\n",
              "       -1.84814782,  0.38937165,  0.57235354, -0.18662735,  0.45825303,\n",
              "        1.44201453,  1.41494451,  0.94044682, -1.11510175, -1.33669902,\n",
              "        1.09265728,  1.62594097,  1.36232577,  0.37002075, -1.98712708])"
            ]
          },
          "metadata": {
            "tags": []
          },
          "execution_count": 3
        }
      ]
    },
    {
      "cell_type": "code",
      "metadata": {
        "id": "ScsjsI4oXgKR",
        "colab_type": "code",
        "outputId": "0c1a001f-66e8-4efb-c066-7ce9043e977a",
        "colab": {
          "base_uri": "https://localhost:8080/",
          "height": 34
        }
      },
      "source": [
        "sample.dtype"
      ],
      "execution_count": 4,
      "outputs": [
        {
          "output_type": "execute_result",
          "data": {
            "text/plain": [
              "dtype('float64')"
            ]
          },
          "metadata": {
            "tags": []
          },
          "execution_count": 4
        }
      ]
    },
    {
      "cell_type": "code",
      "metadata": {
        "id": "pXTNSqAOCYX4",
        "colab_type": "code",
        "colab": {}
      },
      "source": [
        "real_mean = cosine_rv.mean() # настоящее среднее случайной величины"
      ],
      "execution_count": 0,
      "outputs": []
    },
    {
      "cell_type": "code",
      "metadata": {
        "id": "5x4hFKaUCWSY",
        "colab_type": "code",
        "colab": {}
      },
      "source": [
        "real_var = cosine_rv.var() # настоящая дисперсия случайной величины"
      ],
      "execution_count": 0,
      "outputs": []
    },
    {
      "cell_type": "markdown",
      "metadata": {
        "id": "4bNn15giIX77",
        "colab_type": "text"
      },
      "source": [
        "### Постройте гистограмму выборки и теоретическую плотность распределения"
      ]
    },
    {
      "cell_type": "code",
      "metadata": {
        "id": "CwbvqecvIcXN",
        "colab_type": "code",
        "outputId": "7dc40f9d-0fa0-4b88-f410-5ba77d638abd",
        "colab": {
          "base_uri": "https://localhost:8080/",
          "height": 282
        }
      },
      "source": [
        "# ваш код тут\n",
        "plt.hist(sample, density=True)\n",
        "x = np.linspace(-4,4,100)\n",
        "pdf = cosine_rv.pdf(x)\n",
        "plt.plot(x, pdf, label='теоретическая плотность', alpha=0.5)\n",
        "plt.legend()"
      ],
      "execution_count": 10,
      "outputs": [
        {
          "output_type": "execute_result",
          "data": {
            "text/plain": [
              "<matplotlib.legend.Legend at 0x7ff3369b92e8>"
            ]
          },
          "metadata": {
            "tags": []
          },
          "execution_count": 10
        },
        {
          "output_type": "display_data",
          "data": {
            "image/png": "[encoded data removed]",
            "text/plain": [
              "<Figure size 432x288 with 1 Axes>"
            ]
          },
          "metadata": {
            "tags": []
          }
        }
      ]
    },
    {
      "cell_type": "code",
      "metadata": {
        "id": "rKd5XFelBqe7",
        "colab_type": "code",
        "outputId": "a1873f53-fe3d-4619-9615-768914fce6ce",
        "colab": {
          "base_uri": "https://localhost:8080/",
          "height": 51
        }
      },
      "source": [
        "sample_mean = sample.mean() # выборочное среднее\n",
        "print(sample_mean)\n",
        "sample_var = sample.var() # выборочная дисперсия\n",
        "print(sample_var)"
      ],
      "execution_count": 8,
      "outputs": [
        {
          "output_type": "stream",
          "text": [
            "0.22704560264530305\n",
            "1.3550892552262324\n"
          ],
          "name": "stdout"
        }
      ]
    },
    {
      "cell_type": "markdown",
      "metadata": {
        "id": "qPuHR68NId_Z",
        "colab_type": "text"
      },
      "source": [
        "### Оценим распределение выборочного среднего для разных объёмов выборок\n",
        "Для этого постройте на одном полотне гистограмму выборочных средних и теоретическое распределение выборочных средних по ЦПТ для разных объёмов выборок.\n",
        "\n",
        "Для теоретического распределение используйте настоящие значения мат ожидания и дисперсии (не приближенные на основе выборки)."
      ]
    },
    {
      "cell_type": "code",
      "metadata": {
        "id": "_mB8upK7J58w",
        "colab_type": "code",
        "colab": {
          "base_uri": "https://localhost:8080/",
          "height": 282
        },
        "outputId": "927c6025-9be6-420a-ebea-dc8229a40887"
      },
      "source": [
        "# ваш код тут\n",
        "\n",
        "fig, ax = plt.subplots()\n",
        "ax.hist(sample, density=True)\n",
        "x = np.linspace(-4,4,100)\n",
        "pdf = cosine_rv.pdf(x)\n",
        "plt.plot(x, pdf, label='теоретическая плотность', alpha=0.5)\n",
        "plt.legend()"
      ],
      "execution_count": 9,
      "outputs": [
        {
          "output_type": "execute_result",
          "data": {
            "text/plain": [
              "<matplotlib.legend.Legend at 0x7ff336ae89e8>"
            ]
          },
          "metadata": {
            "tags": []
          },
          "execution_count": 9
        },
        {
          "output_type": "display_data",
          "data": {
            "image/png": "[encoded data removed]",
            "text/plain": [
              "<Figure size 432x288 with 1 Axes>"
            ]
          },
          "metadata": {
            "tags": []
          }
        }
      ]
    },
    {
      "cell_type": "markdown",
      "metadata": {
        "id": "TF1onBy_J7sX",
        "colab_type": "text"
      },
      "source": [
        "Как вы считаете, для выбранного распределения апроксимация распределения выборочного среднего работает хорошо или плохо?\n",
        "**Ваш ответ:**"
      ]
    },
    {
      "cell_type": "code",
      "metadata": {
        "id": "1BEsK495KIuM",
        "colab_type": "code",
        "colab": {}
      },
      "source": [
        ""
      ],
      "execution_count": 0,
      "outputs": []
    }
  ]
}