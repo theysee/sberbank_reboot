{
  "nbformat": 4,
  "nbformat_minor": 0,
  "metadata": {
    "colab": {
      "name": "Test.ipynb",
      "provenance": [],
      "include_colab_link": true
    },
    "kernelspec": {
      "name": "python3",
      "display_name": "Python 3"
    }
  },
  "cells": [
    {
      "cell_type": "markdown",
      "metadata": {
        "id": "view-in-github",
        "colab_type": "text"
      },
      "source": [
        "<a href=\"https://colab.research.google.com/github/theysee/sberbank_reboot/blob/master/Test.ipynb\" target=\"_parent\"><img src=\"https://colab.research.google.com/assets/colab-badge.svg\" alt=\"Open In Colab\"/></a>"
      ]
    },
    {
      "cell_type": "code",
      "metadata": {
        "id": "79f0-Wid8QXs",
        "colab_type": "code",
        "colab": {}
      },
      "source": [
        "#Тест"
      ],
      "execution_count": 0,
      "outputs": []
    },
    {
      "cell_type": "code",
      "metadata": {
        "id": "ni4vjF8N8bW5",
        "colab_type": "code",
        "colab": {}
      },
      "source": [
        "#https://docs.google.com/forms/d/164DJQWX4jTVtjK88ukydzT69KQO-h-YPoicVyFEU0y8/alreadyresponded?edit_requested=true"
      ],
      "execution_count": 0,
      "outputs": []
    },
    {
      "cell_type": "code",
      "metadata": {
        "id": "iRYlTgLbTUe7",
        "colab_type": "code",
        "colab": {
          "base_uri": "https://localhost:8080/",
          "height": 102
        },
        "outputId": "122c5836-e83d-4a91-c3a0-462058bd8f29"
      },
      "source": [
        "!pip install PyMySQL"
      ],
      "execution_count": 1,
      "outputs": [
        {
          "output_type": "stream",
          "text": [
            "Collecting PyMySQL\n",
            "\u001b[?25l  Downloading https://files.pythonhosted.org/packages/ed/39/15045ae46f2a123019aa968dfcba0396c161c20f855f11dea6796bcaae95/PyMySQL-0.9.3-py2.py3-none-any.whl (47kB)\n",
            "\r\u001b[K     |██████▉                         | 10kB 19.7MB/s eta 0:00:01\r\u001b[K     |█████████████▊                  | 20kB 3.2MB/s eta 0:00:01\r\u001b[K     |████████████████████▋           | 30kB 4.5MB/s eta 0:00:01\r\u001b[K     |███████████████████████████▌    | 40kB 3.1MB/s eta 0:00:01\r\u001b[K     |████████████████████████████████| 51kB 2.6MB/s \n",
            "\u001b[?25hInstalling collected packages: PyMySQL\n",
            "Successfully installed PyMySQL-0.9.3\n"
          ],
          "name": "stdout"
        }
      ]
    },
    {
      "cell_type": "code",
      "metadata": {
        "id": "Sar0skDW0ZAE",
        "colab_type": "code",
        "colab": {}
      },
      "source": [
        "import pymysql\n",
        "import numpy as np\n",
        "import pandas as pd\n",
        "\n",
        "DB_HOST = '89.223.95.235'\n",
        "DB_USER = 'student_12'\n",
        "DB_USER_PASSWORD = 'student_12'\n",
        "DB_NAME = 'student_12'"
      ],
      "execution_count": 0,
      "outputs": []
    },
    {
      "cell_type": "code",
      "metadata": {
        "id": "r20zM_7GTgoO",
        "colab_type": "code",
        "colab": {
          "base_uri": "https://localhost:8080/",
          "height": 111
        },
        "outputId": "34502e4e-3e8c-49f6-fb1e-446191399b28"
      },
      "source": [
        "conn = pymysql.connect(DB_HOST, DB_USER, DB_USER_PASSWORD, DB_NAME)\n",
        "pd.read_sql_query(\"show tables\", conn)"
      ],
      "execution_count": 78,
      "outputs": [
        {
          "output_type": "execute_result",
          "data": {
            "text/html": [
              "<div>\n",
              "<style scoped>\n",
              "    .dataframe tbody tr th:only-of-type {\n",
              "        vertical-align: middle;\n",
              "    }\n",
              "\n",
              "    .dataframe tbody tr th {\n",
              "        vertical-align: top;\n",
              "    }\n",
              "\n",
              "    .dataframe thead th {\n",
              "        text-align: right;\n",
              "    }\n",
              "</style>\n",
              "<table border=\"1\" class=\"dataframe\">\n",
              "  <thead>\n",
              "    <tr style=\"text-align: right;\">\n",
              "      <th></th>\n",
              "      <th>Tables_in_student_12</th>\n",
              "    </tr>\n",
              "  </thead>\n",
              "  <tbody>\n",
              "    <tr>\n",
              "      <th>0</th>\n",
              "      <td>annonce</td>\n",
              "    </tr>\n",
              "    <tr>\n",
              "      <th>1</th>\n",
              "      <td>events</td>\n",
              "    </tr>\n",
              "  </tbody>\n",
              "</table>\n",
              "</div>"
            ],
            "text/plain": [
              "  Tables_in_student_12\n",
              "0              annonce\n",
              "1               events"
            ]
          },
          "metadata": {
            "tags": []
          },
          "execution_count": 78
        }
      ]
    },
    {
      "cell_type": "code",
      "metadata": {
        "id": "vNa8ZHN-UapX",
        "colab_type": "code",
        "colab": {}
      },
      "source": [
        "# напишите запрос для создания таблицы с объявлениями\n",
        "query = \"\"\"\n",
        "  CREATE TABLE IF NOT EXISTS Users (\n",
        "    id INT PRIMARY KEY,\n",
        "    Name VARCHAR(50),\n",
        "    Surname VARCHAR(50),\n",
        "    Occupation VARCHAR(50)\n",
        "  )\n",
        "\"\"\"\n",
        "\n",
        "conn.cursor().execute(query)\n",
        "conn.commit()"
      ],
      "execution_count": 0,
      "outputs": []
    },
    {
      "cell_type": "code",
      "metadata": {
        "id": "Zhdl3XsSXWMg",
        "colab_type": "code",
        "colab": {}
      },
      "source": [
        "query = \"DROP TABLE IF EXISTS users\"\n",
        "conn.cursor().execute(query)\n",
        "conn.commit()"
      ],
      "execution_count": 0,
      "outputs": []
    },
    {
      "cell_type": "code",
      "metadata": {
        "id": "d0hyVePOaoF7",
        "colab_type": "code",
        "colab": {}
      },
      "source": [
        "query = \"\"\"DELETE FROM users\"\"\"\n",
        "conn.cursor().execute(query)\n",
        "conn.commit()"
      ],
      "execution_count": 0,
      "outputs": []
    },
    {
      "cell_type": "code",
      "metadata": {
        "id": "RXHRkyL6YEl9",
        "colab_type": "code",
        "colab": {}
      },
      "source": [
        "queries = []\n",
        "\n",
        "\n",
        "querie = '''INSERT INTO users VALUES ('0', 'jack', 'newton', 'businessman')'''\n",
        "queries.append(querie)\n",
        "\n",
        "for q in queries:\n",
        "  conn.cursor().execute(q)\n",
        "conn.commit()"
      ],
      "execution_count": 0,
      "outputs": []
    },
    {
      "cell_type": "code",
      "metadata": {
        "id": "WbRHaQJWZTh_",
        "colab_type": "code",
        "colab": {
          "base_uri": "https://localhost:8080/",
          "height": 80
        },
        "outputId": "f7059114-7134-499a-9453-9d690a5b8d85"
      },
      "source": [
        "pd.read_sql_query('''\n",
        "SELECT * from Users\n",
        "\n",
        "''', conn)"
      ],
      "execution_count": 100,
      "outputs": [
        {
          "output_type": "execute_result",
          "data": {
            "text/html": [
              "<div>\n",
              "<style scoped>\n",
              "    .dataframe tbody tr th:only-of-type {\n",
              "        vertical-align: middle;\n",
              "    }\n",
              "\n",
              "    .dataframe tbody tr th {\n",
              "        vertical-align: top;\n",
              "    }\n",
              "\n",
              "    .dataframe thead th {\n",
              "        text-align: right;\n",
              "    }\n",
              "</style>\n",
              "<table border=\"1\" class=\"dataframe\">\n",
              "  <thead>\n",
              "    <tr style=\"text-align: right;\">\n",
              "      <th></th>\n",
              "      <th>id</th>\n",
              "      <th>Name</th>\n",
              "      <th>Surname</th>\n",
              "      <th>Occupation</th>\n",
              "    </tr>\n",
              "  </thead>\n",
              "  <tbody>\n",
              "    <tr>\n",
              "      <th>0</th>\n",
              "      <td>0</td>\n",
              "      <td>jack</td>\n",
              "      <td>newton</td>\n",
              "      <td>businessman</td>\n",
              "    </tr>\n",
              "  </tbody>\n",
              "</table>\n",
              "</div>"
            ],
            "text/plain": [
              "   id  Name Surname   Occupation\n",
              "0   0  jack  newton  businessman"
            ]
          },
          "metadata": {
            "tags": []
          },
          "execution_count": 100
        }
      ]
    },
    {
      "cell_type": "code",
      "metadata": {
        "id": "40K1VUv5f5Ob",
        "colab_type": "code",
        "colab": {}
      },
      "source": [
        "pd.read_sql_query('''\n",
        "\n",
        "INSERT INTO users VALUES ('0', 'jack', 'newton', 'businessman')\n",
        "\n",
        "''', conn)"
      ],
      "execution_count": 0,
      "outputs": []
    }
  ]
}