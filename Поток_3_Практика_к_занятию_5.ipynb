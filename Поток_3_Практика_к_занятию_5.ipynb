{
  "nbformat": 4,
  "nbformat_minor": 0,
  "metadata": {
    "colab": {
      "name": "Поток 3. Практика к занятию 5.ipynb",
      "provenance": [],
      "collapsed_sections": [],
      "include_colab_link": true
    },
    "kernelspec": {
      "name": "python3",
      "display_name": "Python 3"
    }
  },
  "cells": [
    {
      "cell_type": "markdown",
      "metadata": {
        "id": "view-in-github",
        "colab_type": "text"
      },
      "source": [
        "<a href=\"https://colab.research.google.com/github/theysee/sberbank_reboot/blob/master/%D0%9F%D0%BE%D1%82%D0%BE%D0%BA_3_%D0%9F%D1%80%D0%B0%D0%BA%D1%82%D0%B8%D0%BA%D0%B0_%D0%BA_%D0%B7%D0%B0%D0%BD%D1%8F%D1%82%D0%B8%D1%8E_5.ipynb\" target=\"_parent\"><img src=\"https://colab.research.google.com/assets/colab-badge.svg\" alt=\"Open In Colab\"/></a>"
      ]
    },
    {
      "cell_type": "markdown",
      "metadata": {
        "id": "pDrecLU-4QjS",
        "colab_type": "text"
      },
      "source": [
        "# Практика"
      ]
    },
    {
      "cell_type": "markdown",
      "metadata": {
        "id": "QH_ECwwO4Tyq",
        "colab_type": "text"
      },
      "source": [
        "\n",
        "\n",
        "*   [Презентация](https://docs.google.com/presentation/d/1dLjCBWeGlhzU3A_JNg09ty-WPiAe4XObZBENp4tgC2Y/edit?usp=sharing)\n",
        "*   [master](https://colab.research.google.com/drive/1TVa3TRpGfhQa3f6eKxAxmBEHsPHUVzxt)\n",
        "*   [Дамп базы](https://drive.google.com/open?id=1RJx-1kh8az1OSQqnsDjCTWdzJBlDkjcB)\n",
        "\n"
      ]
    },
    {
      "cell_type": "markdown",
      "metadata": {
        "id": "vDOfMxnNeFwZ",
        "colab_type": "text"
      },
      "source": [
        "![схема базы](http://bdis.umeta.ru/db/db_course/labs/SQLpHTM/king.gif)"
      ]
    },
    {
      "cell_type": "code",
      "metadata": {
        "id": "w5oyx4OaOP9s",
        "colab_type": "code",
        "outputId": "71b44e97-a255-4cef-d956-611c8aa6f33d",
        "colab": {
          "base_uri": "https://localhost:8080/",
          "height": 102
        }
      },
      "source": [
        "!pip install PyMySQL"
      ],
      "execution_count": 1,
      "outputs": [
        {
          "output_type": "stream",
          "text": [
            "Collecting PyMySQL\n",
            "\u001b[?25l  Downloading https://files.pythonhosted.org/packages/ed/39/15045ae46f2a123019aa968dfcba0396c161c20f855f11dea6796bcaae95/PyMySQL-0.9.3-py2.py3-none-any.whl (47kB)\n",
            "\r\u001b[K     |██████▉                         | 10kB 16.0MB/s eta 0:00:01\r\u001b[K     |█████████████▊                  | 20kB 1.8MB/s eta 0:00:01\r\u001b[K     |████████████████████▋           | 30kB 2.7MB/s eta 0:00:01\r\u001b[K     |███████████████████████████▌    | 40kB 1.7MB/s eta 0:00:01\r\u001b[K     |████████████████████████████████| 51kB 1.7MB/s \n",
            "\u001b[?25hInstalling collected packages: PyMySQL\n",
            "Successfully installed PyMySQL-0.9.3\n"
          ],
          "name": "stdout"
        }
      ]
    },
    {
      "cell_type": "code",
      "metadata": {
        "id": "ovRIyU9flDeD",
        "colab_type": "code",
        "outputId": "ef02cd59-1195-45d9-fd0f-91dacfe4cd9a",
        "colab": {
          "base_uri": "https://localhost:8080/",
          "height": 102
        }
      },
      "source": [
        "!pip install pandas"
      ],
      "execution_count": 2,
      "outputs": [
        {
          "output_type": "stream",
          "text": [
            "Requirement already satisfied: pandas in /usr/local/lib/python3.6/dist-packages (0.25.3)\n",
            "Requirement already satisfied: numpy>=1.13.3 in /usr/local/lib/python3.6/dist-packages (from pandas) (1.17.4)\n",
            "Requirement already satisfied: pytz>=2017.2 in /usr/local/lib/python3.6/dist-packages (from pandas) (2018.9)\n",
            "Requirement already satisfied: python-dateutil>=2.6.1 in /usr/local/lib/python3.6/dist-packages (from pandas) (2.6.1)\n",
            "Requirement already satisfied: six>=1.5 in /usr/local/lib/python3.6/dist-packages (from python-dateutil>=2.6.1->pandas) (1.12.0)\n"
          ],
          "name": "stdout"
        }
      ]
    },
    {
      "cell_type": "code",
      "metadata": {
        "id": "z4BDycl5ORbd",
        "colab_type": "code",
        "colab": {}
      },
      "source": [
        "import pymysql\n",
        "import pandas as pd\n",
        "# доступны student-ы от 0 до 49\n",
        "\n",
        "DB_HOST = '89.223.95.235'\n",
        "DB_USER = 'student_12'\n",
        "DB_USER_PASSWORD = 'student_12'\n",
        "DB_NAME = 'sample_db'"
      ],
      "execution_count": 0,
      "outputs": []
    },
    {
      "cell_type": "code",
      "metadata": {
        "id": "hWuL4HR64HkJ",
        "colab_type": "code",
        "outputId": "b8b68e56-bcdd-453d-c8cc-6b41470c5c83",
        "colab": {
          "base_uri": "https://localhost:8080/",
          "height": 204
        }
      },
      "source": [
        "conn = pymysql.connect(DB_HOST, DB_USER, DB_USER_PASSWORD, DB_NAME)\n",
        "pd.read_sql_query(\"select * from customer\", conn).head()"
      ],
      "execution_count": 4,
      "outputs": [
        {
          "output_type": "execute_result",
          "data": {
            "text/html": [
              "<div>\n",
              "<style scoped>\n",
              "    .dataframe tbody tr th:only-of-type {\n",
              "        vertical-align: middle;\n",
              "    }\n",
              "\n",
              "    .dataframe tbody tr th {\n",
              "        vertical-align: top;\n",
              "    }\n",
              "\n",
              "    .dataframe thead th {\n",
              "        text-align: right;\n",
              "    }\n",
              "</style>\n",
              "<table border=\"1\" class=\"dataframe\">\n",
              "  <thead>\n",
              "    <tr style=\"text-align: right;\">\n",
              "      <th></th>\n",
              "      <th>customer_id</th>\n",
              "      <th>name</th>\n",
              "      <th>address</th>\n",
              "      <th>city</th>\n",
              "      <th>state</th>\n",
              "      <th>zip_code</th>\n",
              "      <th>area_code</th>\n",
              "      <th>phone_number</th>\n",
              "      <th>salesperson_id</th>\n",
              "      <th>credit_limit</th>\n",
              "      <th>comments</th>\n",
              "    </tr>\n",
              "  </thead>\n",
              "  <tbody>\n",
              "    <tr>\n",
              "      <th>0</th>\n",
              "      <td>100</td>\n",
              "      <td>jocksports</td>\n",
              "      <td>345 viewridge</td>\n",
              "      <td>belmont</td>\n",
              "      <td>ca</td>\n",
              "      <td>96711</td>\n",
              "      <td>415</td>\n",
              "      <td>5986609</td>\n",
              "      <td>7844</td>\n",
              "      <td>5000.0</td>\n",
              "      <td>very friendly people to work with -- sales rep...</td>\n",
              "    </tr>\n",
              "    <tr>\n",
              "      <th>1</th>\n",
              "      <td>101</td>\n",
              "      <td>tkb sport shop</td>\n",
              "      <td>490 boli rd.</td>\n",
              "      <td>redwood city</td>\n",
              "      <td>ca</td>\n",
              "      <td>94061</td>\n",
              "      <td>415</td>\n",
              "      <td>3681223</td>\n",
              "      <td>7521</td>\n",
              "      <td>10000.0</td>\n",
              "      <td>rep called 5/8 about change in order - contact...</td>\n",
              "    </tr>\n",
              "    <tr>\n",
              "      <th>2</th>\n",
              "      <td>102</td>\n",
              "      <td>vollyrite</td>\n",
              "      <td>9722 hamilton</td>\n",
              "      <td>burlingame</td>\n",
              "      <td>ca</td>\n",
              "      <td>95133</td>\n",
              "      <td>415</td>\n",
              "      <td>6443341</td>\n",
              "      <td>7654</td>\n",
              "      <td>7000.0</td>\n",
              "      <td>company doing heavy promotion beginning 10/89....</td>\n",
              "    </tr>\n",
              "    <tr>\n",
              "      <th>3</th>\n",
              "      <td>103</td>\n",
              "      <td>just tennis</td>\n",
              "      <td>hillview mall</td>\n",
              "      <td>burlingame</td>\n",
              "      <td>ca</td>\n",
              "      <td>97544</td>\n",
              "      <td>415</td>\n",
              "      <td>6779312</td>\n",
              "      <td>7521</td>\n",
              "      <td>3000.0</td>\n",
              "      <td>contact rep about new line of tennis rackets.</td>\n",
              "    </tr>\n",
              "    <tr>\n",
              "      <th>4</th>\n",
              "      <td>104</td>\n",
              "      <td>every mountain</td>\n",
              "      <td>574 surry rd.</td>\n",
              "      <td>cupertino</td>\n",
              "      <td>ca</td>\n",
              "      <td>93301</td>\n",
              "      <td>408</td>\n",
              "      <td>9962323</td>\n",
              "      <td>7499</td>\n",
              "      <td>10000.0</td>\n",
              "      <td>customer with high market share (23%) due to a...</td>\n",
              "    </tr>\n",
              "  </tbody>\n",
              "</table>\n",
              "</div>"
            ],
            "text/plain": [
              "   customer_id  ...                                           comments\n",
              "0          100  ...  very friendly people to work with -- sales rep...\n",
              "1          101  ...  rep called 5/8 about change in order - contact...\n",
              "2          102  ...  company doing heavy promotion beginning 10/89....\n",
              "3          103  ...      contact rep about new line of tennis rackets.\n",
              "4          104  ...  customer with high market share (23%) due to a...\n",
              "\n",
              "[5 rows x 11 columns]"
            ]
          },
          "metadata": {
            "tags": []
          },
          "execution_count": 4
        }
      ]
    },
    {
      "cell_type": "markdown",
      "metadata": {
        "id": "1KU78rvYON8I",
        "colab_type": "text"
      },
      "source": [
        "### Задание 1\n",
        "Выбрать всю информацию о каждом отделе и месте его расположения."
      ]
    },
    {
      "cell_type": "code",
      "metadata": {
        "id": "ecUVtCmxhMsU",
        "colab_type": "code",
        "outputId": "99cc94e1-5ec0-4470-c06b-562f53bd2da7",
        "colab": {
          "base_uri": "https://localhost:8080/",
          "height": 0
        }
      },
      "source": [
        "pd.read_sql_query(\"\"\"\n",
        "  SELECT\n",
        "      department_id,\n",
        "      name,\n",
        "      regional_group,\n",
        "      location.location_id\n",
        "  FROM\n",
        "      department\n",
        "      INNER JOIN\n",
        "      location\n",
        "      ON department.location_id = location.location_id\n",
        "\"\"\", conn)"
      ],
      "execution_count": 5,
      "outputs": [
        {
          "output_type": "execute_result",
          "data": {
            "text/html": [
              "<div>\n",
              "<style scoped>\n",
              "    .dataframe tbody tr th:only-of-type {\n",
              "        vertical-align: middle;\n",
              "    }\n",
              "\n",
              "    .dataframe tbody tr th {\n",
              "        vertical-align: top;\n",
              "    }\n",
              "\n",
              "    .dataframe thead th {\n",
              "        text-align: right;\n",
              "    }\n",
              "</style>\n",
              "<table border=\"1\" class=\"dataframe\">\n",
              "  <thead>\n",
              "    <tr style=\"text-align: right;\">\n",
              "      <th></th>\n",
              "      <th>department_id</th>\n",
              "      <th>name</th>\n",
              "      <th>regional_group</th>\n",
              "      <th>location_id</th>\n",
              "    </tr>\n",
              "  </thead>\n",
              "  <tbody>\n",
              "    <tr>\n",
              "      <th>0</th>\n",
              "      <td>10</td>\n",
              "      <td>accounting</td>\n",
              "      <td>new york</td>\n",
              "      <td>122</td>\n",
              "    </tr>\n",
              "    <tr>\n",
              "      <th>1</th>\n",
              "      <td>12</td>\n",
              "      <td>research</td>\n",
              "      <td>new york</td>\n",
              "      <td>122</td>\n",
              "    </tr>\n",
              "    <tr>\n",
              "      <th>2</th>\n",
              "      <td>13</td>\n",
              "      <td>sales</td>\n",
              "      <td>new york</td>\n",
              "      <td>122</td>\n",
              "    </tr>\n",
              "    <tr>\n",
              "      <th>3</th>\n",
              "      <td>14</td>\n",
              "      <td>operations</td>\n",
              "      <td>new york</td>\n",
              "      <td>122</td>\n",
              "    </tr>\n",
              "    <tr>\n",
              "      <th>4</th>\n",
              "      <td>20</td>\n",
              "      <td>research</td>\n",
              "      <td>dallas</td>\n",
              "      <td>124</td>\n",
              "    </tr>\n",
              "    <tr>\n",
              "      <th>5</th>\n",
              "      <td>23</td>\n",
              "      <td>sales</td>\n",
              "      <td>dallas</td>\n",
              "      <td>124</td>\n",
              "    </tr>\n",
              "    <tr>\n",
              "      <th>6</th>\n",
              "      <td>24</td>\n",
              "      <td>operations</td>\n",
              "      <td>dallas</td>\n",
              "      <td>124</td>\n",
              "    </tr>\n",
              "    <tr>\n",
              "      <th>7</th>\n",
              "      <td>30</td>\n",
              "      <td>sales</td>\n",
              "      <td>chicago</td>\n",
              "      <td>123</td>\n",
              "    </tr>\n",
              "    <tr>\n",
              "      <th>8</th>\n",
              "      <td>34</td>\n",
              "      <td>operations</td>\n",
              "      <td>chicago</td>\n",
              "      <td>123</td>\n",
              "    </tr>\n",
              "    <tr>\n",
              "      <th>9</th>\n",
              "      <td>40</td>\n",
              "      <td>operations</td>\n",
              "      <td>boston</td>\n",
              "      <td>167</td>\n",
              "    </tr>\n",
              "    <tr>\n",
              "      <th>10</th>\n",
              "      <td>43</td>\n",
              "      <td>sales</td>\n",
              "      <td>boston</td>\n",
              "      <td>167</td>\n",
              "    </tr>\n",
              "  </tbody>\n",
              "</table>\n",
              "</div>"
            ],
            "text/plain": [
              "    department_id        name regional_group  location_id\n",
              "0              10  accounting       new york          122\n",
              "1              12    research       new york          122\n",
              "2              13       sales       new york          122\n",
              "3              14  operations       new york          122\n",
              "4              20    research         dallas          124\n",
              "5              23       sales         dallas          124\n",
              "6              24  operations         dallas          124\n",
              "7              30       sales        chicago          123\n",
              "8              34  operations        chicago          123\n",
              "9              40  operations         boston          167\n",
              "10             43       sales         boston          167"
            ]
          },
          "metadata": {
            "tags": []
          },
          "execution_count": 5
        }
      ]
    },
    {
      "cell_type": "markdown",
      "metadata": {
        "colab_type": "text",
        "id": "H5GT9VpJctev"
      },
      "source": [
        "### Задание 2\n",
        "Выбрать список фамилий сотрудников по городам, где они работают, с указанием для каждого его должности."
      ]
    },
    {
      "cell_type": "code",
      "metadata": {
        "id": "4g8xEL8XIIAK",
        "colab_type": "code",
        "outputId": "80bdee09-6e65-4dbe-c4d7-693fb8a36295",
        "colab": {
          "base_uri": "https://localhost:8080/",
          "height": 0
        }
      },
      "source": [
        "pd.read_sql_query(\"\"\"\n",
        "  SELECT\n",
        "    employee_id,\n",
        "    function 'должность',\n",
        "    name as 'Имя отдела',\n",
        "    regional_group 'город'\n",
        "  FROM\n",
        "    employee\n",
        "    INNER JOIN\n",
        "    job\n",
        "    INNER JOIN\n",
        "    department\n",
        "    INNER JOIN\n",
        "    location\n",
        "    ON employee.job_id = job.job_id AND employee.department_id = department.department_id AND department.location_id = location.location_id\n",
        "\"\"\", conn)"
      ],
      "execution_count": 6,
      "outputs": [
        {
          "output_type": "execute_result",
          "data": {
            "text/html": [
              "<div>\n",
              "<style scoped>\n",
              "    .dataframe tbody tr th:only-of-type {\n",
              "        vertical-align: middle;\n",
              "    }\n",
              "\n",
              "    .dataframe tbody tr th {\n",
              "        vertical-align: top;\n",
              "    }\n",
              "\n",
              "    .dataframe thead th {\n",
              "        text-align: right;\n",
              "    }\n",
              "</style>\n",
              "<table border=\"1\" class=\"dataframe\">\n",
              "  <thead>\n",
              "    <tr style=\"text-align: right;\">\n",
              "      <th></th>\n",
              "      <th>employee_id</th>\n",
              "      <th>должность</th>\n",
              "      <th>Имя отдела</th>\n",
              "      <th>город</th>\n",
              "    </tr>\n",
              "  </thead>\n",
              "  <tbody>\n",
              "    <tr>\n",
              "      <th>0</th>\n",
              "      <td>7782</td>\n",
              "      <td>manager</td>\n",
              "      <td>accounting</td>\n",
              "      <td>new york</td>\n",
              "    </tr>\n",
              "    <tr>\n",
              "      <th>1</th>\n",
              "      <td>7839</td>\n",
              "      <td>president</td>\n",
              "      <td>accounting</td>\n",
              "      <td>new york</td>\n",
              "    </tr>\n",
              "    <tr>\n",
              "      <th>2</th>\n",
              "      <td>7934</td>\n",
              "      <td>clerk</td>\n",
              "      <td>accounting</td>\n",
              "      <td>new york</td>\n",
              "    </tr>\n",
              "    <tr>\n",
              "      <th>3</th>\n",
              "      <td>7569</td>\n",
              "      <td>manager</td>\n",
              "      <td>research</td>\n",
              "      <td>new york</td>\n",
              "    </tr>\n",
              "    <tr>\n",
              "      <th>4</th>\n",
              "      <td>7799</td>\n",
              "      <td>analyst</td>\n",
              "      <td>research</td>\n",
              "      <td>new york</td>\n",
              "    </tr>\n",
              "    <tr>\n",
              "      <th>5</th>\n",
              "      <td>7916</td>\n",
              "      <td>analyst</td>\n",
              "      <td>research</td>\n",
              "      <td>new york</td>\n",
              "    </tr>\n",
              "    <tr>\n",
              "      <th>6</th>\n",
              "      <td>7919</td>\n",
              "      <td>clerk</td>\n",
              "      <td>research</td>\n",
              "      <td>new york</td>\n",
              "    </tr>\n",
              "    <tr>\n",
              "      <th>7</th>\n",
              "      <td>7505</td>\n",
              "      <td>manager</td>\n",
              "      <td>sales</td>\n",
              "      <td>new york</td>\n",
              "    </tr>\n",
              "    <tr>\n",
              "      <th>8</th>\n",
              "      <td>7555</td>\n",
              "      <td>salesperson</td>\n",
              "      <td>sales</td>\n",
              "      <td>new york</td>\n",
              "    </tr>\n",
              "    <tr>\n",
              "      <th>9</th>\n",
              "      <td>7557</td>\n",
              "      <td>salesperson</td>\n",
              "      <td>sales</td>\n",
              "      <td>new york</td>\n",
              "    </tr>\n",
              "    <tr>\n",
              "      <th>10</th>\n",
              "      <td>7600</td>\n",
              "      <td>salesperson</td>\n",
              "      <td>sales</td>\n",
              "      <td>new york</td>\n",
              "    </tr>\n",
              "    <tr>\n",
              "      <th>11</th>\n",
              "      <td>7950</td>\n",
              "      <td>clerk</td>\n",
              "      <td>sales</td>\n",
              "      <td>new york</td>\n",
              "    </tr>\n",
              "    <tr>\n",
              "      <th>12</th>\n",
              "      <td>7507</td>\n",
              "      <td>manager</td>\n",
              "      <td>operations</td>\n",
              "      <td>new york</td>\n",
              "    </tr>\n",
              "    <tr>\n",
              "      <th>13</th>\n",
              "      <td>7369</td>\n",
              "      <td>clerk</td>\n",
              "      <td>research</td>\n",
              "      <td>dallas</td>\n",
              "    </tr>\n",
              "    <tr>\n",
              "      <th>14</th>\n",
              "      <td>7566</td>\n",
              "      <td>manager</td>\n",
              "      <td>research</td>\n",
              "      <td>dallas</td>\n",
              "    </tr>\n",
              "    <tr>\n",
              "      <th>15</th>\n",
              "      <td>7788</td>\n",
              "      <td>analyst</td>\n",
              "      <td>research</td>\n",
              "      <td>dallas</td>\n",
              "    </tr>\n",
              "    <tr>\n",
              "      <th>16</th>\n",
              "      <td>7876</td>\n",
              "      <td>clerk</td>\n",
              "      <td>research</td>\n",
              "      <td>dallas</td>\n",
              "    </tr>\n",
              "    <tr>\n",
              "      <th>17</th>\n",
              "      <td>7902</td>\n",
              "      <td>analyst</td>\n",
              "      <td>research</td>\n",
              "      <td>dallas</td>\n",
              "    </tr>\n",
              "    <tr>\n",
              "      <th>18</th>\n",
              "      <td>7506</td>\n",
              "      <td>manager</td>\n",
              "      <td>sales</td>\n",
              "      <td>dallas</td>\n",
              "    </tr>\n",
              "    <tr>\n",
              "      <th>19</th>\n",
              "      <td>7560</td>\n",
              "      <td>salesperson</td>\n",
              "      <td>sales</td>\n",
              "      <td>dallas</td>\n",
              "    </tr>\n",
              "    <tr>\n",
              "      <th>20</th>\n",
              "      <td>7564</td>\n",
              "      <td>salesperson</td>\n",
              "      <td>sales</td>\n",
              "      <td>dallas</td>\n",
              "    </tr>\n",
              "    <tr>\n",
              "      <th>21</th>\n",
              "      <td>7789</td>\n",
              "      <td>salesperson</td>\n",
              "      <td>sales</td>\n",
              "      <td>dallas</td>\n",
              "    </tr>\n",
              "    <tr>\n",
              "      <th>22</th>\n",
              "      <td>7954</td>\n",
              "      <td>clerk</td>\n",
              "      <td>sales</td>\n",
              "      <td>dallas</td>\n",
              "    </tr>\n",
              "    <tr>\n",
              "      <th>23</th>\n",
              "      <td>7609</td>\n",
              "      <td>staff</td>\n",
              "      <td>operations</td>\n",
              "      <td>dallas</td>\n",
              "    </tr>\n",
              "    <tr>\n",
              "      <th>24</th>\n",
              "      <td>7499</td>\n",
              "      <td>salesperson</td>\n",
              "      <td>sales</td>\n",
              "      <td>chicago</td>\n",
              "    </tr>\n",
              "    <tr>\n",
              "      <th>25</th>\n",
              "      <td>7521</td>\n",
              "      <td>salesperson</td>\n",
              "      <td>sales</td>\n",
              "      <td>chicago</td>\n",
              "    </tr>\n",
              "    <tr>\n",
              "      <th>26</th>\n",
              "      <td>7654</td>\n",
              "      <td>salesperson</td>\n",
              "      <td>sales</td>\n",
              "      <td>chicago</td>\n",
              "    </tr>\n",
              "    <tr>\n",
              "      <th>27</th>\n",
              "      <td>7698</td>\n",
              "      <td>manager</td>\n",
              "      <td>sales</td>\n",
              "      <td>chicago</td>\n",
              "    </tr>\n",
              "    <tr>\n",
              "      <th>28</th>\n",
              "      <td>7844</td>\n",
              "      <td>salesperson</td>\n",
              "      <td>sales</td>\n",
              "      <td>chicago</td>\n",
              "    </tr>\n",
              "    <tr>\n",
              "      <th>29</th>\n",
              "      <td>7900</td>\n",
              "      <td>clerk</td>\n",
              "      <td>sales</td>\n",
              "      <td>chicago</td>\n",
              "    </tr>\n",
              "    <tr>\n",
              "      <th>30</th>\n",
              "      <td>7676</td>\n",
              "      <td>staff</td>\n",
              "      <td>operations</td>\n",
              "      <td>chicago</td>\n",
              "    </tr>\n",
              "    <tr>\n",
              "      <th>31</th>\n",
              "      <td>7820</td>\n",
              "      <td>salesperson</td>\n",
              "      <td>sales</td>\n",
              "      <td>boston</td>\n",
              "    </tr>\n",
              "  </tbody>\n",
              "</table>\n",
              "</div>"
            ],
            "text/plain": [
              "    employee_id    должность  Имя отдела     город\n",
              "0          7782      manager  accounting  new york\n",
              "1          7839    president  accounting  new york\n",
              "2          7934        clerk  accounting  new york\n",
              "3          7569      manager    research  new york\n",
              "4          7799      analyst    research  new york\n",
              "5          7916      analyst    research  new york\n",
              "6          7919        clerk    research  new york\n",
              "7          7505      manager       sales  new york\n",
              "8          7555  salesperson       sales  new york\n",
              "9          7557  salesperson       sales  new york\n",
              "10         7600  salesperson       sales  new york\n",
              "11         7950        clerk       sales  new york\n",
              "12         7507      manager  operations  new york\n",
              "13         7369        clerk    research    dallas\n",
              "14         7566      manager    research    dallas\n",
              "15         7788      analyst    research    dallas\n",
              "16         7876        clerk    research    dallas\n",
              "17         7902      analyst    research    dallas\n",
              "18         7506      manager       sales    dallas\n",
              "19         7560  salesperson       sales    dallas\n",
              "20         7564  salesperson       sales    dallas\n",
              "21         7789  salesperson       sales    dallas\n",
              "22         7954        clerk       sales    dallas\n",
              "23         7609        staff  operations    dallas\n",
              "24         7499  salesperson       sales   chicago\n",
              "25         7521  salesperson       sales   chicago\n",
              "26         7654  salesperson       sales   chicago\n",
              "27         7698      manager       sales   chicago\n",
              "28         7844  salesperson       sales   chicago\n",
              "29         7900        clerk       sales   chicago\n",
              "30         7676        staff  operations   chicago\n",
              "31         7820  salesperson       sales    boston"
            ]
          },
          "metadata": {
            "tags": []
          },
          "execution_count": 6
        }
      ]
    },
    {
      "cell_type": "markdown",
      "metadata": {
        "colab_type": "text",
        "id": "XEkNb0JYcsB8"
      },
      "source": [
        "### Задание 3\n",
        " Выбрать всех покупателей, с которыми работает продавец TURNER."
      ]
    },
    {
      "cell_type": "code",
      "metadata": {
        "id": "-qbd7oSLhRUN",
        "colab_type": "code",
        "outputId": "42b64461-e3da-4148-c209-9a22df6d4868",
        "colab": {
          "base_uri": "https://localhost:8080/",
          "height": 0
        }
      },
      "source": [
        "pd.read_sql_query('''\n",
        "  SELECT\n",
        "    customer.name\n",
        "  FROM\n",
        "    employee\n",
        "    INNER JOIN\n",
        "    customer\n",
        "    ON employee.employee_id = customer.salesperson_id AND employee.last_name = 'TURNER'\n",
        "''', conn)"
      ],
      "execution_count": 7,
      "outputs": [
        {
          "output_type": "execute_result",
          "data": {
            "text/html": [
              "<div>\n",
              "<style scoped>\n",
              "    .dataframe tbody tr th:only-of-type {\n",
              "        vertical-align: middle;\n",
              "    }\n",
              "\n",
              "    .dataframe tbody tr th {\n",
              "        vertical-align: top;\n",
              "    }\n",
              "\n",
              "    .dataframe thead th {\n",
              "        text-align: right;\n",
              "    }\n",
              "</style>\n",
              "<table border=\"1\" class=\"dataframe\">\n",
              "  <thead>\n",
              "    <tr style=\"text-align: right;\">\n",
              "      <th></th>\n",
              "      <th>name</th>\n",
              "    </tr>\n",
              "  </thead>\n",
              "  <tbody>\n",
              "    <tr>\n",
              "      <th>0</th>\n",
              "      <td>jocksports</td>\n",
              "    </tr>\n",
              "    <tr>\n",
              "      <th>1</th>\n",
              "      <td>k + t sports</td>\n",
              "    </tr>\n",
              "    <tr>\n",
              "      <th>2</th>\n",
              "      <td>north woods health and fitness supply center</td>\n",
              "    </tr>\n",
              "  </tbody>\n",
              "</table>\n",
              "</div>"
            ],
            "text/plain": [
              "                                           name\n",
              "0                                    jocksports\n",
              "1                                  k + t sports\n",
              "2  north woods health and fitness supply center"
            ]
          },
          "metadata": {
            "tags": []
          },
          "execution_count": 7
        }
      ]
    },
    {
      "cell_type": "markdown",
      "metadata": {
        "colab_type": "text",
        "id": "Om9jhh70cqkr"
      },
      "source": [
        "### Задание 4\n",
        "Выбрать сотрудников, которые не закреплены за конкретным заказчиком."
      ]
    },
    {
      "cell_type": "code",
      "metadata": {
        "id": "GsF1GCYahT1w",
        "colab_type": "code",
        "outputId": "07fa6e79-59c5-4f88-86de-b752fcece55f",
        "colab": {
          "base_uri": "https://localhost:8080/",
          "height": 0
        }
      },
      "source": [
        "pd.read_sql_query('''\n",
        "  SELECT\n",
        "    employee.first_name,\n",
        "    employee.last_name,\n",
        "    customer.name\n",
        "  FROM\n",
        "    employee\n",
        "    LEFT OUTER JOIN\n",
        "    customer\n",
        "    ON employee.employee_id=customer.salesperson_id AND name IS NULL\n",
        "''', conn)"
      ],
      "execution_count": 8,
      "outputs": [
        {
          "output_type": "execute_result",
          "data": {
            "text/html": [
              "<div>\n",
              "<style scoped>\n",
              "    .dataframe tbody tr th:only-of-type {\n",
              "        vertical-align: middle;\n",
              "    }\n",
              "\n",
              "    .dataframe tbody tr th {\n",
              "        vertical-align: top;\n",
              "    }\n",
              "\n",
              "    .dataframe thead th {\n",
              "        text-align: right;\n",
              "    }\n",
              "</style>\n",
              "<table border=\"1\" class=\"dataframe\">\n",
              "  <thead>\n",
              "    <tr style=\"text-align: right;\">\n",
              "      <th></th>\n",
              "      <th>first_name</th>\n",
              "      <th>last_name</th>\n",
              "      <th>name</th>\n",
              "    </tr>\n",
              "  </thead>\n",
              "  <tbody>\n",
              "    <tr>\n",
              "      <th>0</th>\n",
              "      <td>john</td>\n",
              "      <td>smith</td>\n",
              "      <td>None</td>\n",
              "    </tr>\n",
              "    <tr>\n",
              "      <th>1</th>\n",
              "      <td>kevin</td>\n",
              "      <td>allen</td>\n",
              "      <td>None</td>\n",
              "    </tr>\n",
              "    <tr>\n",
              "      <th>2</th>\n",
              "      <td>jean</td>\n",
              "      <td>doyle</td>\n",
              "      <td>None</td>\n",
              "    </tr>\n",
              "    <tr>\n",
              "      <th>3</th>\n",
              "      <td>lynn</td>\n",
              "      <td>dennis</td>\n",
              "      <td>None</td>\n",
              "    </tr>\n",
              "    <tr>\n",
              "      <th>4</th>\n",
              "      <td>leslie</td>\n",
              "      <td>baker</td>\n",
              "      <td>None</td>\n",
              "    </tr>\n",
              "    <tr>\n",
              "      <th>5</th>\n",
              "      <td>cynthia</td>\n",
              "      <td>ward</td>\n",
              "      <td>None</td>\n",
              "    </tr>\n",
              "    <tr>\n",
              "      <th>6</th>\n",
              "      <td>daniel</td>\n",
              "      <td>peters</td>\n",
              "      <td>None</td>\n",
              "    </tr>\n",
              "    <tr>\n",
              "      <th>7</th>\n",
              "      <td>karen</td>\n",
              "      <td>shaw</td>\n",
              "      <td>None</td>\n",
              "    </tr>\n",
              "    <tr>\n",
              "      <th>8</th>\n",
              "      <td>sarah</td>\n",
              "      <td>duncan</td>\n",
              "      <td>None</td>\n",
              "    </tr>\n",
              "    <tr>\n",
              "      <th>9</th>\n",
              "      <td>gregory</td>\n",
              "      <td>lange</td>\n",
              "      <td>None</td>\n",
              "    </tr>\n",
              "    <tr>\n",
              "      <th>10</th>\n",
              "      <td>terry</td>\n",
              "      <td>jones</td>\n",
              "      <td>None</td>\n",
              "    </tr>\n",
              "    <tr>\n",
              "      <th>11</th>\n",
              "      <td>chris</td>\n",
              "      <td>alberts</td>\n",
              "      <td>None</td>\n",
              "    </tr>\n",
              "    <tr>\n",
              "      <th>12</th>\n",
              "      <td>raymond</td>\n",
              "      <td>porter</td>\n",
              "      <td>None</td>\n",
              "    </tr>\n",
              "    <tr>\n",
              "      <th>13</th>\n",
              "      <td>richard</td>\n",
              "      <td>lewis</td>\n",
              "      <td>None</td>\n",
              "    </tr>\n",
              "    <tr>\n",
              "      <th>14</th>\n",
              "      <td>kenneth</td>\n",
              "      <td>martin</td>\n",
              "      <td>None</td>\n",
              "    </tr>\n",
              "    <tr>\n",
              "      <th>15</th>\n",
              "      <td>denise</td>\n",
              "      <td>sommers</td>\n",
              "      <td>None</td>\n",
              "    </tr>\n",
              "    <tr>\n",
              "      <th>16</th>\n",
              "      <td>marion</td>\n",
              "      <td>blake</td>\n",
              "      <td>None</td>\n",
              "    </tr>\n",
              "    <tr>\n",
              "      <th>17</th>\n",
              "      <td>carol</td>\n",
              "      <td>clark</td>\n",
              "      <td>None</td>\n",
              "    </tr>\n",
              "    <tr>\n",
              "      <th>18</th>\n",
              "      <td>donald</td>\n",
              "      <td>scott</td>\n",
              "      <td>None</td>\n",
              "    </tr>\n",
              "    <tr>\n",
              "      <th>19</th>\n",
              "      <td>livia</td>\n",
              "      <td>west</td>\n",
              "      <td>None</td>\n",
              "    </tr>\n",
              "    <tr>\n",
              "      <th>20</th>\n",
              "      <td>matthew</td>\n",
              "      <td>fisher</td>\n",
              "      <td>None</td>\n",
              "    </tr>\n",
              "    <tr>\n",
              "      <th>21</th>\n",
              "      <td>paul</td>\n",
              "      <td>ross</td>\n",
              "      <td>None</td>\n",
              "    </tr>\n",
              "    <tr>\n",
              "      <th>22</th>\n",
              "      <td>francis</td>\n",
              "      <td>king</td>\n",
              "      <td>None</td>\n",
              "    </tr>\n",
              "    <tr>\n",
              "      <th>23</th>\n",
              "      <td>mary</td>\n",
              "      <td>turner</td>\n",
              "      <td>None</td>\n",
              "    </tr>\n",
              "    <tr>\n",
              "      <th>24</th>\n",
              "      <td>diane</td>\n",
              "      <td>adams</td>\n",
              "      <td>None</td>\n",
              "    </tr>\n",
              "    <tr>\n",
              "      <th>25</th>\n",
              "      <td>fred</td>\n",
              "      <td>james</td>\n",
              "      <td>None</td>\n",
              "    </tr>\n",
              "    <tr>\n",
              "      <th>26</th>\n",
              "      <td>jennifer</td>\n",
              "      <td>ford</td>\n",
              "      <td>None</td>\n",
              "    </tr>\n",
              "    <tr>\n",
              "      <th>27</th>\n",
              "      <td>grace</td>\n",
              "      <td>roberts</td>\n",
              "      <td>None</td>\n",
              "    </tr>\n",
              "    <tr>\n",
              "      <th>28</th>\n",
              "      <td>michael</td>\n",
              "      <td>douglas</td>\n",
              "      <td>None</td>\n",
              "    </tr>\n",
              "    <tr>\n",
              "      <th>29</th>\n",
              "      <td>barbara</td>\n",
              "      <td>miller</td>\n",
              "      <td>None</td>\n",
              "    </tr>\n",
              "    <tr>\n",
              "      <th>30</th>\n",
              "      <td>alice</td>\n",
              "      <td>jensen</td>\n",
              "      <td>None</td>\n",
              "    </tr>\n",
              "    <tr>\n",
              "      <th>31</th>\n",
              "      <td>james</td>\n",
              "      <td>murray</td>\n",
              "      <td>None</td>\n",
              "    </tr>\n",
              "  </tbody>\n",
              "</table>\n",
              "</div>"
            ],
            "text/plain": [
              "   first_name last_name  name\n",
              "0        john     smith  None\n",
              "1       kevin     allen  None\n",
              "2        jean     doyle  None\n",
              "3        lynn    dennis  None\n",
              "4      leslie     baker  None\n",
              "5     cynthia      ward  None\n",
              "6      daniel    peters  None\n",
              "7       karen      shaw  None\n",
              "8       sarah    duncan  None\n",
              "9     gregory     lange  None\n",
              "10      terry     jones  None\n",
              "11      chris   alberts  None\n",
              "12    raymond    porter  None\n",
              "13    richard     lewis  None\n",
              "14    kenneth    martin  None\n",
              "15     denise   sommers  None\n",
              "16     marion     blake  None\n",
              "17      carol     clark  None\n",
              "18     donald     scott  None\n",
              "19      livia      west  None\n",
              "20    matthew    fisher  None\n",
              "21       paul      ross  None\n",
              "22    francis      king  None\n",
              "23       mary    turner  None\n",
              "24      diane     adams  None\n",
              "25       fred     james  None\n",
              "26   jennifer      ford  None\n",
              "27      grace   roberts  None\n",
              "28    michael   douglas  None\n",
              "29    barbara    miller  None\n",
              "30      alice    jensen  None\n",
              "31      james    murray  None"
            ]
          },
          "metadata": {
            "tags": []
          },
          "execution_count": 8
        }
      ]
    },
    {
      "cell_type": "markdown",
      "metadata": {
        "id": "7Ihff8qiOpwV",
        "colab_type": "text"
      },
      "source": [
        "### Задание 5\n",
        "Выбрать имена продавцов, которые работают более чем с одним покупателем и названия покупателей, которых они обслуживают."
      ]
    },
    {
      "cell_type": "code",
      "metadata": {
        "id": "BkkkvGMOhV0e",
        "colab_type": "code",
        "outputId": "fcc2505c-9b5b-4fb3-f44a-f2ff150939a9",
        "colab": {
          "base_uri": "https://localhost:8080/",
          "height": 390
        }
      },
      "source": [
        "pd.read_sql_query('''\n",
        "  SELECT\n",
        "    employee.first_name,\n",
        "    employee.last_name,\n",
        "    COUNT(customer.name) AS 'Count'\n",
        "  FROM\n",
        "    employee,\n",
        "    customer\n",
        "  WHERE\n",
        "    employee.employee_id=customer.salesperson_id\n",
        "  GROUP BY\n",
        "    employee.first_name,\n",
        "    employee.last_name\n",
        "''', conn)"
      ],
      "execution_count": 50,
      "outputs": [
        {
          "output_type": "execute_result",
          "data": {
            "text/html": [
              "<div>\n",
              "<style scoped>\n",
              "    .dataframe tbody tr th:only-of-type {\n",
              "        vertical-align: middle;\n",
              "    }\n",
              "\n",
              "    .dataframe tbody tr th {\n",
              "        vertical-align: top;\n",
              "    }\n",
              "\n",
              "    .dataframe thead th {\n",
              "        text-align: right;\n",
              "    }\n",
              "</style>\n",
              "<table border=\"1\" class=\"dataframe\">\n",
              "  <thead>\n",
              "    <tr style=\"text-align: right;\">\n",
              "      <th></th>\n",
              "      <th>first_name</th>\n",
              "      <th>last_name</th>\n",
              "      <th>Count</th>\n",
              "    </tr>\n",
              "  </thead>\n",
              "  <tbody>\n",
              "    <tr>\n",
              "      <th>0</th>\n",
              "      <td>cynthia</td>\n",
              "      <td>ward</td>\n",
              "      <td>3</td>\n",
              "    </tr>\n",
              "    <tr>\n",
              "      <th>1</th>\n",
              "      <td>daniel</td>\n",
              "      <td>peters</td>\n",
              "      <td>2</td>\n",
              "    </tr>\n",
              "    <tr>\n",
              "      <th>2</th>\n",
              "      <td>gregory</td>\n",
              "      <td>lange</td>\n",
              "      <td>2</td>\n",
              "    </tr>\n",
              "    <tr>\n",
              "      <th>3</th>\n",
              "      <td>karen</td>\n",
              "      <td>shaw</td>\n",
              "      <td>4</td>\n",
              "    </tr>\n",
              "    <tr>\n",
              "      <th>4</th>\n",
              "      <td>kenneth</td>\n",
              "      <td>martin</td>\n",
              "      <td>2</td>\n",
              "    </tr>\n",
              "    <tr>\n",
              "      <th>5</th>\n",
              "      <td>kevin</td>\n",
              "      <td>allen</td>\n",
              "      <td>2</td>\n",
              "    </tr>\n",
              "    <tr>\n",
              "      <th>6</th>\n",
              "      <td>livia</td>\n",
              "      <td>west</td>\n",
              "      <td>4</td>\n",
              "    </tr>\n",
              "    <tr>\n",
              "      <th>7</th>\n",
              "      <td>mary</td>\n",
              "      <td>turner</td>\n",
              "      <td>3</td>\n",
              "    </tr>\n",
              "    <tr>\n",
              "      <th>8</th>\n",
              "      <td>paul</td>\n",
              "      <td>ross</td>\n",
              "      <td>7</td>\n",
              "    </tr>\n",
              "    <tr>\n",
              "      <th>9</th>\n",
              "      <td>raymond</td>\n",
              "      <td>porter</td>\n",
              "      <td>2</td>\n",
              "    </tr>\n",
              "    <tr>\n",
              "      <th>10</th>\n",
              "      <td>sarah</td>\n",
              "      <td>duncan</td>\n",
              "      <td>2</td>\n",
              "    </tr>\n",
              "  </tbody>\n",
              "</table>\n",
              "</div>"
            ],
            "text/plain": [
              "   first_name last_name  Count\n",
              "0     cynthia      ward      3\n",
              "1      daniel    peters      2\n",
              "2     gregory     lange      2\n",
              "3       karen      shaw      4\n",
              "4     kenneth    martin      2\n",
              "5       kevin     allen      2\n",
              "6       livia      west      4\n",
              "7        mary    turner      3\n",
              "8        paul      ross      7\n",
              "9     raymond    porter      2\n",
              "10      sarah    duncan      2"
            ]
          },
          "metadata": {
            "tags": []
          },
          "execution_count": 50
        }
      ]
    },
    {
      "cell_type": "markdown",
      "metadata": {
        "id": "nXN5hFG6OqU8",
        "colab_type": "text"
      },
      "source": [
        "### Задание 6\n",
        "Выбрать сумму всех продаж, которые обеспечил продавец TURNER."
      ]
    },
    {
      "cell_type": "code",
      "metadata": {
        "id": "QBYJxl3shXIL",
        "colab_type": "code",
        "colab": {}
      },
      "source": [
        ""
      ],
      "execution_count": 0,
      "outputs": []
    },
    {
      "cell_type": "markdown",
      "metadata": {
        "id": "AXYQi1QUOq8b",
        "colab_type": "text"
      },
      "source": [
        "### Задание 7\n",
        "Выбрать сумму всех продаж товаров, связанных с теннисом, за лето 1990г."
      ]
    },
    {
      "cell_type": "code",
      "metadata": {
        "id": "SkLfvO-LOrTS",
        "colab_type": "code",
        "colab": {}
      },
      "source": [
        ""
      ],
      "execution_count": 0,
      "outputs": []
    },
    {
      "cell_type": "markdown",
      "metadata": {
        "id": "AZmwNHQ_Ordv",
        "colab_type": "text"
      },
      "source": [
        "### Задание 8\n",
        "Выбрать имена и зарплаты самого старого и самого молодого сотрудника фирмы. (\"Возраст\" сотрудника определять по дате его поступления на работу в фирму)."
      ]
    },
    {
      "cell_type": "code",
      "metadata": {
        "id": "bOLhwCoIhY0G",
        "colab_type": "code",
        "colab": {}
      },
      "source": [
        ""
      ],
      "execution_count": 0,
      "outputs": []
    },
    {
      "cell_type": "markdown",
      "metadata": {
        "id": "wtnxTlSZQD6X",
        "colab_type": "text"
      },
      "source": [
        "### Задание 9\n",
        "Для каждого продавца вывести разность между его зарплатой и средней зарплатой продавцов в фирме. Решение"
      ]
    },
    {
      "cell_type": "code",
      "metadata": {
        "id": "1R-kdu57QkCt",
        "colab_type": "code",
        "colab": {}
      },
      "source": [
        ""
      ],
      "execution_count": 0,
      "outputs": []
    },
    {
      "cell_type": "markdown",
      "metadata": {
        "id": "7KM17N5MQnBO",
        "colab_type": "text"
      },
      "source": [
        "### Задание 10\n",
        "Вывести имена, средние инициалы и фамилии всех однофамильцев."
      ]
    },
    {
      "cell_type": "code",
      "metadata": {
        "id": "V23yY1X5Qsrp",
        "colab_type": "code",
        "colab": {}
      },
      "source": [
        ""
      ],
      "execution_count": 0,
      "outputs": []
    },
    {
      "cell_type": "markdown",
      "metadata": {
        "id": "IE1PON9fQw1w",
        "colab_type": "text"
      },
      "source": [
        "### Задание 11\n",
        "Для каждого отдела выбрать процент, который составляют сотрудники отдела от общего числа сотрудников фирмы, и процент, который составляет зарплата отдела от общей зарплаты фирмы."
      ]
    },
    {
      "cell_type": "code",
      "metadata": {
        "id": "hLk6aXQQQ_-s",
        "colab_type": "code",
        "colab": {}
      },
      "source": [
        ""
      ],
      "execution_count": 0,
      "outputs": []
    },
    {
      "cell_type": "markdown",
      "metadata": {
        "id": "BHmBMkP0RBMu",
        "colab_type": "text"
      },
      "source": [
        "### Задание 12\n",
        "Выбрать фамилии начальников тех отделов, которые имеют разветвленную структуру (т.е. тех начальников, у прямых подчиненных которых есть свои подчиненные)."
      ]
    },
    {
      "cell_type": "code",
      "metadata": {
        "id": "Me2JJtGIRD6o",
        "colab_type": "code",
        "colab": {}
      },
      "source": [
        ""
      ],
      "execution_count": 0,
      "outputs": []
    },
    {
      "cell_type": "markdown",
      "metadata": {
        "id": "gUnxATPRREfR",
        "colab_type": "text"
      },
      "source": [
        "### Задание 13\n",
        "Выбрать названия отдела, заключившего сделки на самую большую сумму, и города, в котором он находится."
      ]
    },
    {
      "cell_type": "code",
      "metadata": {
        "id": "tK1LhWpWRFTk",
        "colab_type": "code",
        "colab": {}
      },
      "source": [
        ""
      ],
      "execution_count": 0,
      "outputs": []
    },
    {
      "cell_type": "markdown",
      "metadata": {
        "id": "go27AIofRFhy",
        "colab_type": "text"
      },
      "source": [
        "### Задание 14\n",
        "Выбрать название товара, дату продажи, цену продажи для всех случаев, когда товары продавались ниже, чем за 75% их объявленной цены."
      ]
    },
    {
      "cell_type": "code",
      "metadata": {
        "id": "_zZnZgKlRGH8",
        "colab_type": "code",
        "colab": {}
      },
      "source": [
        ""
      ],
      "execution_count": 0,
      "outputs": []
    },
    {
      "cell_type": "markdown",
      "metadata": {
        "id": "2R0V7vBIRGS-",
        "colab_type": "text"
      },
      "source": [
        "### Задание 15\n",
        "Выбрать общую сумму скидок, предоставленных покупателю STADIUM SPORTS в 1989г."
      ]
    },
    {
      "cell_type": "code",
      "metadata": {
        "id": "k3_23EtkRGoW",
        "colab_type": "code",
        "colab": {}
      },
      "source": [
        ""
      ],
      "execution_count": 0,
      "outputs": []
    },
    {
      "cell_type": "markdown",
      "metadata": {
        "id": "Nrs4Zd2dRGzh",
        "colab_type": "text"
      },
      "source": [
        "### Задание 16\n",
        "Выбрать список сотрудников фирмы с указанием фамилии непосредственного начальника каждого."
      ]
    },
    {
      "cell_type": "code",
      "metadata": {
        "id": "_HBPge0BRec4",
        "colab_type": "code",
        "colab": {}
      },
      "source": [
        ""
      ],
      "execution_count": 0,
      "outputs": []
    },
    {
      "cell_type": "markdown",
      "metadata": {
        "id": "V4xKEpN3Rnhb",
        "colab_type": "text"
      },
      "source": [
        "### Задание 17\n",
        " Для каждого сотрудника вывести разность между его зарплатой и средней зарплатой сотрудников, выполняющих те же функции."
      ]
    },
    {
      "cell_type": "code",
      "metadata": {
        "id": "_D4mVHuIRoKD",
        "colab_type": "code",
        "colab": {}
      },
      "source": [
        ""
      ],
      "execution_count": 0,
      "outputs": []
    },
    {
      "cell_type": "markdown",
      "metadata": {
        "id": "8Aa4GAZ2RoaK",
        "colab_type": "text"
      },
      "source": [
        "### Задание 18\n",
        "Вывести таблицу распределения объема продаж товара DUNK BASKETBALL INDOOR по годам.\n",
        "\n"
      ]
    },
    {
      "cell_type": "code",
      "metadata": {
        "id": "aRqV5_8lRsDD",
        "colab_type": "code",
        "colab": {}
      },
      "source": [
        ""
      ],
      "execution_count": 0,
      "outputs": []
    },
    {
      "cell_type": "markdown",
      "metadata": {
        "id": "IM_TgtEcRxf8",
        "colab_type": "text"
      },
      "source": [
        "### Задание 19\n",
        "Выбрать фамилии тех сотрудников, у которых суммарный доход (зарплата + комиссионные) больше 2000."
      ]
    },
    {
      "cell_type": "code",
      "metadata": {
        "id": "fy2wLrpdR1Xs",
        "colab_type": "code",
        "colab": {}
      },
      "source": [
        ""
      ],
      "execution_count": 0,
      "outputs": []
    },
    {
      "cell_type": "markdown",
      "metadata": {
        "id": "-Ri0kut2SQPJ",
        "colab_type": "text"
      },
      "source": [
        "### Задание 20\n",
        "Выбрать названия товаров, для которых нынешняя цена увеличилась по сравнению с ценой на 15 декабря 1989г. более, чем на 15%."
      ]
    },
    {
      "cell_type": "code",
      "metadata": {
        "id": "SJ9UUqcBSUuP",
        "colab_type": "code",
        "colab": {}
      },
      "source": [
        ""
      ],
      "execution_count": 0,
      "outputs": []
    }
  ]
}